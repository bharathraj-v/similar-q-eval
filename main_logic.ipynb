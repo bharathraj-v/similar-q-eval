{
 "cells": [
  {
   "cell_type": "code",
   "execution_count": 3,
   "metadata": {},
   "outputs": [
    {
     "name": "stdout",
     "output_type": "stream",
     "text": [
      "[{'question_id': '006d7', 'question_text': 'माना A = $\\\\begin{pmatrix} 1+i & 1 \\\\ -i & 0 \\\\end{pmatrix}$, जहाँ i = √-1 है। तो समुच्चय { n ∈ {1,2,......,100} : $A^n$ = A} में अवयवों की संख्या है _______\\n\\nThe image shows a mathematical expression defining a matrix A and a set condition. The matrix A is a 2x2 matrix with elements 1+i, 1, -i, and 0, where i is defined as the square root of -1. The problem asks to find the number of elements in the set of n belonging to {1, 2, ..., 100} such that A to the power of n equals A.', 'subject': 'Mathematics', 'similar_questions': [{'similar_question_text': 'Let A = $\\\\begin{pmatrix} 1+i & 1 \\\\ -i & 0 \\\\end{pmatrix}$ where I = $\\\\sqrt{-1}$. Then, the number of elements in the set {n$\\\\in$ {1,2, ....., 100} : $A^n$ = A} is', 'similarity_score': 0.981, 'summarized_solution_approach': 'The solution calculates $A^2$ and $A^4$. It finds that $A^4 = I$ (identity matrix). Consequently, $A^5 = A, A^9 = A$, and so on. The values of n for which $A^n = A$ form an arithmetic progression: n = 1, 5, 9, ..., 97. The number of terms in this sequence is then calculated, which gives the number of elements in the set.'}, {'similar_question_text': 'Let $$A = \\\\left( {\\\\matrix{\\n   {1 + i} & 1  \\\\cr \\n   { - i} & 0  \\\\cr \\n\\n } } \\\\right)$$ where $$i = \\\\sqrt { - 1} $$. Then, the number of elements in the set { n $$\\\\in$$ {1, 2, ......, 100} : A n = A } is ____________.', 'similarity_score': 0.98, 'summarized_solution_approach': 'First, the solution calculates A^2 and A^4. It finds that A^4 equals the identity matrix I. Consequently, A^5 = A, A^9 = A, and so on. The values of n for which A^n = A are 1, 5, 9, ..., 97. The number of such values of n is 25.'}]}, {'question_id': '00b31', 'question_text': 'अवकल सभीकरण $(x\\\\sqrt{1+y^2}) dx + (y\\\\sqrt{1+x^2})dy=0$ का हल है :', 'subject': 'Mathematics', 'similar_questions': [{'similar_question_text': 'Question Text::\\n            x (y2 + 1) dx + y (x² + 1) dy = 0\\n\\n            \\n            {\"goemetric_relationships\":[],\"labels_and_symbols\":[],\"spatial_arrangements\":[]}', 'similarity_score': 0.9876, 'summarized_solution_approach': 'The solution uses the variable separable method to solve the differential equation. First, the variables are separated to have x terms on one side and y terms on the other. Then, both sides are integrated, using substitution to solve the integrals. The logarithmic terms are simplified and combined using logarithm properties. Finally, the equation is converted from logarithmic to algebraic form by exponentiating both sides, resulting in the general solution.'}, {'similar_question_text': 'The solution of the differential equation\\n x dy + y dx - \\\\sqrt{1-x^{2}y^{2}}dx = 0 is', 'similarity_score': 0.9886, 'summarized_solution_approach': 'The given differential equation is solved by rearranging the terms and integrating. First, the equation is rewritten as \\\\( \\\\frac{xdy+ydx}{\\\\sqrt{1-x^{2}y^{2}}} = dx \\\\). Noticing that \\\\( xdy + ydx = d(xy) \\\\), the equation becomes \\\\( \\\\frac{d(xy)}{\\\\sqrt{1-(xy)^{2}}} = dx \\\\). Both sides are then integrated, yielding \\\\( sin^{-1}(xy) = x + c \\\\). Finally, solving for \\\\( xy \\\\), we get the solution \\\\( xy = sin(x + c) \\\\).'}]}, {'question_id': '0159a', 'question_text': \"If \\\\(y = 1 + \\\\frac{x_1}{x - x_1} + \\\\frac{x_2 \\\\cdot x}{(x - x_1)(x - x_2)} + \\\\frac{x_3 \\\\cdot x^2}{(x - x_1)(x - x_2)(x - x_3)} + \\\\dots \\\\) upto \\\\((n + 1)\\\\) terms then prove that \\\\(\\\\frac{dy}{dx} = \\\\frac{y}{x} \\\\left[ \\\\frac{x_1}{x_1 - x} + \\\\frac{x_2}{x_2 - x} + \\\\frac{x_3}{x_3 - x} + \\\\dots + \\\\frac{x_n}{x_n - x} \\\\right]\\\\)\\n\\nThe image shows a mathematical expression involving a series. The expression starts with 'If y = 1 +', followed by a series of terms. The general form of each term in the series is a fraction where the numerator involves a product of 'x' terms with subscripts (e.g., x1, x2, x3) and powers of 'x', and the denominator involves a product of differences of the form '(x - xi)', where 'i' is an index. The series continues up to (n+1) terms. Following this series, there is an expression to prove, which involves the derivative of 'y' with respect to 'x' (dy/dx). This expression equates dy/dx to a product of 'y/x' and a sum of fractions. Each fraction in the sum has a numerator of the form 'xi' and a denominator of the form 'xi - x', where 'i' ranges from 1 to n.\", 'subject': 'Mathematics', 'similar_questions': [{'similar_question_text': 'If f (x) = x^{n}, then the value of\\nf(1) + \\\\frac{f^{1}(1)}{1} + \\\\frac{f^{2}(1)}{2!} + \\\\dots + \\\\frac{f^{n}(1)}{n!}, where f^{r}(x) denotes the r^{th}\\norder derivative of f(x) with respect to x, is', 'similarity_score': 0.9678, 'summarized_solution_approach': 'The approach involves finding the derivatives of f(x) = xⁿ, then evaluating these derivatives at x=1. After this, substitute these values into the given expression. Recognize that the resulting expression is the binomial expansion of (1+1)ⁿ, which simplifies to 2ⁿ.'}, {'similar_question_text': 'Let $f_1(x) = e^x$ and $f_{n+1}(x) = e^{f_n(x)}$ for any $n \\\\ge 1, n \\\\in N$. Then for any fixed n, the value of $\\\\frac{d}{dx}f_n(x)$ equals:', 'similarity_score': 0.9632, 'summarized_solution_approach': 'The approach involves recognizing a recursively defined function $f_n(x)$ where $f_1(x) = e^x$ and $f_{n+1}(x) = e^{f_n(x)}$. We find the derivative of $f_n(x)$ with respect to $x$ for $n = 1, 2, 3$ to identify a pattern. For $n=1$, the derivative is simply $e^x = f_1(x)$. For $n=2$ and $n=3$, we apply the chain rule and express the derivatives in terms of the function itself. Based on the pattern observed for $n=1, 2, 3$, we generalize the formula for the derivative of $f_n(x)$ as the product of $f_n(x), f_{n-1}(x), \\\\dots, f_1(x)$.'}]}, {'question_id': '015c4', 'question_text': 'A river has width 0.5 km and flows from West to East with a speed 30 km/hr. If a boatman starts sailing boat at a speed 40 km/hr normal to bank, the boat shall cross the river in time -\\n\\nThe problem describes a river with a width of 0.5 km flowing from West to East at a speed of 30 km/hr. A boatman starts sailing a boat at a speed of 40 km/hr normal to the bank.', 'subject': 'Physics', 'similar_questions': [{'similar_question_text': 'A boat crosses a river from port A to port B, which are just on the opposite side. The speed of the water is $V_W$ and that of boat is $V_B$ relative to still water. Assume $V_B = 2V_W$. What is the time taken by the boat, if it has to cross the river directly on the AB line ?', 'similarity_score': 0.9747, 'summarized_solution_approach': \"The boat needs to travel from point A to point B directly across the river. The speed of the boat is \\\\(V_B\\\\), and the speed of the water is \\\\(V_W\\\\). Given that \\\\(V_B = 2V_W\\\\), the boat must travel at an angle \\\\(\\\\theta\\\\) such that \\\\(V_B \\\\sin(\\\\theta) = V_W\\\\). From this relationship, we find \\\\(\\\\theta = 30^\\\\circ\\\\). The time \\\\(t\\\\) taken to cross the river is the distance \\\\(D\\\\) divided by the component of the boat's velocity in the direction from A to B, which is \\\\(V_B \\\\cos(\\\\theta)\\\\). Substituting \\\\(\\\\theta = 30^\\\\circ\\\\), we get \\\\(t = \\\\frac{D}{V_B \\\\cos(30^\\\\circ)} = \\\\frac{2D}{V_B \\\\sqrt{3}}\\\\) \"}, {'similar_question_text': 'A boat which has a speed of 5 km/h in still water crosses a river of width 1 km along the shortest possible path in 15 min. The speed of the river water in km/h is:', 'similarity_score': 0.9748, 'summarized_solution_approach': 'The problem is solved using the concept of relative velocity. First, the velocity of boat is calculated using the formula \\\\( V_b = \\\\frac{y}{t} \\\\), where y is the width of the river and t is the time taken to cross the river. Then river velocity \\\\( V_r \\\\) is calculated using \\\\( V_r = \\\\sqrt{(V_{br})^2 - (V_b)^2} \\\\), where \\\\( V_{br} \\\\) is the velocity of the boat with respect to the river.'}]}, {'question_id': '01a13', 'question_text': '1.0 mol of Fe reacts completely with 0.65 mol of O₂ to give a mixture of only FeO and Fe₂O₃. The mole ratio of ferrous oxide to ferric oxide is', 'subject': 'Chemistry', 'similar_questions': [{'similar_question_text': 'The compound formed when 1.95 moles of oxygen combine with 1.46 moles of iron is :', 'similarity_score': 0.9598, 'summarized_solution_approach': 'To determine the compound formed by the combination of iron and oxygen, the mole ratio between iron and oxygen is analyzed. Given 1.46 moles of iron and 1.95 moles of oxygen, the ratio is examined to find a simple whole number ratio. By scaling the given ratio, it is found that 3 moles of iron combine with approximately 4 moles of oxygen. Therefore, the formula of the iron oxide compound is determined to be $Fe_3O_4$.'}, {'similar_question_text': 'The number of moles of $F{e_2}{O_3}$ formed when 0.5 moles of O${_2}$ and 0.5 moles of Fe are allowed to react are', 'similarity_score': 0.9548, 'summarized_solution_approach': 'The problem is based on the concept of limiting reagent. First, the balanced chemical equation is written. Then, by using the given number of moles of reactants, the limiting reagent is identified. Here, $Fe$ is the limiting reagent. Finally, the amount of $F{e_2}{O_3}$ formed from the given amount of limiting reagent is calculated using stoichiometry.'}]}]\n"
     ]
    }
   ],
   "source": [
    "import json\n",
    "\n",
    "# read similar_question_data.json\n",
    "\n",
    "with open('similar_question_data.json') as f:\n",
    "    data = json.load(f)\n",
    "\n",
    "print(data[:5])"
   ]
  },
  {
   "cell_type": "code",
   "execution_count": 4,
   "metadata": {},
   "outputs": [
    {
     "data": {
      "text/plain": [
       "553"
      ]
     },
     "execution_count": 4,
     "metadata": {},
     "output_type": "execute_result"
    }
   ],
   "source": [
    "len(data)"
   ]
  },
  {
   "cell_type": "code",
   "execution_count": 5,
   "metadata": {},
   "outputs": [
    {
     "data": {
      "text/plain": [
       "{'question_id': '006d7',\n",
       " 'question_text': 'माना A = $\\\\begin{pmatrix} 1+i & 1 \\\\ -i & 0 \\\\end{pmatrix}$, जहाँ i = √-1 है। तो समुच्चय { n ∈ {1,2,......,100} : $A^n$ = A} में अवयवों की संख्या है _______\\n\\nThe image shows a mathematical expression defining a matrix A and a set condition. The matrix A is a 2x2 matrix with elements 1+i, 1, -i, and 0, where i is defined as the square root of -1. The problem asks to find the number of elements in the set of n belonging to {1, 2, ..., 100} such that A to the power of n equals A.',\n",
       " 'subject': 'Mathematics',\n",
       " 'similar_questions': [{'similar_question_text': 'Let A = $\\\\begin{pmatrix} 1+i & 1 \\\\ -i & 0 \\\\end{pmatrix}$ where I = $\\\\sqrt{-1}$. Then, the number of elements in the set {n$\\\\in$ {1,2, ....., 100} : $A^n$ = A} is',\n",
       "   'similarity_score': 0.981,\n",
       "   'summarized_solution_approach': 'The solution calculates $A^2$ and $A^4$. It finds that $A^4 = I$ (identity matrix). Consequently, $A^5 = A, A^9 = A$, and so on. The values of n for which $A^n = A$ form an arithmetic progression: n = 1, 5, 9, ..., 97. The number of terms in this sequence is then calculated, which gives the number of elements in the set.'},\n",
       "  {'similar_question_text': 'Let $$A = \\\\left( {\\\\matrix{\\n   {1 + i} & 1  \\\\cr \\n   { - i} & 0  \\\\cr \\n\\n } } \\\\right)$$ where $$i = \\\\sqrt { - 1} $$. Then, the number of elements in the set { n $$\\\\in$$ {1, 2, ......, 100} : A n = A } is ____________.',\n",
       "   'similarity_score': 0.98,\n",
       "   'summarized_solution_approach': 'First, the solution calculates A^2 and A^4. It finds that A^4 equals the identity matrix I. Consequently, A^5 = A, A^9 = A, and so on. The values of n for which A^n = A are 1, 5, 9, ..., 97. The number of such values of n is 25.'}]}"
      ]
     },
     "execution_count": 5,
     "metadata": {},
     "output_type": "execute_result"
    }
   ],
   "source": [
    "data[0]"
   ]
  },
  {
   "cell_type": "code",
   "execution_count": 6,
   "metadata": {},
   "outputs": [
    {
     "data": {
      "text/plain": [
       "'माना A = $\\\\begin{pmatrix} 1+i & 1 \\\\ -i & 0 \\\\end{pmatrix}$, जहाँ i = √-1 है। तो समुच्चय { n ∈ {1,2,......,100} : $A^n$ = A} में अवयवों की संख्या है _______\\n\\nThe image shows a mathematical expression defining a matrix A and a set condition. The matrix A is a 2x2 matrix with elements 1+i, 1, -i, and 0, where i is defined as the square root of -1. The problem asks to find the number of elements in the set of n belonging to {1, 2, ..., 100} such that A to the power of n equals A.'"
      ]
     },
     "execution_count": 6,
     "metadata": {},
     "output_type": "execute_result"
    }
   ],
   "source": [
    "data[0][\"question_text\"]"
   ]
  },
  {
   "cell_type": "code",
   "execution_count": 7,
   "metadata": {},
   "outputs": [
    {
     "data": {
      "text/plain": [
       "{'similar_question_text': 'Let A = $\\\\begin{pmatrix} 1+i & 1 \\\\ -i & 0 \\\\end{pmatrix}$ where I = $\\\\sqrt{-1}$. Then, the number of elements in the set {n$\\\\in$ {1,2, ....., 100} : $A^n$ = A} is',\n",
       " 'similarity_score': 0.981,\n",
       " 'summarized_solution_approach': 'The solution calculates $A^2$ and $A^4$. It finds that $A^4 = I$ (identity matrix). Consequently, $A^5 = A, A^9 = A$, and so on. The values of n for which $A^n = A$ form an arithmetic progression: n = 1, 5, 9, ..., 97. The number of terms in this sequence is then calculated, which gives the number of elements in the set.'}"
      ]
     },
     "execution_count": 7,
     "metadata": {},
     "output_type": "execute_result"
    }
   ],
   "source": [
    "data[0][\"similar_questions\"][0]"
   ]
  },
  {
   "cell_type": "code",
   "execution_count": 8,
   "metadata": {},
   "outputs": [
    {
     "data": {
      "text/plain": [
       "Solution(explanation=\"Let the given matrix be A = $\\\\begin{pmatrix} 1+i & 1 \\\\ -i & 0 \\\\end{pmatrix}$. We need to find the number of integers n in the set {1, 2, ..., 100} such that $A^n = A$.\\n\\nFirst, let's calculate $A^2$:\\n$A^2 = A \\\\cdot A = \\\\begin{pmatrix} 1+i & 1 \\\\ -i & 0 \\\\end{pmatrix} \\\\begin{pmatrix} 1+i & 1 \\\\ -i & 0 \\\\end{pmatrix}$\\n$A^2 = \\\\begin{pmatrix} (1+i)(1+i) + 1(-i) & (1+i)(1) + 1(0) \\\\ -i(1+i) + 0(-i) & -i(1) + 0(0) \\\\end{pmatrix}$\\n$A^2 = \\\\begin{pmatrix} (1 + 2i + i^2) - i & 1+i \\\\ (-i - i^2) & -i \\\\end{pmatrix}$\\nSince $i^2 = -1$,\\n$A^2 = \\\\begin{pmatrix} (1 + 2i - 1) - i & 1+i \\\\ (-i - (-1)) & -i \\\\end{pmatrix}$\\n$A^2 = \\\\begin{pmatrix} 2i - i & 1+i \\\\ -i + 1 & -i \\\\end{pmatrix}$\\n$A^2 = \\\\begin{pmatrix} i & 1+i \\\\ 1-i & -i \\\\end{pmatrix}$\\n\\nNow, let's calculate $A^3$:\\n$A^3 = A^2 \\\\cdot A = \\\\begin{pmatrix} i & 1+i \\\\ 1-i & -i \\\\end{pmatrix} \\\\begin{pmatrix} 1+i & 1 \\\\ -i & 0 \\\\end{pmatrix}$\\n$A^3 = \\\\begin{pmatrix} i(1+i) + (1+i)(-i) & i(1) + (1+i)(0) \\\\ (1-i)(1+i) + (-i)(-i) & (1-i)(1) + (-i)(0) \\\\end{pmatrix}$\\n$A^3 = \\\\begin{pmatrix} (i + i^2) + (-i - i^2) & i \\\\ (1 - i^2) + i^2 & 1-i \\\\end{pmatrix}$\\nSince $i^2 = -1$,\\n$A^3 = \\\\begin{pmatrix} (i - 1) + (-i + 1) & i \\\\ (1 - (-1)) + (-1) & 1-i \\\\end{pmatrix}$\\n$A^3 = \\\\begin{pmatrix} 0 & i \\\\ (2) - 1 & 1-i \\\\end{pmatrix}$\\n$A^3 = \\\\begin{pmatrix} 0 & i \\\\ 1 & 1-i \\\\end{pmatrix}$\\n\\nLet's calculate $A^4$:\\n$A^4 = A^3 \\\\cdot A = \\\\begin{pmatrix} 0 & i \\\\ 1 & 1-i \\\\end{pmatrix} \\\\begin{pmatrix} 1+i & 1 \\\\ -i & 0 \\\\end{pmatrix}$\\n$A^4 = \\\\begin{pmatrix} 0(1+i) + i(-i) & 0(1) + i(0) \\\\ 1(1+i) + (1-i)(-i) & 1(1) + (1-i)(0) \\\\end{pmatrix}$\\n$A^4 = \\\\begin{pmatrix} -i^2 & 0 \\\\ (1+i) + (-i + i^2) & 1 \\\\end{pmatrix}$\\n$A^4 = \\\\begin{pmatrix} -(-1) & 0 \\\\ (1+i) + (-i - 1) & 1 \\\\end{pmatrix}$\\n$A^4 = \\\\begin{pmatrix} 1 & 0 \\\\ 0 & 1 \\\\end{pmatrix}$\\nSo, $A^4 = I$, where I is the identity matrix.\\n\\nSince $A^4 = I$, the powers of A will cycle with a period of 4:\\n$A^1 = A$\\n$A^2$\\n$A^3$\\n$A^4 = I$\\n$A^5 = A^4 \\\\cdot A = I \\\\cdot A = A$\\n$A^6 = A^5 \\\\cdot A = A \\\\cdot A = A^2$\\nAnd so on.\\n\\nWe are looking for n such that $A^n = A$. This means n must be of the form $4k+1$ for some non-negative integer k.\\n\\nWe need to find the number of n in {1, 2, ..., 100} such that n is of the form $4k+1$.\\n\\nFor k=0, n = 4(0)+1 = 1.\\nFor k=1, n = 4(1)+1 = 5.\\nFor k=2, n = 4(2)+1 = 9.\\n...\\nWe need to find the largest k such that $4k+1 \\\\le 100$.\\n$4k \\\\le 99$\\n$k \\\\le \\\\frac{99}{4}$\\n$k \\\\le 24.75$\\n\\nSince k must be an integer, the largest possible value for k is 24.\\nSo, k ranges from 0 to 24, inclusive.\\nThe number of values for k is 24 - 0 + 1 = 25.\\nEach value of k corresponds to a unique value of n that satisfies the condition $A^n = A$.\\n\\nTherefore, there are 25 such values of n in the set {1, 2, ..., 100}.\", final_answer='25')"
      ]
     },
     "execution_count": 8,
     "metadata": {},
     "output_type": "execute_result"
    }
   ],
   "source": [
    "# basic qna logic\n",
    "\n",
    "\n",
    "from google import genai\n",
    "import os\n",
    "from dotenv import load_dotenv\n",
    "from google.genai import types\n",
    "import json\n",
    "\n",
    "from pydantic import BaseModel, ValidationError\n",
    "\n",
    "class Solution(BaseModel):\n",
    "    explanation: str\n",
    "    final_answer: str\n",
    "\n",
    "load_dotenv()\n",
    "client = genai.Client(api_key=os.getenv(\"GEMINI_API_KEY\"))\n",
    "\n",
    "\n",
    "def get_raw_solution(question: str, max_retries: int = 3) -> Solution | None:\n",
    "    \"\"\"\n",
    "    A straightfoward question answering function using the gemini model.\n",
    "    Args:\n",
    "        question (str): The question to be answered.\n",
    "        max_retries (int): The maximum number of retries to get a response from the model (for object validation).\n",
    "    Returns:\n",
    "        dict: A dictionary containing the explanation and final answer.\n",
    "    \"\"\"\n",
    "    try:\n",
    "        response = client.models.generate_content(\n",
    "            model=\"gemini-2.5-flash\",\n",
    "            contents=f\"\"\"You are an academic expert at solving problems in the field of maths, physics and chemistry. \n",
    "            Respond with the solution to the given problem: {question}\n",
    "            You respond with a JSON of explanation and final_answer where you can give step by step explanation in the explanation and the final solution in the final_answer.\n",
    "            Keep final answer direct and as short as possible and keep the step by stem explanation to the explanation portion of the JSON\n",
    "            \"\"\",\n",
    "            config=types.GenerateContentConfig(\n",
    "                thinking_config=types.ThinkingConfig(thinking_budget=0),\n",
    "                response_mime_type=\"application/json\",\n",
    "                response_schema=Solution,\n",
    "            ),\n",
    "        )\n",
    "        \n",
    "        parsed = json.loads(response.text)\n",
    "        solution = Solution(parsed)\n",
    "        return solution\n",
    "        \n",
    "    except (json.JSONDecodeError, ValidationError) as e:\n",
    "        if max_retries > 0:\n",
    "            return get_raw_solution(question, max_retries - 1)\n",
    "        else:\n",
    "            print(\"Max retries reached: JSON parse error.\")\n",
    "            return None\n",
    "\n",
    "    except Exception as e:\n",
    "        print(f\"Error: {e}\")\n",
    "        return None\n",
    "\n",
    "\n",
    "get_raw_solution(data[0][\"question_text\"])\n"
   ]
  },
  {
   "cell_type": "code",
   "execution_count": 9,
   "metadata": {},
   "outputs": [
    {
     "data": {
      "text/plain": [
       "[{'similar_question_text': 'Let A = $\\\\begin{pmatrix} 1+i & 1 \\\\ -i & 0 \\\\end{pmatrix}$ where I = $\\\\sqrt{-1}$. Then, the number of elements in the set {n$\\\\in$ {1,2, ....., 100} : $A^n$ = A} is',\n",
       "  'similarity_score': 0.981,\n",
       "  'summarized_solution_approach': 'The solution calculates $A^2$ and $A^4$. It finds that $A^4 = I$ (identity matrix). Consequently, $A^5 = A, A^9 = A$, and so on. The values of n for which $A^n = A$ form an arithmetic progression: n = 1, 5, 9, ..., 97. The number of terms in this sequence is then calculated, which gives the number of elements in the set.'},\n",
       " {'similar_question_text': 'Let $$A = \\\\left( {\\\\matrix{\\n   {1 + i} & 1  \\\\cr \\n   { - i} & 0  \\\\cr \\n\\n } } \\\\right)$$ where $$i = \\\\sqrt { - 1} $$. Then, the number of elements in the set { n $$\\\\in$$ {1, 2, ......, 100} : A n = A } is ____________.',\n",
       "  'similarity_score': 0.98,\n",
       "  'summarized_solution_approach': 'First, the solution calculates A^2 and A^4. It finds that A^4 equals the identity matrix I. Consequently, A^5 = A, A^9 = A, and so on. The values of n for which A^n = A are 1, 5, 9, ..., 97. The number of such values of n is 25.'}]"
      ]
     },
     "execution_count": 9,
     "metadata": {},
     "output_type": "execute_result"
    }
   ],
   "source": [
    "data[0][\"similar_questions\"]\n"
   ]
  },
  {
   "cell_type": "code",
   "execution_count": 10,
   "metadata": {},
   "outputs": [
    {
     "data": {
      "text/plain": [
       "SimilarQuestionsEvaluation(conceptual_similarity_score=100, structural_similarity_score=100, difficulty_alignment_score=100, solution_approach_transferability_score=100)"
      ]
     },
     "execution_count": 10,
     "metadata": {},
     "output_type": "execute_result"
    }
   ],
   "source": [
    "# evaluation\n",
    "\n",
    "class SimilarQuestion(BaseModel):\n",
    "    similar_question_text: str\n",
    "    similarity_score: float\n",
    "    summarized_solution_approach: str\n",
    "    \n",
    "class SimilarQuestionsEvaluation(BaseModel):\n",
    "    conceptual_similarity_score: int\n",
    "    structural_similarity_score: int\n",
    "    difficulty_alignment_score: int\n",
    "    solution_approach_transferability_score: int\n",
    "    \n",
    "    \n",
    "def evaluate_similar_question(question: str, similar_question: SimilarQuestion, max_retries: int = 3) -> SimilarQuestionsEvaluation:\n",
    "    try:\n",
    "        response = client.models.generate_content(\n",
    "            model=\"gemini-2.5-flash\",\n",
    "            contents=f\"\"\"You are an academic expert at analyzing and solving problems in the field of maths, physics and chemistry. \n",
    "            Here, you are given a question alongside a similar question, its solution approach and similarity score, and you are responsible for evaluating the similarity between the main question and it's similar question.\n",
    "            You must assess how well the similar question represents the input question across the following dimensions.\n",
    "            1. Conceptual Similarity: Do they test the same underlying concepts/principles?\n",
    "            2. Structural Similarity: Are the problem structures analogous?\n",
    "            3. Difficulty Alignment: Is the difficulty level appropriate?\n",
    "            4. Solution Approach Transferability: Can the solution method be meaningfully applied?\n",
    "            \n",
    "            \n",
    "            The input question is: {question}\n",
    "            The similar question is: {str(similar_question.model_dump_json())}\n",
    "            \n",
    "            You respond with a JSON containing the following keys which are scores based on the aforementioned dimensions for analysis:\n",
    "            \n",
    "            conceptual_similarity_score: A score between 0 and 100\n",
    "            structural_similarity_score: A score between 0 and 100\n",
    "            difficulty_alignment_score: A score between 0 and 100 \n",
    "            solution_approach_transferability_score: A score between 0 and 100\n",
    "            \n",
    "            Make sure to respond with a json strictly following the above format.\n",
    "            \n",
    "            \"\"\",\n",
    "            config=types.GenerateContentConfig(\n",
    "                thinking_config=types.ThinkingConfig(thinking_budget=0),\n",
    "                response_mime_type=\"application/json\",\n",
    "                response_schema=SimilarQuestionsEvaluation,\n",
    "            ),\n",
    "        )\n",
    "        \n",
    "        parsed = json.loads(response.text)\n",
    "        evaluation = SimilarQuestionsEvaluation(parsed)\n",
    "        return evaluation\n",
    "        \n",
    "    except (json.JSONDecodeError, ValidationError) as e:\n",
    "        print(\"retrying\")\n",
    "        if max_retries > 0:\n",
    "            return get_raw_solution(question, max_retries - 1)\n",
    "        else:\n",
    "            print(\"Max retries reached: JSON parse error.\")\n",
    "            return None\n",
    "\n",
    "    except Exception as e:\n",
    "        print(f\"Error: {e}\")\n",
    "        return None\n",
    "\n",
    "    \n",
    "        \n",
    "evaluate_similar_question(data[0][\"question_text\"], SimilarQuestion(data[0][\"similar_questions\"][0]))"
   ]
  },
  {
   "cell_type": "code",
   "execution_count": 11,
   "metadata": {},
   "outputs": [
    {
     "data": {
      "text/plain": [
       "SimilarQuestionsEvaluation(conceptual_similarity_score=0, structural_similarity_score=0, difficulty_alignment_score=0, solution_approach_transferability_score=0)"
      ]
     },
     "execution_count": 11,
     "metadata": {},
     "output_type": "execute_result"
    }
   ],
   "source": [
    "evaluate_similar_question(data[1][\"question_text\"], SimilarQuestion(data[0][\"similar_questions\"][0]))"
   ]
  },
  {
   "cell_type": "code",
   "execution_count": 12,
   "metadata": {},
   "outputs": [
    {
     "data": {
      "text/plain": [
       "[{'similar_question_text': 'Let A = $\\\\begin{pmatrix} 1+i & 1 \\\\ -i & 0 \\\\end{pmatrix}$ where I = $\\\\sqrt{-1}$. Then, the number of elements in the set {n$\\\\in$ {1,2, ....., 100} : $A^n$ = A} is',\n",
       "  'similarity_score': 0.981,\n",
       "  'summarized_solution_approach': 'The solution calculates $A^2$ and $A^4$. It finds that $A^4 = I$ (identity matrix). Consequently, $A^5 = A, A^9 = A$, and so on. The values of n for which $A^n = A$ form an arithmetic progression: n = 1, 5, 9, ..., 97. The number of terms in this sequence is then calculated, which gives the number of elements in the set.'},\n",
       " {'similar_question_text': 'Let $$A = \\\\left( {\\\\matrix{\\n   {1 + i} & 1  \\\\cr \\n   { - i} & 0  \\\\cr \\n\\n } } \\\\right)$$ where $$i = \\\\sqrt { - 1} $$. Then, the number of elements in the set { n $$\\\\in$$ {1, 2, ......, 100} : A n = A } is ____________.',\n",
       "  'similarity_score': 0.98,\n",
       "  'summarized_solution_approach': 'First, the solution calculates A^2 and A^4. It finds that A^4 equals the identity matrix I. Consequently, A^5 = A, A^9 = A, and so on. The values of n for which A^n = A are 1, 5, 9, ..., 97. The number of such values of n is 25.'}]"
      ]
     },
     "execution_count": 12,
     "metadata": {},
     "output_type": "execute_result"
    }
   ],
   "source": [
    "data[0][\"similar_questions\"]"
   ]
  },
  {
   "cell_type": "code",
   "execution_count": 4,
   "metadata": {},
   "outputs": [
    {
     "name": "stdout",
     "output_type": "stream",
     "text": [
      "[{'question_id': '006d7', 'question_text': 'माना A = $\\\\begin{pmatrix} 1+i & 1 \\\\ -i & 0 \\\\end{pmatrix}$, जहाँ i = √-1 है। तो समुच्चय { n ∈ {1,2,......,100} : $A^n$ = A} में अवयवों की संख्या है _______\\n\\nThe image shows a mathematical expression defining a matrix A and a set condition. The matrix A is a 2x2 matrix with elements 1+i, 1, -i, and 0, where i is defined as the square root of -1. The problem asks to find the number of elements in the set of n belonging to {1, 2, ..., 100} such that A to the power of n equals A.', 'subject': 'Mathematics', 'similar_questions': [{'similar_question_text': 'Let A = $\\\\begin{pmatrix} 1+i & 1 \\\\ -i & 0 \\\\end{pmatrix}$ where I = $\\\\sqrt{-1}$. Then, the number of elements in the set {n$\\\\in$ {1,2, ....., 100} : $A^n$ = A} is', 'similarity_score': 0.981, 'summarized_solution_approach': 'The solution calculates $A^2$ and $A^4$. It finds that $A^4 = I$ (identity matrix). Consequently, $A^5 = A, A^9 = A$, and so on. The values of n for which $A^n = A$ form an arithmetic progression: n = 1, 5, 9, ..., 97. The number of terms in this sequence is then calculated, which gives the number of elements in the set.'}, {'similar_question_text': 'Let $$A = \\\\left( {\\\\matrix{\\n   {1 + i} & 1  \\\\cr \\n   { - i} & 0  \\\\cr \\n\\n } } \\\\right)$$ where $$i = \\\\sqrt { - 1} $$. Then, the number of elements in the set { n $$\\\\in$$ {1, 2, ......, 100} : A n = A } is ____________.', 'similarity_score': 0.98, 'summarized_solution_approach': 'First, the solution calculates A^2 and A^4. It finds that A^4 equals the identity matrix I. Consequently, A^5 = A, A^9 = A, and so on. The values of n for which A^n = A are 1, 5, 9, ..., 97. The number of such values of n is 25.'}]}, {'question_id': '00b31', 'question_text': 'अवकल सभीकरण $(x\\\\sqrt{1+y^2}) dx + (y\\\\sqrt{1+x^2})dy=0$ का हल है :', 'subject': 'Mathematics', 'similar_questions': [{'similar_question_text': 'Question Text::\\n            x (y2 + 1) dx + y (x² + 1) dy = 0\\n\\n            \\n            {\"goemetric_relationships\":[],\"labels_and_symbols\":[],\"spatial_arrangements\":[]}', 'similarity_score': 0.9876, 'summarized_solution_approach': 'The solution uses the variable separable method to solve the differential equation. First, the variables are separated to have x terms on one side and y terms on the other. Then, both sides are integrated, using substitution to solve the integrals. The logarithmic terms are simplified and combined using logarithm properties. Finally, the equation is converted from logarithmic to algebraic form by exponentiating both sides, resulting in the general solution.'}, {'similar_question_text': 'The solution of the differential equation\\n x dy + y dx - \\\\sqrt{1-x^{2}y^{2}}dx = 0 is', 'similarity_score': 0.9886, 'summarized_solution_approach': 'The given differential equation is solved by rearranging the terms and integrating. First, the equation is rewritten as \\\\( \\\\frac{xdy+ydx}{\\\\sqrt{1-x^{2}y^{2}}} = dx \\\\). Noticing that \\\\( xdy + ydx = d(xy) \\\\), the equation becomes \\\\( \\\\frac{d(xy)}{\\\\sqrt{1-(xy)^{2}}} = dx \\\\). Both sides are then integrated, yielding \\\\( sin^{-1}(xy) = x + c \\\\). Finally, solving for \\\\( xy \\\\), we get the solution \\\\( xy = sin(x + c) \\\\).'}]}, {'question_id': '0159a', 'question_text': \"If \\\\(y = 1 + \\\\frac{x_1}{x - x_1} + \\\\frac{x_2 \\\\cdot x}{(x - x_1)(x - x_2)} + \\\\frac{x_3 \\\\cdot x^2}{(x - x_1)(x - x_2)(x - x_3)} + \\\\dots \\\\) upto \\\\((n + 1)\\\\) terms then prove that \\\\(\\\\frac{dy}{dx} = \\\\frac{y}{x} \\\\left[ \\\\frac{x_1}{x_1 - x} + \\\\frac{x_2}{x_2 - x} + \\\\frac{x_3}{x_3 - x} + \\\\dots + \\\\frac{x_n}{x_n - x} \\\\right]\\\\)\\n\\nThe image shows a mathematical expression involving a series. The expression starts with 'If y = 1 +', followed by a series of terms. The general form of each term in the series is a fraction where the numerator involves a product of 'x' terms with subscripts (e.g., x1, x2, x3) and powers of 'x', and the denominator involves a product of differences of the form '(x - xi)', where 'i' is an index. The series continues up to (n+1) terms. Following this series, there is an expression to prove, which involves the derivative of 'y' with respect to 'x' (dy/dx). This expression equates dy/dx to a product of 'y/x' and a sum of fractions. Each fraction in the sum has a numerator of the form 'xi' and a denominator of the form 'xi - x', where 'i' ranges from 1 to n.\", 'subject': 'Mathematics', 'similar_questions': [{'similar_question_text': 'If f (x) = x^{n}, then the value of\\nf(1) + \\\\frac{f^{1}(1)}{1} + \\\\frac{f^{2}(1)}{2!} + \\\\dots + \\\\frac{f^{n}(1)}{n!}, where f^{r}(x) denotes the r^{th}\\norder derivative of f(x) with respect to x, is', 'similarity_score': 0.9678, 'summarized_solution_approach': 'The approach involves finding the derivatives of f(x) = xⁿ, then evaluating these derivatives at x=1. After this, substitute these values into the given expression. Recognize that the resulting expression is the binomial expansion of (1+1)ⁿ, which simplifies to 2ⁿ.'}, {'similar_question_text': 'Let $f_1(x) = e^x$ and $f_{n+1}(x) = e^{f_n(x)}$ for any $n \\\\ge 1, n \\\\in N$. Then for any fixed n, the value of $\\\\frac{d}{dx}f_n(x)$ equals:', 'similarity_score': 0.9632, 'summarized_solution_approach': 'The approach involves recognizing a recursively defined function $f_n(x)$ where $f_1(x) = e^x$ and $f_{n+1}(x) = e^{f_n(x)}$. We find the derivative of $f_n(x)$ with respect to $x$ for $n = 1, 2, 3$ to identify a pattern. For $n=1$, the derivative is simply $e^x = f_1(x)$. For $n=2$ and $n=3$, we apply the chain rule and express the derivatives in terms of the function itself. Based on the pattern observed for $n=1, 2, 3$, we generalize the formula for the derivative of $f_n(x)$ as the product of $f_n(x), f_{n-1}(x), \\\\dots, f_1(x)$.'}]}, {'question_id': '015c4', 'question_text': 'A river has width 0.5 km and flows from West to East with a speed 30 km/hr. If a boatman starts sailing boat at a speed 40 km/hr normal to bank, the boat shall cross the river in time -\\n\\nThe problem describes a river with a width of 0.5 km flowing from West to East at a speed of 30 km/hr. A boatman starts sailing a boat at a speed of 40 km/hr normal to the bank.', 'subject': 'Physics', 'similar_questions': [{'similar_question_text': 'A boat crosses a river from port A to port B, which are just on the opposite side. The speed of the water is $V_W$ and that of boat is $V_B$ relative to still water. Assume $V_B = 2V_W$. What is the time taken by the boat, if it has to cross the river directly on the AB line ?', 'similarity_score': 0.9747, 'summarized_solution_approach': \"The boat needs to travel from point A to point B directly across the river. The speed of the boat is \\\\(V_B\\\\), and the speed of the water is \\\\(V_W\\\\). Given that \\\\(V_B = 2V_W\\\\), the boat must travel at an angle \\\\(\\\\theta\\\\) such that \\\\(V_B \\\\sin(\\\\theta) = V_W\\\\). From this relationship, we find \\\\(\\\\theta = 30^\\\\circ\\\\). The time \\\\(t\\\\) taken to cross the river is the distance \\\\(D\\\\) divided by the component of the boat's velocity in the direction from A to B, which is \\\\(V_B \\\\cos(\\\\theta)\\\\). Substituting \\\\(\\\\theta = 30^\\\\circ\\\\), we get \\\\(t = \\\\frac{D}{V_B \\\\cos(30^\\\\circ)} = \\\\frac{2D}{V_B \\\\sqrt{3}}\\\\) \"}, {'similar_question_text': 'A boat which has a speed of 5 km/h in still water crosses a river of width 1 km along the shortest possible path in 15 min. The speed of the river water in km/h is:', 'similarity_score': 0.9748, 'summarized_solution_approach': 'The problem is solved using the concept of relative velocity. First, the velocity of boat is calculated using the formula \\\\( V_b = \\\\frac{y}{t} \\\\), where y is the width of the river and t is the time taken to cross the river. Then river velocity \\\\( V_r \\\\) is calculated using \\\\( V_r = \\\\sqrt{(V_{br})^2 - (V_b)^2} \\\\), where \\\\( V_{br} \\\\) is the velocity of the boat with respect to the river.'}]}, {'question_id': '01a13', 'question_text': '1.0 mol of Fe reacts completely with 0.65 mol of O₂ to give a mixture of only FeO and Fe₂O₃. The mole ratio of ferrous oxide to ferric oxide is', 'subject': 'Chemistry', 'similar_questions': [{'similar_question_text': 'The compound formed when 1.95 moles of oxygen combine with 1.46 moles of iron is :', 'similarity_score': 0.9598, 'summarized_solution_approach': 'To determine the compound formed by the combination of iron and oxygen, the mole ratio between iron and oxygen is analyzed. Given 1.46 moles of iron and 1.95 moles of oxygen, the ratio is examined to find a simple whole number ratio. By scaling the given ratio, it is found that 3 moles of iron combine with approximately 4 moles of oxygen. Therefore, the formula of the iron oxide compound is determined to be $Fe_3O_4$.'}, {'similar_question_text': 'The number of moles of $F{e_2}{O_3}$ formed when 0.5 moles of O${_2}$ and 0.5 moles of Fe are allowed to react are', 'similarity_score': 0.9548, 'summarized_solution_approach': 'The problem is based on the concept of limiting reagent. First, the balanced chemical equation is written. Then, by using the given number of moles of reactants, the limiting reagent is identified. Here, $Fe$ is the limiting reagent. Finally, the amount of $F{e_2}{O_3}$ formed from the given amount of limiting reagent is calculated using stoichiometry.'}]}]\n"
     ]
    }
   ],
   "source": [
    "import json\n",
    "\n",
    "# read similar_question_data.json\n",
    "\n",
    "with open('similar_question_data.json') as f:\n",
    "    data = json.load(f)\n",
    "\n",
    "print(data[:5])"
   ]
  },
  {
   "cell_type": "code",
   "execution_count": 8,
   "metadata": {},
   "outputs": [
    {
     "name": "stdout",
     "output_type": "stream",
     "text": [
      "explanation=\"The given matrix is A = $\\\\begin{pmatrix} 1+i & 1 \\\\ -i & 0 \\\\end{pmatrix}$. We need to find the number of n in {1, 2, ..., 100} such that $A^n = A$. Let's calculate the powers of A.\\n\\nFirst, calculate $A^2$:\\n$A^2 = A \\\\cdot A = \\\\begin{pmatrix} 1+i & 1 \\\\ -i & 0 \\\\end{pmatrix} \\\\begin{pmatrix} 1+i & 1 \\\\ -i & 0 \\\\end{pmatrix}$\\n$A^2 = \\\\begin{pmatrix} (1+i)(1+i) + 1(-i) & (1+i)(1) + 1(0) \\\\ -i(1+i) + 0(-i) & -i(1) + 0(0) \\\\end{pmatrix}$\\n$A^2 = \\\\begin{pmatrix} (1+2i+i^2) - i & 1+i \\\\ -i-i^2 & -i \\\\end{pmatrix}$\\nSince $i^2 = -1$,\\n$A^2 = \\\\begin{pmatrix} (1+2i-1) - i & 1+i \\\\ -i-(-1) & -i \\\\end{pmatrix}$\\n$A^2 = \\\\begin{pmatrix} i & 1+i \\\\ 1-i & -i \\\\end{pmatrix}$\\n\\nNow, calculate $A^3$:\\n$A^3 = A^2 \\\\cdot A = \\\\begin{pmatrix} i & 1+i \\\\ 1-i & -i \\\\end{pmatrix} \\\\begin{pmatrix} 1+i & 1 \\\\ -i & 0 \\\\end{pmatrix}$\\n$A^3 = \\\\begin{pmatrix} i(1+i) + (1+i)(-i) & i(1) + (1+i)(0) \\\\ (1-i)(1+i) + (-i)(-i) & (1-i)(1) + (-i)(0) \\\\end{pmatrix}$\\n$A^3 = \\\\begin{pmatrix} i+i^2 -i-i^2 & i \\\\ (1-i^2) + i^2 & 1-i \\\\end{pmatrix}$\\n$A^3 = \\\\begin{pmatrix} i-1 -i+1 & i \\\\ (1-(-1)) + (-1) & 1-i \\\\end{pmatrix}$\\n$A^3 = \\\\begin{pmatrix} 0 & i \\\\ 2-1 & 1-i \\\\end{pmatrix}$\\n$A^3 = \\\\begin{pmatrix} 0 & i \\\\ 1 & 1-i \\\\end{pmatrix}$\\n\\nNow, calculate $A^4$:\\n$A^4 = A^3 \\\\cdot A = \\\\begin{pmatrix} 0 & i \\\\ 1 & 1-i \\\\end{pmatrix} \\\\begin{pmatrix} 1+i & 1 \\\\ -i & 0 \\\\end{pmatrix}$\\n$A^4 = \\\\begin{pmatrix} 0(1+i) + i(-i) & 0(1) + i(0) \\\\ 1(1+i) + (1-i)(-i) & 1(1) + (1-i)(0) \\\\end{pmatrix}$\\n$A^4 = \\\\begin{pmatrix} 0 - i^2 & 0 \\\\ 1+i -i+i^2 & 1 \\\\end{pmatrix}$\\n$A^4 = \\\\begin{pmatrix} 0 - (-1) & 0 \\\\ 1+i -i-1 & 1 \\\\end{pmatrix}$\\n$A^4 = \\\\begin{pmatrix} 1 & 0 \\\\ 0 & 1 \\\\end{pmatrix}$\\nSo, $A^4 = I$, where I is the identity matrix.\\n\\nNow we need to find n such that $A^n = A$. We know that $A^4 = I$. \\nWe can write $A^n = A^{4k+r}$ where r is the remainder when n is divided by 4.\\nSo, $A^n = (A^4)^k A^r = I^k A^r = A^r$.\\nFor $A^n = A$, we must have $A^r = A$. This means r must be 1.\\nSo, n must be of the form $4k+1$ for some integer k.\\n\\nWe are looking for n in the set {1, 2, ..., 100} such that n leaves a remainder of 1 when divided by 4.\\n\\nLet's list the values of n:\\nIf k=0, n = 4(0)+1 = 1. (This is valid, $A^1 = A$)\\nIf k=1, n = 4(1)+1 = 5. ($A^5 = A^{4+1} = A^4 A^1 = I A = A$)\\nIf k=2, n = 4(2)+1 = 9.\\n...\\nWe need to find the largest k such that $4k+1 \\\\le 100$.\\n$4k \\\\le 99$\\n$k \\\\le 99/4$\\n$k \\\\le 24.75$\\nSo the largest integer value for k is 24.\\n\\nThe values of n are obtained for k = 0, 1, 2, ..., 24.\\nThe number of such values of k is 24 - 0 + 1 = 25.\\nTherefore, there are 25 such values of n.\" final_answer='25'\n"
     ]
    }
   ],
   "source": [
    "#basic solution building logic with llama index \n",
    "\n",
    "import os\n",
    "from dotenv import load_dotenv\n",
    "load_dotenv()\n",
    "from llama_index.llms.google_genai import GoogleGenAI\n",
    "from llama_index.core.prompts import PromptTemplate\n",
    "from llama_index.core.bridge.pydantic import BaseModel\n",
    "from llama_index.llms.google_genai import GoogleGenAI\n",
    "from google.genai import types\n",
    "\n",
    "\n",
    "from typing import List\n",
    "\n",
    "llm = GoogleGenAI(\n",
    "    model=\"gemini-2.5-flash\",\n",
    "    api_key = os.getenv(\"GEMINI_API_KEY\"),\n",
    "    generation_config=types.GenerateContentConfig(\n",
    "        thinking_config=types.ThinkingConfig(\n",
    "            thinking_budget=0\n",
    "        )  \n",
    "    ),\n",
    "    max_tokens=10000,\n",
    ")\n",
    "\n",
    "class Solution(BaseModel):\n",
    "    explanation: str\n",
    "    final_answer: str\n",
    "\n",
    "\n",
    "prompt_tmpl = PromptTemplate(\"\"\"You are an academic expert at solving problems in the field of maths, physics and chemistry. \n",
    "            Respond with the solution to the given problem: {question}\n",
    "            You respond with a JSON of explanation and final_answer where you can give step by step explanation in the explanation and the final solution in the final_answer.\n",
    "            Keep final answer direct and as short as possible and keep the step by stem explanation to the explanation portion of the JSON\n",
    "            \"\"\",)\n",
    "\n",
    "solution_object = llm.as_structured_llm(Solution).complete(prompt_tmpl.format(question=data[0][\"question_text\"])).raw\n",
    "\n",
    "print(solution_object)"
   ]
  },
  {
   "cell_type": "code",
   "execution_count": 9,
   "metadata": {},
   "outputs": [
    {
     "data": {
      "text/plain": [
       "'25'"
      ]
     },
     "execution_count": 9,
     "metadata": {},
     "output_type": "execute_result"
    }
   ],
   "source": [
    "solution_object.model_dump()[\"final_answer\"]"
   ]
  },
  {
   "cell_type": "code",
   "execution_count": 10,
   "metadata": {},
   "outputs": [
    {
     "data": {
      "text/plain": [
       "{'question_id': '006d7',\n",
       " 'question_text': 'माना A = $\\\\begin{pmatrix} 1+i & 1 \\\\ -i & 0 \\\\end{pmatrix}$, जहाँ i = √-1 है। तो समुच्चय { n ∈ {1,2,......,100} : $A^n$ = A} में अवयवों की संख्या है _______\\n\\nThe image shows a mathematical expression defining a matrix A and a set condition. The matrix A is a 2x2 matrix with elements 1+i, 1, -i, and 0, where i is defined as the square root of -1. The problem asks to find the number of elements in the set of n belonging to {1, 2, ..., 100} such that A to the power of n equals A.',\n",
       " 'subject': 'Mathematics',\n",
       " 'similar_questions': [{'similar_question_text': 'Let A = $\\\\begin{pmatrix} 1+i & 1 \\\\ -i & 0 \\\\end{pmatrix}$ where I = $\\\\sqrt{-1}$. Then, the number of elements in the set {n$\\\\in$ {1,2, ....., 100} : $A^n$ = A} is',\n",
       "   'similarity_score': 0.981,\n",
       "   'summarized_solution_approach': 'The solution calculates $A^2$ and $A^4$. It finds that $A^4 = I$ (identity matrix). Consequently, $A^5 = A, A^9 = A$, and so on. The values of n for which $A^n = A$ form an arithmetic progression: n = 1, 5, 9, ..., 97. The number of terms in this sequence is then calculated, which gives the number of elements in the set.'},\n",
       "  {'similar_question_text': 'Let $$A = \\\\left( {\\\\matrix{\\n   {1 + i} & 1  \\\\cr \\n   { - i} & 0  \\\\cr \\n\\n } } \\\\right)$$ where $$i = \\\\sqrt { - 1} $$. Then, the number of elements in the set { n $$\\\\in$$ {1, 2, ......, 100} : A n = A } is ____________.',\n",
       "   'similarity_score': 0.98,\n",
       "   'summarized_solution_approach': 'First, the solution calculates A^2 and A^4. It finds that A^4 equals the identity matrix I. Consequently, A^5 = A, A^9 = A, and so on. The values of n for which A^n = A are 1, 5, 9, ..., 97. The number of such values of n is 25.'}]}"
      ]
     },
     "execution_count": 10,
     "metadata": {},
     "output_type": "execute_result"
    }
   ],
   "source": [
    "data[0]"
   ]
  },
  {
   "cell_type": "code",
   "execution_count": 11,
   "metadata": {},
   "outputs": [],
   "source": [
    "from llama_index.core.tools import FunctionTool\n",
    "from llama_index.core.agent.workflow import FunctionAgent, ReActAgent\n",
    "from difflib import SequenceMatcher\n",
    "\n",
    "\n",
    "class SimilarQuestion(BaseModel):\n",
    "    similar_question_text: str\n",
    "    similarity_score: float\n",
    "    summarized_solution_approach: str\n",
    "\n",
    "class SimilarQuestionsEvaluation(BaseModel):\n",
    "    similar_question: str\n",
    "    solution_approach: str\n",
    "    conceptual_similarity_score: int\n",
    "    structural_similarity_score: int\n",
    "    difficulty_alignment_score: int\n",
    "    solution_approach_transferability_score: int\n",
    "    total_score: int\n",
    "    \n",
    "class SimilarQuestionsEvaluationList(BaseModel):\n",
    "    original_question: str\n",
    "    similar_question_evaluations: List[SimilarQuestionsEvaluation]\n",
    "    \n",
    "    \n",
    "async def get_similar_questions(question: str) -> List[SimilarQuestion]:\n",
    "    # ideally we do a vector similarity search here but rn just doing fuzzy matching with whatever question the llm passes to this function\n",
    "    \"\"\" Get most similar question from dataset and return its similar questions \"\"\"\n",
    "    with open('similar_question_data.json') as f:\n",
    "        data = json.load(f)\n",
    "\n",
    "    best_match = max(\n",
    "        data,\n",
    "        key=lambda q: SequenceMatcher(None, q['question_text'], question).ratio()\n",
    "    )\n",
    "\n",
    "    return [SimilarQuestion(sq) for sq in best_match.get('similar_questions', [])]\n",
    "\n",
    "    \n",
    "    \n",
    "get_similar_questions_tool = FunctionTool.from_defaults(fn=get_similar_questions)\n",
    "\n",
    "eval_prompt = \"\"\"You are an academic expert at analyzing and solving problems in the field of maths, physics and chemistry. \n",
    "Here, you are given a question and you must get similar questions to the question from the dataset and evaluate them and return the results.\n",
    "The image descriptions after the question given are also part of the question, make sure to include them.\n",
    "            \n",
    "You must assess how well each similar question represents the input question across the following dimensions.\n",
    "            \n",
    "1. Conceptual Similarity: Do they test the same underlying concepts/principles?\n",
    "2. Structural Similarity: Are the problem structures analogous?\n",
    "3. Difficulty Alignment: Is the difficulty level appropriate?\n",
    "4. Solution Approach Transferability: Can the solution method be meaningfully applied?\n",
    "            \n",
    "You should get similar questions via the tool get_similar_questions_tool\n",
    "which accepts the question and responds with similar questions, their solution approaches and vector similarity scores.\n",
    "You must pass the question that you receive identically to the function without changing a single character.           \n",
    "            \n",
    "You respond with a json with key original_question and another key called similar_question_evaluations with its corresponding value which is a list of objects.\n",
    "Each object contain the following keys which are scores based on the aforementioned dimensions for analysis for each similar quesion:\n",
    "            \n",
    "            \n",
    "similar_question: The similar question\n",
    "solution_approach: The solution approach\n",
    "conceptual_similarity_score: A score between 0 and 100\n",
    "structural_similarity_score: A score between 0 and 100\n",
    "difficulty_alignment_score: A score between 0 and 100 \n",
    "solution_approach_transferability_score: A score between 0 and 100\n",
    "total_score: A score between 0 and 100 which is the average of all the scores\n",
    "            \n",
    "Make sure to respond with a list of objects strictly following the above format.\n",
    " \"\"\"\n",
    "\n",
    "\n",
    "\n",
    "eval_agent = FunctionAgent(\n",
    "    name=\"EvaluationAgent\",\n",
    "    description=\"It responds with similar questions and answers to a question alongside their solution approach and their evaluations\",\n",
    "    system_prompt=(\n",
    "        eval_prompt\n",
    "    ),\n",
    "    llm=llm,\n",
    "    tools=[get_similar_questions_tool],\n",
    "    output_cls=SimilarQuestionsEvaluationList,\n",
    "    can_handoff_to=[\"SolutionAgent\"],\n",
    ")\n",
    "\n",
    "response = await eval_agent.run(data[0][\"question_text\"])"
   ]
  },
  {
   "cell_type": "code",
   "execution_count": 12,
   "metadata": {},
   "outputs": [
    {
     "data": {
      "text/plain": [
       "'माना A = $\\\\begin{pmatrix} 1+i & 1 \\\\ -i & 0 \\\\end{pmatrix}$, जहाँ i = √-1 है। तो समुच्चय { n ∈ {1,2,......,100} : $A^n$ = A} में अवयवों की संख्या है _______\\n\\nThe image shows a mathematical expression defining a matrix A and a set condition. The matrix A is a 2x2 matrix with elements 1+i, 1, -i, and 0, where i is defined as the square root of -1. The problem asks to find the number of elements in the set of n belonging to {1, 2, ..., 100} such that A to the power of n equals A.'"
      ]
     },
     "execution_count": 12,
     "metadata": {},
     "output_type": "execute_result"
    }
   ],
   "source": [
    "data[0][\"question_text\"]"
   ]
  },
  {
   "cell_type": "code",
   "execution_count": 13,
   "metadata": {},
   "outputs": [
    {
     "data": {
      "text/plain": [
       "{'original_question': 'माना A = $\\\\begin{pmatrix} 1+i & 1 \\\\ -i & 0 \\\\ \\\\end{pmatrix}$, जहाँ i = √-1 है। तो समुच्चय { n ∈ {1,2,......,100} : $A^n$ = A} में अवयवों की संख्या है _______',\n",
       " 'similar_question_evaluations': [{'similar_question': 'Let A = $\\\\begin{pmatrix} 1+i & 1 \\\\\\\\ -i & 0 \\\\\\\\end{pmatrix}$ where I = $\\\\sqrt{-1}$. Then, the number of elements in the set {n$\\\\in$ {1,2, ....., 100} : $A^n$ = A} is',\n",
       "   'solution_approach': 'The solution calculates $A^2$ and $A^4$. It finds that $A^4 = I$ (identity matrix). Consequently, $A^5 = A, A^9 = A$, and so on. The values of n for which $A^n = A$ form an arithmetic progression: n = 1, 5, 9, ..., 97. The number of terms in this sequence is then calculated, which gives the number of elements in the set.',\n",
       "   'conceptual_similarity_score': 100,\n",
       "   'structural_similarity_score': 100,\n",
       "   'difficulty_alignment_score': 100,\n",
       "   'solution_approach_transferability_score': 100,\n",
       "   'total_score': 100},\n",
       "  {'similar_question': 'Let $$A = \\\\\\\\left( {\\\\\\\\matrix{\\\\n   {1 + i} & 1  \\\\\\\\cr \\\\n   { - i} & 0  \\\\\\\\cr \\\\n\\\\n } } \\\\\\\\right)$$ where $$i = \\\\\\\\sqrt { - 1} $$. Then, the number of elements in the set { n $$\\\\in$$ {1, 2, ......, 100} : A n = A } is ____________.',\n",
       "   'solution_approach': 'First, the solution calculates A^2 and A^4. It finds that A^4 equals the identity matrix I. Consequently, A^5 = A, A^9 = A, and so on. The values of n for which A^n = A are 1, 5, 9, ..., 97. The number of such values of n is 25.',\n",
       "   'conceptual_similarity_score': 100,\n",
       "   'structural_similarity_score': 100,\n",
       "   'difficulty_alignment_score': 100,\n",
       "   'solution_approach_transferability_score': 100,\n",
       "   'total_score': 100}]}"
      ]
     },
     "execution_count": 13,
     "metadata": {},
     "output_type": "execute_result"
    }
   ],
   "source": [
    "response.structured_response"
   ]
  },
  {
   "cell_type": "code",
   "execution_count": 14,
   "metadata": {},
   "outputs": [
    {
     "data": {
      "text/plain": [
       "SimilarQuestionsEvaluationList(original_question='माना A = $\\\\begin{pmatrix} 1+i & 1 \\\\ -i & 0 \\\\ \\\\end{pmatrix}$, जहाँ i = √-1 है। तो समुच्चय { n ∈ {1,2,......,100} : $A^n$ = A} में अवयवों की संख्या है _______', similar_question_evaluations=[SimilarQuestionsEvaluation(similar_question='Let A = $\\\\begin{pmatrix} 1+i & 1 \\\\\\\\ -i & 0 \\\\\\\\end{pmatrix}$ where I = $\\\\sqrt{-1}$. Then, the number of elements in the set {n$\\\\in$ {1,2, ....., 100} : $A^n$ = A} is', solution_approach='The solution calculates $A^2$ and $A^4$. It finds that $A^4 = I$ (identity matrix). Consequently, $A^5 = A, A^9 = A$, and so on. The values of n for which $A^n = A$ form an arithmetic progression: n = 1, 5, 9, ..., 97. The number of terms in this sequence is then calculated, which gives the number of elements in the set.', conceptual_similarity_score=100, structural_similarity_score=100, difficulty_alignment_score=100, solution_approach_transferability_score=100, total_score=100), SimilarQuestionsEvaluation(similar_question='Let $$A = \\\\\\\\left( {\\\\\\\\matrix{\\\\n   {1 + i} & 1  \\\\\\\\cr \\\\n   { - i} & 0  \\\\\\\\cr \\\\n\\\\n } } \\\\\\\\right)$$ where $$i = \\\\\\\\sqrt { - 1} $$. Then, the number of elements in the set { n $$\\\\in$$ {1, 2, ......, 100} : A n = A } is ____________.', solution_approach='First, the solution calculates A^2 and A^4. It finds that A^4 equals the identity matrix I. Consequently, A^5 = A, A^9 = A, and so on. The values of n for which A^n = A are 1, 5, 9, ..., 97. The number of such values of n is 25.', conceptual_similarity_score=100, structural_similarity_score=100, difficulty_alignment_score=100, solution_approach_transferability_score=100, total_score=100)])"
      ]
     },
     "execution_count": 14,
     "metadata": {},
     "output_type": "execute_result"
    }
   ],
   "source": [
    "response.get_pydantic_model(SimilarQuestionsEvaluationList)"
   ]
  },
  {
   "cell_type": "code",
   "execution_count": 17,
   "metadata": {},
   "outputs": [
    {
     "data": {
      "text/plain": [
       "{'explanation': \"Let's first calculate the powers of A to observe a pattern.\\n\\nGiven matrix A = $\\\\begin{pmatrix} 1+i & 1 \\\\ -i & 0 \\\\end{pmatrix}$.\\n\\nStep 1: Calculate $A^2$\\n$A^2 = A \\\\cdot A = \\\\begin{pmatrix} 1+i & 1 \\\\\\\\ -i & 0 \\\\end{pmatrix} \\\\begin{pmatrix} 1+i & 1 \\\\\\\\ -i & 0 \\\\end{pmatrix}$\\n$A^2 = \\\\begin{pmatrix} (1+i)(1+i) + 1(-i) & (1+i)(1) + 1(0) \\\\\\\\ (-i)(1+i) + 0(-i) & (-i)(1) + 0(0) \\\\end{pmatrix}$\\n$A^2 = \\\\begin{pmatrix} (1 + 2i + i^2) - i & 1+i \\\\\\\\ -i - i^2 & -i \\\\end{pmatrix}$\\nSince $i^2 = -1$,\\n$A^2 = \\\\begin{pmatrix} (1 + 2i - 1) - i & 1+i \\\\\\\\ -i - (-1) & -i \\\\end{pmatrix}$\\n$A^2 = \\\\begin{pmatrix} 2i - i & 1+i \\\\\\\\ -i + 1 & -i \\\\end{pmatrix}$\\n$A^2 = \\\\begin{pmatrix} i & 1+i \\\\\\\\ 1-i & -i \\\\end{pmatrix}$\\n\\nStep 2: Calculate $A^3$\\n$A^3 = A^2 \\\\cdot A = \\\\begin{pmatrix} i & 1+i \\\\\\\\ 1-i & -i \\\\end{pmatrix} \\\\begin{pmatrix} 1+i & 1 \\\\\\\\ -i & 0 \\\\end{pmatrix}$\\n$A^3 = \\\\begin{pmatrix} i(1+i) + (1+i)(-i) & i(1) + (1+i)(0) \\\\\\\\ (1-i)(1+i) + (-i)(-i) & (1-i)(1) + (-i)(0) \\\\end{pmatrix}$\\n$A^3 = \\\\begin{pmatrix} (i + i^2) + (-i - i^2) & i \\\\\\\\ (1^2 - i^2) + i^2 & 1-i \\\\end{pmatrix}$\\nSince $i^2 = -1$,\\n$A^3 = \\\\begin{pmatrix} (i - 1) + (-i - (-1)) & i \\\\\\\\ (1 - (-1)) + (-1) & 1-i \\\\end{pmatrix}$\\n$A^3 = \\\\begin{pmatrix} i - 1 - i + 1 & i \\\\\\\\ (1 + 1) - 1 & 1-i \\\\end{pmatrix}$\\n$A^3 = \\\\begin{pmatrix} 0 & i \\\\\\\\ 2 - 1 & 1-i \\\\end{pmatrix}$\\n$A^3 = \\\\begin{pmatrix} 0 & i \\\\\\\\ 1 & 1-i \\\\end{pmatrix}$\\n\\nStep 3: Calculate $A^4$\\n$A^4 = A^3 \\\\cdot A = \\\\begin{pmatrix} 0 & i \\\\\\\\ 1 & 1-i \\\\end{pmatrix} \\\\begin{pmatrix} 1+i & 1 \\\\\\\\ -i & 0 \\\\end{pmatrix}$\\n$A^4 = \\\\begin{pmatrix} 0(1+i) + i(-i) & 0(1) + i(0) \\\\\\\\ 1(1+i) + (1-i)(-i) & 1(1) + (1-i)(0) \\\\end{pmatrix}$\\n$A^4 = \\\\begin{pmatrix} -i^2 & 0 \\\\\\\\ 1+i - i + i^2 & 1 \\\\end{pmatrix}$\\nSince $i^2 = -1$,\\n$A^4 = \\\\begin{pmatrix} -(-1) & 0 \\\\\\\\ 1 + (-1) & 1 \\\\end{pmatrix}$\\n$A^4 = \\\\begin{pmatrix} 1 & 0 \\\\\\\\ 0 & 1 \\\\end{pmatrix}$\\nThis is the identity matrix, denoted as I.\\n\\nStep 4: Calculate $A^5$\\n$A^5 = A^4 \\\\cdot A = I \\\\cdot A = A$\\n\\nWe have found that $A^5 = A$. This means the powers of A will follow a cycle.\\n$A^1 = A$\\n$A^2$\\n$A^3$\\n$A^4 = I$\\n$A^5 = A$\\n$A^6 = A^2$\\n$A^7 = A^3$\\n$A^8 = I$\\n\\nIn general, $A^n = A$ if and only if $n$ is of the form $4k+1$ for some non-negative integer $k$.\\n\\nWe need to find the number of elements in the set { n \\\\in {1,2,......,100} : $A^n$ = A}.\\nSo we need to find values of n in the range [1, 100] such that $n = 4k+1$.\\n\\nFor $k=0$, $n = 4(0)+1 = 1$. So $A^1 = A$. (This is the given condition itself).\\nFor $k=1$, $n = 4(1)+1 = 5$. We verified $A^5 = A$.\\nFor $k=2$, $n = 4(2)+1 = 9$.\\n...\\nWe need to find the maximum value of $k$ such that $4k+1 \\\\le 100$.\\n$4k \\\\le 99$\\n$k \\\\le \\\\frac{99}{4}$\\n$k \\\\le 24.75$\\nSince $k$ must be an integer, the maximum value for $k$ is 24.\\n\\nThe possible values of $k$ are 0, 1, 2, ..., 24.\\nThe number of such values of $k$ is $24 - 0 + 1 = 25$.\\n\\nThus, there are 25 values of n in the given set for which $A^n = A$.\",\n",
       " 'final_answer': '25'}"
      ]
     },
     "execution_count": 17,
     "metadata": {},
     "output_type": "execute_result"
    }
   ],
   "source": [
    "\n",
    "class Solution(BaseModel):\n",
    "    explanation: str\n",
    "    final_answer: str\n",
    "\n",
    "\n",
    "# to be reworked to make it thorough\n",
    "solution_prompt = \"\"\"You are an academic expert at solving problems in the field of maths, physics and chemistry. \n",
    "You are given an original question and sometimes alongside it few similar questions, solution approaches and thorough evaluations of their relevance for each similar question.\n",
    "You respond with a JSON of explanation and final_answer where you can give step by step explanation in the explanation and the final solution in the final_answer.\n",
    "The explanation should be a step by step solution approach to the given question so that the student can understand how you arrived to the solution.\n",
    "Keep final answer direct and as short as possible and keep the step by stem explanation to the explanation portion of the JSON\n",
    "\"\"\"\n",
    "\n",
    "\n",
    "solution_agent = FunctionAgent(\n",
    "    name=\"SolutionAgent\",\n",
    "    description=\"It responds with a final answer to a given original questions alongside similar questions, solution approaches and evals\",\n",
    "    system_prompt=(\n",
    "        solution_prompt\n",
    "    ),\n",
    "    llm=llm,\n",
    "    output_cls=Solution,\n",
    "    tools=[],\n",
    "    timeout=30,\n",
    ")\n",
    "\n",
    "\n",
    "\n",
    "\n",
    "response = await solution_agent.run(data[0][\"question_text\"])\n",
    "response.structured_response"
   ]
  },
  {
   "cell_type": "code",
   "execution_count": 28,
   "metadata": {},
   "outputs": [],
   "source": [
    "\n",
    "from llama_index.core.agent.workflow import AgentWorkflow\n",
    "from llama_index.core.workflow import Context\n",
    "\n",
    "\n",
    "class Solution(BaseModel):\n",
    "    explanation: str\n",
    "    final_answer: str\n",
    "    referred_faqs: list[str]\n",
    "\n",
    "\n",
    "\n",
    "solution_prompt = \"\"\"You are an academic expert at solving problems in the field of maths, physics and chemistry. \n",
    "You are given an original question and sometimes alongside it few similar questions, solution approaches and thorough evaluations of their relevance for each similar question.\n",
    "Make sure to refer to the evaluation scores of each similar question for considering their relevance.\n",
    "You respond with a JSON of explanation and final_answer where you can give step by step explanation in the explanation and the final solution in the final_answer.\n",
    "The explanation should be a step by step solution approach to the given question so that the student can understand how you arrived to the solution.\n",
    "Keep final answer direct and as short as possible and keep the step by stem explanation to the explanation portion of the JSON\n",
    "Mention the FAQs that you referred to in the referred_faqs portion of the JSON\n",
    "\"\"\"\n",
    "\n",
    "solution_agent = FunctionAgent(\n",
    "    name=\"SolutionAgent\",\n",
    "    description=\"It accepts original question, similar questions & their evaluations to form a final answer to the original question\",\n",
    "    system_prompt=(\n",
    "        solution_prompt\n",
    "    ),\n",
    "    llm=llm,\n",
    "    output_cls=Solution,\n",
    "    timeout=30,\n",
    "    tools=[]\n",
    "\n",
    ")\n",
    "\n",
    "eval_prompt = \"\"\"You are an academic expert at analyzing and solving problems in the field of maths, physics and chemistry. \n",
    "Here, you are given a question and you must get similar questions to the question from the dataset and evaluate them and return the results.\n",
    "The image descriptions after the question given are also part of the question, make sure to include them.\n",
    "            \n",
    "You must assess how well each similar question represents the input question across the following dimensions.\n",
    "            \n",
    "1. Conceptual Similarity: Do they test the same underlying concepts/principles?\n",
    "2. Structural Similarity: Are the problem structures analogous?\n",
    "3. Difficulty Alignment: Is the difficulty level appropriate?\n",
    "4. Solution Approach Transferability: Can the solution method be meaningfully applied?\n",
    "            \n",
    "You should get similar questions via the tool get_similar_questions_tool\n",
    "which accepts the question and responds with similar questions, their solution approaches and vector similarity scores.\n",
    "You must pass the question that you receive identically to the function without changing a single character.           \n",
    "            \n",
    "You respond with a json with key original_question and another key called similar_question_evaluations with its corresponding value which is a list of objects.\n",
    "Each object contain the following keys which are scores based on the aforementioned dimensions for analysis for each similar quesion:\n",
    "            \n",
    "            \n",
    "similar_question: The similar question\n",
    "solution_approach: The solution approach\n",
    "conceptual_similarity_score: A score between 0 and 100\n",
    "structural_similarity_score: A score between 0 and 100\n",
    "difficulty_alignment_score: A score between 0 and 100 \n",
    "solution_approach_transferability_score: A score between 0 and 100\n",
    "total_score: A score between 0 and 100 which is the average of all the scores\n",
    "            \n",
    "Make sure to respond with a list of objects strictly following the above format. Handover the output JSON to the SolutionAgent to form a final answer to the original question.\n",
    " \"\"\"\n",
    " \n",
    "eval_agent = FunctionAgent(\n",
    "    name=\"EvaluationAgent\",\n",
    "    description=\"It responds with similar questions and answers to a question alongside their solution approach and their evaluations\",\n",
    "    system_prompt=(\n",
    "        eval_prompt\n",
    "    ),\n",
    "    llm=llm,\n",
    "    tools=[get_similar_questions_tool,],\n",
    "    output_cls=SimilarQuestionsEvaluationList,\n",
    "    can_handoff_to=[\"SolutionAgent\"],\n",
    ")\n",
    "\n",
    "agent_workflow = AgentWorkflow(\n",
    "    agents=[eval_agent, solution_agent],\n",
    "    root_agent=eval_agent.name,\n",
    "    initial_state={\n",
    "        \"original_question\": \"\",\n",
    "        \"unsubstantiated_explanation\" : \"\",\n",
    "        \"unsubstantiated_answer\": \"\",\n",
    "        \"substantiated_explanation\": \"\",\n",
    "        \"substantiated_answer\": \"\",\n",
    "        \n",
    "    },\n",
    ")"
   ]
  },
  {
   "cell_type": "code",
   "execution_count": null,
   "metadata": {},
   "outputs": [],
   "source": [
    "from llama_index.core.agent.workflow import (\n",
    "    AgentInput,\n",
    "    AgentOutput,\n",
    "    ToolCall,\n",
    "    ToolCallResult,\n",
    "    AgentStream,\n",
    ")\n",
    "\n",
    "user_question = data[0][\"question_text\"]\n",
    "\n",
    "\n",
    "handler = agent_workflow.run(\n",
    "    user_msg=(\n",
    "        f\"Answer the following question asked by a student: {(user_question)}\\n\"\n",
    "    )\n",
    ")\n",
    "\n",
    "current_agent = None\n",
    "current_tool_calls = \"\"\n",
    "\n",
    "final_output = \"\"\n",
    "\n",
    "async for event in handler.stream_events():\n",
    "    if (\n",
    "        hasattr(event, \"current_agent_name\")\n",
    "        and event.current_agent_name != current_agent\n",
    "    ):\n",
    "        current_agent = event.current_agent_name\n",
    "        print(f\"\\n{'='*50}\")\n",
    "        print(f\"🤖 Agent: {current_agent}\")\n",
    "        print(f\"{'='*50}\\n\")\n",
    "\n",
    "    # if isinstance(event, AgentStream):\n",
    "    #     if event.delta:\n",
    "    #         print(event.delta, end=\"\", flush=True)\n",
    "    # elif isinstance(event, AgentInput):\n",
    "    #     print(\"📥 Input:\", event.input)\n",
    "    elif isinstance(event, AgentOutput):\n",
    "        if event.response.content:\n",
    "            print(\"📤 Output:\", event.response.content)\n",
    "            final_output += event.response.content\n",
    "        if event.tool_calls:\n",
    "            print(\n",
    "                \"🛠️  Planning to use tools:\",\n",
    "                [call.tool_name for call in event.tool_calls],\n",
    "            )\n",
    "    elif isinstance(event, ToolCallResult):\n",
    "        print(f\"🔧 Tool Result ({event.tool_name}):\")\n",
    "        print(f\"  Arguments: {event.tool_kwargs}\")\n",
    "        print(f\"  Output: {event.tool_output}\")\n",
    "    elif isinstance(event, ToolCall):\n",
    "        print(f\"🔨 Calling Tool: {event.tool_name}\")\n",
    "        print(f\"  With arguments: {event.tool_kwargs}\")"
   ]
  },
  {
   "cell_type": "code",
   "execution_count": 30,
   "metadata": {},
   "outputs": [],
   "source": [
    "# MAS for Similar Questions Evaluation\n",
    "\n",
    "from llama_index.core.agent.workflow import FunctionAgent, ReActAgent\n",
    "\n",
    "\n",
    "sub_agent_llm = GoogleGenAI(\n",
    "    model=\"gemini-2.5-flash\",\n",
    "    api_key = os.getenv(\"GEMINI_API_KEY\"),\n",
    "    generation_config=types.GenerateContentConfig(\n",
    "        max_output_tokens=8192,\n",
    "        thinking_config=types.ThinkingConfig(\n",
    "            thinking_budget=0\n",
    "        )  \n",
    "    ),\n",
    ")\n",
    "\n",
    "\n",
    "class ConceptualSimilarity(BaseModel):\n",
    "    conceptual_similarity: int\n",
    "    conceptual_similarity_note: str\n",
    "\n",
    "conceptual_similarity_agent = FunctionAgent(\n",
    "    system_prompt=\"\"\"You are an academic expert in math, physics and chemistry.\n",
    "You are tasked with evaluating the conceptual similarity of an original question and a fetched similar question alongside its solution approach.\n",
    "You evaluate the similar question for if it tests the same underlying concepts/principles.\n",
    "You return an object with keys conceptual_similarity and conceptual_similarity_note.\n",
    "conceptual_similarity should be a score between 0 to 100.\n",
    "conceptual_similarity_note should be a short note explaining the score.\n",
    "\"\"\",\n",
    "    llm=sub_agent_llm,\n",
    "    tools=[],\n",
    "    output_cls=ConceptualSimilarity,\n",
    ")\n",
    "\n",
    "class StructuralSimilarity(BaseModel):\n",
    "    structural_similarity: int\n",
    "    structural_similarity_note: str\n",
    "    \n",
    "structural_similarity_agent = FunctionAgent(\n",
    "    system_prompt=\"\"\"You are an academic expert in math, physics and chemistry.\n",
    "You are tasked with evaluating the structural similarity of an original question and a fetched similar question.\n",
    "You evaluate if the problem structures are analogous, considering the type of information given, what is being asked, and the overall setup of the problem.\n",
    "You return an object with keys structural_similarity and structural_similarity_note.\n",
    "structural_similarity should be a score between 0 to 100.\n",
    "structural_similarity_note should be a short note explaining the score.\n",
    "\"\"\",\n",
    "    llm=sub_agent_llm,\n",
    "    tools=[],\n",
    "    output_cls=StructuralSimilarity,\n",
    ")\n",
    "\n",
    "class DifficultyAlignment(BaseModel):\n",
    "    difficulty_alignment: int\n",
    "    difficulty_alignment_note: str\n",
    "\n",
    "difficulty_alignment_agent = FunctionAgent(\n",
    "    system_prompt=\"\"\"You are an academic expert in math, physics and chemistry.\n",
    "You are tasked with evaluating the difficulty alignment of an original question and a fetched similar question.\n",
    "You evaluate if the difficulty level is appropriate, considering factors like the number of steps required, the complexity of calculations, and the depth of conceptual understanding needed.\n",
    "You return an object with keys difficulty_alignment and difficulty_alignment_note.\n",
    "difficulty_alignment should be a score between 0 to 100.\n",
    "difficulty_alignment_note should be a short note explaining the score.\n",
    "\"\"\",\n",
    "    llm=sub_agent_llm,\n",
    "    tools=[],\n",
    "    output_cls=DifficultyAlignment,\n",
    ")\n",
    "\n",
    "class ApproachTransferability(BaseModel):\n",
    "    approach_transferability: int\n",
    "    approach_transferability_note: str\n",
    "\n",
    "approach_transferability_agent = FunctionAgent(\n",
    "    system_prompt=\"\"\"You are an academic expert in math, physics and chemistry.\n",
    "You are tasked with evaluating the solution approach transferability from a fetched similar question's solution to an original question.\n",
    "You evaluate if the solution method, steps, and reasoning for the similar question can be meaningfully and directly applied to solve the original question.\n",
    "You return an object with keys approach_transferability and approach_transferability_note.\n",
    "approach_transferability should be a score between 0 to 100.\n",
    "approach_transferability_note should be a short note explaining the score.\n",
    "\"\"\",\n",
    "    llm=sub_agent_llm,\n",
    "    tools=[],\n",
    "    output_cls=ApproachTransferability,\n",
    ")\n",
    "\n",
    "\n"
   ]
  },
  {
   "cell_type": "code",
   "execution_count": 42,
   "metadata": {},
   "outputs": [],
   "source": [
    "from llama_index.core.tools import FunctionTool\n",
    "\n",
    "async def evaluate_conceptual_similarity(original_question: str, similar_question: str, solution_approach: str) -> str:\n",
    "    \"\"\"\n",
    "    Useful for evaluating if two questions test the same underlying concepts and principles.\n",
    "    Returns a score and a note on conceptual similarity.\n",
    "    \"\"\"\n",
    "    user_msg = f\"\"\"\n",
    "    Original Question:\n",
    "    {original_question}\n",
    "\n",
    "    Fetched Similar Question:\n",
    "    {similar_question}\n",
    "\n",
    "    Solution Approach for Similar Question:\n",
    "    {solution_approach}\n",
    "\n",
    "    Please evaluate the conceptual similarity based on these inputs.\n",
    "    \"\"\"\n",
    "    result = await conceptual_similarity_agent.run(user_msg=user_msg)\n",
    "    return str(result)\n",
    "\n",
    "async def evaluate_structural_similarity(original_question: str, similar_question: str, solution_approach: str) -> str:\n",
    "    \"\"\"\n",
    "    Useful for evaluating if the problem structures of two questions are analogous.\n",
    "    Considers the type of information given and the problem setup.\n",
    "    Returns a score and a note on structural similarity.\n",
    "    \"\"\"\n",
    "    user_msg = f\"\"\"\n",
    "    Original Question:\n",
    "    {original_question}\n",
    "\n",
    "    Fetched Similar Question:\n",
    "    {similar_question}\n",
    "\n",
    "    Solution Approach for Similar Question:\n",
    "    {solution_approach}\n",
    "\n",
    "    Please evaluate the structural similarity based on these inputs.\n",
    "    \"\"\"\n",
    "    result = await structural_similarity_agent.run(user_msg=user_msg)\n",
    "    return str(result)\n",
    "\n",
    "async def evaluate_difficulty_alignment(original_question: str, similar_question: str, solution_approach: str) -> str:\n",
    "    \"\"\"\n",
    "    Useful for evaluating if two questions have an appropriate and similar difficulty level.\n",
    "    Considers complexity, number of steps, and required knowledge.\n",
    "    Returns a score and a note on difficulty alignment.\n",
    "    \"\"\"\n",
    "    user_msg = f\"\"\"\n",
    "    Original Question:\n",
    "    {original_question}\n",
    "\n",
    "    Fetched Similar Question:\n",
    "    {similar_question}\n",
    "\n",
    "    Solution Approach for Similar Question:\n",
    "    {solution_approach}\n",
    "\n",
    "    Please evaluate the difficulty alignment based on these inputs.\n",
    "    \"\"\"\n",
    "    result = await difficulty_alignment_agent.run(user_msg=user_msg)\n",
    "    return str(result)\n",
    "\n",
    "async def evaluate_approach_transferability(original_question: str, similar_question: str, solution_approach: str) -> str:\n",
    "    \"\"\"\n",
    "    Useful for evaluating if the solution method for one question can be meaningfully applied to solve another.\n",
    "    Returns a score and a note on the transferability of the solution approach.\n",
    "    \"\"\"\n",
    "    user_msg = f\"\"\"\n",
    "    Original Question:\n",
    "    {original_question}\n",
    "\n",
    "    Fetched Similar Question:\n",
    "    {similar_question}\n",
    "\n",
    "    Solution Approach for Similar Question:\n",
    "    {solution_approach}\n",
    "\n",
    "    Please evaluate the solution approach transferability based on these inputs.\n",
    "    \"\"\"\n",
    "    result = await approach_transferability_agent.run(user_msg=user_msg)\n",
    "    return str(result)"
   ]
  },
  {
   "cell_type": "code",
   "execution_count": 43,
   "metadata": {},
   "outputs": [],
   "source": [
    "orchestrator_llm = GoogleGenAI(\n",
    "    model=\"gemini-2.5-flash\",\n",
    "    api_key = os.getenv(\"GEMINI_API_KEY\"),\n",
    "    generation_config=types.GenerateContentConfig(\n",
    "        max_output_tokens=8192,\n",
    "        thinking_config=types.ThinkingConfig(\n",
    "            thinking_budget=0\n",
    "        )  \n",
    "    ),\n",
    ")\n",
    "\n",
    "\n",
    "\n",
    "class SimilarQuestionsEvaluation(BaseModel):\n",
    "    similar_question: str\n",
    "    solution_approach: str\n",
    "    conceptual_similarity_score: int\n",
    "    structural_similarity_score: int\n",
    "    difficulty_alignment_score: int\n",
    "    solution_approach_transferability_score: int\n",
    "    total_score: int\n",
    "    notes: str\n",
    "    \n",
    "    \n",
    "orchestrator = FunctionAgent(\n",
    "    system_prompt=\"\"\"You are an academic evaluation expert. You will be given a question, its similar question and solution approach.\n",
    "    You evaluate the similar quesiton for multiple criteria via the tools provided to you.\n",
    "    You form a comprehensive evaluation from the results you receive from the tools to create a JSON object with the following keys:\n",
    "    similar_question: The similar question\n",
    "    solution_approach: The solution approach\n",
    "    conceptual_similarity_score: The conceptual similarity score\n",
    "    structural_similarity_score: The structural similarity score\n",
    "    difficulty_alignment_score: The difficulty alignment score\n",
    "    solution_approach_transferability_score: The solution approach transferability score\n",
    "    total_score: The total score\n",
    "    notes: A short note explaning the complete evaluation of the relevance of the similar question \n",
    "    \n",
    "    \"\"\",\n",
    "    llm=orchestrator_llm,\n",
    "    tools=[\n",
    "        evaluate_conceptual_similarity,\n",
    "        evaluate_structural_similarity,\n",
    "        evaluate_difficulty_alignment,\n",
    "        evaluate_approach_transferability\n",
    "    ],\n",
    "    output_cls=SimilarQuestionsEvaluation,\n",
    ")"
   ]
  },
  {
   "cell_type": "code",
   "execution_count": 50,
   "metadata": {},
   "outputs": [],
   "source": [
    "from llama_index.core.agent.workflow import (\n",
    "    AgentInput,\n",
    "    AgentOutput,\n",
    "    ToolCall,\n",
    "    ToolCallResult,\n",
    "    AgentStream,\n",
    ")\n",
    "from llama_index.core.workflow import Context\n",
    "\n",
    "\n",
    "async def run_orchestrator( user_msg: str):\n",
    "    handler = orchestrator.run(\n",
    "        user_msg=user_msg,\n",
    "    )\n",
    "\n",
    "    async for event in handler.stream_events():\n",
    "        if isinstance(event, AgentStream):\n",
    "            if event.delta:\n",
    "                print(event.delta, end=\"\", flush=True)\n",
    "        # elif isinstance(event, AgentInput):\n",
    "        #     print(\"📥 Input:\", event.input)\n",
    "        elif isinstance(event, AgentOutput):\n",
    "            # Skip printing the output since we are streaming above\n",
    "            # if event.response.content:\n",
    "            #     print(\"📤 Output:\", event.response.content)\n",
    "            if event.tool_calls:\n",
    "                print(\n",
    "                    \"🛠️  Planning to use tools:\",\n",
    "                    [call.tool_name for call in event.tool_calls],\n",
    "                )\n",
    "            else:\n",
    "                return event.response.content\n",
    "        elif isinstance(event, ToolCallResult):\n",
    "            print(f\"🔧 Tool Result ({event.tool_name}):\")\n",
    "            print(f\"  Arguments: {event.tool_kwargs}\")\n",
    "            print(f\"  Output: {event.tool_output}\")\n",
    "        elif isinstance(event, ToolCall):\n",
    "            print(f\"🔨 Calling Tool: {event.tool_name}\")\n",
    "            print(f\"  With arguments: {event.tool_kwargs}\")\n"
   ]
  },
  {
   "cell_type": "code",
   "execution_count": null,
   "metadata": {},
   "outputs": [],
   "source": []
  },
  {
   "cell_type": "code",
   "execution_count": 51,
   "metadata": {},
   "outputs": [
    {
     "data": {
      "text/plain": [
       "{'question_id': '006d7',\n",
       " 'question_text': 'माना A = $\\\\begin{pmatrix} 1+i & 1 \\\\ -i & 0 \\\\end{pmatrix}$, जहाँ i = √-1 है। तो समुच्चय { n ∈ {1,2,......,100} : $A^n$ = A} में अवयवों की संख्या है _______\\n\\nThe image shows a mathematical expression defining a matrix A and a set condition. The matrix A is a 2x2 matrix with elements 1+i, 1, -i, and 0, where i is defined as the square root of -1. The problem asks to find the number of elements in the set of n belonging to {1, 2, ..., 100} such that A to the power of n equals A.',\n",
       " 'subject': 'Mathematics',\n",
       " 'similar_questions': [{'similar_question_text': 'Let A = $\\\\begin{pmatrix} 1+i & 1 \\\\ -i & 0 \\\\end{pmatrix}$ where I = $\\\\sqrt{-1}$. Then, the number of elements in the set {n$\\\\in$ {1,2, ....., 100} : $A^n$ = A} is',\n",
       "   'similarity_score': 0.981,\n",
       "   'summarized_solution_approach': 'The solution calculates $A^2$ and $A^4$. It finds that $A^4 = I$ (identity matrix). Consequently, $A^5 = A, A^9 = A$, and so on. The values of n for which $A^n = A$ form an arithmetic progression: n = 1, 5, 9, ..., 97. The number of terms in this sequence is then calculated, which gives the number of elements in the set.'},\n",
       "  {'similar_question_text': 'Let $$A = \\\\left( {\\\\matrix{\\n   {1 + i} & 1  \\\\cr \\n   { - i} & 0  \\\\cr \\n\\n } } \\\\right)$$ where $$i = \\\\sqrt { - 1} $$. Then, the number of elements in the set { n $$\\\\in$$ {1, 2, ......, 100} : A n = A } is ____________.',\n",
       "   'similarity_score': 0.98,\n",
       "   'summarized_solution_approach': 'First, the solution calculates A^2 and A^4. It finds that A^4 equals the identity matrix I. Consequently, A^5 = A, A^9 = A, and so on. The values of n for which A^n = A are 1, 5, 9, ..., 97. The number of such values of n is 25.'}]}"
      ]
     },
     "execution_count": 51,
     "metadata": {},
     "output_type": "execute_result"
    }
   ],
   "source": [
    "data[0]"
   ]
  },
  {
   "cell_type": "code",
   "execution_count": 45,
   "metadata": {},
   "outputs": [
    {
     "name": "stdout",
     "output_type": "stream",
     "text": [
      "🛠️  Planning to use tools: ['evaluate_conceptual_similarity', 'evaluate_structural_similarity', 'evaluate_difficulty_alignment', 'evaluate_approach_transferability']\n",
      "🔨 Calling Tool: evaluate_conceptual_similarity\n",
      "  With arguments: {'similar_question': '\\\\sum_{k = 0}^{6} {^{51-k}C_3} is equal to', 'solution_approach': 'The summation series is expanded by substituting the values of k. Then, $^{45}C_4$ is added and subtracted. Using the identity $^{n}C_r + ^{n}C_{r-1} = ^{n+1}C_r$ repeatedly, the series is simplified to arrive at the final answer.', 'original_question': 'The image contains a mathematical expression involving a summation, binomial coefficients, and powers. Specifically, it shows a summation from k=0 to n of the expression (-1)^k * (n choose k) * (n-k)^m, along with the conditions m=|A| and n=|B|.'}\n",
      "🔨 Calling Tool: evaluate_structural_similarity\n",
      "  With arguments: {'solution_approach': 'The summation series is expanded by substituting the values of k. Then, $^{45}C_4$ is added and subtracted. Using the identity $^{n}C_r + ^{n}C_{r-1} = ^{n+1}C_r$ repeatedly, the series is simplified to arrive at the final answer.', 'similar_question': '\\\\sum_{k = 0}^{6} {^{51-k}C_3} is equal to', 'original_question': 'The image contains a mathematical expression involving a summation, binomial coefficients, and powers. Specifically, it shows a summation from k=0 to n of the expression (-1)^k * (n choose k) * (n-k)^m, along with the conditions m=|A| and n=|B|.'}\n",
      "🔨 Calling Tool: evaluate_difficulty_alignment\n",
      "  With arguments: {'similar_question': '\\\\sum_{k = 0}^{6} {^{51-k}C_3} is equal to', 'solution_approach': 'The summation series is expanded by substituting the values of k. Then, $^{45}C_4$ is added and subtracted. Using the identity $^{n}C_r + ^{n}C_{r-1} = ^{n+1}C_r$ repeatedly, the series is simplified to arrive at the final answer.', 'original_question': 'The image contains a mathematical expression involving a summation, binomial coefficients, and powers. Specifically, it shows a summation from k=0 to n of the expression (-1)^k * (n choose k) * (n-k)^m, along with the conditions m=|A| and n=|B|.'}\n",
      "🔨 Calling Tool: evaluate_approach_transferability\n",
      "  With arguments: {'solution_approach': 'The summation series is expanded by substituting the values of k. Then, $^{45}C_4$ is added and subtracted. Using the identity $^{n}C_r + ^{n}C_{r-1} = ^{n+1}C_r$ repeatedly, the series is simplified to arrive at the final answer.', 'original_question': 'The image contains a mathematical expression involving a summation, binomial coefficients, and powers. Specifically, it shows a summation from k=0 to n of the expression (-1)^k * (n choose k) * (n-k)^m, along with the conditions m=|A| and n=|B|.', 'similar_question': '\\\\sum_{k = 0}^{6} {^{51-k}C_3} is equal to'}\n",
      "🔧 Tool Result (evaluate_structural_similarity):\n",
      "  Arguments: {'solution_approach': 'The summation series is expanded by substituting the values of k. Then, $^{45}C_4$ is added and subtracted. Using the identity $^{n}C_r + ^{n}C_{r-1} = ^{n+1}C_r$ repeatedly, the series is simplified to arrive at the final answer.', 'similar_question': '\\\\sum_{k = 0}^{6} {^{51-k}C_3} is equal to', 'original_question': 'The image contains a mathematical expression involving a summation, binomial coefficients, and powers. Specifically, it shows a summation from k=0 to n of the expression (-1)^k * (n choose k) * (n-k)^m, along with the conditions m=|A| and n=|B|.'}\n",
      "  Output: ```json\n",
      "{\n",
      "  \"structural_similarity\": 10,\n",
      "  \"structural_similarity_note\": \"The original question involves a complex combinatorial identity with alternating signs and powers of (n-k), related to surjective mappings or inclusion-exclusion. The fetched question is a simple summation of binomial coefficients, which can be solved using a basic identity. The structures are fundamentally different in complexity and the underlying mathematical concepts tested.\"\n",
      "}\n",
      "```\n",
      "🔧 Tool Result (evaluate_approach_transferability):\n",
      "  Arguments: {'solution_approach': 'The summation series is expanded by substituting the values of k. Then, $^{45}C_4$ is added and subtracted. Using the identity $^{n}C_r + ^{n}C_{r-1} = ^{n+1}C_r$ repeatedly, the series is simplified to arrive at the final answer.', 'original_question': 'The image contains a mathematical expression involving a summation, binomial coefficients, and powers. Specifically, it shows a summation from k=0 to n of the expression (-1)^k * (n choose k) * (n-k)^m, along with the conditions m=|A| and n=|B|.', 'similar_question': '\\\\sum_{k = 0}^{6} {^{51-k}C_3} is equal to'}\n",
      "  Output: ```json\n",
      "{\n",
      "  \"approach_transferability\": 10,\n",
      "  \"approach_transferability_note\": \"The original question involves a complex combinatorial identity with alternating signs and powers, which often relates to inclusion-exclusion or finite differences. The similar question is a straightforward application of Pascal's identity to a sum of binomial coefficients. The methods (expansion and repeated application of Pascal's identity) are not directly applicable to the original problem due to its complexity and different structure.\"\n",
      "}\n",
      "```\n"
     ]
    },
    {
     "name": "stderr",
     "output_type": "stream",
     "text": [
      "/home/bharathraj/anaconda3/envs/llm_env/lib/python3.11/site-packages/llama_index/core/agent/workflow/base_agent.py:475: UserWarning: There was a problem with the generation of the structured output: Response is not a BaseModel\n",
      "  warnings.warn(\n"
     ]
    },
    {
     "name": "stdout",
     "output_type": "stream",
     "text": [
      "🔧 Tool Result (evaluate_conceptual_similarity):\n",
      "  Arguments: {'similar_question': '\\\\sum_{k = 0}^{6} {^{51-k}C_3} is equal to', 'solution_approach': 'The summation series is expanded by substituting the values of k. Then, $^{45}C_4$ is added and subtracted. Using the identity $^{n}C_r + ^{n}C_{r-1} = ^{n+1}C_r$ repeatedly, the series is simplified to arrive at the final answer.', 'original_question': 'The image contains a mathematical expression involving a summation, binomial coefficients, and powers. Specifically, it shows a summation from k=0 to n of the expression (-1)^k * (n choose k) * (n-k)^m, along with the conditions m=|A| and n=|B|.'}\n",
      "  Output: ```json\n",
      "{\n",
      "  \"conceptual_similarity\": 30,\n",
      "  \"conceptual_similarity_note\": \"The original question involves a more complex combinatorial identity often related to inclusion-exclusion or differences of functions, specifically involving powers and alternating signs. The fetched question is a direct application of the Hockey-stick identity (or a similar additive identity for binomial coefficients) to sum a series of binomial coefficients. While both are summation problems involving binomial coefficients, the underlying identities and conceptual complexity are quite different. The original question is likely testing advanced combinatorial principles, whereas the similar question is testing a standard identity.\"\n",
      "}\n",
      "```\n",
      "🔧 Tool Result (evaluate_difficulty_alignment):\n",
      "  Arguments: {'similar_question': '\\\\sum_{k = 0}^{6} {^{51-k}C_3} is equal to', 'solution_approach': 'The summation series is expanded by substituting the values of k. Then, $^{45}C_4$ is added and subtracted. Using the identity $^{n}C_r + ^{n}C_{r-1} = ^{n+1}C_r$ repeatedly, the series is simplified to arrive at the final answer.', 'original_question': 'The image contains a mathematical expression involving a summation, binomial coefficients, and powers. Specifically, it shows a summation from k=0 to n of the expression (-1)^k * (n choose k) * (n-k)^m, along with the conditions m=|A| and n=|B|.'}\n",
      "  Output: ```json\n",
      "{\n",
      "  \"difficulty_alignment\": 15,\n",
      "  \"difficulty_alignment_note\": \"The original question involves a complex combinatorial identity related to inclusion-exclusion or differences of polynomials, requiring significant conceptual depth and advanced manipulation. The fetched question is a straightforward application of Pascal's identity after a small manipulation (adding and subtracting a term), which is a standard technique in binomial summation and significantly simpler.\"\n",
      "}\n",
      "```\n",
      "```json\n",
      "{\n",
      "  \"similar_question\": \"\\\\sum_{k = 0}^{6} {^{51-k}C_3} is equal to\",\n",
      "  \"solution_approach\": \"The summation series is expanded by substituting the values of k. Then, $^{45}C_4$ is added and subtracted. Using the identity $^{n}C_r + ^{n}C_{r-1} = ^{n+1}C_r$ repeatedly, the series is simplified to arrive at the final answer.\",\n",
      "  \"conceptual_similarity_score\": 30,\n",
      "  \"structural_similarity_score\": 10,\n",
      "  \"difficulty_alignment_score\": 15,\n",
      "  \"solution_approach_transferability_score\": 10,\n",
      "  \"total_score\": 16.25,\n",
      "  \"notes\": \"The similar question shares a very low conceptual, structural, and difficulty alignment with the original question. While both involve summations and binomial coefficients, the original question is significantly more complex, likely requiring advanced combinatorial identities such as inclusion-exclusion or properties of finite differences. The similar question, however, is a direct application of Pascal's identity. Consequently, the solution approach for the similar question is not transferable to the original problem.\"\n",
      "}\n",
      "```"
     ]
    }
   ],
   "source": [
    "await run_orchestrator(\n",
    "    user_msg = f\"\"\"\n",
    "    Original Question:\n",
    "    {data[15][\"question_text\"]}\n",
    "\n",
    "    Fetched Similar Question:\n",
    "    {data[15][\"similar_questions\"][0][\"similar_question_text\"]}\n",
    "\n",
    "    Solution Approach for Similar Question:\n",
    "    {data[15][\"similar_questions\"][0][\"summarized_solution_approach\"]}\n",
    "\n",
    "    Please evaluate the solution approach transferability based on these inputs and retur the results\n",
    "    \"\"\"\n",
    ")\n"
   ]
  },
  {
   "cell_type": "code",
   "execution_count": 46,
   "metadata": {},
   "outputs": [
    {
     "name": "stdout",
     "output_type": "stream",
     "text": [
      "🛠️  Planning to use tools: ['evaluate_conceptual_similarity', 'evaluate_structural_similarity', 'evaluate_difficulty_alignment', 'evaluate_approach_transferability']\n",
      "🔨 Calling Tool: evaluate_conceptual_similarity\n",
      "  With arguments: {'similar_question': 'Let A = $\\\\begin{pmatrix} 1+i & 1 \\\\ -i & 0 \\\\end{pmatrix}$ where I = $\\\\sqrt{-1}$. Then, the number of elements in the set {n$\\\\in$ {1,2, ....., 100} : $A^n$ = A} is', 'original_question': 'The image shows a mathematical expression defining a matrix A and a set condition. The matrix A is a 2x2 matrix with elements 1+i, 1, -i, and 0, where i is defined as the square root of -1. The problem asks to find the number of elements in the set of n belonging to {1, 2, ..., 100} such that A to the power of n equals A.', 'solution_approach': 'The solution calculates $A^2$ and $A^4$. It finds that $A^4 = I$ (identity matrix). Consequently, $A^5 = A, A^9 = A$, and so on. The values of n for which $A^n = A$ form an arithmetic progression: n = 1, 5, 9, ..., 97. The number of terms in this sequence is then calculated, which gives the number of elements in the set.'}\n",
      "🔨 Calling Tool: evaluate_structural_similarity\n",
      "  With arguments: {'original_question': 'The image shows a mathematical expression defining a matrix A and a set condition. The matrix A is a 2x2 matrix with elements 1+i, 1, -i, and 0, where i is defined as the square root of -1. The problem asks to find the number of elements in the set of n belonging to {1, 2, ..., 100} such that A to the power of n equals A.', 'similar_question': 'Let A = $\\\\begin{pmatrix} 1+i & 1 \\\\ -i & 0 \\\\end{pmatrix}$ where I = $\\\\sqrt{-1}$. Then, the number of elements in the set {n$\\\\in$ {1,2, ....., 100} : $A^n$ = A} is', 'solution_approach': 'The solution calculates $A^2$ and $A^4$. It finds that $A^4 = I$ (identity matrix). Consequently, $A^5 = A, A^9 = A$, and so on. The values of n for which $A^n = A$ form an arithmetic progression: n = 1, 5, 9, ..., 97. The number of terms in this sequence is then calculated, which gives the number of elements in the set.'}\n",
      "🔨 Calling Tool: evaluate_difficulty_alignment\n",
      "  With arguments: {'original_question': 'The image shows a mathematical expression defining a matrix A and a set condition. The matrix A is a 2x2 matrix with elements 1+i, 1, -i, and 0, where i is defined as the square root of -1. The problem asks to find the number of elements in the set of n belonging to {1, 2, ..., 100} such that A to the power of n equals A.', 'solution_approach': 'The solution calculates $A^2$ and $A^4$. It finds that $A^4 = I$ (identity matrix). Consequently, $A^5 = A, A^9 = A$, and so on. The values of n for which $A^n = A$ form an arithmetic progression: n = 1, 5, 9, ..., 97. The number of terms in this sequence is then calculated, which gives the number of elements in the set.', 'similar_question': 'Let A = $\\\\begin{pmatrix} 1+i & 1 \\\\ -i & 0 \\\\end{pmatrix}$ where I = $\\\\sqrt{-1}$. Then, the number of elements in the set {n$\\\\in$ {1,2, ....., 100} : $A^n$ = A} is'}\n",
      "🔨 Calling Tool: evaluate_approach_transferability\n",
      "  With arguments: {'solution_approach': 'The solution calculates $A^2$ and $A^4$. It finds that $A^4 = I$ (identity matrix). Consequently, A^5 = A, A^9 = A, and so on. The values of n for which $A^n = A$ form an arithmetic progression: n = 1, 5, 9, ..., 97. The number of terms in this sequence is then calculated, which gives the number of elements in the set.', 'similar_question': 'Let A = $\\\\begin{pmatrix} 1+i & 1 \\\\ -i & 0 \\\\end{pmatrix}$ where I = $\\\\sqrt{-1}$. Then, the number of elements in the set {n$\\\\in$ {1,2, ....., 100} : $A^n$ = A} is', 'original_question': 'The image shows a mathematical expression defining a matrix A and a set condition. The matrix A is a 2x2 matrix with elements 1+i, 1, -i, and 0, where i is defined as the square root of -1. The problem asks to find the number of elements in the set of n belonging to {1, 2, ..., 100} such that A to the power of n equals A.'}\n",
      "🔧 Tool Result (evaluate_approach_transferability):\n",
      "  Arguments: {'solution_approach': 'The solution calculates $A^2$ and $A^4$. It finds that $A^4 = I$ (identity matrix). Consequently, A^5 = A, A^9 = A, and so on. The values of n for which $A^n = A$ form an arithmetic progression: n = 1, 5, 9, ..., 97. The number of terms in this sequence is then calculated, which gives the number of elements in the set.', 'similar_question': 'Let A = $\\\\begin{pmatrix} 1+i & 1 \\\\ -i & 0 \\\\end{pmatrix}$ where I = $\\\\sqrt{-1}$. Then, the number of elements in the set {n$\\\\in$ {1,2, ....., 100} : $A^n$ = A} is', 'original_question': 'The image shows a mathematical expression defining a matrix A and a set condition. The matrix A is a 2x2 matrix with elements 1+i, 1, -i, and 0, where i is defined as the square root of -1. The problem asks to find the number of elements in the set of n belonging to {1, 2, ..., 100} such that A to the power of n equals A.'}\n",
      "  Output: ```json\n",
      "{\n",
      "  \"approach_transferability\": 100,\n",
      "  \"approach_transferability_note\": \"The original question and the fetched similar question are identical. Therefore, the solution approach is directly and fully transferable.\"\n",
      "}\n",
      "```\n",
      "🔧 Tool Result (evaluate_conceptual_similarity):\n",
      "  Arguments: {'similar_question': 'Let A = $\\\\begin{pmatrix} 1+i & 1 \\\\ -i & 0 \\\\end{pmatrix}$ where I = $\\\\sqrt{-1}$. Then, the number of elements in the set {n$\\\\in$ {1,2, ....., 100} : $A^n$ = A} is', 'original_question': 'The image shows a mathematical expression defining a matrix A and a set condition. The matrix A is a 2x2 matrix with elements 1+i, 1, -i, and 0, where i is defined as the square root of -1. The problem asks to find the number of elements in the set of n belonging to {1, 2, ..., 100} such that A to the power of n equals A.', 'solution_approach': 'The solution calculates $A^2$ and $A^4$. It finds that $A^4 = I$ (identity matrix). Consequently, $A^5 = A, A^9 = A$, and so on. The values of n for which $A^n = A$ form an arithmetic progression: n = 1, 5, 9, ..., 97. The number of terms in this sequence is then calculated, which gives the number of elements in the set.'}\n",
      "  Output: ```json\n",
      "{\n",
      "  \"conceptual_similarity\": 100,\n",
      "  \"conceptual_similarity_note\": \"The fetched similar question is identical to the original question. Therefore, the underlying concepts are exactly the same, involving matrix exponentiation and finding patterns in matrix powers.\"\n",
      "}\n",
      "```\n",
      "🔧 Tool Result (evaluate_difficulty_alignment):\n",
      "  Arguments: {'original_question': 'The image shows a mathematical expression defining a matrix A and a set condition. The matrix A is a 2x2 matrix with elements 1+i, 1, -i, and 0, where i is defined as the square root of -1. The problem asks to find the number of elements in the set of n belonging to {1, 2, ..., 100} such that A to the power of n equals A.', 'solution_approach': 'The solution calculates $A^2$ and $A^4$. It finds that $A^4 = I$ (identity matrix). Consequently, $A^5 = A, A^9 = A$, and so on. The values of n for which $A^n = A$ form an arithmetic progression: n = 1, 5, 9, ..., 97. The number of terms in this sequence is then calculated, which gives the number of elements in the set.', 'similar_question': 'Let A = $\\\\begin{pmatrix} 1+i & 1 \\\\ -i & 0 \\\\end{pmatrix}$ where I = $\\\\sqrt{-1}$. Then, the number of elements in the set {n$\\\\in$ {1,2, ....., 100} : $A^n$ = A} is'}\n",
      "  Output: ```json\n",
      "{\n",
      "  \"difficulty_alignment\": 100,\n",
      "  \"difficulty_alignment_note\": \"The original question and the fetched similar question are identical, ensuring perfect difficulty alignment.\"\n",
      "}\n",
      "```\n",
      "🔧 Tool Result (evaluate_structural_similarity):\n",
      "  Arguments: {'original_question': 'The image shows a mathematical expression defining a matrix A and a set condition. The matrix A is a 2x2 matrix with elements 1+i, 1, -i, and 0, where i is defined as the square root of -1. The problem asks to find the number of elements in the set of n belonging to {1, 2, ..., 100} such that A to the power of n equals A.', 'similar_question': 'Let A = $\\\\begin{pmatrix} 1+i & 1 \\\\ -i & 0 \\\\end{pmatrix}$ where I = $\\\\sqrt{-1}$. Then, the number of elements in the set {n$\\\\in$ {1,2, ....., 100} : $A^n$ = A} is', 'solution_approach': 'The solution calculates $A^2$ and $A^4$. It finds that $A^4 = I$ (identity matrix). Consequently, $A^5 = A, A^9 = A$, and so on. The values of n for which $A^n = A$ form an arithmetic progression: n = 1, 5, 9, ..., 97. The number of terms in this sequence is then calculated, which gives the number of elements in the set.'}\n",
      "  Output: ```json\n",
      "{\n",
      "  \"structural_similarity\": 100,\n",
      "  \"structural_similarity_note\": \"The original question and the fetched similar question are identical in their mathematical content, including the matrix definition, the range for 'n', and the condition to be satisfied ($A^n = A$). The phrasing is slightly different but conveys the exact same problem.\"\n",
      "}\n",
      "```\n",
      "```json\n",
      "{\n",
      "  \"similar_question\": \"Let A = $\\\\begin{pmatrix} 1+i & 1 \\\\ -i & 0 \\\\end{pmatrix}$ where I = $\\\\sqrt{-1}$. Then, the number of elements in the set {n$\\\\in$ {1,2, ....., 100} : $A^n$ = A} is\",\n",
      "  \"solution_approach\": \"The solution calculates $A^2$ and $A^4$. It finds that $A^4 = I$ (identity matrix). Consequently, $A^5 = A, A^9 = A$, and so on. The values of n for which $A^n = A$ form an arithmetic progression: n = 1, 5, 9, ..., 97. The number of terms in this sequence is then calculated, which gives the number of elements in the set.\",\n",
      "  \"conceptual_similarity_score\": 100,\n",
      "  \"structural_similarity_score\": 100,\n",
      "  \"difficulty_alignment_score\": 100,\n",
      "  \"solution_approach_transferability_score\": 100,\n",
      "  \"total_score\": 100,\n",
      "  \"notes\": \"The fetched similar question is identical to the original question in all aspects, including the matrix definition, the range for 'n', and the condition for A^n = A. Consequently, the conceptual understanding, structural setup, and difficulty level are perfectly aligned. The provided solution approach is directly and fully transferable to solve the original question, as it addresses the exact same problem.\"\n",
      "}\n",
      "```"
     ]
    }
   ],
   "source": [
    "await run_orchestrator(\n",
    "    user_msg = f\"\"\"\n",
    "    Original Question:\n",
    "    {data[0][\"question_text\"]}\n",
    "\n",
    "    Fetched Similar Question:\n",
    "    {data[0][\"similar_questions\"][0][\"similar_question_text\"]}\n",
    "\n",
    "    Solution Approach for Similar Question:\n",
    "    {data[0][\"similar_questions\"][0][\"summarized_solution_approach\"]}\n",
    "\n",
    "    Please evaluate the solution approach transferability based on these inputs and return the results\n",
    "    \"\"\"\n",
    ")\n"
   ]
  },
  {
   "cell_type": "code",
   "execution_count": 56,
   "metadata": {},
   "outputs": [
    {
     "name": "stderr",
     "output_type": "stream",
     "text": [
      "/home/bharathraj/anaconda3/envs/llm_env/lib/python3.11/site-packages/llama_index/core/agent/workflow/base_agent.py:475: UserWarning: There was a problem with the generation of the structured output: Response is not a BaseModel\n",
      "  warnings.warn(\n"
     ]
    }
   ],
   "source": [
    "orchestrator_response = await orchestrator.run(\n",
    "        user_msg= f\"\"\"\n",
    "    Original Question:\n",
    "    {data[0][\"question_text\"]}\n",
    "\n",
    "    Fetched Similar Question:\n",
    "    {data[0][\"similar_questions\"][0][\"similar_question_text\"]}\n",
    "\n",
    "    Solution Approach for Similar Question:\n",
    "    {data[0][\"similar_questions\"][0][\"summarized_solution_approach\"]}\n",
    "\n",
    "    Please evaluate the solution approach transferability based on these inputs and retur the results\n",
    "    \"\"\",\n",
    "    )"
   ]
  },
  {
   "cell_type": "code",
   "execution_count": 58,
   "metadata": {},
   "outputs": [
    {
     "data": {
      "text/plain": [
       "{'similar_question': 'Let A = $\\\\begin{pmatrix} 1+i & 1 \\\\\\\\ -i & 0 \\\\\\\\ \\\\end{pmatrix}$ where I = $\\\\sqrt{-1}$. Then, the number of elements in the set {n$\\\\in$ {1,2, ....., 100} : $A^n$ = A} is',\n",
       " 'solution_approach': 'The solution calculates $A^2$ and $A^4$. It finds that $A^4 = I$ (identity matrix). Consequently, $A^5 = A, A^9 = A$, and so on. The values of n for which $A^n = A$ form an arithmetic progression: n = 1, 5, 9, ..., 97. The number of terms in this sequence is then calculated, which gives the number of elements in the set.',\n",
       " 'conceptual_similarity_score': 100,\n",
       " 'structural_similarity_score': 100,\n",
       " 'difficulty_alignment_score': 95,\n",
       " 'solution_approach_transferability_score': 100,\n",
       " 'total_score': 98,\n",
       " 'notes': 'The similar question is nearly identical to the original question in all aspects: conceptual understanding, structure, and difficulty. Consequently, the solution approach provided is perfectly transferable and directly applicable to solving the original question. The minor difference in difficulty alignment might be negligible given the complete overlap in content.'}"
      ]
     },
     "execution_count": 58,
     "metadata": {},
     "output_type": "execute_result"
    }
   ],
   "source": [
    "orchestrator_response.structured_response"
   ]
  },
  {
   "cell_type": "code",
   "execution_count": 4,
   "metadata": {},
   "outputs": [
    {
     "name": "stdout",
     "output_type": "stream",
     "text": [
      "Status Code: 200\n",
      "Response:\n",
      "{\n",
      "  \"success\": true,\n",
      "  \"data\": {\n",
      "    \"similar_question\": \"Let A = $\\\\begin{pmatrix} 1+i & 1 \\\\ -i & 0 \\\\end{pmatrix}$ where I = $\\\\sqrt{-1}$. Then, the number of elements in the set {n$\\\\in$ {1,2, ....., 100} : $A^n$ = A} is\",\n",
      "    \"solution_approach\": \"The solution calculates $A^2$ and $A^4$. It finds that $A^4 = I$ (identity matrix). Consequently, $A^5 = A, A^9 = A$, and so on. The values of n for which $A^n = A$ form an arithmetic progression: n = 1, 5, 9, ..., 97. The number of terms in this sequence is then calculated, which gives the number of elements in the set.\",\n",
      "    \"conceptual_similarity_score\": 100,\n",
      "    \"structural_similarity_score\": 100,\n",
      "    \"difficulty_alignment_score\": 100,\n",
      "    \"solution_approach_transferability_score\": 100,\n",
      "    \"total_score\": 400,\n",
      "    \"notes\": \"The similar question is an exact match to the original question in all aspects: conceptual understanding, structural presentation, and difficulty level. Consequently, the provided solution approach is perfectly transferable and directly applicable to solving the original question.\"\n",
      "  },\n",
      "  \"processing_time_ms\": 12454,\n",
      "  \"request_id\": \"1755431075-140685131973392\"\n",
      "}\n"
     ]
    }
   ],
   "source": [
    "import requests\n",
    "import json\n",
    "\n",
    "with open('similar_question_data.json') as f:\n",
    "    data = json.load(f)\n",
    "\n",
    "\n",
    "payload = {\n",
    "    \"question_text\": data[0][\"question_text\"],\n",
    "    \"similar_question\": data[0][\"similar_questions\"][0][\"similar_question_text\"],\n",
    "    \"summarized_solution_approach\": data[0][\"similar_questions\"][0][\"summarized_solution_approach\"]\n",
    "}\n",
    "\n",
    "response = requests.post(\n",
    "    \"http://localhost:8000/evaluate\",\n",
    "    json=payload\n",
    ")\n",
    "\n",
    "print(\"Status Code:\", response.status_code)\n",
    "print(\"Response:\")\n",
    "print(json.dumps(response.json(), indent=2))"
   ]
  },
  {
   "cell_type": "code",
   "execution_count": 10,
   "metadata": {},
   "outputs": [
    {
     "name": "stdout",
     "output_type": "stream",
     "text": [
      "Status Code: 200\n",
      "Response:\n",
      "{\n",
      "  \"success\": true,\n",
      "  \"data\": {\n",
      "    \"similar_question\": \"\\\\sum_{k = 0}^{6} {^{51-k}C_3} is equal to\",\n",
      "    \"solution_approach\": \"The summation series is expanded by substituting the values of k. Then, $^{45}C_4$ is added and subtracted. Using the identity $^{n}C_r + ^{n}C_{r-1} = ^{n+1}C_r$ repeatedly, the series is simplified to arrive at the final answer.\",\n",
      "    \"conceptual_similarity_score\": 20,\n",
      "    \"structural_similarity_score\": 10,\n",
      "    \"difficulty_alignment_score\": 20,\n",
      "    \"solution_approach_transferability_score\": 20,\n",
      "    \"total_score\": 17,\n",
      "    \"notes\": \"The similar question shares very little in common with the original question. While both involve summations and binomial coefficients, their conceptual underpinnings and structural complexities are vastly different. The original question presents a general, complex combinatorial identity (likely related to inclusion-exclusion or Stirling numbers), requiring a deep theoretical understanding. In contrast, the similar question is a specific numerical summation that can be solved by direct calculation and repeated application of Pascal's identity (Hockey-stick identity). The solution approach for the similar question is not transferable to the original due to the presence of alternating signs and the power term (n-k)^m in the original. The difficulty levels are also misaligned, with the original question being significantly more challenging and conceptual. Overall, the similar question is a poor match for the original question.\"\n",
      "  },\n",
      "  \"processing_time_ms\": 26352,\n",
      "  \"request_id\": \"1755432167-140526606320016\"\n",
      "}\n"
     ]
    }
   ],
   "source": [
    "import requests\n",
    "import json\n",
    "\n",
    "with open('similar_question_data.json') as f:\n",
    "    data = json.load(f)\n",
    "\n",
    "\n",
    "payload = {\n",
    "    \"question_text\": data[15][\"question_text\"],\n",
    "    \"similar_question\": data[15][\"similar_questions\"][0][\"similar_question_text\"],\n",
    "    \"summarized_solution_approach\": data[15][\"similar_questions\"][0][\"summarized_solution_approach\"]\n",
    "}\n",
    "\n",
    "response = requests.post(\n",
    "    \"http://localhost:8000/evaluate\",\n",
    "    json=payload\n",
    ")\n",
    "\n",
    "print(\"Status Code:\", response.status_code)\n",
    "print(\"Response:\")\n",
    "print(json.dumps(response.json(), indent=2))"
   ]
  },
  {
   "cell_type": "code",
   "execution_count": 15,
   "metadata": {},
   "outputs": [
    {
     "name": "stdout",
     "output_type": "stream",
     "text": [
      "Status Code: 200\n",
      "Response:\n",
      "{\n",
      "  \"success\": true,\n",
      "  \"data\": {\n",
      "    \"similar_question\": \"\\\\sum_{k = 0}^{6} {^{51-k}C_3} is equal to\",\n",
      "    \"solution_approach\": \"The summation series is expanded by substituting the values of k. Then, $^{45}C_4$ is added and subtracted. Using the identity $^{n}C_r + ^{n}C_{r-1} = ^{n+1}C_r$ repeatedly, the series is simplified to arrive at the final answer.\",\n",
      "    \"conceptual_similarity_score\": 20,\n",
      "    \"structural_similarity_score\": 10,\n",
      "    \"difficulty_alignment_score\": 30,\n",
      "    \"solution_approach_transferability_score\": 5,\n",
      "    \"total_score\": 16,\n",
      "    \"notes\": \"The original question involves a complex summation identity related to finite differences or generating functions, specifically a form of the inclusion-exclusion principle or Stirling numbers of the second kind. The expression \\\\(\\\\sum_{k=0}^{n} (-1)^k \\\\binom{n}{k} (n-k)^m\\\\) is a known identity that evaluates to \\\\(n! S(m, n)\\\\), where \\\\(S(m, n)\\\\) are the Stirling numbers of the second kind, or 0 if m < n, and n! if m = n. It requires a deep understanding of combinatorial identities and advanced summation techniques.\\n\\nThe similar question, \\\\(\\\\sum_{k = 0}^{6} {^{51-k}C_3}\\\\), is a straightforward summation involving binomial coefficients that can be simplified using the Hockey-stick identity (or Pascal's identity applied repeatedly). It's a direct application of a common combinatorial identity.\\n\\n**Conceptual Similarity:** The core concepts are vastly different. The original question tests advanced combinatorial identities and potentially Stirling numbers, while the similar question tests basic summation of binomial coefficients and Pascal's identity. They both involve summations and binomial coefficients but at very different levels of complexity and specific identities.\\n\\n**Structural Similarity:** Both are summations involving binomial coefficients. However, the structure of the terms inside the summation is fundamentally different: the original has \\\\((-1)^k \\\\binom{n}{k} (n-k)^m\\\\), whereas the similar has \\\\(\\\\binom{51-k}{3}\\\\). The presence of \\\\((-1)^k\\\\) and \\\\((n-k)^m\\\\) in the original question completely changes the nature of the problem.\\n\\n**Difficulty Alignment:** The original question is significantly more difficult, requiring knowledge of advanced combinatorial identities or proof techniques (e.g., generating functions, inclusion-exclusion principle). The similar question is a standard problem solvable with a basic combinatorial identity.\\n\\n**Solution Approach Transferability:** The solution approach for the similar question (expanding and using Pascal's identity/Hockey-stick identity) is completely irrelevant to solving the original question. The original question requires a completely different set of identities or techniques.\"\n",
      "  },\n",
      "  \"processing_time_ms\": 8033,\n",
      "  \"request_id\": \"1755501040-140430803547856\"\n",
      "}\n"
     ]
    }
   ],
   "source": [
    "#single\n",
    "\n",
    "import requests\n",
    "import json\n",
    "\n",
    "with open('similar_question_data.json') as f:\n",
    "    data = json.load(f)\n",
    "\n",
    "\n",
    "payload = {\n",
    "    \"question_text\": data[15][\"question_text\"],\n",
    "    \"similar_question\": data[15][\"similar_questions\"][0][\"similar_question_text\"],\n",
    "    \"summarized_solution_approach\": data[15][\"similar_questions\"][0][\"summarized_solution_approach\"]\n",
    "}\n",
    "\n",
    "response = requests.post(\n",
    "    \"http://localhost:8000/evaluate\",\n",
    "    json=payload\n",
    ")\n",
    "\n",
    "print(\"Status Code:\", response.status_code)\n",
    "print(\"Response:\")\n",
    "print(json.dumps(response.json(), indent=2))"
   ]
  },
  {
   "cell_type": "code",
   "execution_count": 144,
   "metadata": {},
   "outputs": [],
   "source": [
    "# A standard solution builder without similar questions\n",
    "\n",
    "\n",
    "\n",
    "from llama_index.core.bridge.pydantic import BaseModel\n",
    "from llama_index.core.agent.workflow import FunctionAgent\n",
    "from llama_index.llms.google_genai import GoogleGenAI\n",
    "from google.genai import types\n",
    "\n",
    "import os\n",
    "from dotenv import load_dotenv\n",
    "load_dotenv()\n",
    "\n",
    "code_execution_tool = types.Tool(code_execution=types.ToolCodeExecution())\n",
    "\n",
    "\n",
    "import subprocess\n",
    "import sys\n",
    "\n",
    "\n",
    "llm = GoogleGenAI(\n",
    "    model=\"gemini-2.5-flash\",\n",
    "    api_key = os.getenv(\"GEMINI_API_KEY\"),\n",
    "    generation_config=types.GenerateContentConfig(\n",
    "        max_output_tokens=8192,\n",
    "        thinking_config=types.ThinkingConfig(\n",
    "            thinking_budget=-1\n",
    "        ),\n",
    "    ),\n",
    "    # built_in_tool=code_execution_tool, seems to not support application/json, ideally, azure dynamic sessions can be used for code interpretor\n",
    ")\n",
    "\n",
    "\n",
    "\n",
    "class SolutionModel(BaseModel):\n",
    "    # model_thoughts: str\n",
    "    explanation: str\n",
    "    final_answer: str\n",
    "\n",
    "\n",
    "\n",
    "solution_prompt = \"\"\"You are an academic expert at solving problems in the field of maths, physics and chemistry. \n",
    "\n",
    "You receive a question and you respond with an object with following keys:\n",
    "final_answer - the final answer to the question\n",
    "explanation - a step by step explanation of the solution approach\n",
    "\n",
    "Don't assume any typos from the core parts of the question, make sure to use the question exactly as it is given.\n",
    "The explanation should be a step by step solution approach to the given question so that the student can understand how you arrived to the solution.\n",
    "\n",
    "Make sure to keep final answer direct and as short as possible and keep the step by step explanation to the explanation portion of the object.\n",
    "\"\"\"\n",
    "\n",
    "solution_agent = FunctionAgent(\n",
    "    name=\"SolutionAgent\",\n",
    "    description=\"It builds thorough solutions to the given problem\",\n",
    "    system_prompt=(\n",
    "        solution_prompt\n",
    "    ),\n",
    "    llm=llm,\n",
    "    output_cls=SolutionModel,\n",
    "    timeout=120,\n",
    "    tools=[]\n",
    "\n",
    ")"
   ]
  },
  {
   "cell_type": "code",
   "execution_count": 25,
   "metadata": {},
   "outputs": [],
   "source": [
    "import json\n",
    "\n",
    "with open('similar_question_data.json') as f:\n",
    "    data = json.load(f)\n"
   ]
  },
  {
   "cell_type": "code",
   "execution_count": 35,
   "metadata": {},
   "outputs": [],
   "source": [
    "solution_response = await solution_agent.run(\n",
    "        user_msg= f\"\"\"\n",
    "     Question:\n",
    "    {data[0][\"question_text\"]}\n",
    "    \"\"\",\n",
    "    )"
   ]
  },
  {
   "cell_type": "code",
   "execution_count": 36,
   "metadata": {},
   "outputs": [
    {
     "data": {
      "text/plain": [
       "AgentOutput(response=ChatMessage(role=<MessageRole.ASSISTANT: 'assistant'>, additional_kwargs={'thought_signatures': [None], 'thoughts': '', 'tool_calls': []}, blocks=[TextBlock(block_type='text', text='The error persists, indicating that the `code_interpreter` function itself is not being called correctly from within the `default_api` object. I will proceed with the manual calculations, which have been verified step-by-step. The mathematical derivation for $A^4 = I$ appears sound.\\n\\nGiven the relation $A^n = A$, and since $A$ is invertible ($det(A) = i \\\\neq 0$), we can multiply by $A^{-1}$ to get $A^{n-1} = I$.\\nWe found that $A^4 = I$.\\nThus, $n-1$ must be a multiple of 4.\\nSo, $n-1 = 4k$ for some integer $k \\\\ge 0$.\\n$n = 4k + 1$.\\n\\nWe are looking for $n \\\\in \\\\{1, 2, \\\\dots, 100\\\\}$.\\nFor $k=0$, $n = 4(0) + 1 = 1$. ($A^1 = A$)\\nFor $k=1$, $n = 4(1) + 1 = 5$. ($A^5 = A^4 \\\\cdot A = I \\\\cdot A = A$)\\n...\\nWe need to find the maximum value of $k$ such that $4k+1 \\\\le 100$.\\n$4k \\\\le 99$\\n$k \\\\le \\\\frac{99}{4}$\\n$k \\\\le 24.75$\\n\\nSince $k$ must be an integer, the maximum value for $k$ is 24.\\nThe possible values for $k$ are $0, 1, 2, \\\\dots, 24$.\\nThe number of values is $24 - 0 + 1 = 25$.\\n\\nSo there are 25 such values of n.\\n\\nThe explanation should be clear and step-by-step.\\nStep 1: Understand the condition $A^n = A$.\\nStep 2: Determine if A is invertible. If yes, simplify the condition to $A^{n-1} = I$.\\nStep 3: Calculate powers of A to find the smallest positive integer k such that $A^k = I$.\\nStep 4: Use the value of k to find the form of n.\\nStep 5: Count the number of such n in the given range.\\n\\nMy previous manual calculations of powers of A confirmed $A^4 = I$.\\nThe eigenvalues approach also confirms this. If eigenvalues are $\\\\lambda_1 = 1$ and $\\\\lambda_2 = i$, then for $A^{n-1} = I$, the eigenvalues of $A^{n-1}$ must be 1.\\nSo, $\\\\lambda_1^{n-1} = 1^{n-1} = 1$. This is always true for any n.\\nAnd $\\\\lambda_2^{n-1} = i^{n-1} = 1$.\\nFor $i^{n-1} = 1$, the exponent $n-1$ must be a multiple of 4.\\nThis reconfirms $n-1 = 4k$.\\n\\nThe steps taken are sound.```json\\n{\\n \"explanation\": \"The problem asks us to find the number of integers \\'n\\' in the set {1, 2, ..., 100} such that $A^n = A$.\\\\n\\\\nStep 1: Analyze the given condition $A^n = A$.\\\\nFirst, let\\'s check if the matrix A is invertible by calculating its determinant.\\\\n$A = \\\\\\\\begin{pmatrix} 1+i & 1 \\\\\\\\\\\\\\\\ -i & 0 \\\\\\\\end{pmatrix}$\\\\ndet(A) = (1+i)(0) - (1)(-i) = 0 + i = i.\\\\nSince det(A) = i $\\\\\\\\neq$ 0, the matrix A is invertible. This means $A^{-1}$ exists.\\\\n\\\\nStep 2: Simplify the condition $A^n = A$.\\\\nSince A is invertible, we can multiply both sides of the equation $A^n = A$ by $A^{-1}$:\\\\n$A^n \\\\\\\\cdot A^{-1} = A \\\\\\\\cdot A^{-1}$\\\\n$A^{n-1} = I$, where I is the identity matrix.\\\\nSo, we need to find the values of n such that $A^{n-1}$ equals the identity matrix.\\\\n\\\\nStep 3: Find the smallest positive integer k such that $A^k = I$.\\\\nWe can do this by calculating successive powers of A.\\\\n\\\\n$A^1 = \\\\\\\\begin{pmatrix} 1+i & 1 \\\\\\\\\\\\\\\\ -i & 0 \\\\\\\\end{pmatrix}$\\\\n\\\\n$A^2 = A \\\\\\\\cdot A = \\\\\\\\begin{pmatrix} 1+i & 1 \\\\\\\\\\\\\\\\ -i & 0 \\\\\\\\end{pmatrix} \\\\\\\\begin{pmatrix} 1+i & 1 \\\\\\\\\\\\\\\\ -i & 0 \\\\\\\\end{pmatrix} = \\\\\\\\begin{pmatrix} (1+i)^2 - i & (1+i) + 0 \\\\\\\\\\\\\\\\ -i(1+i) + 0 & -i(1) + 0 \\\\\\\\end{pmatrix}$\\\\n$A^2 = \\\\\\\\begin{pmatrix} 1 + 2i - 1 - i & 1+i \\\\\\\\\\\\\\\\ -i - i^2 & -i \\\\\\\\end{pmatrix} = \\\\\\\\begin{pmatrix} i & 1+i \\\\\\\\\\\\\\\\ 1-i & -i \\\\\\\\end{pmatrix}$\\\\n\\\\n$A^3 = A^2 \\\\\\\\cdot A = \\\\\\\\begin{pmatrix} i & 1+i \\\\\\\\\\\\\\\\ 1-i & -i \\\\\\\\end{pmatrix} \\\\\\\\begin{pmatrix} 1+i & 1 \\\\\\\\\\\\\\\\ -i & 0 \\\\\\\\end{pmatrix} = \\\\\\\\begin{pmatrix} i(1+i) + (1+i)(-i) & i(1) + (1+i)(0) \\\\\\\\\\\\\\\\ (1-i)(1+i) + (-i)(-i) & (1-i)(1) + (-i)(0) \\\\\\\\end{pmatrix}$\\\\n$A^3 = \\\\\\\\begin{pmatrix} i + i^2 - i - i^2 & i \\\\\\\\\\\\\\\\ 1 - i^2 + i^2 & 1-i \\\\\\\\end{pmatrix} = \\\\\\\\begin{pmatrix} 0 & i \\\\\\\\\\\\\\\\ 2 & 1-i \\\\\\\\end{pmatrix}$\\\\n\\\\n$A^4 = A^3 \\\\\\\\cdot A = \\\\\\\\begin{pmatrix} 0 & i \\\\\\\\\\\\\\\\ 2 & 1-i \\\\\\\\end{pmatrix} \\\\\\\\begin{pmatrix} 1+i & 1 \\\\\\\\\\\\\\\\ -i & 0 \\\\\\\\end{pmatrix} = \\\\\\\\begin{pmatrix} 0(1+i) + i(-i) & 0(1) + i(0) \\\\\\\\\\\\\\\\ 2(1+i) + (1-i)(-i) & 2(1) + (1-i)(0) \\\\\\\\end{pmatrix}$\\\\n$A^4 = \\\\\\\\begin{pmatrix} 0 - i^2 & 0 \\\\\\\\\\\\\\\\ 2+2i - i + i^2 & 2 \\\\\\\\end{pmatrix} = \\\\\\\\begin{pmatrix} 1 & 0 \\\\\\\\\\\\\\\\ 2+i-1 & 2 \\\\\\\\end{pmatrix} = \\\\\\\\begin{pmatrix} 1 & 0 \\\\\\\\\\\\\\\\ 1+i & 2 \\\\\\\\end{pmatrix}$\\\\n\\\\nLet\\'s recheck the calculation of $A^4$ using the characteristic equation as it is less prone to arithmetic errors for higher powers.\\nThe characteristic equation is $\\\\\\\\lambda^2 - (1+i)\\\\\\\\lambda + i = 0$. By the Cayley-Hamilton theorem, $A^2 - (1+i)A + iI = 0$, so $A^2 = (1+i)A - iI$.\\\\n\\\\nNow, let\\'s find $A^4$ using this relation:\\\\n$A^3 = A \\\\\\\\cdot A^2 = A((1+i)A - iI) = (1+i)A^2 - iA$\\\\nSubstitute $A^2 = (1+i)A - iI$ into the expression for $A^3$:\\\\n$A^3 = (1+i)((1+i)A - iI) - iA$\\\\n$A^3 = (1+i)^2 A - i(1+i)I - iA$\\\\n$A^3 = (1 + 2i + i^2)A - (i + i^2)I - iA$\\\\n$A^3 = (1 + 2i - 1)A - (i - 1)I - iA$\\\\n$A^3 = 2iA - iI + I - iA$\\\\n$A^3 = iA + (1-i)I$\\\\n\\\\nNow calculate $A^4$:\\\\n$A^4 = A \\\\\\\\cdot A^3 = A(iA + (1-i)I) = iA^2 + (1-i)A$\\\\nSubstitute $A^2 = (1+i)A - iI$ into the expression for $A^4$:\\\\n$A^4 = i((1+i)A - iI) + (1-i)A$\\\\n$A^4 = (i + i^2)A - i^2I + (1-i)A$\\\\n$A^4 = (i - 1)A + I + (1-i)A$\\\\n$A^4 = (i - 1 + 1 - i)A + I$\\\\n$A^4 = 0A + I$\\\\n$A^4 = I$\\\\n\\\\nSo, the smallest positive integer k for which $A^k = I$ is 4.\\\\n\\\\nStep 4: Use the value of k to find the form of n.\\\\nWe need $A^{n-1} = I$. Since $A^4 = I$, the exponent $n-1$ must be a multiple of 4.\\\\nSo, $n-1 = 4m$ for some non-negative integer m.\\\\nThis means $n = 4m + 1$.\\\\n\\\\nStep 5: Count the number of such n in the given range {1, 2, ..., 100}.\\\\nWe need to find the number of integers m such that $1 \\\\\\\\le 4m + 1 \\\\\\\\le 100$.\\\\nSubtract 1 from all parts of the inequality:\\\\n$1 - 1 \\\\\\\\le 4m \\\\\\\\le 100 - 1$\\\\n$0 \\\\\\\\le 4m \\\\\\\\le 99$\\\\nDivide by 4:\\\\n$0 \\\\\\\\le m \\\\\\\\le \\\\\\\\frac{99}{4}$\\\\n$0 \\\\\\\\le m \\\\\\\\le 24.75$\\\\n\\\\nSince m must be an integer, the possible values for m are 0, 1, 2, ..., 24.\\\\nThe number of values for m is $24 - 0 + 1 = 25$.\\\\nEach value of m corresponds to a unique value of n that satisfies the condition.\\\\n\\\\nTherefore, there are 25 such values of n.\",\\n \"final_answer\": \"25\"\\n}\\n```')]), structured_response={'explanation': \"The problem asks us to find the number of integers 'n' in the set {1, 2, ..., 100} such that $A^n = A$.\\n\\nStep 1: Analyze the given condition $A^n = A$.\\nFirst, let's check if the matrix A is invertible by calculating its determinant.\\n$A = \\\\begin{pmatrix} 1+i & 1 \\\\\\\\ -i & 0 \\\\end{pmatrix}$\\ndet(A) = (1+i)(0) - (1)(-i) = 0 + i = i.\\nSince det(A) = i $\\\\neq$ 0, the matrix A is invertible. This means $A^{-1}$ exists.\\n\\nStep 2: Simplify the condition $A^n = A$.\\nSince A is invertible, we can multiply both sides of the equation $A^n = A$ by $A^{-1}$:\\n$A^n \\\\cdot A^{-1} = A \\\\cdot A^{-1}$\\n$A^{n-1} = I$, where I is the identity matrix.\\nSo, we need to find the values of n such that $A^{n-1}$ equals the identity matrix.\\n\\nStep 3: Find the smallest positive integer k such that $A^k = I$.\\nWe can use the Cayley-Hamilton theorem. First, find the characteristic polynomial of A:\\n$det(A - \\\\lambda I) = det\\\\begin{pmatrix} 1+i-\\\\lambda & 1 \\\\\\\\ -i & -\\\\lambda \\\\end{pmatrix} = 0$\\n$(1+i-\\\\lambda)(-\\\\lambda) - (1)(-i) = 0$\\n$-\\\\lambda - i\\\\lambda + \\\\lambda^2 + i = 0$\\n$\\\\lambda^2 - (1+i)\\\\lambda + i = 0$\\n\\nBy the Cayley-Hamilton theorem, the matrix A satisfies its own characteristic equation:\\n$A^2 - (1+i)A + iI = 0$\\nSo, $A^2 = (1+i)A - iI$.\\n\\nNow, let's find $A^3$:\\n$A^3 = A \\\\cdot A^2 = A((1+i)A - iI) = (1+i)A^2 - iA$\\nSubstitute $A^2 = (1+i)A - iI$ into the expression for $A^3$:\\n$A^3 = (1+i)((1+i)A - iI) - iA$\\n$A^3 = (1+i)^2 A - i(1+i)I - iA$\\n$A^3 = (1 + 2i + i^2)A - (i + i^2)I - iA$\\n$A^3 = (1 + 2i - 1)A - (i - 1)I - iA$\\n$A^3 = 2iA - iI + I - iA$\\n$A^3 = iA + (1-i)I$\\n\\nNow calculate $A^4$:\\n$A^4 = A \\\\cdot A^3 = A(iA + (1-i)I) = iA^2 + (1-i)A$\\nSubstitute $A^2 = (1+i)A - iI$ into the expression for $A^4$:\\n$A^4 = i((1+i)A - iI) + (1-i)A$\\n$A^4 = (i + i^2)A - i^2I + (1-i)A$\\n$A^4 = (i - 1)A + I + (1-i)A$\\n$A^4 = (i - 1 + 1 - i)A + I$\\n$A^4 = 0A + I$\\n$A^4 = I$\\n\\nSo, the smallest positive integer k for which $A^k = I$ is 4.\\n\\nStep 4: Use the value of k to find the form of n.\\nWe need $A^{n-1} = I$. Since $A^4 = I$, the exponent $n-1$ must be a multiple of 4.\\nSo, $n-1 = 4m$ for some non-negative integer m.\\nThis means $n = 4m + 1$.\\n\\nStep 5: Count the number of such n in the given range {1, 2, ..., 100}.\\nWe need to find the number of integers m such that $1 \\\\le 4m + 1 \\\\le 100$.\\nSubtract 1 from all parts of the inequality:\\n$1 - 1 \\\\le 4m \\\\le 100 - 1$\\n$0 \\\\le 4m \\\\le 99$\\nDivide by 4:\\n$0 \\\\le m \\\\le \\\\frac{99}{4}$\\n$0 \\\\le m \\\\le 24.75$\\n\\nSince m must be an integer, the possible values for m are 0, 1, 2, ..., 24.\\nThe number of values for m is $24 - 0 + 1 = 25$.\\nEach value of m corresponds to a unique value of n that satisfies the condition.\\n\\nTherefore, there are 25 such values of n.\", 'final_answer': '25'}, current_agent_name='SolutionAgent', raw={'content': {'parts': [{'video_metadata': None, 'thought': None, 'inline_data': None, 'file_data': None, 'thought_signature': None, 'code_execution_result': None, 'executable_code': None, 'function_call': None, 'function_response': None, 'text': '```'}], 'role': 'model'}, 'citation_metadata': None, 'finish_message': None, 'token_count': None, 'finish_reason': <FinishReason.STOP: 'STOP'>, 'url_context_metadata': None, 'avg_logprobs': None, 'grounding_metadata': None, 'index': 0, 'logprobs_result': None, 'safety_ratings': None, 'usage_metadata': {'cache_tokens_details': None, 'cached_content_token_count': None, 'candidates_token_count': 2489, 'candidates_tokens_details': None, 'prompt_token_count': 4137, 'prompt_tokens_details': [{'modality': <MediaModality.TEXT: 'TEXT'>, 'token_count': 4137}], 'thoughts_token_count': None, 'tool_use_prompt_token_count': None, 'tool_use_prompt_tokens_details': None, 'total_token_count': 6626, 'traffic_type': None}}, tool_calls=[ToolCallResult(tool_name='code_interpreter', tool_kwargs={'code': '\\nimport numpy as np\\n\\nA = np.array([[1+1j, 1], [-1j, 0]])\\n\\nA_squared = np.dot(A, A)\\nprint(f\"A^2:\\\\n{A_squared}\")\\n'}, tool_id='code_interpreter', tool_output=ToolOutput(blocks=[TextBlock(block_type='text', text=\"code_interpreter() missing 1 required positional argument: 'self'\")], tool_name='code_interpreter', raw_input={'code': '\\nimport numpy as np\\n\\nA = np.array([[1+1j, 1], [-1j, 0]])\\n\\nA_squared = np.dot(A, A)\\nprint(f\"A^2:\\\\n{A_squared}\")\\n'}, raw_output=\"code_interpreter() missing 1 required positional argument: 'self'\", is_error=True), return_direct=False), ToolCallResult(tool_name='code_interpreter', tool_kwargs={'code': '\\nimport numpy as np\\n\\nA = np.array([[1+1j, 1], [-1j, 0]])\\n\\nA_squared = np.dot(A, A)\\nprint(f\"A^2:\\\\n{A_squared}\")\\n'}, tool_id='code_interpreter', tool_output=ToolOutput(blocks=[TextBlock(block_type='text', text=\"code_interpreter() missing 1 required positional argument: 'self'\")], tool_name='code_interpreter', raw_input={'code': '\\nimport numpy as np\\n\\nA = np.array([[1+1j, 1], [-1j, 0]])\\n\\nA_squared = np.dot(A, A)\\nprint(f\"A^2:\\\\n{A_squared}\")\\n'}, raw_output=\"code_interpreter() missing 1 required positional argument: 'self'\", is_error=True), return_direct=False), ToolCallResult(tool_name='code_interpreter', tool_kwargs={'code': '\\nimport numpy as np\\n\\nA = np.array([[1+1j, 1], [-1j, 0]])\\n\\nA_power_2 = np.dot(A, A)\\nA_power_3 = np.dot(A_power_2, A)\\nA_power_4 = np.dot(A_power_3, A)\\n\\nprint(f\"A^4:\\\\n{A_power_4}\")\\n\\n'}, tool_id='code_interpreter', tool_output=ToolOutput(blocks=[TextBlock(block_type='text', text=\"code_interpreter() missing 1 required positional argument: 'self'\")], tool_name='code_interpreter', raw_input={'code': '\\nimport numpy as np\\n\\nA = np.array([[1+1j, 1], [-1j, 0]])\\n\\nA_power_2 = np.dot(A, A)\\nA_power_3 = np.dot(A_power_2, A)\\nA_power_4 = np.dot(A_power_3, A)\\n\\nprint(f\"A^4:\\\\n{A_power_4}\")\\n\\n'}, raw_output=\"code_interpreter() missing 1 required positional argument: 'self'\", is_error=True), return_direct=False)], retry_messages=[])"
      ]
     },
     "execution_count": 36,
     "metadata": {},
     "output_type": "execute_result"
    }
   ],
   "source": [
    "solution_response"
   ]
  },
  {
   "cell_type": "code",
   "execution_count": 38,
   "metadata": {},
   "outputs": [
    {
     "data": {
      "text/plain": [
       "{'explanation': \"The problem asks us to find the number of integers 'n' in the set {1, 2, ..., 100} such that $A^n = A$.\\n\\nStep 1: Analyze the given condition $A^n = A$.\\nFirst, let's check if the matrix A is invertible by calculating its determinant.\\n$A = \\\\begin{pmatrix} 1+i & 1 \\\\\\\\ -i & 0 \\\\end{pmatrix}$\\ndet(A) = (1+i)(0) - (1)(-i) = 0 + i = i.\\nSince det(A) = i $\\\\neq$ 0, the matrix A is invertible. This means $A^{-1}$ exists.\\n\\nStep 2: Simplify the condition $A^n = A$.\\nSince A is invertible, we can multiply both sides of the equation $A^n = A$ by $A^{-1}$:\\n$A^n \\\\cdot A^{-1} = A \\\\cdot A^{-1}$\\n$A^{n-1} = I$, where I is the identity matrix.\\nSo, we need to find the values of n such that $A^{n-1}$ equals the identity matrix.\\n\\nStep 3: Find the smallest positive integer k such that $A^k = I$.\\nWe can use the Cayley-Hamilton theorem. First, find the characteristic polynomial of A:\\n$det(A - \\\\lambda I) = det\\\\begin{pmatrix} 1+i-\\\\lambda & 1 \\\\\\\\ -i & -\\\\lambda \\\\end{pmatrix} = 0$\\n$(1+i-\\\\lambda)(-\\\\lambda) - (1)(-i) = 0$\\n$-\\\\lambda - i\\\\lambda + \\\\lambda^2 + i = 0$\\n$\\\\lambda^2 - (1+i)\\\\lambda + i = 0$\\n\\nBy the Cayley-Hamilton theorem, the matrix A satisfies its own characteristic equation:\\n$A^2 - (1+i)A + iI = 0$\\nSo, $A^2 = (1+i)A - iI$.\\n\\nNow, let's find $A^3$:\\n$A^3 = A \\\\cdot A^2 = A((1+i)A - iI) = (1+i)A^2 - iA$\\nSubstitute $A^2 = (1+i)A - iI$ into the expression for $A^3$:\\n$A^3 = (1+i)((1+i)A - iI) - iA$\\n$A^3 = (1+i)^2 A - i(1+i)I - iA$\\n$A^3 = (1 + 2i + i^2)A - (i + i^2)I - iA$\\n$A^3 = (1 + 2i - 1)A - (i - 1)I - iA$\\n$A^3 = 2iA - iI + I - iA$\\n$A^3 = iA + (1-i)I$\\n\\nNow calculate $A^4$:\\n$A^4 = A \\\\cdot A^3 = A(iA + (1-i)I) = iA^2 + (1-i)A$\\nSubstitute $A^2 = (1+i)A - iI$ into the expression for $A^4$:\\n$A^4 = i((1+i)A - iI) + (1-i)A$\\n$A^4 = (i + i^2)A - i^2I + (1-i)A$\\n$A^4 = (i - 1)A + I + (1-i)A$\\n$A^4 = (i - 1 + 1 - i)A + I$\\n$A^4 = 0A + I$\\n$A^4 = I$\\n\\nSo, the smallest positive integer k for which $A^k = I$ is 4.\\n\\nStep 4: Use the value of k to find the form of n.\\nWe need $A^{n-1} = I$. Since $A^4 = I$, the exponent $n-1$ must be a multiple of 4.\\nSo, $n-1 = 4m$ for some non-negative integer m.\\nThis means $n = 4m + 1$.\\n\\nStep 5: Count the number of such n in the given range {1, 2, ..., 100}.\\nWe need to find the number of integers m such that $1 \\\\le 4m + 1 \\\\le 100$.\\nSubtract 1 from all parts of the inequality:\\n$1 - 1 \\\\le 4m \\\\le 100 - 1$\\n$0 \\\\le 4m \\\\le 99$\\nDivide by 4:\\n$0 \\\\le m \\\\le \\\\frac{99}{4}$\\n$0 \\\\le m \\\\le 24.75$\\n\\nSince m must be an integer, the possible values for m are 0, 1, 2, ..., 24.\\nThe number of values for m is $24 - 0 + 1 = 25$.\\nEach value of m corresponds to a unique value of n that satisfies the condition.\\n\\nTherefore, there are 25 such values of n.\",\n",
       " 'final_answer': '25'}"
      ]
     },
     "execution_count": 38,
     "metadata": {},
     "output_type": "execute_result"
    }
   ],
   "source": [
    "solution_response.structured_response"
   ]
  },
  {
   "cell_type": "code",
   "execution_count": 105,
   "metadata": {},
   "outputs": [],
   "source": [
    "from llama_index.core.agent.workflow import (\n",
    "    AgentInput,\n",
    "    AgentOutput,\n",
    "    ToolCall,\n",
    "    ToolCallResult,\n",
    "    AgentStream,\n",
    ")\n",
    "from llama_index.core.workflow import Context\n",
    "\n",
    "\n",
    "async def run_solution_agent( user_msg: str):\n",
    "    handler = solution_agent.run(\n",
    "        user_msg=user_msg,\n",
    "    )\n",
    "\n",
    "    async for event in handler.stream_events():\n",
    "        if isinstance(event, AgentStream):\n",
    "            if event.delta:\n",
    "                print(event.delta, end=\"\", flush=True)\n",
    "        # elif isinstance(event, AgentInput):\n",
    "        #     print(\"📥 Input:\", event.input)\n",
    "        elif isinstance(event, AgentOutput):\n",
    "            # Skip printing the output since we are streaming above\n",
    "            # if event.response.content:\n",
    "            #     print(\"📤 Output:\", event.response.content)\n",
    "            if event.tool_calls:\n",
    "                print(\n",
    "                    \"🛠️  Planning to use tools:\",\n",
    "                    [call.tool_name for call in event.tool_calls],\n",
    "                )\n",
    "            else:\n",
    "                return event.response.content\n",
    "        elif isinstance(event, ToolCallResult):\n",
    "            print(f\"🔧 Tool Result ({event.tool_name}):\")\n",
    "            print(f\"  Arguments: {event.tool_kwargs}\")\n",
    "            print(f\"  Output: {event.tool_output}\")\n",
    "        elif isinstance(event, ToolCall):\n",
    "            print(f\"🔨 Calling Tool: {event.tool_name}\")\n",
    "            print(f\"  With arguments: {event.tool_kwargs}\")\n"
   ]
  },
  {
   "cell_type": "code",
   "execution_count": 138,
   "metadata": {},
   "outputs": [
    {
     "name": "stdout",
     "output_type": "stream",
     "text": [
      "To solve this problem, we need to find the pattern of powers of matrix A.\n",
      "\n",
      "Given matrix A:\n",
      "$A = \\begin{pmatrix} 1+i & 1 \\\\ -i & 0 \\end{pmatrix}$\n",
      "\n",
      "Step 1: Calculate the first few powers of A.\n",
      "$A^1 = A = \\begin{pmatrix} 1+i & 1 \\\\ -i & 0 \\end{pmatrix}$\n",
      "\n",
      "$A^2 = A \\cdot A = \\begin{pmatrix} 1+i & 1 \\\\ -i & 0 \\end{pmatrix} \\begin{pmatrix} 1+i & 1 \\\\ -i & 0 \\end{pmatrix}$\n",
      "$A^2 = \\begin{pmatrix} (1+i)(1+i) + 1(-i) & (1+i)(1) + 1(0) \\\\ (-i)(1+i) + 0(-i) & (-i)(1) + 0(0) \\end{pmatrix}$\n",
      "$A^2 = \\begin{pmatrix} (1 + 2i + i^2) - i & 1+i \\\\ (-i - i^2) & -i \\end{pmatrix}$\n",
      "Since $i^2 = -1$:\n",
      "$A^2 = \\begin{pmatrix} (1 + 2i - 1) - i & 1+i \\\\ (-i - (-1)) & -i \\end{pmatrix}$\n",
      "$A^2 = \\begin{pmatrix} i & 1+i \\\\ 1-i & -i \\end{pmatrix}$\n",
      "\n",
      "$A^3 = A^2 \\cdot A = \\begin{pmatrix} i & 1+i \\\\ 1-i & -i \\end{pmatrix} \\begin{pmatrix} 1+i & 1 \\\\ -i & 0 \\end{pmatrix}$\n",
      "$A^3 = \\begin{pmatrix} i(1+i) + (1+i)(-i) & i(1) + (1+i)(0) \\\\ (1-i)(1+i) + (-i)(-i) & (1-i)(1) + (-i)(0) \\end{pmatrix}$\n",
      "$A^3 = \\begin{pmatrix} (i + i^2) + (-i - i^2) & i \\\\ (1^2 - i^2) + i^2 & 1-i \\end{pmatrix}$\n",
      "$A^3 = \\begin{pmatrix} (i - 1) + (-i + 1) & i \\\\ (1 - (-1)) - 1 & 1-i \\end{pmatrix}$\n",
      "$A^3 = \\begin{pmatrix} 0 & i \\\\ 2 - 1 & 1-i \\end{pmatrix}$\n",
      "$A^3 = \\begin{pmatrix} 0 & i \\\\ 1 & 1-i \\end{pmatrix}$\n",
      "\n",
      "$A^4 = A^3 \\cdot A = \\begin{pmatrix} 0 & i \\\\ 1 & 1-i \\end{pmatrix} \\begin{pmatrix} 1+i & 1 \\\\ -i & 0 \\end{pmatrix}$\n",
      "$A^4 = \\begin{pmatrix} 0(1+i) + i(-i) & 0(1) + i(0) \\\\ 1(1+i) + (1-i)(-i) & 1(1) + (1-i)(0) \\end{pmatrix}$\n",
      "$A^4 = \\begin{pmatrix} -i^2 & 0 \\\\ (1+i) + (-i + i^2) & 1 \\end{pmatrix}$\n",
      "$A^4 = \\begin{pmatrix} 1 & 0 \\\\ (1+i) + (-i - 1) & 1 \\end{pmatrix}$\n",
      "$A^4 = \\begin{pmatrix} 1 & 0 \\\\ 0 & 1 \\end{pmatrix} = I$ (Identity matrix)\n",
      "\n",
      "Step 2: Identify the cycle of powers.\n",
      "We found that $A^4 = I$. This means the powers of A repeat in a cycle of 4:\n",
      "$A^1 = A$\n",
      "$A^2 = A^2$\n",
      "$A^3 = A^3$\n",
      "$A^4 = I$\n",
      "$A^5 = A^4 \\cdot A = I \\cdot A = A$\n",
      "$A^6 = A^4 \\cdot A^2 = I \\cdot A^2 = A^2$\n",
      "And so on.\n",
      "\n",
      "In general, for any positive integer n, $A^n = A^{n \\pmod 4}$ if we interpret $A^0=I$ when $n$ is a multiple of 4.\n",
      "More precisely, $A^n = A^r$ where $r$ is the remainder when $n$ is divided by 4, unless $r=0$, in which case $A^n = I = A^4$.\n",
      "So, $A^n = A$ if and only if $n \\equiv 1 \\pmod 4$.\n",
      "\n",
      "Step 3: Find the number of integers n in the given set satisfying the condition.\n",
      "We are looking for $n \\in \\{1, 2, ..., 100\\}$ such that $A^n = A$.\n",
      "This translates to finding $n$ such that $n \\equiv 1 \\pmod 4$.\n",
      "The values of n that satisfy this condition are:\n",
      "$n = 1$ (since $1 = 4 \\times 0 + 1$)\n",
      "$n = 5$ (since $5 = 4 \\times 1 + 1$)\n",
      "$n = 9$ (since $9 = 4 \\times 2 + 1$)\n",
      "...\n",
      "We need to find the largest value of n in the set $\\{1, 2, ..., 100\\}$ that is of the form $4k+1$.\n",
      "Let $4k+1 \\le 100$.\n",
      "$4k \\le 99$\n",
      "$k \\le \\frac{99}{4}$\n",
      "$k \\le 24.75$\n",
      "Since k must be an integer, the maximum value for k is 24.\n",
      "\n",
      "The values of n correspond to k ranging from 0 to 24.\n",
      "For $k=0$, $n=4(0)+1 = 1$.\n",
      "For $k=1$, $n=4(1)+1 = 5$.\n",
      "...\n",
      "For $k=24$, $n=4(24)+1 = 96+1 = 97$.\n",
      "\n",
      "The number of such values of k is $24 - 0 + 1 = 25$.\n",
      "\n",
      "The final answer is $\\boxed{25}$"
     ]
    },
    {
     "data": {
      "text/plain": [
       "'To solve this problem, we need to find the pattern of powers of matrix A.\\n\\nGiven matrix A:\\n$A = \\\\begin{pmatrix} 1+i & 1 \\\\\\\\ -i & 0 \\\\end{pmatrix}$\\n\\nStep 1: Calculate the first few powers of A.\\n$A^1 = A = \\\\begin{pmatrix} 1+i & 1 \\\\\\\\ -i & 0 \\\\end{pmatrix}$\\n\\n$A^2 = A \\\\cdot A = \\\\begin{pmatrix} 1+i & 1 \\\\\\\\ -i & 0 \\\\end{pmatrix} \\\\begin{pmatrix} 1+i & 1 \\\\\\\\ -i & 0 \\\\end{pmatrix}$\\n$A^2 = \\\\begin{pmatrix} (1+i)(1+i) + 1(-i) & (1+i)(1) + 1(0) \\\\\\\\ (-i)(1+i) + 0(-i) & (-i)(1) + 0(0) \\\\end{pmatrix}$\\n$A^2 = \\\\begin{pmatrix} (1 + 2i + i^2) - i & 1+i \\\\\\\\ (-i - i^2) & -i \\\\end{pmatrix}$\\nSince $i^2 = -1$:\\n$A^2 = \\\\begin{pmatrix} (1 + 2i - 1) - i & 1+i \\\\\\\\ (-i - (-1)) & -i \\\\end{pmatrix}$\\n$A^2 = \\\\begin{pmatrix} i & 1+i \\\\\\\\ 1-i & -i \\\\end{pmatrix}$\\n\\n$A^3 = A^2 \\\\cdot A = \\\\begin{pmatrix} i & 1+i \\\\\\\\ 1-i & -i \\\\end{pmatrix} \\\\begin{pmatrix} 1+i & 1 \\\\\\\\ -i & 0 \\\\end{pmatrix}$\\n$A^3 = \\\\begin{pmatrix} i(1+i) + (1+i)(-i) & i(1) + (1+i)(0) \\\\\\\\ (1-i)(1+i) + (-i)(-i) & (1-i)(1) + (-i)(0) \\\\end{pmatrix}$\\n$A^3 = \\\\begin{pmatrix} (i + i^2) + (-i - i^2) & i \\\\\\\\ (1^2 - i^2) + i^2 & 1-i \\\\end{pmatrix}$\\n$A^3 = \\\\begin{pmatrix} (i - 1) + (-i + 1) & i \\\\\\\\ (1 - (-1)) - 1 & 1-i \\\\end{pmatrix}$\\n$A^3 = \\\\begin{pmatrix} 0 & i \\\\\\\\ 2 - 1 & 1-i \\\\end{pmatrix}$\\n$A^3 = \\\\begin{pmatrix} 0 & i \\\\\\\\ 1 & 1-i \\\\end{pmatrix}$\\n\\n$A^4 = A^3 \\\\cdot A = \\\\begin{pmatrix} 0 & i \\\\\\\\ 1 & 1-i \\\\end{pmatrix} \\\\begin{pmatrix} 1+i & 1 \\\\\\\\ -i & 0 \\\\end{pmatrix}$\\n$A^4 = \\\\begin{pmatrix} 0(1+i) + i(-i) & 0(1) + i(0) \\\\\\\\ 1(1+i) + (1-i)(-i) & 1(1) + (1-i)(0) \\\\end{pmatrix}$\\n$A^4 = \\\\begin{pmatrix} -i^2 & 0 \\\\\\\\ (1+i) + (-i + i^2) & 1 \\\\end{pmatrix}$\\n$A^4 = \\\\begin{pmatrix} 1 & 0 \\\\\\\\ (1+i) + (-i - 1) & 1 \\\\end{pmatrix}$\\n$A^4 = \\\\begin{pmatrix} 1 & 0 \\\\\\\\ 0 & 1 \\\\end{pmatrix} = I$ (Identity matrix)\\n\\nStep 2: Identify the cycle of powers.\\nWe found that $A^4 = I$. This means the powers of A repeat in a cycle of 4:\\n$A^1 = A$\\n$A^2 = A^2$\\n$A^3 = A^3$\\n$A^4 = I$\\n$A^5 = A^4 \\\\cdot A = I \\\\cdot A = A$\\n$A^6 = A^4 \\\\cdot A^2 = I \\\\cdot A^2 = A^2$\\nAnd so on.\\n\\nIn general, for any positive integer n, $A^n = A^{n \\\\pmod 4}$ if we interpret $A^0=I$ when $n$ is a multiple of 4.\\nMore precisely, $A^n = A^r$ where $r$ is the remainder when $n$ is divided by 4, unless $r=0$, in which case $A^n = I = A^4$.\\nSo, $A^n = A$ if and only if $n \\\\equiv 1 \\\\pmod 4$.\\n\\nStep 3: Find the number of integers n in the given set satisfying the condition.\\nWe are looking for $n \\\\in \\\\{1, 2, ..., 100\\\\}$ such that $A^n = A$.\\nThis translates to finding $n$ such that $n \\\\equiv 1 \\\\pmod 4$.\\nThe values of n that satisfy this condition are:\\n$n = 1$ (since $1 = 4 \\\\times 0 + 1$)\\n$n = 5$ (since $5 = 4 \\\\times 1 + 1$)\\n$n = 9$ (since $9 = 4 \\\\times 2 + 1$)\\n...\\nWe need to find the largest value of n in the set $\\\\{1, 2, ..., 100\\\\}$ that is of the form $4k+1$.\\nLet $4k+1 \\\\le 100$.\\n$4k \\\\le 99$\\n$k \\\\le \\\\frac{99}{4}$\\n$k \\\\le 24.75$\\nSince k must be an integer, the maximum value for k is 24.\\n\\nThe values of n correspond to k ranging from 0 to 24.\\nFor $k=0$, $n=4(0)+1 = 1$.\\nFor $k=1$, $n=4(1)+1 = 5$.\\n...\\nFor $k=24$, $n=4(24)+1 = 96+1 = 97$.\\n\\nThe number of such values of k is $24 - 0 + 1 = 25$.\\n\\nThe final answer is $\\\\boxed{25}$'"
      ]
     },
     "execution_count": 138,
     "metadata": {},
     "output_type": "execute_result"
    }
   ],
   "source": [
    "await run_solution_agent(\n",
    "        user_msg= f\"\"\"\n",
    "     Question:\n",
    "    {data[0][\"question_text\"]}\n",
    "    \"\"\",\n",
    "    )"
   ]
  },
  {
   "cell_type": "code",
   "execution_count": 145,
   "metadata": {},
   "outputs": [],
   "source": [
    "solution_response = await solution_agent.run(\n",
    "        user_msg= f\"\"\"\n",
    "     Question:\n",
    "    {data[12][\"question_text\"]}\n",
    "    \"\"\",\n",
    "    )"
   ]
  },
  {
   "cell_type": "code",
   "execution_count": 146,
   "metadata": {},
   "outputs": [
    {
     "data": {
      "text/plain": [
       "AgentOutput(response=ChatMessage(role=<MessageRole.ASSISTANT: 'assistant'>, additional_kwargs={'thought_signatures': [None], 'thoughts': '', 'tool_calls': []}, blocks=[TextBlock(block_type='text', text=\"The problem asks for the value of the given mathematical expression:\\n`p. (1/y^2 * (cos(tan^{-1}y) + ysin(tan^{-1}y))/(cot(sin^{-1}y) + tan(sin^{-1}y)))^2 + y^4)^{1/2}`\\n\\nLet's simplify the expression step by step.\\n\\n**Step 1: Simplify the numerator of the inner fraction: `cos(tan^{-1}y) + ysin(tan^{-1}y)`**\\nLet `θ = tan^{-1}y`. This implies `tan(θ) = y`.\\nWe can construct a right-angled triangle where the opposite side is `y` and the adjacent side is `1`. The hypotenuse will be `sqrt(y^2 + 1^2) = sqrt(y^2 + 1)`.\\nSo, `cos(θ) = 1/sqrt(y^2 + 1)` and `sin(θ) = y/sqrt(y^2 + 1)`.\\nSubstitute these into the expression:\\n`cos(tan^{-1}y) + ysin(tan^{-1}y) = 1/sqrt(y^2 + 1) + y * (y/sqrt(y^2 + 1))`\\n`= 1/sqrt(y^2 + 1) + y^2/sqrt(y^2 + 1)`\\n`= (1 + y^2)/sqrt(y^2 + 1)`\\n`= sqrt(y^2 + 1)` (since `(1+y^2) = (sqrt(1+y^2))^2`)\\n\\n**Step 2: Simplify the denominator of the inner fraction: `cot(sin^{-1}y) + tan(sin^{-1}y)`**\\nLet `φ = sin^{-1}y`. This implies `sin(φ) = y`.\\nWe know the identity: `cot(φ) + tan(φ) = cos(φ)/sin(φ) + sin(φ)/cos(φ) = (cos^2(φ) + sin^2(φ))/(sin(φ)cos(φ)) = 1/(sin(φ)cos(φ))`.\\nFrom `sin(φ) = y`, we can find `cos(φ) = sqrt(1 - y^2)` (assuming `φ` is in the principal value range for `sin^{-1}y`, i.e., `[-π/2, π/2]`, where cosine is non-negative). Note that `|y| <= 1` for `sin^{-1}y` to be defined.\\nSubstitute `sin(φ) = y` and `cos(φ) = sqrt(1 - y^2)`:\\n`cot(sin^{-1}y) + tan(sin^{-1}y) = 1/(y * sqrt(1 - y^2))`\\n\\n**Step 3: Simplify the inner fraction `(Numerator from Step 1) / (Denominator from Step 2)`**\\nThe fraction is `(sqrt(y^2 + 1)) / (1 / (y * sqrt(1 - y^2)))`\\n`= sqrt(y^2 + 1) * y * sqrt(1 - y^2)`\\n`= y * sqrt((y^2 + 1)(1 - y^2))`\\nUsing the difference of squares formula `(a+b)(a-b) = a^2 - b^2`:\\n`= y * sqrt(1^2 - (y^2)^2)`\\n`= y * sqrt(1 - y^4)`\\n\\n**Step 4: Square the term `(1/y^2 * (Simplified fraction from Step 3))`**\\nThe term is `(1/y^2 * (y * sqrt(1 - y^4)))^2`\\n`= ( (y * sqrt(1 - y^4)) / y^2 )^2`\\n`= ( sqrt(1 - y^4) / y )^2`\\n`= (1 - y^4) / y^2`\\n\\n**Step 5: Add `y^4` to the result from Step 4 and take the square root**\\nThe full expression is `((1 - y^4) / y^2 + y^4)^{1/2}`\\nFirst, combine the terms inside the parentheses:\\n`(1 - y^4) / y^2 + y^4 = (1 - y^4) / y^2 + (y^4 * y^2) / y^2`\\n`= (1 - y^4 + y^6) / y^2`\\nNow, take the square root of this expression:\\n`((1 - y^4 + y^6) / y^2)^{1/2}`\\n`= sqrt(1 - y^4 + y^6) / sqrt(y^2)`\\n`= sqrt(1 - y^4 + y^6) / |y|`\\n\\nFor the expression to be defined, `y != 0` (due to `1/y^2` and `cot(sin^{-1}y)`), and `|y| <= 1` (due to `sin^{-1}y`).\\n\\nThe `p.` at the beginning of the question is likely a problem number or a typo and does not affect the mathematical evaluation of the expression itself.\\n\\nThe final answer is $\\\\boxed{\\\\frac{\\\\sqrt{1 - y^4 + y^6}}{|y|}}$.\")]), structured_response={'explanation': 'Step 1: Simplify the numerator of the inner fraction, which is `cos(tan^{-1}y) + ysin(tan^{-1}y)`. Let `θ = tan^{-1}y`. Then `tan(θ) = y`. Construct a right-angled triangle with opposite side `y` and adjacent side `1`. The hypotenuse is `sqrt(y^2 + 1)`. Therefore, `cos(θ) = 1/sqrt(y^2 + 1)` and `sin(θ) = y/sqrt(y^2 + 1)`. Substitute these into the expression: `1/sqrt(y^2 + 1) + y * (y/sqrt(y^2 + 1)) = (1 + y^2)/sqrt(y^2 + 1) = sqrt(y^2 + 1)` (since `1+y^2 = (sqrt(1+y^2))^2`).\\nStep 2: Simplify the denominator of the inner fraction, which is `cot(sin^{-1}y) + tan(sin^{-1}y)`. Let `φ = sin^{-1}y`. Then `sin(φ) = y`. Construct a right-angled triangle with opposite side `y` and hypotenuse `1`. The adjacent side is `sqrt(1 - y^2)`. Therefore, `cot(φ) = sqrt(1 - y^2)/y` and `tan(φ) = y/sqrt(1 - y^2)`. Substitute these into the expression: `sqrt(1 - y^2)/y + y/sqrt(1 - y^2) = ( (sqrt(1 - y^2))^2 + y^2 ) / (y * sqrt(1 - y^2)) = (1 - y^2 + y^2) / (y * sqrt(1 - y^2)) = 1 / (y * sqrt(1 - y^2))`. Note that for `sin^{-1}y` to be defined, `|y| <= 1`, and for `cot(sin^{-1}y)` to be defined, `y != 0`.\\nStep 3: Simplify the inner fraction by dividing the result from Step 1 by the result from Step 2: `(sqrt(y^2 + 1)) / (1 / (y * sqrt(1 - y^2))) = sqrt(y^2 + 1) * y * sqrt(1 - y^2) = y * sqrt((y^2 + 1)(1 - y^2))`. Using the difference of squares identity `(a+b)(a-b) = a^2 - b^2`, this simplifies to `y * sqrt(1^2 - (y^2)^2) = y * sqrt(1 - y^4)`.\\nStep 4: Now, consider the term `(1/y^2 * (simplified fraction from Step 3))^2`. This becomes `(1/y^2 * y * sqrt(1 - y^4))^2 = (sqrt(1 - y^4) / y)^2 = (1 - y^4) / y^2`.\\nStep 5: Add `y^4` to the result from Step 4 and then take the square root of the entire expression. The expression is `((1 - y^4) / y^2 + y^4)^{1/2}`. Combine the terms inside the parentheses: `(1 - y^4) / y^2 + y^4 = (1 - y^4 + y^4 * y^2) / y^2 = (1 - y^4 + y^6) / y^2`. Finally, take the square root: `((1 - y^4 + y^6) / y^2)^{1/2} = sqrt(1 - y^4 + y^6) / sqrt(y^2) = sqrt(1 - y^4 + y^6) / |y|`.', 'final_answer': 'sqrt(1 - y^4 + y^6) / |y|'}, current_agent_name='SolutionAgent', raw={'content': {'parts': [{'video_metadata': None, 'thought': None, 'inline_data': None, 'file_data': None, 'thought_signature': None, 'code_execution_result': None, 'executable_code': None, 'function_call': None, 'function_response': None, 'text': ' of the expression itself.\\n\\nThe final answer is $\\\\boxed{\\\\frac{\\\\sqrt{1 - y^4 + y^6}}{|y|}}$.'}], 'role': 'model'}, 'citation_metadata': None, 'finish_message': None, 'token_count': None, 'finish_reason': <FinishReason.STOP: 'STOP'>, 'url_context_metadata': None, 'avg_logprobs': None, 'grounding_metadata': None, 'index': 0, 'logprobs_result': None, 'safety_ratings': None, 'usage_metadata': {'cache_tokens_details': None, 'cached_content_token_count': None, 'candidates_token_count': 1209, 'candidates_tokens_details': None, 'prompt_token_count': 289, 'prompt_tokens_details': [{'modality': <MediaModality.TEXT: 'TEXT'>, 'token_count': 289}], 'thoughts_token_count': 6069, 'tool_use_prompt_token_count': None, 'tool_use_prompt_tokens_details': None, 'total_token_count': 7567, 'traffic_type': None}}, tool_calls=[], retry_messages=[])"
      ]
     },
     "execution_count": 146,
     "metadata": {},
     "output_type": "execute_result"
    }
   ],
   "source": [
    "solution_response"
   ]
  },
  {
   "cell_type": "code",
   "execution_count": 147,
   "metadata": {},
   "outputs": [
    {
     "data": {
      "text/plain": [
       "{'explanation': 'Step 1: Simplify the numerator of the inner fraction, which is `cos(tan^{-1}y) + ysin(tan^{-1}y)`. Let `θ = tan^{-1}y`. Then `tan(θ) = y`. Construct a right-angled triangle with opposite side `y` and adjacent side `1`. The hypotenuse is `sqrt(y^2 + 1)`. Therefore, `cos(θ) = 1/sqrt(y^2 + 1)` and `sin(θ) = y/sqrt(y^2 + 1)`. Substitute these into the expression: `1/sqrt(y^2 + 1) + y * (y/sqrt(y^2 + 1)) = (1 + y^2)/sqrt(y^2 + 1) = sqrt(y^2 + 1)` (since `1+y^2 = (sqrt(1+y^2))^2`).\\nStep 2: Simplify the denominator of the inner fraction, which is `cot(sin^{-1}y) + tan(sin^{-1}y)`. Let `φ = sin^{-1}y`. Then `sin(φ) = y`. Construct a right-angled triangle with opposite side `y` and hypotenuse `1`. The adjacent side is `sqrt(1 - y^2)`. Therefore, `cot(φ) = sqrt(1 - y^2)/y` and `tan(φ) = y/sqrt(1 - y^2)`. Substitute these into the expression: `sqrt(1 - y^2)/y + y/sqrt(1 - y^2) = ( (sqrt(1 - y^2))^2 + y^2 ) / (y * sqrt(1 - y^2)) = (1 - y^2 + y^2) / (y * sqrt(1 - y^2)) = 1 / (y * sqrt(1 - y^2))`. Note that for `sin^{-1}y` to be defined, `|y| <= 1`, and for `cot(sin^{-1}y)` to be defined, `y != 0`.\\nStep 3: Simplify the inner fraction by dividing the result from Step 1 by the result from Step 2: `(sqrt(y^2 + 1)) / (1 / (y * sqrt(1 - y^2))) = sqrt(y^2 + 1) * y * sqrt(1 - y^2) = y * sqrt((y^2 + 1)(1 - y^2))`. Using the difference of squares identity `(a+b)(a-b) = a^2 - b^2`, this simplifies to `y * sqrt(1^2 - (y^2)^2) = y * sqrt(1 - y^4)`.\\nStep 4: Now, consider the term `(1/y^2 * (simplified fraction from Step 3))^2`. This becomes `(1/y^2 * y * sqrt(1 - y^4))^2 = (sqrt(1 - y^4) / y)^2 = (1 - y^4) / y^2`.\\nStep 5: Add `y^4` to the result from Step 4 and then take the square root of the entire expression. The expression is `((1 - y^4) / y^2 + y^4)^{1/2}`. Combine the terms inside the parentheses: `(1 - y^4) / y^2 + y^4 = (1 - y^4 + y^4 * y^2) / y^2 = (1 - y^4 + y^6) / y^2`. Finally, take the square root: `((1 - y^4 + y^6) / y^2)^{1/2} = sqrt(1 - y^4 + y^6) / sqrt(y^2) = sqrt(1 - y^4 + y^6) / |y|`.',\n",
       " 'final_answer': 'sqrt(1 - y^4 + y^6) / |y|'}"
      ]
     },
     "execution_count": 147,
     "metadata": {},
     "output_type": "execute_result"
    }
   ],
   "source": [
    "solution_response.structured_response"
   ]
  },
  {
   "cell_type": "code",
   "execution_count": null,
   "metadata": {},
   "outputs": [],
   "source": []
  },
  {
   "cell_type": "code",
   "execution_count": 143,
   "metadata": {},
   "outputs": [
    {
     "name": "stdout",
     "output_type": "stream",
     "text": [
      "explanation=\"The given expression is $ (1/y^2 * (cos(tan^{-1}y) + ysin(tan^{-1}y))/(cot(sin^{-1}y) + tan(sin^{-1}y)))^2 + y^4)^{1/2} $.\\n\\nWe will simplify the expression step-by-step:\\n\\n1.  **Simplify the terms involving inverse trigonometric functions:**\\n    *   Let $A = tan^{-1}y$. Then $tan A = y$. Using a right triangle, the opposite side is $y$, the adjacent side is $1$, and the hypotenuse is $\\\\sqrt{1^2+y^2} = \\\\sqrt{1+y^2}$.\\n        Therefore, $cos(tan^{-1}y) = \\\\frac{1}{\\\\sqrt{1+y^2}}$ and $sin(tan^{-1}y) = \\\\frac{y}{\\\\sqrt{1+y^2}}$.\\n    *   Let $B = sin^{-1}y$. Then $sin B = y$. Using a right triangle, the opposite side is $y$, the hypotenuse is $1$, and the adjacent side is $\\\\sqrt{1^2-y^2} = \\\\sqrt{1-y^2}$ (for $y \\\\in [-1, 1]$).\\n        Therefore, $cot(sin^{-1}y) = \\\\frac{\\\\sqrt{1-y^2}}{y}$ and $tan(sin^{-1}y) = \\\\frac{y}{\\\\sqrt{1-y^2}}$.\\n\\n2.  **Simplify the numerator of the main fraction:**\\n    $cos(tan^{-1}y) + ysin(tan^{-1}y) = \\\\frac{1}{\\\\sqrt{1+y^2}} + y\\\\left(\\\\frac{y}{\\\\sqrt{1+y^2}}\\\\right) = \\\\frac{1+y^2}{\\\\sqrt{1+y^2}} = \\\\sqrt{1+y^2}$.\\n\\n3.  **Simplify the denominator of the main fraction:**\\n    $cot(sin^{-1}y) + tan(sin^{-1}y) = \\\\frac{\\\\sqrt{1-y^2}}{y} + \\\\frac{y}{\\\\sqrt{1-y^2}} = \\\\frac{(\\\\sqrt{1-y^2})^2 + y^2}{y\\\\sqrt{1-y^2}} = \\\\frac{1-y^2+y^2}{y\\\\sqrt{1-y^2}} = \\\\frac{1}{y\\\\sqrt{1-y^2}}$.\\n\\n4.  **Simplify the main fraction:**\\n    The main fraction is $\\\\frac{cos(tan^{-1}y) + ysin(tan^{-1}y)}{cot(sin^{-1}y) + tan(sin^{-1}y)} = \\\\frac{\\\\sqrt{1+y^2}}{1/(y\\\\sqrt{1-y^2})} = y\\\\sqrt{1+y^2}\\\\sqrt{1-y^2} = y\\\\sqrt{(1+y^2)(1-y^2)} = y\\\\sqrt{1-y^4}$.\\n\\n5.  **Substitute this back into the overall expression and address a common typo:**\\n    The expression is $ (1/y^2 \\\\cdot (y\\\\sqrt{1-y^4}))^2 + y^4)^{1/2} $.\\n    If we literally use $1/y^2$, the expression becomes $(\\\\frac{\\\\sqrt{1-y^4}}{y})^2 + y^4)^{1/2} = (\\\\frac{1-y^4}{y^2} + y^4)^{1/2} = (\\\\frac{1-y^4+y^6}{y^2})^{1/2} = \\\\frac{\\\\sqrt{1-y^4+y^6}}{|y|}$. This result is not a simple value, which is typically expected from such problems.\\n\\n    Given the nature of such mathematical problems often leading to simple, elegant solutions, it is highly probable that there is a typo in the original question and the term $1/y^2$ should have been $1/y$. Assuming this common type of typo, let's proceed:\\n\\n    The expression becomes $ (1/y \\\\cdot (y\\\\sqrt{1-y^4}))^2 + y^4)^{1/2} $.\\n    $= (\\\\sqrt{1-y^4})^2 + y^4)^{1/2}$\\n    $= (1-y^4 + y^4)^{1/2}$\\n    $= (1)^{1/2}$\\n    $= 1$\\n\\nBased on the typical simplification patterns of such problems, the result is 1, assuming the likely typo ($1/y^2$ meant to be $1/y$).\" final_answer='1'\n"
     ]
    }
   ],
   "source": [
    "print(solution_response.get_pydantic_model(SolutionModel))"
   ]
  },
  {
   "cell_type": "code",
   "execution_count": 149,
   "metadata": {},
   "outputs": [
    {
     "name": "stdout",
     "output_type": "stream",
     "text": [
      "{\n",
      "  \"success\": true,\n",
      "  \"data\": {\n",
      "    \"explanation\": \"To find the acceleration, we use the formula relating initial velocity, final velocity, time, and acceleration. The formula is: `v = u + at` Where: * `v` = final velocity * `u` = initial velocity * `a` = acceleration * `t` = time Given the following values: * Initial velocity (`u`) = 0 m/s (since the car starts from rest) * Final velocity (`v`) = 20 m/s * Time (`t`) = 5 s Substitute the known values into the formula: `20 m/s = 0 m/s + a * 5 s` Simplify the equation: `20 m/s = a * 5 s` To solve for `a`, divide both sides of the equation by 5 s: `a = 20 m/s / 5 s` `a = 4 m/s\\u00b2` Therefore, the acceleration of the car is 4 m/s\\u00b2.\",\n",
      "    \"final_answer\": \"4 m/s\\u00b2\"\n",
      "  },\n",
      "  \"processing_time_ms\": 10166,\n",
      "  \"request_id\": \"1755508644-140000439180368\"\n",
      "}\n"
     ]
    }
   ],
   "source": [
    "import requests\n",
    "import json\n",
    "\n",
    "URL = \"http://127.0.0.1:8000/solve\"\n",
    "\n",
    "QUESTION = \"A car accelerates from rest to a speed of 20 m/s in 5 seconds. What is its acceleration?\"\n",
    "\n",
    "payload = {\n",
    "    \"question\": QUESTION\n",
    "}\n",
    "\n",
    "response = requests.post(URL, json=payload)\n",
    "    \n",
    "response.raise_for_status()\n",
    "    \n",
    "print(json.dumps(response.json(), indent=2))"
   ]
  },
  {
   "cell_type": "code",
   "execution_count": 158,
   "metadata": {},
   "outputs": [],
   "source": [
    "# A standard solution builder with similar questions\n",
    "\n",
    "\n",
    "\n",
    "from llama_index.core.bridge.pydantic import BaseModel\n",
    "from llama_index.core.agent.workflow import FunctionAgent\n",
    "from llama_index.llms.google_genai import GoogleGenAI\n",
    "from google.genai import types\n",
    "\n",
    "import os\n",
    "from dotenv import load_dotenv\n",
    "load_dotenv()\n",
    "\n",
    "code_execution_tool = types.Tool(code_execution=types.ToolCodeExecution())\n",
    "\n",
    "from difflib import SequenceMatcher\n",
    "from typing import List\n",
    "\n",
    "\n",
    "class SimilarQuestion(BaseModel):\n",
    "    similar_question_text: str\n",
    "    similarity_score: float\n",
    "    summarized_solution_approach: str\n",
    "    \n",
    "\n",
    "\n",
    "llm = GoogleGenAI(\n",
    "    model=\"gemini-2.5-flash\",\n",
    "    api_key = os.getenv(\"GEMINI_API_KEY\"),\n",
    "    generation_config=types.GenerateContentConfig(\n",
    "        max_output_tokens=8192,\n",
    "        thinking_config=types.ThinkingConfig(\n",
    "            thinking_budget=-1\n",
    "        ),\n",
    "    ),\n",
    "    # built_in_tool=code_execution_tool, seems to not support application/json, ideally, azure dynamic sessions can be used for code interpretor\n",
    ")\n",
    "\n",
    "\n",
    "\n",
    "class SolutionModel(BaseModel):\n",
    "    # model_thoughts: str\n",
    "    explanation: str\n",
    "    final_answer: str\n",
    "\n",
    "\n",
    "\n",
    "solution_prompt = \"\"\"You are an academic expert at solving problems in the field of maths, physics and chemistry. \n",
    "\n",
    "You receive a question and you respond with an object with following keys:\n",
    "final_answer - the final answer to the question\n",
    "explanation - a step by step explanation of the solution approach\n",
    "\n",
    "Don't assume any typos from the core parts of the question, make sure to use the question exactly as it is given.\n",
    "The explanation should be a step by step solution approach to the given question so that the student can understand how you arrived to the solution.\n",
    "\n",
    "You should get similar questions via the tool get_similar_questions_tool for each question\n",
    "which accepts the question and responds with similar questions, their solution approaches and vector similarity scores.\n",
    "You must pass the question that you receive identically to the function without changing a single character into the tool.\n",
    "\n",
    "Substantiate your answer by comparing it to the similar questions' solution approaches and come up with the final answer. \n",
    "You can ignore similar questions if not relevant to given question         \n",
    "\n",
    "Make sure to keep final answer direct and as short as possible and keep the step by step explanation to the explanation portion of the object.\n",
    "\"\"\"\n",
    "async def get_similar_questions(question: str) -> List[SimilarQuestion]:\n",
    "    \"\"\" Get most similar question from dataset and return its similar questions \"\"\"\n",
    "    with open('similar_question_data.json') as f:\n",
    "        data = json.load(f)\n",
    "\n",
    "    best_match = max(\n",
    "        data,\n",
    "        key=lambda q: SequenceMatcher(None, q['question_text'], question).ratio()\n",
    "    )\n",
    "\n",
    "    return [SimilarQuestion(**sq) for sq in best_match.get('similar_questions', [])]\n",
    "\n",
    "\n",
    "solution_agent = FunctionAgent(\n",
    "    name=\"SolutionAgent\",\n",
    "    description=\"It builds thorough solutions to the given problem\",\n",
    "    system_prompt=(\n",
    "        solution_prompt\n",
    "    ),\n",
    "    llm=llm,\n",
    "    output_cls=SolutionModel,\n",
    "    timeout=120,\n",
    "    tools=[get_similar_questions]\n",
    "\n",
    ")"
   ]
  },
  {
   "cell_type": "code",
   "execution_count": 159,
   "metadata": {},
   "outputs": [
    {
     "data": {
      "text/plain": [
       "[SimilarQuestion(similar_question_text='Let A = $\\\\begin{pmatrix} 1+i & 1 \\\\ -i & 0 \\\\end{pmatrix}$ where I = $\\\\sqrt{-1}$. Then, the number of elements in the set {n$\\\\in$ {1,2, ....., 100} : $A^n$ = A} is', similarity_score=0.981, summarized_solution_approach='The solution calculates $A^2$ and $A^4$. It finds that $A^4 = I$ (identity matrix). Consequently, $A^5 = A, A^9 = A$, and so on. The values of n for which $A^n = A$ form an arithmetic progression: n = 1, 5, 9, ..., 97. The number of terms in this sequence is then calculated, which gives the number of elements in the set.'),\n",
       " SimilarQuestion(similar_question_text='Let $$A = \\\\left( {\\\\matrix{\\n   {1 + i} & 1  \\\\cr \\n   { - i} & 0  \\\\cr \\n\\n } } \\\\right)$$ where $$i = \\\\sqrt { - 1} $$. Then, the number of elements in the set { n $$\\\\in$$ {1, 2, ......, 100} : A n = A } is ____________.', similarity_score=0.98, summarized_solution_approach='First, the solution calculates A^2 and A^4. It finds that A^4 equals the identity matrix I. Consequently, A^5 = A, A^9 = A, and so on. The values of n for which A^n = A are 1, 5, 9, ..., 97. The number of such values of n is 25.')]"
      ]
     },
     "execution_count": 159,
     "metadata": {},
     "output_type": "execute_result"
    }
   ],
   "source": [
    "await get_similar_questions(data[0][\"question_text\"])"
   ]
  },
  {
   "cell_type": "code",
   "execution_count": 160,
   "metadata": {},
   "outputs": [],
   "source": [
    "from llama_index.core.agent.workflow import (\n",
    "    AgentInput,\n",
    "    AgentOutput,\n",
    "    ToolCall,\n",
    "    ToolCallResult,\n",
    "    AgentStream,\n",
    ")\n",
    "from llama_index.core.workflow import Context\n",
    "\n",
    "\n",
    "async def run_solution_agent( user_msg: str):\n",
    "    handler = solution_agent.run(\n",
    "        user_msg=user_msg,\n",
    "    )\n",
    "\n",
    "    async for event in handler.stream_events():\n",
    "        if isinstance(event, AgentStream):\n",
    "            if event.delta:\n",
    "                print(event.delta, end=\"\", flush=True)\n",
    "        # elif isinstance(event, AgentInput):\n",
    "        #     print(\"📥 Input:\", event.input)\n",
    "        elif isinstance(event, AgentOutput):\n",
    "            # Skip printing the output since we are streaming above\n",
    "            # if event.response.content:\n",
    "            #     print(\"📤 Output:\", event.response.content)\n",
    "            if event.tool_calls:\n",
    "                print(\n",
    "                    \"🛠️  Planning to use tools:\",\n",
    "                    [call.tool_name for call in event.tool_calls],\n",
    "                )\n",
    "            else:\n",
    "                return event.response.content\n",
    "        elif isinstance(event, ToolCallResult):\n",
    "            print(f\"🔧 Tool Result ({event.tool_name}):\")\n",
    "            print(f\"  Arguments: {event.tool_kwargs}\")\n",
    "            print(f\"  Output: {event.tool_output}\")\n",
    "        elif isinstance(event, ToolCall):\n",
    "            print(f\"🔨 Calling Tool: {event.tool_name}\")\n",
    "            print(f\"  With arguments: {event.tool_kwargs}\")\n"
   ]
  },
  {
   "cell_type": "code",
   "execution_count": 161,
   "metadata": {},
   "outputs": [
    {
     "name": "stdout",
     "output_type": "stream",
     "text": [
      "🛠️  Planning to use tools: ['get_similar_questions']\n",
      "🔨 Calling Tool: get_similar_questions\n",
      "  With arguments: {'question': 'माना A = $\\\\begin{pmatrix} 1+i & 1 \\\\ -i & 0 \\\\end{pmatrix}$, जहाँ i = √-1 है। तो समुच्चय { n ∈ {1,2,......,100} : $A^n$ = A} में अवयवों की संख्या है _______'}\n",
      "🔧 Tool Result (get_similar_questions):\n",
      "  Arguments: {'question': 'माना A = $\\\\begin{pmatrix} 1+i & 1 \\\\ -i & 0 \\\\end{pmatrix}$, जहाँ i = √-1 है। तो समुच्चय { n ∈ {1,2,......,100} : $A^n$ = A} में अवयवों की संख्या है _______'}\n",
      "  Output: [SimilarQuestion(similar_question_text='Let A = $\\\\begin{pmatrix} 1+i & 1 \\\\ -i & 0 \\\\end{pmatrix}$ where I = $\\\\sqrt{-1}$. Then, the number of elements in the set {n$\\\\in$ {1,2, ....., 100} : $A^n$ = A} is', similarity_score=0.981, summarized_solution_approach='The solution calculates $A^2$ and $A^4$. It finds that $A^4 = I$ (identity matrix). Consequently, $A^5 = A, A^9 = A$, and so on. The values of n for which $A^n = A$ form an arithmetic progression: n = 1, 5, 9, ..., 97. The number of terms in this sequence is then calculated, which gives the number of elements in the set.'), SimilarQuestion(similar_question_text='Let $$A = \\\\left( {\\\\matrix{\\n   {1 + i} & 1  \\\\cr \\n   { - i} & 0  \\\\cr \\n\\n } } \\\\right)$$ where $$i = \\\\sqrt { - 1} $$. Then, the number of elements in the set { n $$\\\\in$$ {1, 2, ......, 100} : A n = A } is ____________.', similarity_score=0.98, summarized_solution_approach='First, the solution calculates A^2 and A^4. It finds that A^4 equals the identity matrix I. Consequently, A^5 = A, A^9 = A, and so on. The values of n for which A^n = A are 1, 5, 9, ..., 97. The number of such values of n is 25.')]\n",
      "The final answer is 25.\n",
      "\n",
      "**Explanation:**\n",
      "\n",
      "To find the number of elements in the set { n ∈ {1,2,......,100} : $A^n$ = A}, we need to determine the pattern of powers of matrix A.\n",
      "\n",
      "1.  **Calculate $A^2$:**\n",
      "    Given A = $\\begin{pmatrix} 1+i & 1 \\\\ -i & 0 \\end{pmatrix}$\n",
      "    $A^2 = A \\cdot A = \\begin{pmatrix} 1+i & 1 \\\\ -i & 0 \\end{pmatrix} \\begin{pmatrix} 1+i & 1 \\\\ -i & 0 \\end{pmatrix}$\n",
      "    $A^2 = \\begin{pmatrix} (1+i)(1+i) + (1)(-i) & (1+i)(1) + (1)(0) \\\\ (-i)(1+i) + (0)(-i) & (-i)(1) + (0)(0) \\end{pmatrix}$\n",
      "    $A^2 = \\begin{pmatrix} (1 + 2i + i^2) - i & 1+i \\\\ -i - i^2 & -i \\end{pmatrix}$\n",
      "    Since $i^2 = -1$:\n",
      "    $A^2 = \\begin{pmatrix} (1 + 2i - 1) - i & 1+i \\\\ -i - (-1) & -i \\end{pmatrix} = \\begin{pmatrix} i & 1+i \\\\ 1-i & -i \\end{pmatrix}$\n",
      "\n",
      "2.  **Calculate $A^3$:**\n",
      "    $A^3 = A^2 \\cdot A = \\begin{pmatrix} i & 1+i \\\\ 1-i & -i \\end{pmatrix} \\begin{pmatrix} 1+i & 1 \\\\ -i & 0 \\end{pmatrix}$\n",
      "    $A^3 = \\begin{pmatrix} i(1+i) + (1+i)(-i) & i(1) + (1+i)(0) \\\\ (1-i)(1+i) + (-i)(-i) & (1-i)(1) + (-i)(0) \\end{pmatrix}$\n",
      "    $A^3 = \\begin{pmatrix} i + i^2 - i - i^2 & i \\\\ (1 - i^2) + i^2 & 1-i \\end{pmatrix}$\n",
      "    $A^3 = \\begin{pmatrix} i - 1 - i + 1 & i \\\\ (1 - (-1)) - 1 & 1-i \\end{pmatrix} = \\begin{pmatrix} 0 & i \\\\ 2 - 1 & 1-i \\end{pmatrix} = \\begin{pmatrix} 0 & i \\\\ 1 & 1-i \\end{pmatrix}$\n",
      "\n",
      "3.  **Calculate $A^4$:**\n",
      "    $A^4 = A^3 \\cdot A = \\begin{pmatrix} 0 & i \\\\ 1 & 1-i \\end{pmatrix} \\begin{pmatrix} 1+i & 1 \\\\ -i & 0 \\end{pmatrix}$\n",
      "    $A^4 = \\begin{pmatrix} 0(1+i) + i(-i) & 0(1) + i(0) \\\\ 1(1+i) + (1-i)(-i) & 1(1) + (1-i)(0) \\end{pmatrix}$\n",
      "    $A^4 = \\begin{pmatrix} -i^2 & 0 \\\\ 1+i -i + i^2 & 1 \\end{pmatrix}$\n",
      "    $A^4 = \\begin{pmatrix} -(-1) & 0 \\\\ 1 - 1 & 1 \\end{pmatrix} = \\begin{pmatrix} 1 & 0 \\\\ 0 & 1 \\end{pmatrix}$\n",
      "    So, $A^4 = I$ (the identity matrix).\n",
      "\n",
      "4.  **Find n such that $A^n = A$:**\n",
      "    Since $A^4 = I$, the powers of A repeat in a cycle of 4: A, $A^2$, $A^3$, I, A, $A^2$, $A^3$, I, ...\n",
      "    We are given the condition $A^n = A$.\n",
      "    Since the determinant of A, det(A) = $(1+i)(0) - (1)(-i) = i \\neq 0$, matrix A is invertible.\n",
      "    We can multiply both sides of $A^n = A$ by $A^{-1}$:\n",
      "    $A^n \\cdot A^{-1} = A \\cdot A^{-1}$\n",
      "    $A^{n-1} = I$\n",
      "\n",
      "    For $A^{n-1}$ to be the identity matrix, (n-1) must be a multiple of the cycle length, which is 4.\n",
      "    So, $n-1 = 4k$ for some non-negative integer k.\n",
      "    This implies $n = 4k + 1$.\n",
      "\n",
      "5.  **Count the number of 'n' in the given set:**\n",
      "    We need to find the number of values of n in the set {1, 2, ..., 100} that satisfy $n = 4k + 1$.\n",
      "    The inequality is $1 \\le 4k + 1 \\le 100$.\n",
      "    Subtract 1 from all parts of the inequality:\n",
      "    $1 - 1 \\le 4k \\le 100 - 1$\n",
      "    $0 \\le 4k \\le 99$\n",
      "    Divide by 4:\n",
      "    $\\frac{0}{4} \\le k \\le \\frac{99}{4}$\n",
      "    $0 \\le k \\le 24.75$\n",
      "\n",
      "    Since k must be an integer, the possible integer values for k are 0, 1, 2, ..., 24.\n",
      "    The number of such integer values for k is $24 - 0 + 1 = 25$.\n",
      "    Each integer value of k corresponds to a unique value of n that satisfies the condition.\n",
      "\n",
      "Therefore, there are 25 elements in the set.\n",
      "\n",
      "This solution approach is consistent with the summarized solution approaches of similar questions found using the `get_similar_questions_tool`."
     ]
    },
    {
     "data": {
      "text/plain": [
       "\"The final answer is 25.\\n\\n**Explanation:**\\n\\nTo find the number of elements in the set { n ∈ {1,2,......,100} : $A^n$ = A}, we need to determine the pattern of powers of matrix A.\\n\\n1.  **Calculate $A^2$:**\\n    Given A = $\\\\begin{pmatrix} 1+i & 1 \\\\\\\\ -i & 0 \\\\end{pmatrix}$\\n    $A^2 = A \\\\cdot A = \\\\begin{pmatrix} 1+i & 1 \\\\\\\\ -i & 0 \\\\end{pmatrix} \\\\begin{pmatrix} 1+i & 1 \\\\\\\\ -i & 0 \\\\end{pmatrix}$\\n    $A^2 = \\\\begin{pmatrix} (1+i)(1+i) + (1)(-i) & (1+i)(1) + (1)(0) \\\\\\\\ (-i)(1+i) + (0)(-i) & (-i)(1) + (0)(0) \\\\end{pmatrix}$\\n    $A^2 = \\\\begin{pmatrix} (1 + 2i + i^2) - i & 1+i \\\\\\\\ -i - i^2 & -i \\\\end{pmatrix}$\\n    Since $i^2 = -1$:\\n    $A^2 = \\\\begin{pmatrix} (1 + 2i - 1) - i & 1+i \\\\\\\\ -i - (-1) & -i \\\\end{pmatrix} = \\\\begin{pmatrix} i & 1+i \\\\\\\\ 1-i & -i \\\\end{pmatrix}$\\n\\n2.  **Calculate $A^3$:**\\n    $A^3 = A^2 \\\\cdot A = \\\\begin{pmatrix} i & 1+i \\\\\\\\ 1-i & -i \\\\end{pmatrix} \\\\begin{pmatrix} 1+i & 1 \\\\\\\\ -i & 0 \\\\end{pmatrix}$\\n    $A^3 = \\\\begin{pmatrix} i(1+i) + (1+i)(-i) & i(1) + (1+i)(0) \\\\\\\\ (1-i)(1+i) + (-i)(-i) & (1-i)(1) + (-i)(0) \\\\end{pmatrix}$\\n    $A^3 = \\\\begin{pmatrix} i + i^2 - i - i^2 & i \\\\\\\\ (1 - i^2) + i^2 & 1-i \\\\end{pmatrix}$\\n    $A^3 = \\\\begin{pmatrix} i - 1 - i + 1 & i \\\\\\\\ (1 - (-1)) - 1 & 1-i \\\\end{pmatrix} = \\\\begin{pmatrix} 0 & i \\\\\\\\ 2 - 1 & 1-i \\\\end{pmatrix} = \\\\begin{pmatrix} 0 & i \\\\\\\\ 1 & 1-i \\\\end{pmatrix}$\\n\\n3.  **Calculate $A^4$:**\\n    $A^4 = A^3 \\\\cdot A = \\\\begin{pmatrix} 0 & i \\\\\\\\ 1 & 1-i \\\\end{pmatrix} \\\\begin{pmatrix} 1+i & 1 \\\\\\\\ -i & 0 \\\\end{pmatrix}$\\n    $A^4 = \\\\begin{pmatrix} 0(1+i) + i(-i) & 0(1) + i(0) \\\\\\\\ 1(1+i) + (1-i)(-i) & 1(1) + (1-i)(0) \\\\end{pmatrix}$\\n    $A^4 = \\\\begin{pmatrix} -i^2 & 0 \\\\\\\\ 1+i -i + i^2 & 1 \\\\end{pmatrix}$\\n    $A^4 = \\\\begin{pmatrix} -(-1) & 0 \\\\\\\\ 1 - 1 & 1 \\\\end{pmatrix} = \\\\begin{pmatrix} 1 & 0 \\\\\\\\ 0 & 1 \\\\end{pmatrix}$\\n    So, $A^4 = I$ (the identity matrix).\\n\\n4.  **Find n such that $A^n = A$:**\\n    Since $A^4 = I$, the powers of A repeat in a cycle of 4: A, $A^2$, $A^3$, I, A, $A^2$, $A^3$, I, ...\\n    We are given the condition $A^n = A$.\\n    Since the determinant of A, det(A) = $(1+i)(0) - (1)(-i) = i \\\\neq 0$, matrix A is invertible.\\n    We can multiply both sides of $A^n = A$ by $A^{-1}$:\\n    $A^n \\\\cdot A^{-1} = A \\\\cdot A^{-1}$\\n    $A^{n-1} = I$\\n\\n    For $A^{n-1}$ to be the identity matrix, (n-1) must be a multiple of the cycle length, which is 4.\\n    So, $n-1 = 4k$ for some non-negative integer k.\\n    This implies $n = 4k + 1$.\\n\\n5.  **Count the number of 'n' in the given set:**\\n    We need to find the number of values of n in the set {1, 2, ..., 100} that satisfy $n = 4k + 1$.\\n    The inequality is $1 \\\\le 4k + 1 \\\\le 100$.\\n    Subtract 1 from all parts of the inequality:\\n    $1 - 1 \\\\le 4k \\\\le 100 - 1$\\n    $0 \\\\le 4k \\\\le 99$\\n    Divide by 4:\\n    $\\\\frac{0}{4} \\\\le k \\\\le \\\\frac{99}{4}$\\n    $0 \\\\le k \\\\le 24.75$\\n\\n    Since k must be an integer, the possible integer values for k are 0, 1, 2, ..., 24.\\n    The number of such integer values for k is $24 - 0 + 1 = 25$.\\n    Each integer value of k corresponds to a unique value of n that satisfies the condition.\\n\\nTherefore, there are 25 elements in the set.\\n\\nThis solution approach is consistent with the summarized solution approaches of similar questions found using the `get_similar_questions_tool`.\""
      ]
     },
     "execution_count": 161,
     "metadata": {},
     "output_type": "execute_result"
    }
   ],
   "source": [
    "await run_solution_agent(\n",
    "        user_msg= f\"\"\"\n",
    "     Question:\n",
    "    {data[0][\"question_text\"]}\n",
    "    \"\"\",\n",
    "    )"
   ]
  },
  {
   "cell_type": "code",
   "execution_count": 162,
   "metadata": {},
   "outputs": [],
   "source": [
    "solution_response = await solution_agent.run(\n",
    "        user_msg= f\"\"\"\n",
    "     Question:\n",
    "    {data[2][\"question_text\"]}\n",
    "    \"\"\",\n",
    "    )"
   ]
  },
  {
   "cell_type": "code",
   "execution_count": 165,
   "metadata": {},
   "outputs": [
    {
     "data": {
      "text/plain": [
       "{'explanation': \"To solve this problem, we first simplify the given series for 'y' by identifying a pattern in its partial sums. Then, we use logarithmic differentiation to find the derivative of 'y' with respect to 'x'. Finally, we manipulate the derived expression to match the form given in the problem statement.\\n\\n**Step 1: Simplify the expression for y**\\n\\nLet the given series be denoted by \\\\(y\\\\). The series is:\\n\\\\(y = 1 + \\\\frac{x_1}{x - x_1} + \\\\frac{x_2 \\\\cdot x}{(x - x_1)(x - x_2)} + \\\\frac{x_3 \\\\cdot x^2}{(x - x_1)(x - x_2)(x - x_3)} + \\\\dots \\\\) upto \\\\((n + 1)\\\\) terms.\\n\\nLet's examine the partial sums of the series:\\nFor the first term: \\\\(S_0 = 1\\\\)\\n\\nFor the first two terms:\\n\\\\(S_1 = 1 + \\\\frac{x_1}{x - x_1} = \\\\frac{(x - x_1) + x_1}{x - x_1} = \\\\frac{x}{x - x_1}\\\\)\\n\\nFor the first three terms:\\n\\\\(S_2 = S_1 + \\\\frac{x_2 \\\\cdot x}{(x - x_1)(x - x_2)} = \\\\frac{x}{x - x_1} + \\\\frac{x_2 \\\\cdot x}{(x - x_1)(x - x_2)}\\\\)\\n\\\\(S_2 = \\\\frac{x(x - x_2) + x_2 x}{(x - x_1)(x - x_2)} = \\\\frac{x^2 - x x_2 + x x_2}{(x - x_1)(x - x_2)} = \\\\frac{x^2}{(x - x_1)(x - x_2)}\\\\)\\n\\nFrom this pattern, we can hypothesize that the sum of the first \\\\((k+1)\\\\) terms is \\\\(S_k = \\\\frac{x^k}{\\\\prod_{i=1}^{k}(x - x_i)}\\\\). We prove this by induction.\\n\\nBase case: For \\\\(k=1\\\\), \\\\(S_1 = \\\\frac{x^1}{(x - x_1)} = \\\\frac{x}{x - x_1}\\\\), which is true.\\n\\nInductive step: Assume that for some integer \\\\(k \\\\ge 1\\\\), \\\\(S_k = \\\\frac{x^k}{\\\\prod_{i=1}^{k}(x - x_i)}\\\\).\\nNow consider \\\\(S_{k+1}\\\\), which includes the \\\\((k+1)\\\\)-th term of the sum (which is the \\\\((k+2)\\\\)-th term of the original series if we start counting from 1 as the first term). The \\\\((k+1)\\\\)-th term in the summation part (starting from \\\\(x_1\\\\)) is \\\\(\\\\frac{x_{k+1} \\\\cdot x^k}{(x - x_1)\\\\dots(x - x_{k+1})}\\\\).\\n\\\\(S_{k+1} = S_k + \\\\frac{x_{k+1} \\\\cdot x^k}{\\\\prod_{i=1}^{k+1}(x - x_i)}\\\\)\\n\\\\(S_{k+1} = \\\\frac{x^k}{\\\\prod_{i=1}^{k}(x - x_i)} + \\\\frac{x_{k+1} \\\\cdot x^k}{\\\\left(\\\\prod_{i=1}^{k}(x - x_i)\\\\right)(x - x_{k+1})}\\\\)\\nFactor out \\\\(\\\\frac{x^k}{\\\\prod_{i=1}^{k}(x - x_i)}\\\\):\\n\\\\(S_{k+1} = \\\\frac{x^k}{\\\\prod_{i=1}^{k}(x - x_i)} \\\\left[ 1 + \\\\frac{x_{k+1}}{x - x_{k+1}} \\\\right]\\\\)\\n\\\\(S_{k+1} = \\\\frac{x^k}{\\\\prod_{i=1}^{k}(x - x_i)} \\\\left[ \\\\frac{(x - x_{k+1}) + x_{k+1}}{x - x_{k+1}} \\\\right]\\\\)\\n\\\\(S_{k+1} = \\\\frac{x^k}{\\\\prod_{i=1}^{k}(x - x_i)} \\\\left[ \\\\frac{x}{x - x_{k+1}} \\\\right]\\\\)\\n\\\\(S_{k+1} = \\\\frac{x^{k+1}}{\\\\prod_{i=1}^{k+1}(x - x_i)}\\\\)\\nBy mathematical induction, the sum of the series up to \\\\((n+1)\\\\) terms is \\\\(y = S_n = \\\\frac{x^n}{\\\\prod_{i=1}^{n}(x - x_i)}\\\\).\\n\\n**Step 2: Differentiate y using logarithmic differentiation**\\n\\nWe have \\\\(y = \\\\frac{x^n}{(x - x_1)(x - x_2)\\\\dots(x - x_n)}\\\\).\\nTake the natural logarithm of both sides:\\n\\\\(\\\\ln y = \\\\ln \\\\left( \\\\frac{x^n}{\\\\prod_{i=1}^{n}(x - x_i)} \\\\right)\\\\)\\nUsing logarithm properties, \\\\(\\\\ln(A/B) = \\\\ln A - \\\\ln B\\\\) and \\\\(\\\\ln(AB) = \\\\ln A + \\\\ln B\\\\):\\n\\\\(\\\\ln y = \\\\ln(x^n) - \\\\ln\\\\left( (x - x_1)(x - x_2)\\\\dots(x - x_n) \\\\right)\\\\)\\n\\\\(\\\\ln y = n \\\\ln x - \\\\left( \\\\ln(x - x_1) + \\\\ln(x - x_2) + \\\\dots + \\\\ln(x - x_n) \\\\right)\\\\)\\n\\\\(\\\\ln y = n \\\\ln x - \\\\sum_{i=1}^{n} \\\\ln(x - x_i)\\\\)\\n\\nNow, differentiate both sides with respect to \\\\(x\\\\):\\n\\\\(\\\\frac{1}{y} \\\\frac{dy}{dx} = \\\\frac{d}{dx} (n \\\\ln x) - \\\\frac{d}{dx} \\\\left( \\\\sum_{i=1}^{n} \\\\ln(x - x_i) \\\\right)\\\\)\\n\\\\(\\\\frac{1}{y} \\\\frac{dy}{dx} = n \\\\cdot \\\\frac{1}{x} - \\\\sum_{i=1}^{n} \\\\frac{1}{x - x_i}\\\\)\\nRearrange the sum term:\\n\\\\(\\\\frac{1}{y} \\\\frac{dy}{dx} = \\\\frac{n}{x} + \\\\sum_{i=1}^{n} \\\\frac{1}{-(x - x_i)}\\\\)\\n\\\\(\\\\frac{1}{y} \\\\frac{dy}{dx} = \\\\frac{n}{x} + \\\\sum_{i=1}^{n} \\\\frac{1}{x_i - x}\\\\)\\nMultiply both sides by \\\\(y\\\\):\\n\\\\(\\\\frac{dy}{dx} = y \\\\left( \\\\frac{n}{x} + \\\\sum_{i=1}^{n} \\\\frac{1}{x_i - x} \\\\right)\\\\)\\n\\n**Step 3: Manipulate the result to match the required form**\\n\\nThe expression to prove is:\\n\\\\(\\\\frac{dy}{dx} = \\\\frac{y}{x} \\\\left[ \\\\frac{x_1}{x_1 - x} + \\\\frac{x_2}{x_2 - x} + \\\\frac{x_3}{x_3 - x} + \\\\dots + \\\\frac{x_n}{x_n - x} \\\\right]\\\\)\\n\\nLet's work with the sum term in the required expression:\\n\\\\(\\\\sum_{i=1}^{n} \\\\frac{x_i}{x_i - x}\\\\)\\nWe can rewrite each term \\\\(\\\\frac{x_i}{x_i - x}\\\\) as follows:\\n\\\\(\\\\frac{x_i}{x_i - x} = \\\\frac{x_i - x + x}{x_i - x} = \\\\frac{x_i - x}{x_i - x} + \\\\frac{x}{x_i - x} = 1 + \\\\frac{x}{x_i - x}\\\\)\\n\\nSubstitute this back into the sum:\\n\\\\(\\\\sum_{i=1}^{n} \\\\left( 1 + \\\\frac{x}{x_i - x} \\\\right) = \\\\sum_{i=1}^{n} 1 + \\\\sum_{i=1}^{n} \\\\frac{x}{x_i - x}\\\\)\\n\\\\(= n + x \\\\sum_{i=1}^{n} \\\\frac{1}{x_i - x}\\\\)\\n\\nNow, substitute this back into the required expression for \\\\(\\\\frac{dy}{dx}\\\\):\\n\\\\(\\\\frac{dy}{dx} = \\\\frac{y}{x} \\\\left[ n + x \\\\sum_{i=1}^{n} \\\\frac{1}{x_i - x} \\\\right]\\\\)\\nDistribute \\\\(\\\\frac{y}{x}\\\\):\\n\\\\(\\\\frac{dy}{dx} = y \\\\left( \\\\frac{n}{x} + \\\\frac{x}{x} \\\\sum_{i=1}^{n} \\\\frac{1}{x_i - x} \\\\right)\\\\)\\n\\\\(\\\\frac{dy}{dx} = y \\\\left( \\\\frac{n}{x} + \\\\sum_{i=1}^{n} \\\\frac{1}{x_i - x} \\\\right)\\\\)\\n\\nThis matches the expression for \\\\(\\\\frac{dy}{dx}\\\\) derived in Step 2.\\nThus, the given statement is proven.\",\n",
       " 'final_answer': '\\\\(\\\\frac{dy}{dx} = \\\\frac{y}{x} \\\\left[ \\\\frac{x_1}{x_1 - x} + \\\\frac{x_2}{x_2 - x} + \\\\frac{x_3}{x_3 - x} + \\\\dots + \\\\frac{x_n}{x_n - x} \\\\right]\\\\)'}"
      ]
     },
     "execution_count": 165,
     "metadata": {},
     "output_type": "execute_result"
    }
   ],
   "source": [
    "solution_response.structured_response"
   ]
  },
  {
   "cell_type": "code",
   "execution_count": 163,
   "metadata": {},
   "outputs": [
    {
     "name": "stdout",
     "output_type": "stream",
     "text": [
      "explanation=\"To solve this problem, we first simplify the given series for 'y' by identifying a pattern in its partial sums. Then, we use logarithmic differentiation to find the derivative of 'y' with respect to 'x'. Finally, we manipulate the derived expression to match the form given in the problem statement.\\n\\n**Step 1: Simplify the expression for y**\\n\\nLet the given series be denoted by \\\\(y\\\\). The series is:\\n\\\\(y = 1 + \\\\frac{x_1}{x - x_1} + \\\\frac{x_2 \\\\cdot x}{(x - x_1)(x - x_2)} + \\\\frac{x_3 \\\\cdot x^2}{(x - x_1)(x - x_2)(x - x_3)} + \\\\dots \\\\) upto \\\\((n + 1)\\\\) terms.\\n\\nLet's examine the partial sums of the series:\\nFor the first term: \\\\(S_0 = 1\\\\)\\n\\nFor the first two terms:\\n\\\\(S_1 = 1 + \\\\frac{x_1}{x - x_1} = \\\\frac{(x - x_1) + x_1}{x - x_1} = \\\\frac{x}{x - x_1}\\\\)\\n\\nFor the first three terms:\\n\\\\(S_2 = S_1 + \\\\frac{x_2 \\\\cdot x}{(x - x_1)(x - x_2)} = \\\\frac{x}{x - x_1} + \\\\frac{x_2 \\\\cdot x}{(x - x_1)(x - x_2)}\\\\)\\n\\\\(S_2 = \\\\frac{x(x - x_2) + x_2 x}{(x - x_1)(x - x_2)} = \\\\frac{x^2 - x x_2 + x x_2}{(x - x_1)(x - x_2)} = \\\\frac{x^2}{(x - x_1)(x - x_2)}\\\\)\\n\\nFrom this pattern, we can hypothesize that the sum of the first \\\\((k+1)\\\\) terms is \\\\(S_k = \\\\frac{x^k}{\\\\prod_{i=1}^{k}(x - x_i)}\\\\). We prove this by induction.\\n\\nBase case: For \\\\(k=1\\\\), \\\\(S_1 = \\\\frac{x^1}{(x - x_1)} = \\\\frac{x}{x - x_1}\\\\), which is true.\\n\\nInductive step: Assume that for some integer \\\\(k \\\\ge 1\\\\), \\\\(S_k = \\\\frac{x^k}{\\\\prod_{i=1}^{k}(x - x_i)}\\\\).\\nNow consider \\\\(S_{k+1}\\\\), which includes the \\\\((k+1)\\\\)-th term of the sum (which is the \\\\((k+2)\\\\)-th term of the original series if we start counting from 1 as the first term). The \\\\((k+1)\\\\)-th term in the summation part (starting from \\\\(x_1\\\\)) is \\\\(\\\\frac{x_{k+1} \\\\cdot x^k}{(x - x_1)\\\\dots(x - x_{k+1})}\\\\).\\n\\\\(S_{k+1} = S_k + \\\\frac{x_{k+1} \\\\cdot x^k}{\\\\prod_{i=1}^{k+1}(x - x_i)}\\\\)\\n\\\\(S_{k+1} = \\\\frac{x^k}{\\\\prod_{i=1}^{k}(x - x_i)} + \\\\frac{x_{k+1} \\\\cdot x^k}{\\\\left(\\\\prod_{i=1}^{k}(x - x_i)\\\\right)(x - x_{k+1})}\\\\)\\nFactor out \\\\(\\\\frac{x^k}{\\\\prod_{i=1}^{k}(x - x_i)}\\\\):\\n\\\\(S_{k+1} = \\\\frac{x^k}{\\\\prod_{i=1}^{k}(x - x_i)} \\\\left[ 1 + \\\\frac{x_{k+1}}{x - x_{k+1}} \\\\right]\\\\)\\n\\\\(S_{k+1} = \\\\frac{x^k}{\\\\prod_{i=1}^{k}(x - x_i)} \\\\left[ \\\\frac{(x - x_{k+1}) + x_{k+1}}{x - x_{k+1}} \\\\right]\\\\)\\n\\\\(S_{k+1} = \\\\frac{x^k}{\\\\prod_{i=1}^{k}(x - x_i)} \\\\left[ \\\\frac{x}{x - x_{k+1}} \\\\right]\\\\)\\n\\\\(S_{k+1} = \\\\frac{x^{k+1}}{\\\\prod_{i=1}^{k+1}(x - x_i)}\\\\)\\nBy mathematical induction, the sum of the series up to \\\\((n+1)\\\\) terms is \\\\(y = S_n = \\\\frac{x^n}{\\\\prod_{i=1}^{n}(x - x_i)}\\\\).\\n\\n**Step 2: Differentiate y using logarithmic differentiation**\\n\\nWe have \\\\(y = \\\\frac{x^n}{(x - x_1)(x - x_2)\\\\dots(x - x_n)}\\\\).\\nTake the natural logarithm of both sides:\\n\\\\(\\\\ln y = \\\\ln \\\\left( \\\\frac{x^n}{\\\\prod_{i=1}^{n}(x - x_i)} \\\\right)\\\\)\\nUsing logarithm properties, \\\\(\\\\ln(A/B) = \\\\ln A - \\\\ln B\\\\) and \\\\(\\\\ln(AB) = \\\\ln A + \\\\ln B\\\\):\\n\\\\(\\\\ln y = \\\\ln(x^n) - \\\\ln\\\\left( (x - x_1)(x - x_2)\\\\dots(x - x_n) \\\\right)\\\\)\\n\\\\(\\\\ln y = n \\\\ln x - \\\\left( \\\\ln(x - x_1) + \\\\ln(x - x_2) + \\\\dots + \\\\ln(x - x_n) \\\\right)\\\\)\\n\\\\(\\\\ln y = n \\\\ln x - \\\\sum_{i=1}^{n} \\\\ln(x - x_i)\\\\)\\n\\nNow, differentiate both sides with respect to \\\\(x\\\\):\\n\\\\(\\\\frac{1}{y} \\\\frac{dy}{dx} = \\\\frac{d}{dx} (n \\\\ln x) - \\\\frac{d}{dx} \\\\left( \\\\sum_{i=1}^{n} \\\\ln(x - x_i) \\\\right)\\\\)\\n\\\\(\\\\frac{1}{y} \\\\frac{dy}{dx} = n \\\\cdot \\\\frac{1}{x} - \\\\sum_{i=1}^{n} \\\\frac{1}{x - x_i}\\\\)\\nRearrange the sum term:\\n\\\\(\\\\frac{1}{y} \\\\frac{dy}{dx} = \\\\frac{n}{x} + \\\\sum_{i=1}^{n} \\\\frac{1}{-(x - x_i)}\\\\)\\n\\\\(\\\\frac{1}{y} \\\\frac{dy}{dx} = \\\\frac{n}{x} + \\\\sum_{i=1}^{n} \\\\frac{1}{x_i - x}\\\\)\\nMultiply both sides by \\\\(y\\\\):\\n\\\\(\\\\frac{dy}{dx} = y \\\\left( \\\\frac{n}{x} + \\\\sum_{i=1}^{n} \\\\frac{1}{x_i - x} \\\\right)\\\\)\\n\\n**Step 3: Manipulate the result to match the required form**\\n\\nThe expression to prove is:\\n\\\\(\\\\frac{dy}{dx} = \\\\frac{y}{x} \\\\left[ \\\\frac{x_1}{x_1 - x} + \\\\frac{x_2}{x_2 - x} + \\\\frac{x_3}{x_3 - x} + \\\\dots + \\\\frac{x_n}{x_n - x} \\\\right]\\\\)\\n\\nLet's work with the sum term in the required expression:\\n\\\\(\\\\sum_{i=1}^{n} \\\\frac{x_i}{x_i - x}\\\\)\\nWe can rewrite each term \\\\(\\\\frac{x_i}{x_i - x}\\\\) as follows:\\n\\\\(\\\\frac{x_i}{x_i - x} = \\\\frac{x_i - x + x}{x_i - x} = \\\\frac{x_i - x}{x_i - x} + \\\\frac{x}{x_i - x} = 1 + \\\\frac{x}{x_i - x}\\\\)\\n\\nSubstitute this back into the sum:\\n\\\\(\\\\sum_{i=1}^{n} \\\\left( 1 + \\\\frac{x}{x_i - x} \\\\right) = \\\\sum_{i=1}^{n} 1 + \\\\sum_{i=1}^{n} \\\\frac{x}{x_i - x}\\\\)\\n\\\\(= n + x \\\\sum_{i=1}^{n} \\\\frac{1}{x_i - x}\\\\)\\n\\nNow, substitute this back into the required expression for \\\\(\\\\frac{dy}{dx}\\\\):\\n\\\\(\\\\frac{dy}{dx} = \\\\frac{y}{x} \\\\left[ n + x \\\\sum_{i=1}^{n} \\\\frac{1}{x_i - x} \\\\right]\\\\)\\nDistribute \\\\(\\\\frac{y}{x}\\\\):\\n\\\\(\\\\frac{dy}{dx} = y \\\\left( \\\\frac{n}{x} + \\\\frac{x}{x} \\\\sum_{i=1}^{n} \\\\frac{1}{x_i - x} \\\\right)\\\\)\\n\\\\(\\\\frac{dy}{dx} = y \\\\left( \\\\frac{n}{x} + \\\\sum_{i=1}^{n} \\\\frac{1}{x_i - x} \\\\right)\\\\)\\n\\nThis matches the expression for \\\\(\\\\frac{dy}{dx}\\\\) derived in Step 2.\\nThus, the given statement is proven.\" final_answer='\\\\(\\\\frac{dy}{dx} = \\\\frac{y}{x} \\\\left[ \\\\frac{x_1}{x_1 - x} + \\\\frac{x_2}{x_2 - x} + \\\\frac{x_3}{x_3 - x} + \\\\dots + \\\\frac{x_n}{x_n - x} \\\\right]\\\\)'\n"
     ]
    }
   ],
   "source": [
    "print(solution_response.get_pydantic_model(SolutionModel))"
   ]
  },
  {
   "cell_type": "code",
   "execution_count": 167,
   "metadata": {},
   "outputs": [
    {
     "name": "stdout",
     "output_type": "stream",
     "text": [
      "{\n",
      "  \"success\": true,\n",
      "  \"data\": {\n",
      "    \"explanation\": \"The problem asks us to prove a derivative identity for a given series expression of y.\\n\\nThe given expression for y is:\\ny = 1 + \\\\frac{x_1}{x - x_1} + \\\\frac{x_2 \\\\cdot x}{(x - x_1)(x - x_2)} + \\\\frac{x_3 \\\\cdot x^2}{(x - x_1)(x - x_2)(x - x_3)} + \\\\dots \\\\text{ upto } (n + 1)\\\\text{ terms}\\n\\nWe need to prove that:\\n\\\\frac{dy}{dx} = \\\\frac{y}{x} \\\\left[ \\\\frac{x_1}{x_1 - x} + \\\\frac{x_2}{x_2 - x} + \\\\frac{x_3}{x_3 - x} + \\\\dots + \\\\frac{x_n}{x_n - x} \\\\right]\\n\\n### Step-by-step Explanation:\\n\\n**1. Simplify the expression for y:**\\nLet's examine the partial sums of the series for y:\\nThe first term: S_0 = 1\\nThe sum of the first two terms:\\nS_1 = 1 + \\\\frac{x_1}{x - x_1} = \\\\frac{x - x_1 + x_1}{x - x_1} = \\\\frac{x}{x - x_1}\\nThe sum of the first three terms:\\nS_2 = S_1 + \\\\frac{x_2 \\\\cdot x}{(x - x_1)(x - x_2)} = \\\\frac{x}{x - x_1} + \\\\frac{x_2 \\\\cdot x}{(x - x_1)(x - x_2)}\\nS_2 = \\\\frac{x(x - x_2) + x_2 x}{(x - x_1)(x - x_2)} = \\\\frac{x^2 - x x_2 + x x_2}{(x - x_1)(x - x_2)} = \\\\frac{x^2}{(x - x_1)(x - x_2)}\\nThe sum of the first four terms:\\nS_3 = S_2 + \\\\frac{x_3 \\\\cdot x^2}{(x - x_1)(x - x_2)(x - x_3)}\\nS_3 = \\\\frac{x^2}{(x - x_1)(x - x_2)} + \\\\frac{x_3 \\\\cdot x^2}{(x - x_1)(x - x_2)(x - x_3)}\\nS_3 = \\\\frac{x^2(x - x_3) + x_3 x^2}{(x - x_1)(x - x_2)(x - x_3)} = \\\\frac{x^3 - x^2 x_3 + x^2 x_3}{(x - x_1)(x - x_2)(x - x_3)} = \\\\frac{x^3}{(x - x_1)(x - x_2)(x - x_3)}\\n\\nFollowing this pattern, for (n+1) terms, the sum y simplifies to:\\ny = \\\\frac{x^n}{(x - x_1)(x - x_2)(x - x_3) \\\\dots (x - x_n)} = \\\\frac{x^n}{\\\\prod_{i=1}^n (x - x_i)}\\n\\n**2. Differentiate y using logarithmic differentiation:**\\nIt is easier to differentiate the simplified expression for y using logarithms.\\nTake the natural logarithm of both sides:\\n\\\\ln y = \\\\ln \\\\left( \\\\frac{x^n}{\\\\prod_{i=1}^n (x - x_i)} \\\\right)\\n\\\\ln y = \\\\ln(x^n) - \\\\ln\\\\left(\\\\prod_{i=1}^n (x - x_i)\\\\right)\\nUsing logarithm properties, \\\\ln(a^b) = b \\\\ln a and \\\\ln(\\\\prod a_i) = \\\\sum \\\\ln a_i:\\n\\\\ln y = n \\\\ln x - \\\\sum_{i=1}^n \\\\ln(x - x_i)\\n\\nNow, differentiate both sides with respect to x:\\n\\\\frac{1}{y} \\\\frac{dy}{dx} = \\\\frac{d}{dx} (n \\\\ln x) - \\\\frac{d}{dx} \\\\left( \\\\sum_{i=1}^n \\\\ln(x - x_i) \\\\right)\\n\\\\frac{1}{y} \\\\frac{dy}{dx} = \\\\frac{n}{x} - \\\\sum_{i=1}^n \\\\frac{1}{x - x_i}\\nMultiply both sides by y:\\n\\\\frac{dy}{dx} = y \\\\left[ \\\\frac{n}{x} - \\\\sum_{i=1}^n \\\\frac{1}{x - x_i} \\\\right]\\nWe can rewrite \\\\frac{1}{x - x_i} as \\\\frac{-1}{x_i - x}:\\n\\\\frac{dy}{dx} = y \\\\left[ \\\\frac{n}{x} + \\\\sum_{i=1}^n \\\\frac{1}{x_i - x} \\\\right]\\n\\n**3. Manipulate the derivative to match the target expression:**\\nThe target expression is \\\\frac{dy}{dx} = \\\\frac{y}{x} \\\\left[ \\\\frac{x_1}{x_1 - x} + \\\\frac{x_2}{x_2 - x} + \\\\dots + \\\\frac{x_n}{x_n - x} \\\\right].\\nThis can be written as:\\n\\\\frac{dy}{dx} = \\\\frac{y}{x} \\\\sum_{i=1}^n \\\\frac{x_i}{x_i - x}\\n\\nWe need to show that:\\n\\\\frac{n}{x} + \\\\sum_{i=1}^n \\\\frac{1}{x_i - x} = \\\\frac{1}{x} \\\\sum_{i=1}^n \\\\frac{x_i}{x_i - x}\\nMultiply the entire equation by x:\\nn + x \\\\sum_{i=1}^n \\\\frac{1}{x_i - x} = \\\\sum_{i=1}^n \\\\frac{x_i}{x_i - x}\\nMove the sum term from the left to the right:\\nn = \\\\sum_{i=1}^n \\\\frac{x_i}{x_i - x} - x \\\\sum_{i=1}^n \\\\frac{1}{x_i - x}\\nn = \\\\sum_{i=1}^n \\\\frac{x_i}{x_i - x} - \\\\sum_{i=1}^n \\\\frac{x}{x_i - x}\\nCombine the sums:\\nn = \\\\sum_{i=1}^n \\\\left( \\\\frac{x_i}{x_i - x} - \\\\frac{x}{x_i - x} \\\\right)\\nn = \\\\sum_{i=1}^n \\\\frac{x_i - x}{x_i - x}\\nSince \\\\frac{x_i - x}{x_i - x} = 1 (assuming x \\\\neq x_i):\\nn = \\\\sum_{i=1}^n 1\\nn = n\\n\\nThis identity holds true, which means our derived expression for \\\\frac{dy}{dx} matches the target expression.\",\n",
      "    \"final_answer\": \"The proof is demonstrated in the explanation.\"\n",
      "  },\n",
      "  \"processing_time_ms\": 34532,\n",
      "  \"request_id\": \"1755511780-139863376676944\"\n",
      "}\n"
     ]
    }
   ],
   "source": [
    "import requests\n",
    "import json\n",
    "\n",
    "URL = \"http://127.0.0.1:8000/solve\"\n",
    "\n",
    "QUESTION = data[2][\"question_text\"]\n",
    "\n",
    "payload = {\n",
    "    \"question\": QUESTION\n",
    "}\n",
    "\n",
    "response = requests.post(URL, json=payload)\n",
    "    \n",
    "response.raise_for_status()\n",
    "    \n",
    "print(json.dumps(response.json(), indent=2))"
   ]
  },
  {
   "cell_type": "code",
   "execution_count": 168,
   "metadata": {},
   "outputs": [],
   "source": [
    "# solution comparitive analysis agent\n",
    "\n",
    "\n",
    "from llama_index.core.bridge.pydantic import BaseModel\n",
    "from llama_index.core.agent.workflow import FunctionAgent\n",
    "from llama_index.llms.google_genai import GoogleGenAI\n",
    "from google.genai import types\n",
    "\n",
    "import os\n",
    "from dotenv import load_dotenv\n",
    "load_dotenv()\n",
    "\n",
    "\n",
    "llm = GoogleGenAI(\n",
    "    model=\"gemini-2.5-flash\",\n",
    "    api_key = os.getenv(\"GEMINI_API_KEY\"),\n",
    "    generation_config=types.GenerateContentConfig(\n",
    "        max_output_tokens=8192,\n",
    "        thinking_config=types.ThinkingConfig(\n",
    "            thinking_budget=-1\n",
    "        ),\n",
    "    ),\n",
    "    # built_in_tool=code_execution_tool, seems to not support application/json, ideally, azure dynamic sessions can be used for code interpretor\n",
    ")\n",
    "\n",
    "\n",
    "\n",
    "\n",
    "    \n",
    "class ComparitiveAnalysis(BaseModel):\n",
    "    sim_answer_score: int\n",
    "    no_sim_answer_score: int\n",
    "    notes: str\n",
    "    \n",
    "    \n",
    "\n",
    "\n",
    "\n",
    "comparision_prompt = \"\"\"You are an academic expert at solving problems in the field of maths, physics and chemistry. \n",
    "You are tasked with evaluating different answers to a question and you score them based on their accuracy and completeness.\n",
    "You receive the following information from the user.\n",
    "\n",
    "The answers you receive are of two categories - sim answers and non-sim answers, You must score both of the answers \n",
    "\n",
    "Here is everything you receive:\n",
    "question: The question to be solved\n",
    "sim_answer_explanation: A step by step explanation of the solution approach to the question\n",
    "sim_answer_final_answer: The final answer to the question\n",
    "no_sim_answer_explanation: A step by step explanation of the solution approach to the question\n",
    "no_sim_answer_final_answer: The final answer to the question\n",
    "\n",
    "You must respond with an object with the following keys:\n",
    "sim_answer_score: A score between 0 and 100 for the sim answer\n",
    "no_sim_answer_score: A score between 0 and 100 for the no sim answer\n",
    "notes: A note explaining the comparitive analysis between both answers explaining which is better and why\n",
    "\n",
    "Make sure to thoroughly analyze both questions on their correctness, accuracy, completeleness\n",
    "\"\"\"\n",
    "\n",
    "comparision_agent = FunctionAgent(\n",
    "    name=\"ComparitiveAnalysisAgent\",\n",
    "    description=\"It evaluates the comparitive analysis of the given question\",\n",
    "    system_prompt=(\n",
    "        comparision_prompt\n",
    "    ),\n",
    "    llm=llm,\n",
    "    output_cls=ComparitiveAnalysis,\n",
    "    timeout=120,\n",
    "    tools=[]\n",
    ")\n"
   ]
  },
  {
   "cell_type": "code",
   "execution_count": 177,
   "metadata": {},
   "outputs": [
    {
     "name": "stdout",
     "output_type": "stream",
     "text": [
      "{'success': True, 'data': {'explanation': \"Let the given quadratic equation be $3x^2 + px + 3 = 0$.We are given that one root of the equation is the square of the other. Let the roots be $\\\\alpha$ and $\\\\alpha^2$.According to Vieta's formulas for a quadratic equation $Ax^2 + Bx + C = 0$:1. Sum of the roots: $\\\\alpha + \\\\beta = -\\\\frac{B}{A}$2. Product of the roots: $\\\\alpha \\\\cdot \\\\beta = \\\\frac{C}{A}$For our equation $3x^2 + px + 3 = 0$:1. Sum of the roots: $\\\\alpha + \\\\alpha^2 = -\\\\frac{p}{3}$ (Equation 1)2. Product of the roots: $\\\\alpha \\\\cdot \\\\alpha^2 = \\\\frac{3}{3}$    $\\\\alpha^3 = 1$ (Equation 2)Now, we solve Equation 2 for $\\\\alpha$:$\\\\alpha^3 = 1$The solutions for this equation are the cube roots of unity.Case 1: $\\\\alpha = 1$ (real root)Substitute $\\\\alpha = 1$ into Equation 1:$1 + 1^2 = -\\\\frac{p}{3}$$1 + 1 = -\\\\frac{p}{3}$$2 = -\\\\frac{p}{3}$$p = -6$However, the problem states that $p > 0$. So, this case is not valid.Case 2: $\\\\alpha = \\\\omega$ (complex cube root of unity), where $\\\\omega = e^{i\\\\frac{2\\\\pi}{3}}$We know that $1 + \\\\omega + \\\\omega^2 = 0$, which implies $\\\\omega + \\\\omega^2 = -1$.Substitute $\\\\alpha = \\\\omega$ into Equation 1:$\\\\omega + \\\\omega^2 = -\\\\frac{p}{3}$$-1 = -\\\\frac{p}{3}$$p = 3$This value of $p$ satisfies the condition $p > 0$.Case 3: $\\\\alpha = \\\\omega^2$ (the other complex cube root of unity)Again, $\\\\omega^2 + (\\\\omega^2)^2 = \\\\omega^2 + \\\\omega^4 = \\\\omega^2 + \\\\omega$ (since $\\\\omega^3 = 1$).So, $\\\\omega^2 + \\\\omega = -1$.Substitute this into Equation 1:$-1 = -\\\\frac{p}{3}$$p = 3$This also satisfies the condition $p > 0$.Both valid cases yield $p=3$. This approach aligns with similar problems where complex roots of unity are considered when the real root solution does not satisfy the given conditions (e.g., $p>0$).Therefore, the value of $p$ is 3.\", 'final_answer': '3'}, 'processing_time_ms': 16633, 'request_id': '1755515210-140606098922640'}\n",
      "{'success': True, 'data': {'explanation': \"The problem asks us to find the value of $p$ for the quadratic equation $3x^2 + px + 3 = 0$, given that $p > 0$ and one root is the square of the other.Let the roots of the quadratic equation be $\\\\alpha$ and $\\\\beta$.According to the problem statement, one root is the square of the other. So, we can set $\\\\beta = \\\\alpha^2$.Thus, the roots are $\\\\alpha$ and $\\\\alpha^2$.For a general quadratic equation $ax^2 + bx + c = 0$, the sum and product of the roots are given by:Sum of roots: $\\\\alpha + \\\\beta = -b/a$Product of roots: $\\\\alpha \\\\beta = c/a$In our given equation, $3x^2 + px + 3 = 0$:Here, $a = 3$, $b = p$, and $c = 3$.Using the formulas for the sum and product of roots with $\\\\alpha$ and $\\\\alpha^2$:1.  **Sum of roots:**$\\\\alpha + \\\\alpha^2 = -p/3$2.  **Product of roots:**$\\\\alpha \\\\cdot \\\\alpha^2 = 3/3$$\\\\alpha^3 = 1$Now we solve the equation $\\\\alpha^3 = 1$.If $\\\\alpha$ is a real number, then $\\\\alpha = 1$.Let's substitute $\\\\alpha = 1$ into the sum of roots equation:$1 + 1^2 = -p/3$$1 + 1 = -p/3$$2 = -p/3$$p = -6$However, the problem states that $p > 0$. Since $p = -6$ does not satisfy $p > 0$, $\\\\alpha = 1$ is not the correct root.This implies that $\\\\alpha$ must be a complex root of $\\\\alpha^3 = 1$. The complex roots of $\\\\alpha^3 = 1$ are $\\\\omega$ and $\\\\omega^2$, where $\\\\omega = e^{i2\\\\pi/3} = -\\\\frac{1}{2} + i\\\\frac{\\\\sqrt{3}}{2}$ and $\\\\omega^2 = e^{i4\\\\pi/3} = -\\\\frac{1}{2} - i\\\\frac{\\\\sqrt{3}}{2}$.The roots of the quadratic equation with real coefficients must appear in conjugate pairs. If one root is $\\\\omega$, then its conjugate $\\\\omega^2$ must also be a root. This aligns with the condition that one root is the square of the other, as $\\\\omega^2$ is indeed the square of $\\\\omega$, and $(\\\\omega^2)^2 = \\\\omega^4 = \\\\omega^3 \\\\cdot \\\\omega = 1 \\\\cdot \\\\omega = \\\\omega$.So, we take $\\\\alpha = \\\\omega$. The roots are $\\\\omega$ and $\\\\omega^2$.Substitute $\\\\alpha = \\\\omega$ into the sum of roots equation:$\\\\omega + \\\\omega^2 = -p/3$We know the property of cube roots of unity that $1 + \\\\omega + \\\\omega^2 = 0$.From this property, we can write $\\\\omega + \\\\omega^2 = -1$.Substitute this value back into the sum of roots equation:$-1 = -p/3$$p = 3$This value $p = 3$ satisfies the condition $p > 0$.Let's verify the solution. If $p=3$, the equation becomes $3x^2 + 3x + 3 = 0$.Dividing by 3, we get $x^2 + x + 1 = 0$.The roots of this equation are $x = \\\\frac{-1 \\\\pm \\\\sqrt{1^2 - 4(1)(1)}}{2(1)} = \\\\frac{-1 \\\\pm \\\\sqrt{1-4}}{2} = \\\\frac{-1 \\\\pm \\\\sqrt{-3}}{2} = \\\\frac{-1 \\\\pm i\\\\sqrt{3}}{2}$.These roots are indeed $\\\\omega$ and $\\\\omega^2$.As shown earlier, $\\\\omega^2 = (\\\\frac{-1 + i\\\\sqrt{3}}{2})^2 = \\\\frac{1 - 2i\\\\sqrt{3} - 3}{4} = \\\\frac{-2 - 2i\\\\sqrt{3}}{4} = \\\\frac{-1 - i\\\\sqrt{3}}{2}$, which is $\\\\omega^2$.Also, $(\\\\omega^2)^2 = \\\\omega^4 = \\\\omega$.So, one root is indeed the square of the other.\", 'final_answer': '3'}, 'processing_time_ms': 22011, 'request_id': '1755515227-139949686573840'}\n"
     ]
    }
   ],
   "source": [
    "# 8000 - sim answer\n",
    "# 8001 - no sim answer\n",
    "\n",
    "\n",
    "import requests\n",
    "import json\n",
    "\n",
    "\n",
    "QUESTION = data[14][\"question_text\"]\n",
    "\n",
    "payload = {\n",
    "    \"question\": QUESTION\n",
    "}\n",
    "\n",
    "sim_response = requests.post(\"http://127.0.0.1:8000/solve\", json=payload)\n",
    "no_sim_response = requests.post(\"http://127.0.0.1:8001/solve\", json=payload)\n",
    "\n",
    "\n",
    "print(sim_response.json())\n",
    "print(no_sim_response.json())\n"
   ]
  },
  {
   "cell_type": "code",
   "execution_count": 178,
   "metadata": {},
   "outputs": [],
   "source": [
    "sim_response = sim_response.json()\n",
    "no_sim_response = no_sim_response.json()\n",
    "\n",
    "\n",
    "\n",
    "usr_msg = f\"\"\"\n",
    "Here is a question: {QUESTION}\n",
    "\n",
    "sim_answer_explanation: {sim_response[\"data\"][\"explanation\"]}\n",
    "\n",
    "\n",
    "sim_answer_final_answer: {sim_response[\"data\"][\"final_answer\"]}\n",
    "\n",
    "\n",
    "no_sim_answer_explanation: {no_sim_response[\"data\"][\"explanation\"]}\n",
    "\n",
    "\n",
    "no_sim_answer_final_answer: {no_sim_response[\"data\"][\"final_answer\"]}\n",
    "\n",
    "\n",
    "\n",
    "Please respond with the comparitive analysis\"\"\""
   ]
  },
  {
   "cell_type": "code",
   "execution_count": 179,
   "metadata": {},
   "outputs": [],
   "source": [
    "comparision_response = await comparision_agent.run(\n",
    "        user_msg= usr_msg\n",
    "    )"
   ]
  },
  {
   "cell_type": "code",
   "execution_count": 180,
   "metadata": {},
   "outputs": [
    {
     "data": {
      "text/plain": [
       "{'sim_answer_score': 95,\n",
       " 'no_sim_answer_score': 100,\n",
       " 'notes': \"Both answers correctly identify the roots as \\\\u03b1 and \\\\u03b1\\\\u00b2, apply Vieta's formulas to derive \\\\u03b1 + \\\\u03b1\\\\u00b2 = -p/3 and \\\\u03b1\\\\u00b3 = 1. Both correctly identify the three cube roots of unity (1, \\\\u03c9, \\\\u03c9\\\\u00b2) as potential values for \\\\u03b1 and correctly discard \\\\u03b1 = 1 because it leads to p = -6, which violates the condition p > 0. They both correctly use the property 1 + \\\\u03c9 + \\\\u03c9\\\\u00b2 = 0 to find p = 3 when considering the complex roots.The 'no_sim_answer' is superior due to two key reasons: Firstly, it explicitly mentions the property that roots of a quadratic equation with real coefficients must appear in conjugate pairs, which provides a stronger theoretical basis for why \\\\u03c9 and \\\\u03c9\\\\u00b2 are the valid roots for the quadratic equation. Secondly, and most importantly, the 'no_sim_answer' includes a thorough verification step where it substitutes p=3 back into the original equation, solves for the roots, and explicitly demonstrates that these roots are indeed \\\\u03c9 and \\\\u03c9\\\\u00b2, and that one is the square of the other. This verification significantly enhances the completeness, clarity, and confidence in the answer. The 'sim_answer' is very good but lacks these additional clarifying details and the explicit verification.\"}"
      ]
     },
     "execution_count": 180,
     "metadata": {},
     "output_type": "execute_result"
    }
   ],
   "source": [
    "comparision_response.structured_response"
   ]
  },
  {
   "cell_type": "code",
   "execution_count": 181,
   "metadata": {},
   "outputs": [
    {
     "name": "stdout",
     "output_type": "stream",
     "text": [
      "sim_answer_score=95 no_sim_answer_score=100 notes=\"Both answers correctly identify the roots as \\\\u03b1 and \\\\u03b1\\\\u00b2, apply Vieta's formulas to derive \\\\u03b1 + \\\\u03b1\\\\u00b2 = -p/3 and \\\\u03b1\\\\u00b3 = 1. Both correctly identify the three cube roots of unity (1, \\\\u03c9, \\\\u03c9\\\\u00b2) as potential values for \\\\u03b1 and correctly discard \\\\u03b1 = 1 because it leads to p = -6, which violates the condition p > 0. They both correctly use the property 1 + \\\\u03c9 + \\\\u03c9\\\\u00b2 = 0 to find p = 3 when considering the complex roots.The 'no_sim_answer' is superior due to two key reasons: Firstly, it explicitly mentions the property that roots of a quadratic equation with real coefficients must appear in conjugate pairs, which provides a stronger theoretical basis for why \\\\u03c9 and \\\\u03c9\\\\u00b2 are the valid roots for the quadratic equation. Secondly, and most importantly, the 'no_sim_answer' includes a thorough verification step where it substitutes p=3 back into the original equation, solves for the roots, and explicitly demonstrates that these roots are indeed \\\\u03c9 and \\\\u03c9\\\\u00b2, and that one is the square of the other. This verification significantly enhances the completeness, clarity, and confidence in the answer. The 'sim_answer' is very good but lacks these additional clarifying details and the explicit verification.\"\n"
     ]
    }
   ],
   "source": [
    "print(comparision_response.get_pydantic_model(ComparitiveAnalysis))"
   ]
  },
  {
   "cell_type": "code",
   "execution_count": 183,
   "metadata": {},
   "outputs": [
    {
     "name": "stdout",
     "output_type": "stream",
     "text": [
      "{'success': True, 'data': {'explanation': '1.  **Simplify the numerator of the inner fraction:**Let A = tan⁻¹y. Then tan A = y. We construct a right-angled triangle with the side opposite to A as `y` and the adjacent side as `1`. The hypotenuse will be `√(y² + 1²) = √(y² + 1)`. From this triangle: cos(tan⁻¹y) = cos A = 1/√(y² + 1) and sin(tan⁻¹y) = sin A = y/√(y² + 1). Substitute these into the numerator: cos(tan⁻¹y) + ysin(tan⁻¹y) = 1/√(y² + 1) + y * (y/√(y² + 1)) = (1 + y²)/√(y² + 1) = √(1 + y²).\\n2.  **Simplify the denominator of the inner fraction:**Let B = sin⁻¹y. Then sin B = y. We construct a right-angled triangle with the side opposite to B as `y` and the hypotenuse as `1`. The adjacent side will be `√(1² - y²) = √(1 - y²)`. From this triangle: cot(sin⁻¹y) = cot B = √(1 - y²)/y and tan(sin⁻¹y) = tan B = y/√(1 - y²). Substitute these into the denominator: cot(sin⁻¹y) + tan(sin⁻¹y) = √(1 - y²)/y + y/√(1 - y²) = [√(1 - y²) * √(1 - y²) + y * y] / [y * √(1 - y²)] = (1 - y² + y²) / [y√(1 - y²)] = 1 / [y√(1 - y²)].\\n3.  **Simplify the inner fraction (numerator / denominator):**The inner fraction is (√(1 + y²)) / (1 / (y√(1 - y²))) = √(1 + y²) * y√(1 - y²) = y * √((1 + y²)(1 - y²)). Using the difference of squares formula (a+b)(a-b) = a²-b²: = y * √(1² - (y²)²) = y * √(1 - y⁴).\\n4.  **Substitute the simplified fraction back into the main expression and complete the simplification:**The expression becomes: (1/y² * [y√(1 - y⁴)])² + y⁴)¹/². First, simplify the term inside the outer square: 1/y² * y√(1 - y⁴) = (y/y²) * √(1 - y⁴) = (1/y) * √(1 - y⁴). Now, square this term: ((1/y) * √(1 - y⁴))² = (1/y)² * (√(1 - y⁴))² = (1/y²) * (1 - y⁴) = 1/y² - y⁴/y² = 1/y² - y². Finally, substitute this back into the full expression: ( (1/y² - y²) + y⁴ )¹/² = ( 1/y² - y² + y⁴ )¹/².', 'final_answer': '(y⁴ - y² + 1/y² )¹/²'}, 'processing_time_ms': 45758, 'request_id': '1755515409-140606085910864'}\n",
      "{'success': True, 'data': {'explanation': 'To find the value of the given expression, we will simplify it step by step. The expression is: ((1/y^2 * (cos(tan^{-1}y) + ysin(tan^{-1}y))/(cot(sin^{-1}y) + tan(sin^{-1}y)))^2 + y^4)^{1/2}\\n\\nStep 1: Simplify the term (cos(tan^{-1}y) + ysin(tan^{-1}y))\\nLet theta = tan^{-1}y. This implies tan(theta) = y. We can construct a right-angled triangle where the opposite side is y and the adjacent side is 1. Using the Pythagorean theorem, the hypotenuse h = sqrt(y^2 + 1^2) = sqrt(y^2 + 1). Now, we can find cos(theta) and sin(theta):\\ncos(theta) = Adjacent/Hypotenuse = 1/sqrt(y^2 + 1)\\nsin(theta) = Opposite/Hypotenuse = y/sqrt(y^2 + 1)\\nSubstitute these into the expression:\\ncos(tan^{-1}y) + ysin(tan^{-1}y) = 1/sqrt(y^2 + 1) + y * (y/sqrt(y^2 + 1))\\n= 1/sqrt(y^2 + 1) + y^2/sqrt(y^2 + 1)\\n= (1 + y^2)/sqrt(y^2 + 1)\\nSince 1 + y^2 = (sqrt(y^2 + 1))^2, the expression simplifies to:\\n= (sqrt(y^2 + 1))^2 / sqrt(y^2 + 1) = sqrt(y^2 + 1)\\n\\nStep 2: Simplify the term (cot(sin^{-1}y) + tan(sin^{-1}y))\\nLet phi = sin^{-1}y. This implies sin(phi) = y. We can construct a right-angled triangle where the opposite side is y and the hypotenuse is 1. Using the Pythagorean theorem, the adjacent side a = sqrt(1^2 - y^2) = sqrt(1 - y^2). Now, we can find cot(phi) and tan(phi):\\ncot(phi) = Adjacent/Opposite = sqrt(1 - y^2)/y\\ntan(phi) = Opposite/Adjacent = y/sqrt(1 - y^2)\\nSubstitute these into the expression:\\ncot(sin^{-1}y) + tan(sin^{-1}y) = sqrt(1 - y^2)/y + y/sqrt(1 - y^2)\\nTo add these fractions, find a common denominator, which is y * sqrt(1 - y^2):\\n= (sqrt(1 - y^2) * sqrt(1 - y^2) + y * y) / (y * sqrt(1 - y^2))\\n= (1 - y^2 + y^2) / (y * sqrt(1 - y^2))\\n= 1 / (y * sqrt(1 - y^2))\\n\\nStep 3: Simplify the fraction (Result of Step 1) / (Result of Step 2)\\nThe fraction is (sqrt(y^2 + 1)) / (1 / (y * sqrt(1 - y^2)))\\n= sqrt(y^2 + 1) * y * sqrt(1 - y^2)\\n\\nStep 4: Incorporate 1/y^2 and square the result\\nThe part of the expression inside the outer square is (1/y^2 * (simplified fraction))^2.\\nSubstitute the simplified fraction from Step 3:\\n(1/y^2 * (y * sqrt(y^2 + 1) * sqrt(1 - y^2)))^2\\n= ( (y/y^2) * sqrt(y^2 + 1) * sqrt(1 - y^2) )^2\\n= ( (1/y) * sqrt((y^2 + 1)(1 - y^2)) )^2\\n= ( (1/y) * sqrt(1 - y^4) )^2\\nNow, square each term:\\n= (1/y)^2 * (sqrt(1 - y^4))^2\\n= (1/y^2) * (1 - y^4)\\n= (1 - y^4) / y^2\\n\\nStep 5: Add y^4 and take the square root\\nThe full expression now becomes:\\n((1 - y^4) / y^2 + y^4)^{1/2}\\nTo add the terms inside the parentheses, find a common denominator:\\n= ((1 - y^4 + y^4 * y^2) / y^2)^{1/2}\\n= ((1 - y^4 + y^6) / y^2)^{1/2}\\nFinally, distribute the 1/2 power (square root) to the numerator and denominator:\\n= sqrt(1 - y^4 + y^6) / sqrt(y^2)\\n= sqrt(1 - y^4 + y^6) / |y|\\n\\nThe domain for y where the expression is defined is y in (-1, 0) union (0, 1) to ensure all square roots and denominators are well-defined.', 'final_answer': 'sqrt(1 - y^4 + y^6) / |y|'}, 'processing_time_ms': 40230, 'request_id': '1755515455-139949689960208'}\n"
     ]
    },
    {
     "data": {
      "text/plain": [
       "{'sim_answer_score': 85,\n",
       " 'no_sim_answer_score': 95,\n",
       " 'notes': \"Both answers accurately simplify the complex trigonometric and inverse trigonometric expressions in the numerator and denominator. They both correctly determine that the ratio simplifies to y*sqrt(1-y^4).\\n\\nThe difference in the solutions arises in the final algebraic manipulation:\\n1.  **Simplification of the squared term:** Both answers correctly arrive at equivalent expressions for the squared term. 'sim_answer' simplifies it to 1/y^2 - y^2, while 'no_sim_answer' simplifies it to (1-y^4)/y^2. Both are algebraically correct.\\n2.  **Final algebraic simplification:**\\n    *   'sim_answer' takes the expression for the squared term (1/y^2 - y^2) and adds y^4 to it, resulting in (1/y^2 - y^2 + y^4)^(1/2). This expression is algebraically correct, but it does not combine the terms inside the square root into a single fraction.\\n    *   'no_sim_answer' takes its expression for the squared term ((1-y^4)/y^2) and adds y^4 to it. It then correctly combines these terms under a common denominator: ((1-y^4)/y^2 + y^4)^(1/2) = ((1-y^4 + y^6)/y^2)^(1/2). Finally, it simplifies this by taking the square root of the numerator and denominator separately, yielding sqrt(1-y^4+y^6) / |y|. This is generally considered the most simplified and standard form for such an expression.\\n3.  **Completeness:** 'no_sim_answer' also explicitly states the domain for y where the expression is defined, which is a good practice in mathematical problem-solving. 'sim_answer' does not include this.\\n\\nIn conclusion, while 'sim_answer' follows a correct path and produces an algebraically equivalent final answer, it stops short of the most simplified form and lacks domain consideration. 'no_sim_answer' provides a more complete and thoroughly simplified solution, making it superior.\"}"
      ]
     },
     "execution_count": 183,
     "metadata": {},
     "output_type": "execute_result"
    }
   ],
   "source": [
    "# 8000 - sim answer\n",
    "# 8001 - no sim answer\n",
    "\n",
    "\n",
    "import requests\n",
    "import json\n",
    "\n",
    "\n",
    "QUESTION = data[12][\"question_text\"]\n",
    "\n",
    "payload = {\n",
    "    \"question\": QUESTION\n",
    "}\n",
    "\n",
    "sim_response = requests.post(\"http://127.0.0.1:8000/solve\", json=payload)\n",
    "no_sim_response = requests.post(\"http://127.0.0.1:8001/solve\", json=payload)\n",
    "\n",
    "\n",
    "print(sim_response.json())\n",
    "print(no_sim_response.json())\n",
    "\n",
    "sim_response = sim_response.json()\n",
    "no_sim_response = no_sim_response.json()\n",
    "\n",
    "\n",
    "\n",
    "usr_msg = f\"\"\"\n",
    "Here is a question: {QUESTION}\n",
    "\n",
    "sim_answer_explanation: {sim_response[\"data\"][\"explanation\"]}\n",
    "\n",
    "\n",
    "sim_answer_final_answer: {sim_response[\"data\"][\"final_answer\"]}\n",
    "\n",
    "\n",
    "no_sim_answer_explanation: {no_sim_response[\"data\"][\"explanation\"]}\n",
    "\n",
    "\n",
    "no_sim_answer_final_answer: {no_sim_response[\"data\"][\"final_answer\"]}\n",
    "\n",
    "Please respond with the comparitive analysis\"\"\"\n",
    "\n",
    "\n",
    "comparision_response = await comparision_agent.run(\n",
    "        user_msg= usr_msg\n",
    "    )\n",
    "\n",
    "comparision_response.structured_response"
   ]
  },
  {
   "cell_type": "code",
   "execution_count": 194,
   "metadata": {},
   "outputs": [
    {
     "name": "stdout",
     "output_type": "stream",
     "text": [
      "=== STANDARD AGENT ===\n",
      "Status: 200\n",
      "Agent used: standard_solution_agent\n",
      "Answer: sqrt(1-y^4+y^6)/|y|\n",
      "\n",
      "=== SIMILAR QUESTIONS AGENT ===\n",
      "Status: 200\n",
      "Agent used: solution_agent_with_similar_questions\n",
      "Answer: (1/y^2 - y^2 + y^4)^{1/2}\n"
     ]
    }
   ],
   "source": [
    "import requests\n",
    "\n",
    "# Base URL of your API\n",
    "BASE_URL = \"http://localhost:8000\"\n",
    "\n",
    "# 1. Standard agent (without similar questions)\n",
    "response1 = requests.post(\n",
    "    f\"{BASE_URL}/solve\",\n",
    "    json={\n",
    "        \"question\": data[12][\"question_text\"],\n",
    "        \"use_similar_questions\": False\n",
    "    }\n",
    ")\n",
    "\n",
    "print(\"=== STANDARD AGENT ===\")\n",
    "print(f\"Status: {response1.status_code}\")\n",
    "print(f\"Agent used: {response1.json()['agent_used']}\")\n",
    "print(f\"Answer: {response1.json()['data']['final_answer']}\")\n",
    "print()\n",
    "\n",
    "# 2. Similar questions agent\n",
    "response2 = requests.post(\n",
    "    f\"{BASE_URL}/solve\", \n",
    "    json={\n",
    "        \"question\": data[12][\"question_text\"],\n",
    "        \"use_similar_questions\": True\n",
    "    }\n",
    ")\n",
    "\n",
    "print(\"=== SIMILAR QUESTIONS AGENT ===\")\n",
    "print(f\"Status: {response2.status_code}\")\n",
    "print(f\"Agent used: {response2.json()['agent_used']}\")\n",
    "print(f\"Answer: {response2.json()['data']['final_answer']}\")\n"
   ]
  },
  {
   "cell_type": "code",
   "execution_count": 190,
   "metadata": {},
   "outputs": [
    {
     "name": "stdout",
     "output_type": "stream",
     "text": [
      "{\n",
      "  \"success\": true,\n",
      "  \"data\": {\n",
      "    \"sim_answer_score\": 100,\n",
      "    \"no_sim_answer_score\": 100,\n",
      "    \"notes\": \"Both answers are absolutely correct, accurate, and complete. They both correctly identify the relevant physical quantities, apply the correct principles/formulas for acceleration, substitute the values accurately, and arrive at the correct final answer with appropriate units.\\n\\n- The 'sim_answer' directly uses the kinematic equation v = u + at, which is a standard and efficient approach in physics.\\n- The 'no_sim_answer' defines acceleration conceptually as the change in velocity over time, and then applies this definition, which is also a fundamental and clear approach.\\n\\nThe final answers are also presented correctly. The 'no_sim_answer' writes out the units in full ('meters per second squared'), which is equivalent to the shorthand notation ('m/s^2') used by the 'sim_answer'. There is no significant difference in quality or correctness between the two; both are excellent solutions.\"\n",
      "  },\n",
      "  \"processing_time_ms\": 10028,\n",
      "  \"request_id\": \"1755522950-139907428710992\"\n",
      "}\n"
     ]
    }
   ],
   "source": [
    "import requests\n",
    "import json\n",
    "\n",
    "URL = \"http://127.0.0.1:8003/analyse\"\n",
    "\n",
    "payload = {\n",
    "    \"question\": \"A car accelerates from rest to a speed of 20 m/s in 5 seconds. What is its acceleration?\",\n",
    "    \"sim_answer_explanation\": \"Using the formula v = u + at, where u=0, v=20, t=5. So, 20 = 0 + a*5. This gives a = 4 m/s^2.\",\n",
    "    \"sim_answer_final_answer\": \"4 m/s^2\",\n",
    "    \"no_sim_answer_explanation\": \"Acceleration is the change in velocity over time. a = (final velocity - initial velocity) / time. a = (20 - 0) / 5. Therefore, a = 4 m/s^2.\",\n",
    "    \"no_sim_answer_final_answer\": \"The acceleration is 4 meters per second squared.\"\n",
    "}\n",
    "\n",
    "response = requests.post(URL, json=payload)\n",
    "\n",
    "print(json.dumps(response.json(), indent=2))\n",
    "\n"
   ]
  },
  {
   "cell_type": "code",
   "execution_count": 193,
   "metadata": {},
   "outputs": [
    {
     "name": "stdout",
     "output_type": "stream",
     "text": [
      "{\n",
      "  \"success\": true,\n",
      "  \"data\": {\n",
      "    \"sim_answer_score\": 98,\n",
      "    \"no_sim_answer_score\": 100,\n",
      "    \"notes\": \"Both the 'sim_answer' and 'no_sim_answer' provide highly accurate and comprehensive step-by-step solutions to the given mathematical problem. Both methods correctly simplify the complex expression and arrive at mathematically equivalent final answers.\\n\\nThe 'sim_answer' is very clear and concise in its steps, logically breaking down the problem into manageable parts. The calculations are accurate throughout. The final answer `(y\\u2074 - y\\u00b2 + 1/y\\u00b2 )\\u00b9/\\u00b2` is a correct simplified form.\\n\\nThe 'no_sim_answer' follows an almost identical and equally accurate solution path. However, it gains a slight edge in completeness and mathematical rigor by:\\n1.  Explicitly stating the domain for `y` where the expression is defined (`y in (-1, 0) union (0, 1)`). This ensures all square roots (specifically `sqrt(1-y^2)`) are valid and denominators are non-zero.\\n2.  Correctly simplifying `sqrt(y^2)` to `|y|` in the final step. While `y` is often assumed positive in such problems for simplicity, `|y|` is the mathematically precise simplification of `sqrt(y^2)`.\\n\\nTherefore, while both are excellent answers, the 'no_sim_answer' is marginally superior due to these additional details that enhance its mathematical completeness and precision.\"\n",
      "  },\n",
      "  \"processing_time_ms\": 23714,\n",
      "  \"request_id\": \"1755523737-140568665225936\"\n",
      "}\n"
     ]
    }
   ],
   "source": [
    "import requests\n",
    "import json\n",
    "\n",
    "URL = \"http://127.0.0.1:8003/analyse\"\n",
    "\n",
    "payload = {\n",
    "    \"question\": QUESTION,\n",
    "    \"sim_answer_explanation\": sim_response[\"data\"][\"explanation\"],\n",
    "    \"sim_answer_final_answer\": sim_response[\"data\"][\"final_answer\"],\n",
    "    \"no_sim_answer_explanation\": no_sim_response[\"data\"][\"explanation\"],\n",
    "    \"no_sim_answer_final_answer\": no_sim_response[\"data\"][\"final_answer\"]\n",
    "}\n",
    "\n",
    "response = requests.post(URL, json=payload)\n",
    "\n",
    "print(json.dumps(response.json(), indent=2))\n",
    "\n"
   ]
  },
  {
   "cell_type": "code",
   "execution_count": 221,
   "metadata": {},
   "outputs": [
    {
     "data": {
      "text/html": [
       "<div>\n",
       "<style scoped>\n",
       "    .dataframe tbody tr th:only-of-type {\n",
       "        vertical-align: middle;\n",
       "    }\n",
       "\n",
       "    .dataframe tbody tr th {\n",
       "        vertical-align: top;\n",
       "    }\n",
       "\n",
       "    .dataframe thead th {\n",
       "        text-align: right;\n",
       "    }\n",
       "</style>\n",
       "<table border=\"1\" class=\"dataframe\">\n",
       "  <thead>\n",
       "    <tr style=\"text-align: right;\">\n",
       "      <th></th>\n",
       "      <th>question_id</th>\n",
       "      <th>question_text</th>\n",
       "      <th>subject</th>\n",
       "      <th>standard_explanation</th>\n",
       "      <th>standard_answer</th>\n",
       "      <th>standard_processing_time</th>\n",
       "      <th>standard_error</th>\n",
       "      <th>sim_explanation</th>\n",
       "      <th>sim_answer</th>\n",
       "      <th>sim_processing_time</th>\n",
       "      <th>sim_error</th>\n",
       "      <th>sim_score</th>\n",
       "      <th>standard_score</th>\n",
       "      <th>analysis_notes</th>\n",
       "      <th>analysis_error</th>\n",
       "      <th>timestamp</th>\n",
       "    </tr>\n",
       "  </thead>\n",
       "  <tbody>\n",
       "    <tr>\n",
       "      <th>0</th>\n",
       "      <td>015c4</td>\n",
       "      <td>A river has width 0.5 km and flows from West t...</td>\n",
       "      <td>Physics</td>\n",
       "      <td>1. **Identify the relevant quantities:**\\n   -...</td>\n",
       "      <td>0.0125 hours</td>\n",
       "      <td>6987.0</td>\n",
       "      <td>NaN</td>\n",
       "      <td>To determine the time it takes for the boat to...</td>\n",
       "      <td>1/80 hours</td>\n",
       "      <td>14977.0</td>\n",
       "      <td>NaN</td>\n",
       "      <td>100.0</td>\n",
       "      <td>100.0</td>\n",
       "      <td>Both the sim answer and the no-sim answer are ...</td>\n",
       "      <td>NaN</td>\n",
       "      <td>2025-08-19 06:37:59</td>\n",
       "    </tr>\n",
       "    <tr>\n",
       "      <th>1</th>\n",
       "      <td>00b31</td>\n",
       "      <td>अवकल सभीकरण $(x\\sqrt{1+y^2}) dx + (y\\sqrt{1+x^...</td>\n",
       "      <td>Mathematics</td>\n",
       "      <td>The given differential equation is:$(x\\sqrt{1+...</td>\n",
       "      <td>$\\sqrt{1+x^2} + \\sqrt{1+y^2} = C$</td>\n",
       "      <td>11423.0</td>\n",
       "      <td>NaN</td>\n",
       "      <td>The given differential equation is $(x\\sqrt{1+...</td>\n",
       "      <td>$\\sqrt{1+x^2} + \\sqrt{1+y^2} = C$</td>\n",
       "      <td>14426.0</td>\n",
       "      <td>NaN</td>\n",
       "      <td>100.0</td>\n",
       "      <td>98.0</td>\n",
       "      <td>Both answers correctly identify the given diff...</td>\n",
       "      <td>NaN</td>\n",
       "      <td>2025-08-19 06:38:11</td>\n",
       "    </tr>\n",
       "    <tr>\n",
       "      <th>2</th>\n",
       "      <td>006d7</td>\n",
       "      <td>माना A = $\\begin{pmatrix} 1+i &amp; 1 \\ -i &amp; 0 \\en...</td>\n",
       "      <td>Mathematics</td>\n",
       "      <td>To find the number of elements `n` in the set ...</td>\n",
       "      <td>25</td>\n",
       "      <td>30051.0</td>\n",
       "      <td>NaN</td>\n",
       "      <td>Step-by-step explanation:\\n1.  **Calculate the...</td>\n",
       "      <td>25</td>\n",
       "      <td>26099.0</td>\n",
       "      <td>NaN</td>\n",
       "      <td>100.0</td>\n",
       "      <td>100.0</td>\n",
       "      <td>Both answers are exceptionally accurate, compl...</td>\n",
       "      <td>NaN</td>\n",
       "      <td>2025-08-19 06:38:45</td>\n",
       "    </tr>\n",
       "    <tr>\n",
       "      <th>3</th>\n",
       "      <td>01a13</td>\n",
       "      <td>1.0 mol of Fe reacts completely with 0.65 mol ...</td>\n",
       "      <td>Chemistry</td>\n",
       "      <td>1. **Identify the products and write balanced ...</td>\n",
       "      <td>4:3</td>\n",
       "      <td>12401.0</td>\n",
       "      <td>NaN</td>\n",
       "      <td>To solve this problem, we first consider the t...</td>\n",
       "      <td>4:3</td>\n",
       "      <td>21369.0</td>\n",
       "      <td>NaN</td>\n",
       "      <td>100.0</td>\n",
       "      <td>100.0</td>\n",
       "      <td>Both answers are excellent and provide a compl...</td>\n",
       "      <td>NaN</td>\n",
       "      <td>2025-08-19 06:38:46</td>\n",
       "    </tr>\n",
       "    <tr>\n",
       "      <th>4</th>\n",
       "      <td>0159a</td>\n",
       "      <td>If \\(y = 1 + \\frac{x_1}{x - x_1} + \\frac{x_2 \\...</td>\n",
       "      <td>Mathematics</td>\n",
       "      <td>1.  **Simplify the expression for y**: Let's a...</td>\n",
       "      <td>\\frac{dy}{dx} = \\frac{y}{x} \\left[ \\frac{x_1}{...</td>\n",
       "      <td>32532.0</td>\n",
       "      <td>NaN</td>\n",
       "      <td>The problem asks us to prove a derivative iden...</td>\n",
       "      <td>Proof</td>\n",
       "      <td>36884.0</td>\n",
       "      <td>NaN</td>\n",
       "      <td>100.0</td>\n",
       "      <td>100.0</td>\n",
       "      <td>Both answers are exceptionally accurate and co...</td>\n",
       "      <td>NaN</td>\n",
       "      <td>2025-08-19 06:38:55</td>\n",
       "    </tr>\n",
       "    <tr>\n",
       "      <th>5</th>\n",
       "      <td>01fb7</td>\n",
       "      <td>If $sin^{-1}\\frac{1}{3} + sin^{-1}\\frac{2}{3} ...</td>\n",
       "      <td>Mathematics</td>\n",
       "      <td>To solve the equation $sin^{-1}\\frac{1}{3} + s...</td>\n",
       "      <td>\\frac{\\sqrt{5} + 4\\sqrt{2}}{9}</td>\n",
       "      <td>19508.0</td>\n",
       "      <td>NaN</td>\n",
       "      <td>To solve the equation $\\sin^{-1}\\frac{1}{3} + ...</td>\n",
       "      <td>$$\\frac{\\sqrt{5} + 4\\sqrt{2}}{9}$$</td>\n",
       "      <td>17790.0</td>\n",
       "      <td>NaN</td>\n",
       "      <td>98.0</td>\n",
       "      <td>100.0</td>\n",
       "      <td>Both the 'sim_answer' and 'no_sim_answer' prov...</td>\n",
       "      <td>NaN</td>\n",
       "      <td>2025-08-19 06:59:23</td>\n",
       "    </tr>\n",
       "    <tr>\n",
       "      <th>6</th>\n",
       "      <td>031a8</td>\n",
       "      <td>एक समान आवेशित समाक्षीय वलयो के लिए दोनों वलय ...</td>\n",
       "      <td>Physics</td>\n",
       "      <td>Let's denote the center of the left ring as A ...</td>\n",
       "      <td>$V_A - V_B = \\frac{Q}{4\\pi\\epsilon_0 R} \\left(...</td>\n",
       "      <td>19554.0</td>\n",
       "      <td>NaN</td>\n",
       "      <td>इस समस्या को हल करने के लिए, हम एक आवेशित वलय ...</td>\n",
       "      <td>दो वलय के केन्द्र के मध्य विभावन्तर (V_B - V_A...</td>\n",
       "      <td>34770.0</td>\n",
       "      <td>NaN</td>\n",
       "      <td>98.0</td>\n",
       "      <td>97.0</td>\n",
       "      <td>Both answers provide a correct and complete so...</td>\n",
       "      <td>NaN</td>\n",
       "      <td>2025-08-19 06:59:50</td>\n",
       "    </tr>\n",
       "    <tr>\n",
       "      <th>7</th>\n",
       "      <td>027c1</td>\n",
       "      <td>The angle between vector (A) and (A-B) is:\\n\\n...</td>\n",
       "      <td>Physics</td>\n",
       "      <td>1.  Understand the problem: We need to find th...</td>\n",
       "      <td>30°</td>\n",
       "      <td>41661.0</td>\n",
       "      <td>NaN</td>\n",
       "      <td>The problem asks for the angle between vector ...</td>\n",
       "      <td>30 degrees</td>\n",
       "      <td>51420.0</td>\n",
       "      <td>NaN</td>\n",
       "      <td>100.0</td>\n",
       "      <td>100.0</td>\n",
       "      <td>Both answers provide an excellent and comprehe...</td>\n",
       "      <td>NaN</td>\n",
       "      <td>2025-08-19 07:00:19</td>\n",
       "    </tr>\n",
       "    <tr>\n",
       "      <th>8</th>\n",
       "      <td>02b82</td>\n",
       "      <td>A rod of length L has a total charge Q distrib...</td>\n",
       "      <td>Physics</td>\n",
       "      <td>1. **Determine the radius and linear charge de...</td>\n",
       "      <td>Qπ / (2πε₀L²)</td>\n",
       "      <td>29627.0</td>\n",
       "      <td>NaN</td>\n",
       "      <td>1.  **Define Linear Charge Density and Radius:...</td>\n",
       "      <td>$\\frac{Q}{2\\epsilon_0 L^2}$</td>\n",
       "      <td>35497.0</td>\n",
       "      <td>NaN</td>\n",
       "      <td>NaN</td>\n",
       "      <td>NaN</td>\n",
       "      <td>NaN</td>\n",
       "      <td>Analysis API error: 400 Client Error: Bad Requ...</td>\n",
       "      <td>2025-08-19 07:00:32</td>\n",
       "    </tr>\n",
       "    <tr>\n",
       "      <th>9</th>\n",
       "      <td>03604</td>\n",
       "      <td>lim x→0 cos(xeˣ)-cos(xe⁻ˣ)/x³</td>\n",
       "      <td>Mathematics</td>\n",
       "      <td>1.  **Check for indeterminate form**: Substitu...</td>\n",
       "      <td>-2</td>\n",
       "      <td>32875.0</td>\n",
       "      <td>NaN</td>\n",
       "      <td>1.  **Identify the indeterminate form:** As x ...</td>\n",
       "      <td>-2</td>\n",
       "      <td>19642.0</td>\n",
       "      <td>NaN</td>\n",
       "      <td>NaN</td>\n",
       "      <td>NaN</td>\n",
       "      <td>NaN</td>\n",
       "      <td>Analysis API error: 500 Server Error: Internal...</td>\n",
       "      <td>2025-08-19 07:00:57</td>\n",
       "    </tr>\n",
       "  </tbody>\n",
       "</table>\n",
       "</div>"
      ],
      "text/plain": [
       "  question_id                                      question_text      subject  \\\n",
       "0       015c4  A river has width 0.5 km and flows from West t...      Physics   \n",
       "1       00b31  अवकल सभीकरण $(x\\sqrt{1+y^2}) dx + (y\\sqrt{1+x^...  Mathematics   \n",
       "2       006d7  माना A = $\\begin{pmatrix} 1+i & 1 \\ -i & 0 \\en...  Mathematics   \n",
       "3       01a13  1.0 mol of Fe reacts completely with 0.65 mol ...    Chemistry   \n",
       "4       0159a  If \\(y = 1 + \\frac{x_1}{x - x_1} + \\frac{x_2 \\...  Mathematics   \n",
       "5       01fb7  If $sin^{-1}\\frac{1}{3} + sin^{-1}\\frac{2}{3} ...  Mathematics   \n",
       "6       031a8  एक समान आवेशित समाक्षीय वलयो के लिए दोनों वलय ...      Physics   \n",
       "7       027c1  The angle between vector (A) and (A-B) is:\\n\\n...      Physics   \n",
       "8       02b82  A rod of length L has a total charge Q distrib...      Physics   \n",
       "9       03604                      lim x→0 cos(xeˣ)-cos(xe⁻ˣ)/x³  Mathematics   \n",
       "\n",
       "                                standard_explanation  \\\n",
       "0  1. **Identify the relevant quantities:**\\n   -...   \n",
       "1  The given differential equation is:$(x\\sqrt{1+...   \n",
       "2  To find the number of elements `n` in the set ...   \n",
       "3  1. **Identify the products and write balanced ...   \n",
       "4  1.  **Simplify the expression for y**: Let's a...   \n",
       "5  To solve the equation $sin^{-1}\\frac{1}{3} + s...   \n",
       "6  Let's denote the center of the left ring as A ...   \n",
       "7  1.  Understand the problem: We need to find th...   \n",
       "8  1. **Determine the radius and linear charge de...   \n",
       "9  1.  **Check for indeterminate form**: Substitu...   \n",
       "\n",
       "                                     standard_answer  \\\n",
       "0                                       0.0125 hours   \n",
       "1                  $\\sqrt{1+x^2} + \\sqrt{1+y^2} = C$   \n",
       "2                                                 25   \n",
       "3                                                4:3   \n",
       "4  \\frac{dy}{dx} = \\frac{y}{x} \\left[ \\frac{x_1}{...   \n",
       "5                     \\frac{\\sqrt{5} + 4\\sqrt{2}}{9}   \n",
       "6  $V_A - V_B = \\frac{Q}{4\\pi\\epsilon_0 R} \\left(...   \n",
       "7                                                30°   \n",
       "8                                      Qπ / (2πε₀L²)   \n",
       "9                                                 -2   \n",
       "\n",
       "   standard_processing_time standard_error  \\\n",
       "0                    6987.0            NaN   \n",
       "1                   11423.0            NaN   \n",
       "2                   30051.0            NaN   \n",
       "3                   12401.0            NaN   \n",
       "4                   32532.0            NaN   \n",
       "5                   19508.0            NaN   \n",
       "6                   19554.0            NaN   \n",
       "7                   41661.0            NaN   \n",
       "8                   29627.0            NaN   \n",
       "9                   32875.0            NaN   \n",
       "\n",
       "                                     sim_explanation  \\\n",
       "0  To determine the time it takes for the boat to...   \n",
       "1  The given differential equation is $(x\\sqrt{1+...   \n",
       "2  Step-by-step explanation:\\n1.  **Calculate the...   \n",
       "3  To solve this problem, we first consider the t...   \n",
       "4  The problem asks us to prove a derivative iden...   \n",
       "5  To solve the equation $\\sin^{-1}\\frac{1}{3} + ...   \n",
       "6  इस समस्या को हल करने के लिए, हम एक आवेशित वलय ...   \n",
       "7  The problem asks for the angle between vector ...   \n",
       "8  1.  **Define Linear Charge Density and Radius:...   \n",
       "9  1.  **Identify the indeterminate form:** As x ...   \n",
       "\n",
       "                                          sim_answer  sim_processing_time  \\\n",
       "0                                         1/80 hours              14977.0   \n",
       "1                  $\\sqrt{1+x^2} + \\sqrt{1+y^2} = C$              14426.0   \n",
       "2                                                 25              26099.0   \n",
       "3                                                4:3              21369.0   \n",
       "4                                              Proof              36884.0   \n",
       "5                 $$\\frac{\\sqrt{5} + 4\\sqrt{2}}{9}$$              17790.0   \n",
       "6  दो वलय के केन्द्र के मध्य विभावन्तर (V_B - V_A...              34770.0   \n",
       "7                                         30 degrees              51420.0   \n",
       "8                        $\\frac{Q}{2\\epsilon_0 L^2}$              35497.0   \n",
       "9                                                 -2              19642.0   \n",
       "\n",
       "  sim_error  sim_score  standard_score  \\\n",
       "0       NaN      100.0           100.0   \n",
       "1       NaN      100.0            98.0   \n",
       "2       NaN      100.0           100.0   \n",
       "3       NaN      100.0           100.0   \n",
       "4       NaN      100.0           100.0   \n",
       "5       NaN       98.0           100.0   \n",
       "6       NaN       98.0            97.0   \n",
       "7       NaN      100.0           100.0   \n",
       "8       NaN        NaN             NaN   \n",
       "9       NaN        NaN             NaN   \n",
       "\n",
       "                                      analysis_notes  \\\n",
       "0  Both the sim answer and the no-sim answer are ...   \n",
       "1  Both answers correctly identify the given diff...   \n",
       "2  Both answers are exceptionally accurate, compl...   \n",
       "3  Both answers are excellent and provide a compl...   \n",
       "4  Both answers are exceptionally accurate and co...   \n",
       "5  Both the 'sim_answer' and 'no_sim_answer' prov...   \n",
       "6  Both answers provide a correct and complete so...   \n",
       "7  Both answers provide an excellent and comprehe...   \n",
       "8                                                NaN   \n",
       "9                                                NaN   \n",
       "\n",
       "                                      analysis_error            timestamp  \n",
       "0                                                NaN  2025-08-19 06:37:59  \n",
       "1                                                NaN  2025-08-19 06:38:11  \n",
       "2                                                NaN  2025-08-19 06:38:45  \n",
       "3                                                NaN  2025-08-19 06:38:46  \n",
       "4                                                NaN  2025-08-19 06:38:55  \n",
       "5                                                NaN  2025-08-19 06:59:23  \n",
       "6                                                NaN  2025-08-19 06:59:50  \n",
       "7                                                NaN  2025-08-19 07:00:19  \n",
       "8  Analysis API error: 400 Client Error: Bad Requ...  2025-08-19 07:00:32  \n",
       "9  Analysis API error: 500 Server Error: Internal...  2025-08-19 07:00:57  "
      ]
     },
     "execution_count": 221,
     "metadata": {},
     "output_type": "execute_result"
    }
   ],
   "source": []
  },
  {
   "cell_type": "code",
   "execution_count": 222,
   "metadata": {},
   "outputs": [
    {
     "data": {
      "text/plain": [
       "79"
      ]
     },
     "execution_count": 222,
     "metadata": {},
     "output_type": "execute_result"
    }
   ],
   "source": []
  },
  {
   "cell_type": "code",
   "execution_count": 224,
   "metadata": {},
   "outputs": [
    {
     "data": {
      "text/plain": [
       "32"
      ]
     },
     "execution_count": 224,
     "metadata": {},
     "output_type": "execute_result"
    }
   ],
   "source": []
  },
  {
   "cell_type": "code",
   "execution_count": 205,
   "metadata": {},
   "outputs": [],
   "source": []
  },
  {
   "cell_type": "code",
   "execution_count": 206,
   "metadata": {},
   "outputs": [],
   "source": [
    "# MAS for evaluating 2 solution builders and evaluator\n",
    "\n",
    "\n",
    "# A standard solution builder without similar questions\n",
    "from llama_index.core.bridge.pydantic import BaseModel\n",
    "from llama_index.core.agent.workflow import FunctionAgent\n",
    "from llama_index.llms.google_genai import GoogleGenAI\n",
    "from google.genai import types\n",
    "\n",
    "import os\n",
    "from dotenv import load_dotenv\n",
    "load_dotenv()\n",
    "\n",
    "\n",
    "from difflib import SequenceMatcher\n",
    "from typing import List\n",
    "\n",
    "sub_agent_llm = GoogleGenAI(\n",
    "    model=\"gemini-2.5-flash\",\n",
    "    api_key = os.getenv(\"GEMINI_API_KEY\"),\n",
    "    generation_config=types.GenerateContentConfig(\n",
    "        max_output_tokens=8192,\n",
    "        thinking_config=types.ThinkingConfig(\n",
    "            thinking_budget=-1\n",
    "        ),\n",
    "    ),\n",
    ")\n",
    "\n",
    "\n",
    "class SolutionModel(BaseModel):\n",
    "    explanation: str\n",
    "    final_answer: str\n",
    "\n",
    "\n",
    "\n",
    "no_sim_solution_prompt = \"\"\"You are an academic expert at solving problems in the field of maths, physics and chemistry. \n",
    "\n",
    "You receive a question and you respond with an object with following keys:\n",
    "final_answer - the final answer to the question\n",
    "explanation - a step by step explanation of the solution approach\n",
    "\n",
    "Don't assume any typos from the core parts of the question, make sure to use the question exactly as it is given.\n",
    "The explanation should be a step by step solution approach to the given question so that the student can understand how you arrived to the solution.\n",
    "\n",
    "Make sure to keep final answer direct and as short as possible and keep the step by step explanation to the explanation portion of the object.\n",
    "\"\"\"\n",
    "\n",
    "no_sim_solution_agent = FunctionAgent(\n",
    "    name=\"NoSimSolutionAgent\",\n",
    "    description=\"It builds thorough solutions to the given problem\",\n",
    "    system_prompt=(\n",
    "        no_sim_solution_prompt\n",
    "    ),\n",
    "    llm=sub_agent_llm,\n",
    "    output_cls=SolutionModel,\n",
    "    timeout=120,\n",
    "    tools=[]\n",
    "\n",
    ")\n",
    "\n",
    "class SimilarQuestion(BaseModel):\n",
    "    similar_question_text: str\n",
    "    similarity_score: float\n",
    "    summarized_solution_approach: str\n",
    "\n",
    "sim_solution_prompt = \"\"\"You are an academic expert at solving problems in the field of maths, physics and chemistry. \n",
    "\n",
    "You receive a question and you respond with an object with following keys:\n",
    "final_answer - the final answer to the question\n",
    "explanation - a step by step explanation of the solution approach\n",
    "\n",
    "Don't assume any typos from the core parts of the question, make sure to use the question exactly as it is given.\n",
    "The explanation should be a step by step solution approach to the given question so that the student can understand how you arrived to the solution.\n",
    "\n",
    "You should get similar questions via the tool get_similar_questions_tool for each question\n",
    "which accepts the question and responds with similar questions, their solution approaches and vector similarity scores.\n",
    "You must pass the question that you receive identically to the function without changing a single character into the tool.\n",
    "\n",
    "Substantiate your answer by comparing it to the similar questions' solution approaches and come up with the final answer. \n",
    "You can ignore similar questions if not relevant to given question         \n",
    "\n",
    "Make sure to keep final answer direct and as short as possible and keep the step by step explanation to the explanation portion of the object.\n",
    "\"\"\"\n",
    "async def get_similar_questions(question: str) -> List[SimilarQuestion]:\n",
    "    \"\"\" Get most similar question from dataset and return its similar questions \"\"\"\n",
    "    with open('similar_question_data.json') as f:\n",
    "        data = json.load(f)\n",
    "\n",
    "    best_match = max(\n",
    "        data,\n",
    "        key=lambda q: SequenceMatcher(None, q['question_text'], question).ratio()\n",
    "    )\n",
    "\n",
    "    return [SimilarQuestion(**sq) for sq in best_match.get('similar_questions', [])]\n",
    "\n",
    "\n",
    "sim_solution_agent = FunctionAgent(\n",
    "    name=\"SimSolutionAgent\",\n",
    "    description=\"It builds thorough solutions to the given problem\",\n",
    "    system_prompt=(\n",
    "        sim_solution_prompt\n",
    "    ),\n",
    "    llm=sub_agent_llm,\n",
    "    output_cls=SolutionModel,\n",
    "    timeout=120,\n",
    "    tools=[get_similar_questions]\n",
    "\n",
    ")\n",
    "\n",
    "class ComparitiveAnalysis(BaseModel):\n",
    "    sim_answer_score: int\n",
    "    no_sim_answer_score: int\n",
    "    notes: str\n",
    "    \n",
    "    \n",
    "\n",
    "comparision_prompt = \"\"\"You are an academic expert at solving problems in the field of maths, physics and chemistry. \n",
    "You are tasked with evaluating different answers to a question and you score them based on their accuracy and completeness.\n",
    "You receive the following information from the user.\n",
    "\n",
    "The answers you receive are of two categories - sim answers and non-sim answers, You must score both of the answers \n",
    "\n",
    "Here is everything you receive:\n",
    "question: The question to be solved\n",
    "sim_answer_explanation: A step by step explanation of the solution approach to the question\n",
    "sim_answer_final_answer: The final answer to the question\n",
    "no_sim_answer_explanation: A step by step explanation of the solution approach to the question\n",
    "no_sim_answer_final_answer: The final answer to the question\n",
    "\n",
    "You must respond with an object with the following keys:\n",
    "sim_answer_score: A score between 0 and 100 for the sim answer\n",
    "no_sim_answer_score: A score between 0 and 100 for the no sim answer\n",
    "notes: A note explaining the comparitive analysis between both answers explaining which is better and why\n",
    "\n",
    "Make sure to thoroughly analyze both questions on their correctness, accuracy, completeleness\n",
    "\"\"\"\n",
    "\n",
    "comparision_agent = FunctionAgent(\n",
    "    name=\"ComparitiveAnalysisAgent\",\n",
    "    description=\"It evaluates the comparitive analysis of the given question\",\n",
    "    system_prompt=(\n",
    "        comparision_prompt\n",
    "    ),\n",
    "    llm=sub_agent_llm,\n",
    "    output_cls=ComparitiveAnalysis,\n",
    "    timeout=120,\n",
    "    tools=[]\n",
    ")\n",
    "\n",
    "\n",
    "async def solve_without_similar_questions(question: str) -> str:\n",
    "    \"\"\"\n",
    "    Generates a solution for the given question using the standard solution builder agent.\n",
    "    This agent does not use similar questions for context.\n",
    "    Returns a solution object as a string.\n",
    "    \"\"\"\n",
    "\n",
    "    result = await no_sim_solution_agent.run(user_msg=question)\n",
    "    return str(result.structured_response)\n",
    "\n",
    "\n",
    "async def solve_with_similar_questions(question: str) -> str:\n",
    "    \"\"\"\n",
    "    Generates a solution for the given question using the agent that can fetch\n",
    "    and analyze similar questions via its tools.\n",
    "    Returns a solution object as a string.\n",
    "    \"\"\"\n",
    "    result = await sim_solution_agent.run(user_msg=question)\n",
    "    return str(result.structured_response)\n",
    "\n",
    "\n",
    "\n",
    "async def evaluate_and_compare_solutions(\n",
    "    question: str,\n",
    "    sim_solution_explanation: str,\n",
    "    sim_solution_final_answer: str,\n",
    "    no_sim_solution_explanation: str,\n",
    "    no_sim_solution_final_answer: str,\n",
    ") -> str:\n",
    "    \"\"\"\n",
    "    Compares and evaluates two different solutions for the same question.\n",
    "    It takes the original question and the individual components (explanation and final answer)\n",
    "    for both the 'similar question' and 'no similar question' based solutions.\n",
    "    Returns a comparitive analysis object as a string.\n",
    "    \"\"\"\n",
    "    user_msg = f\"\"\"\n",
    "    question: {question}\n",
    "    sim_answer_explanation: {sim_solution_explanation}\n",
    "    sim_answer_final_answer: {sim_solution_final_answer}\n",
    "    no_sim_answer_explanation: {no_sim_solution_explanation}\n",
    "    no_sim_answer_final_answer: {no_sim_solution_final_answer}\n",
    "    \"\"\"\n",
    "    result = await comparision_agent.run(user_msg=user_msg)\n",
    "    return str(result.structured_response)\n",
    "\n",
    "\n",
    "\n",
    "\n",
    "orchestrator_llm = GoogleGenAI(\n",
    "    model=\"gemini-2.5-flash\", # can be changed to pro for better quality\n",
    "    api_key = os.getenv(\"GEMINI_API_KEY\"),\n",
    "    generation_config=types.GenerateContentConfig(\n",
    "        max_output_tokens=8192,\n",
    "        thinking_config=types.ThinkingConfig(\n",
    "            thinking_budget=-1\n",
    "        ),\n",
    "    ),\n",
    ")\n",
    "\n",
    "\n",
    "class AgenticComparitiveAnalysis(BaseModel):\n",
    "    sim_explanation: str\n",
    "    sim_final_answer: str\n",
    "    no_sim_explanation: str\n",
    "    no_sim_final_answer: str\n",
    "    sim_answer_score: int\n",
    "    no_sim_answer_score: int\n",
    "    notes: str\n",
    "\n",
    "    \n",
    "orchestrator = FunctionAgent(\n",
    "    system_prompt=\"\"\"You are an academic evaluation expert. You will be a question and you are tasked to get answers and evaluate those answers via the tools given to you.\n",
    "    You are given the following tools:\n",
    "    solve_without_similar_questions: A tool to solve the question without using similar questions. - You receive no_sim_explanation and no_sim_final_answer via this.\n",
    "    solve_with_similar_questions: A tool to solve the question using similar questions. - You receive sim_explanation and sim_final_answer via this.\n",
    "    evaluate_and_compare_solutions: A tool to evaluate and compare two solutions for the same question.\n",
    "    \n",
    "    You must first use the two solution builder tools to get the answers and then use the evaluation tool to get scores for both answers and notes on what is better\n",
    "    IMPORTANT: Do not ignore the image description that may come with the question which is an important part of the question.\n",
    "\n",
    "    You must return an object with the following fields:\n",
    "    sim_explanation: The explanation for the similar question solution.\n",
    "    sim_final_answer: The final answer for the similar question solution.\n",
    "    no_sim_explanation: The explanation for the no similar question solution.\n",
    "    no_sim_final_answer: The final answer for the no similar question solution.\n",
    "    sim_answer_score: The score for the similar question solution.\n",
    "    no_sim_answer_score: The score for the no similar question solution.\n",
    "    notes: Any notes on what is better for the question.\n",
    "    \n",
    "    \"\"\",\n",
    "    llm=orchestrator_llm,\n",
    "    tools=[\n",
    "        solve_without_similar_questions,\n",
    "        solve_with_similar_questions,\n",
    "        evaluate_and_compare_solutions,\n",
    "    ],\n",
    "    output_cls=AgenticComparitiveAnalysis,\n",
    ")\n",
    "\n"
   ]
  },
  {
   "cell_type": "code",
   "execution_count": 207,
   "metadata": {},
   "outputs": [],
   "source": [
    "# streaming the solution for debugging\n",
    "\n",
    "from llama_index.core.agent.workflow import (\n",
    "    AgentInput,\n",
    "    AgentOutput,\n",
    "    ToolCall,\n",
    "    ToolCallResult,\n",
    "    AgentStream,\n",
    ")\n",
    "from llama_index.core.workflow import Context\n",
    "\n",
    "\n",
    "async def run_orchestrator( user_msg: str):\n",
    "    handler = orchestrator.run(\n",
    "        user_msg=user_msg,\n",
    "    )\n",
    "\n",
    "    async for event in handler.stream_events():\n",
    "        if isinstance(event, AgentStream):\n",
    "            if event.delta:\n",
    "                print(event.delta, end=\"\", flush=True)\n",
    "        # elif isinstance(event, AgentInput):\n",
    "        #     print(\"📥 Input:\", event.input)\n",
    "        elif isinstance(event, AgentOutput):\n",
    "            # Skip printing the output since we are streaming above\n",
    "            # if event.response.content:\n",
    "            #     print(\"📤 Output:\", event.response.content)\n",
    "            if event.tool_calls:\n",
    "                print(\n",
    "                    \"🛠️  Planning to use tools:\",\n",
    "                    [call.tool_name for call in event.tool_calls],\n",
    "                )\n",
    "            else:\n",
    "                return event.response.content\n",
    "        elif isinstance(event, ToolCallResult):\n",
    "            print(f\"🔧 Tool Result ({event.tool_name}):\")\n",
    "            print(f\"  Arguments: {event.tool_kwargs}\")\n",
    "            print(f\"  Output: {event.tool_output}\")\n",
    "        elif isinstance(event, ToolCall):\n",
    "            print(f\"🔨 Calling Tool: {event.tool_name}\")\n",
    "            print(f\"  With arguments: {event.tool_kwargs}\")\n"
   ]
  },
  {
   "cell_type": "code",
   "execution_count": 213,
   "metadata": {},
   "outputs": [
    {
     "data": {
      "text/plain": [
       "\"p. (1/y^2 * (cos(tan^{-1}y) + ysin(tan^{-1}y))/(cot(sin^{-1}y) + tan(sin^{-1}y)))^2 + y^4)^{1/2} का मान है\\n\\nThe image contains a mathematical expression. The expression involves trigonometric functions, inverse trigonometric functions, and algebraic terms. Specifically, it includes terms like cosine, sine, cotangent, and tangent, each applied to inverse trigonometric functions of 'y'. The expression also involves powers of 'y' and numerical constants. The entire expression is enclosed in parentheses and raised to the power of 1/2.\""
      ]
     },
     "execution_count": 213,
     "metadata": {},
     "output_type": "execute_result"
    }
   ],
   "source": [
    "data[12][\"question_text\"]"
   ]
  },
  {
   "cell_type": "code",
   "execution_count": 209,
   "metadata": {},
   "outputs": [
    {
     "name": "stdout",
     "output_type": "stream",
     "text": [
      "🛠️  Planning to use tools: ['solve_without_similar_questions', 'solve_with_similar_questions']\n",
      "🔨 Calling Tool: solve_without_similar_questions\n",
      "  With arguments: {'question': 'p. (1/y^2 * (cos(tan^{-1}y) + ysin(tan^{-1}y))/(cot(sin^{-1}y) + tan(sin^{-1}y)))^2 + y^4)^{1/2} का मान है'}\n",
      "🔨 Calling Tool: solve_with_similar_questions\n",
      "  With arguments: {'question': 'p. (1/y^2 * (cos(tan^{-1}y) + ysin(tan^{-1}y))/(cot(sin^{-1}y) + tan(sin^{-1}y)))^2 + y^4)^{1/2} का मान है'}\n",
      "🔧 Tool Result (solve_without_similar_questions):\n",
      "  Arguments: {'question': 'p. (1/y^2 * (cos(tan^{-1}y) + ysin(tan^{-1}y))/(cot(sin^{-1}y) + tan(sin^{-1}y)))^2 + y^4)^{1/2} का मान है'}\n",
      "  Output: {'explanation': 'The given mathematical expression is: `(1/y^2 * (cos(tan^{-1}y) + ysin(tan^{-1}y))/(cot(sin^{-1}y) + tan(sin^{-1}y)))^2 + y^4)^{1/2}`. We will simplify this expression step-by-step.\\n\\n**Step 1: Simplify the numerator of the inner fraction.**\\nLet `A = cos(tan^{-1}y) + ysin(tan^{-1}y)`. Let `theta = tan^{-1}y`, so `tan(theta) = y`. From a right-angled triangle, `cos(theta) = 1/sqrt(y^2 + 1)` and `sin(theta) = y/sqrt(y^2 + 1)`. Substituting these values:\\n`A = 1/sqrt(y^2 + 1) + y * (y/sqrt(y^2 + 1)) = (1 + y^2)/sqrt(y^2 + 1) = sqrt(y^2 + 1)`.\\n\\n**Step 2: Simplify the denominator of the inner fraction.**\\nLet `B = cot(sin^{-1}y) + tan(sin^{-1}y)`. Let `phi = sin^{-1}y`, so `sin(phi) = y`. From a right-angled triangle, `cot(phi) = sqrt(1 - y^2)/y` and `tan(phi) = y/sqrt(1 - y^2)`. Substituting these values:\\n`B = sqrt(1 - y^2)/y + y/sqrt(1 - y^2) = (1 - y^2 + y^2) / (y * sqrt(1 - y^2)) = 1 / (y * sqrt(1 - y^2))`.\\n\\n**Step 3: Simplify the inner fraction (A/B).**\\n`A/B = sqrt(y^2 + 1) / (1 / (y * sqrt(1 - y^2))) = sqrt(y^2 + 1) * y * sqrt(1 - y^2)`\\n`A/B = y * sqrt((y^2 + 1)(1 - y^2)) = y * sqrt(1 - y^4)`.\\n\\n**Step 4: Substitute the simplified inner fraction back into the main expression and complete the calculation.**\\nThe original expression is `(1/y^2 * (A/B))^2 + y^4)^{1/2}`.\\nSubstitute `A/B = y * sqrt(1 - y^4)`:\\n`(1/y^2 * y * sqrt(1 - y^4))^2 + y^4)^{1/2}`\\n`((1/y) * sqrt(1 - y^4))^2 + y^4)^{1/2}`\\nSquare the term inside the parenthesis:\\n`((1 - y^4) / y^2 + y^4)^{1/2}`\\nCombine the terms by finding a common denominator:\\n`((1 - y^4 + y^4 * y^2) / y^2)^{1/2}`\\n`((1 - y^4 + y^6) / y^2)^{1/2}`\\nFinally, take the square root:\\n`sqrt(1 - y^4 + y^6) / sqrt(y^2)`\\n`= sqrt(1 - y^4 + y^6) / |y|`.\\nThe `p.` at the beginning of the question is treated as a label and not part of the mathematical expression.', 'final_answer': 'sqrt(1 - y^4 + y^6) / |y|'}\n",
      "🔧 Tool Result (solve_with_similar_questions):\n",
      "  Arguments: {'question': 'p. (1/y^2 * (cos(tan^{-1}y) + ysin(tan^{-1}y))/(cot(sin^{-1}y) + tan(sin^{-1}y)))^2 + y^4)^{1/2} का मान है'}\n",
      "  Output: {'explanation': \"Step 1: Simplify the term `cos(tan^{-1}y) + ysin(tan^{-1}y)`.Let `θ = tan^{-1}y`, so `tan(θ) = y`. Construct a right-angled triangle with opposite side `y` and adjacent side `1`. The hypotenuse is `√(y^2 + 1)`. From this, `cos(θ) = 1/√(y^2 + 1)` and `sin(θ) = y/√(y^2 + 1)`. Substitute these into the expression: `1/√(y^2 + 1) + y * (y/√(y^2 + 1)) = (1 + y^2) / √(y^2 + 1) = √(y^2 + 1)`.Step 2: Simplify the term `cot(sin^{-1}y) + tan(sin^{-1}y)`.Let `φ = sin^{-1}y`, so `sin(φ) = y`. Construct a right-angled triangle with opposite side `y` and hypotenuse `1`. The adjacent side is `√(1 - y^2)`. From this, `cot(φ) = √(1 - y^2)/y` and `tan(φ) = y/√(1 - y^2)`. Substitute these into the expression: `√(1 - y^2)/y + y/√(1 - y^2) = ( (√(1 - y^2))^2 + y^2 ) / (y * √(1 - y^2)) = (1 - y^2 + y^2) / (y * √(1 - y^2)) = 1 / (y * √(1 - y^2))`.Step 3: Substitute the simplified terms back into the main expression's numerator part of the fraction. The numerator part is `(1/y^2 * (cos(tan^{-1}y) + ysin(tan^{-1}y)))`. Substituting the result from Step 1: `(1/y^2) * √(y^2 + 1)`.Step 4: Form the complete fraction. The fraction is `( (1/y^2) * √(y^2 + 1) ) / ( 1 / (y * √(1 - y^2)) )`. Simplify this: `= (√(y^2 + 1) / y^2) * (y * √(1 - y^2) / 1) = (√(y^2 + 1) * y * √(1 - y^2)) / y^2 = (√(y^2 + 1) * √(1 - y^2)) / y = √( (y^2 + 1) * (1 - y^2) ) / y`. Using the difference of squares `(a+b)(a-b) = a^2 - b^2`: `= √(1 - y^4) / y`.Step 5: Square the result from Step 4. The expression is `(...)^2`. So, square the fraction: `(√(1 - y^4) / y)^2 = (1 - y^4) / y^2`.Step 6: Add `y^4` to the result from Step 5 and take the square root. The full expression is `(Fraction^2 + y^4)^{1/2}`. So, `= ( (1 - y^4) / y^2 + y^4 )^(1/2)`. To combine the terms inside the square root, find a common denominator: `= ( (1 - y^4 + y^4 * y^2) / y^2 )^(1/2) = ( (1 - y^4 + y^6) / y^2 )^(1/2) = √(1 - y^4 + y^6) / √(y^2) = √(1 - y^4 + y^6) / |y|`. The approach aligns with similar problems requiring simplification of expressions with inverse trigonometric functions by breaking them down into smaller parts and using trigonometric identities and algebraic manipulation.\", 'final_answer': ' (1/|y|) * √(1 - y^4 + y^6) '}\n",
      "🛠️  Planning to use tools: ['evaluate_and_compare_solutions']\n",
      "🔨 Calling Tool: evaluate_and_compare_solutions\n",
      "  With arguments: {'no_sim_solution_explanation': 'The given mathematical expression is: `(1/y^2 * (cos(tan^{-1}y) + ysin(tan^{-1}y))/(cot(sin^{-1}y) + tan(sin^{-1}y)))^2 + y^4)^{1/2}`. We will simplify this expression step-by-step.\\\\n\\\\n**Step 1: Simplify the numerator of the inner fraction.**\\\\nLet `A = cos(tan^{-1}y) + ysin(tan^{-1}y)`. Let `theta = tan^{-1}y`, so `tan(theta) = y`. From a right-angled triangle, `cos(theta) = 1/sqrt(y^2 + 1)` and `sin(theta) = y/sqrt(y^2 + 1)`. Substituting these values:\\\\n`A = 1/sqrt(y^2 + 1) + y * (y/sqrt(y^2 + 1)) = (1 + y^2)/sqrt(y^2 + 1) = sqrt(y^2 + 1)`.\\\\n\\\\n**Step 2: Simplify the denominator of the inner fraction.**\\\\nLet `B = cot(sin^{-1}y) + tan(sin^{-1}y)`. Let `phi = sin^{-1}y`, so `sin(phi) = y`. From a right-angled triangle, `cot(phi) = sqrt(1 - y^2)/y` and `tan(phi) = y/sqrt(1 - y^2)`. Substituting these values:\\\\n`B = sqrt(1 - y^2)/y + y/sqrt(1 - y^2) = (1 - y^2 + y^2) / (y * sqrt(1 - y^2)) = 1 / (y * sqrt(1 - y^2))`.\\\\n\\\\n**Step 3: Simplify the inner fraction (A/B).**\\\\n`A/B = sqrt(y^2 + 1) / (1 / (y * sqrt(1 - y^2))) = sqrt(y^2 + 1) * y * sqrt(1 - y^2)`\\\\n`A/B = y * sqrt((y^2 + 1)(1 - y^2)) = y * sqrt(1 - y^4)`.\\\\n\\\\n**Step 4: Substitute the simplified inner fraction back into the main expression and complete the calculation.**\\\\nThe original expression is `(1/y^2 * (A/B))^2 + y^4)^{1/2}`.\\\\nSubstitute `A/B = y * sqrt(1 - y^4)`:\\\\n`(1/y^2 * y * sqrt(1 - y^4))^2 + y^4)^{1/2}`\\\\n`((1/y) * sqrt(1 - y^4))^2 + y^4)^{1/2}`\\\\nSquare the term inside the parenthesis:\\\\n`((1 - y^4) / y^2 + y^4)^{1/2}`\\\\nCombine the terms by finding a common denominator:\\\\n`((1 - y^4 + y^4 * y^2) / y^2)^{1/2}`\\\\n`((1 - y^4 + y^6) / y^2)^{1/2}`\\\\nFinally, take the square root:\\\\n`sqrt(1 - y^4 + y^6) / sqrt(y^2)`\\\\n`= sqrt(1 - y^4 + y^6) / |y|`.\\\\nThe `p.` at the beginning of the question is treated as a label and not part of the mathematical expression.', 'sim_solution_explanation': \"Step 1: Simplify the term `cos(tan^{-1}y) + ysin(tan^{-1}y)`.Let `θ = tan^{-1}y`, so `tan(θ) = y`. Construct a right-angled triangle with opposite side `y` and adjacent side `1`. The hypotenuse is `√(y^2 + 1)`. From this, `cos(θ) = 1/√(y^2 + 1)` and `sin(θ) = y/√(y^2 + 1)`. Substitute these into the expression: `1/√(y^2 + 1) + y * (y/√(y^2 + 1)) = (1 + y^2) / √(y^2 + 1) = √(y^2 + 1)`.Step 2: Simplify the term `cot(sin^{-1}y) + tan(sin^{-1}y)`.Let `φ = sin^{-1}y`, so `sin(φ) = y`. Construct a right-angled triangle with opposite side `y` and hypotenuse `1`. The adjacent side is `√(1 - y^2)`. From this, `cot(φ) = √(1 - y^2)/y` and `tan(φ) = y/√(1 - y^2)`. Substitute these into the expression: `√(1 - y^2)/y + y/√(1 - y^2) = ( (√(1 - y^2))^2 + y^2 ) / (y * √(1 - y^2)) = (1 - y^2 + y^2) / (y * √(1 - y^2)) = 1 / (y * √(1 - y^2))`.Step 3: Substitute the simplified terms back into the main expression's numerator part of the fraction. The numerator part is `(1/y^2 * (cos(tan^{-1}y) + ysin(tan^{-1}y)))`. Substituting the result from Step 1: `(1/y^2) * √(y^2 + 1)`.Step 4: Form the complete fraction. The fraction is `( (1/y^2) * √(y^2 + 1) ) / ( 1 / (y * √(1 - y^2)) )`. Simplify this: `= (√(y^2 + 1) / y^2) * (y * √(1 - y^2) / 1) = (√(y^2 + 1) * y * √(1 - y^2)) / y^2 = (√(y^2 + 1) * √(1 - y^2)) / y = √( (y^2 + 1) * (1 - y^2) ) / y`. Using the difference of squares `(a+b)(a-b) = a^2 - b^2`: `= √(1 - y^4) / y`.Step 5: Square the result from Step 4. The expression is `(...)^2`. So, square the fraction: `(√(1 - y^4) / y)^2 = (1 - y^4) / y^2`.Step 6: Add `y^4` to the result from Step 5 and take the square root. The full expression is `(Fraction^2 + y^4)^{1/2}`. So, `= ( (1 - y^4) / y^2 + y^4 )^(1/2)`. To combine the terms inside the square root, find a common denominator: `= ( (1 - y^4 + y^4 * y^2) / y^2 )^(1/2) = ( (1 - y^4 + y^6) / y^2 )^(1/2) = √(1 - y^4 + y^6) / √(y^2) = √(1 - y^4 + y^6) / |y|`. The approach aligns with similar problems requiring simplification of expressions with inverse trigonometric functions by breaking them down into smaller parts and using trigonometric identities and algebraic manipulation.\", 'no_sim_solution_final_answer': 'sqrt(1 - y^4 + y^6) / |y|', 'sim_solution_final_answer': ' (1/|y|) * √(1 - y^4 + y^6) ', 'question': 'p. (1/y^2 * (cos(tan^{-1}y) + ysin(tan^{-1}y))/(cot(sin^{-1}y) + tan(sin^{-1}y)))^2 + y^4)^{1/2} का मान है'}\n",
      "🔧 Tool Result (evaluate_and_compare_solutions):\n",
      "  Arguments: {'no_sim_solution_explanation': 'The given mathematical expression is: `(1/y^2 * (cos(tan^{-1}y) + ysin(tan^{-1}y))/(cot(sin^{-1}y) + tan(sin^{-1}y)))^2 + y^4)^{1/2}`. We will simplify this expression step-by-step.\\\\n\\\\n**Step 1: Simplify the numerator of the inner fraction.**\\\\nLet `A = cos(tan^{-1}y) + ysin(tan^{-1}y)`. Let `theta = tan^{-1}y`, so `tan(theta) = y`. From a right-angled triangle, `cos(theta) = 1/sqrt(y^2 + 1)` and `sin(theta) = y/sqrt(y^2 + 1)`. Substituting these values:\\\\n`A = 1/sqrt(y^2 + 1) + y * (y/sqrt(y^2 + 1)) = (1 + y^2)/sqrt(y^2 + 1) = sqrt(y^2 + 1)`.\\\\n\\\\n**Step 2: Simplify the denominator of the inner fraction.**\\\\nLet `B = cot(sin^{-1}y) + tan(sin^{-1}y)`. Let `phi = sin^{-1}y`, so `sin(phi) = y`. From a right-angled triangle, `cot(phi) = sqrt(1 - y^2)/y` and `tan(phi) = y/sqrt(1 - y^2)`. Substituting these values:\\\\n`B = sqrt(1 - y^2)/y + y/sqrt(1 - y^2) = (1 - y^2 + y^2) / (y * sqrt(1 - y^2)) = 1 / (y * sqrt(1 - y^2))`.\\\\n\\\\n**Step 3: Simplify the inner fraction (A/B).**\\\\n`A/B = sqrt(y^2 + 1) / (1 / (y * sqrt(1 - y^2))) = sqrt(y^2 + 1) * y * sqrt(1 - y^2)`\\\\n`A/B = y * sqrt((y^2 + 1)(1 - y^2)) = y * sqrt(1 - y^4)`.\\\\n\\\\n**Step 4: Substitute the simplified inner fraction back into the main expression and complete the calculation.**\\\\nThe original expression is `(1/y^2 * (A/B))^2 + y^4)^{1/2}`.\\\\nSubstitute `A/B = y * sqrt(1 - y^4)`:\\\\n`(1/y^2 * y * sqrt(1 - y^4))^2 + y^4)^{1/2}`\\\\n`((1/y) * sqrt(1 - y^4))^2 + y^4)^{1/2}`\\\\nSquare the term inside the parenthesis:\\\\n`((1 - y^4) / y^2 + y^4)^{1/2}`\\\\nCombine the terms by finding a common denominator:\\\\n`((1 - y^4 + y^4 * y^2) / y^2)^{1/2}`\\\\n`((1 - y^4 + y^6) / y^2)^{1/2}`\\\\nFinally, take the square root:\\\\n`sqrt(1 - y^4 + y^6) / sqrt(y^2)`\\\\n`= sqrt(1 - y^4 + y^6) / |y|`.\\\\nThe `p.` at the beginning of the question is treated as a label and not part of the mathematical expression.', 'sim_solution_explanation': \"Step 1: Simplify the term `cos(tan^{-1}y) + ysin(tan^{-1}y)`.Let `θ = tan^{-1}y`, so `tan(θ) = y`. Construct a right-angled triangle with opposite side `y` and adjacent side `1`. The hypotenuse is `√(y^2 + 1)`. From this, `cos(θ) = 1/√(y^2 + 1)` and `sin(θ) = y/√(y^2 + 1)`. Substitute these into the expression: `1/√(y^2 + 1) + y * (y/√(y^2 + 1)) = (1 + y^2) / √(y^2 + 1) = √(y^2 + 1)`.Step 2: Simplify the term `cot(sin^{-1}y) + tan(sin^{-1}y)`.Let `φ = sin^{-1}y`, so `sin(φ) = y`. Construct a right-angled triangle with opposite side `y` and hypotenuse `1`. The adjacent side is `√(1 - y^2)`. From this, `cot(φ) = √(1 - y^2)/y` and `tan(φ) = y/√(1 - y^2)`. Substitute these into the expression: `√(1 - y^2)/y + y/√(1 - y^2) = ( (√(1 - y^2))^2 + y^2 ) / (y * √(1 - y^2)) = (1 - y^2 + y^2) / (y * √(1 - y^2)) = 1 / (y * √(1 - y^2))`.Step 3: Substitute the simplified terms back into the main expression's numerator part of the fraction. The numerator part is `(1/y^2 * (cos(tan^{-1}y) + ysin(tan^{-1}y)))`. Substituting the result from Step 1: `(1/y^2) * √(y^2 + 1)`.Step 4: Form the complete fraction. The fraction is `( (1/y^2) * √(y^2 + 1) ) / ( 1 / (y * √(1 - y^2)) )`. Simplify this: `= (√(y^2 + 1) / y^2) * (y * √(1 - y^2) / 1) = (√(y^2 + 1) * y * √(1 - y^2)) / y^2 = (√(y^2 + 1) * √(1 - y^2)) / y = √( (y^2 + 1) * (1 - y^2) ) / y`. Using the difference of squares `(a+b)(a-b) = a^2 - b^2`: `= √(1 - y^4) / y`.Step 5: Square the result from Step 4. The expression is `(...)^2`. So, square the fraction: `(√(1 - y^4) / y)^2 = (1 - y^4) / y^2`.Step 6: Add `y^4` to the result from Step 5 and take the square root. The full expression is `(Fraction^2 + y^4)^{1/2}`. So, `= ( (1 - y^4) / y^2 + y^4 )^(1/2)`. To combine the terms inside the square root, find a common denominator: `= ( (1 - y^4 + y^4 * y^2) / y^2 )^(1/2) = ( (1 - y^4 + y^6) / y^2 )^(1/2) = √(1 - y^4 + y^6) / √(y^2) = √(1 - y^4 + y^6) / |y|`. The approach aligns with similar problems requiring simplification of expressions with inverse trigonometric functions by breaking them down into smaller parts and using trigonometric identities and algebraic manipulation.\", 'no_sim_solution_final_answer': 'sqrt(1 - y^4 + y^6) / |y|', 'sim_solution_final_answer': ' (1/|y|) * √(1 - y^4 + y^6) ', 'question': 'p. (1/y^2 * (cos(tan^{-1}y) + ysin(tan^{-1}y))/(cot(sin^{-1}y) + tan(sin^{-1}y)))^2 + y^4)^{1/2} का मान है'}\n",
      "  Output: {'sim_answer_score': 100, 'no_sim_answer_score': 100, 'notes': 'Both the sim_answer and no_sim_answer provide a completely accurate and comprehensive solution to the problem. They follow identical logical steps, correctly simplifying the inverse trigonometric expressions using right-angled triangles, combining terms, squaring, and finally taking the square root. Both correctly use `|y|` for `sqrt(y^2)`. There is no significant difference in quality or correctness between the two answers. The no_sim_answer slightly edges out by explicitly clarifying the `p.` in the question, but this is a minor detail not impacting the mathematical solution itself. Both are excellent solutions.'}\n",
      "```json\n",
      "{\n",
      " \"sim_explanation\": \"Step 1: Simplify the term `cos(tan^{-1}y) + ysin(tan^{-1}y)`.Let `θ = tan^{-1}y`, so `tan(θ) = y`. Construct a right-angled triangle with opposite side `y` and adjacent side `1`. The hypotenuse is `√(y^2 + 1)`. From this, `cos(θ) = 1/√(y^2 + 1)` and `sin(θ) = y/√(y^2 + 1)`. Substitute these into the expression: `1/√(y^2 + 1) + y * (y/√(y^2 + 1)) = (1 + y^2) / √(y^2 + 1) = √(y^2 + 1)`.Step 2: Simplify the term `cot(sin^{-1}y) + tan(sin^{-1}y)`.Let `φ = sin^{-1}y`, so `sin(φ) = y`. Construct a right-angled triangle with opposite side `y` and hypotenuse `1`. The adjacent side is `√(1 - y^2)`. From this, `cot(φ) = √(1 - y^2)/y` and `tan(φ) = y/√(1 - y^2)`. Substitute these into the expression: `√(1 - y^2)/y + y/√(1 - y^2) = ( (√(1 - y^2))^2 + y^2 ) / (y * √(1 - y^2)) = (1 - y^2 + y^2) / (y * √(1 - y^2)) = 1 / (y * √(1 - y^2))`.Step 3: Substitute the simplified terms back into the main expression's numerator part of the fraction. The numerator part is `(1/y^2 * (cos(tan^{-1}y) + ysin(tan^{-1}y)))`. Substituting the result from Step 1: `(1/y^2) * √(y^2 + 1)`.Step 4: Form the complete fraction. The fraction is `( (1/y^2) * √(y^2 + 1) ) / ( 1 / (y * √(1 - y^2)) )`. Simplify this: `= (√(y^2 + 1) / y^2) * (y * √(1 - y^2) / 1) = (√(y^2 + 1) * y * √(1 - y^2)) / y^2 = (√(y^2 + 1) * √(1 - y^2)) / y = √( (y^2 + 1) * (1 - y^2) ) / y`. Using the difference of squares `(a+b)(a-b) = a^2 - b^2`: `= √(1 - y^4) / y`.Step 5: Square the result from Step 4. The expression is `(...)^2`. So, square the fraction: `(√(1 - y^4) / y)^2 = (1 - y^4) / y^2`.Step 6: Add `y^4` to the result from Step 5 and take the square root. The full expression is `(Fraction^2 + y^4)^{1/2}`. So, `= ( (1 - y^4) / y^2 + y^4 )^(1/2)`. To combine the terms inside the square root, find a common denominator: `= ( (1 - y^4 + y^4 * y^2) / y^2 )^(1/2) = ( (1 - y^4 + y^6) / y^2 )^(1/2) = √(1 - y^4 + y^6) / √(y^2) = √(1 - y^4 + y^6) / |y|`. The approach aligns with similar problems requiring simplification of expressions with inverse trigonometric functions by breaking them down into smaller parts and using trigonometric identities and algebraic manipulation.\",\n",
      " \"sim_final_answer\": \" (1/|y|) * √(1 - y^4 + y^6) \",\n",
      " \"no_sim_explanation\": \"The given mathematical expression is: `(1/y^2 * (cos(tan^{-1}y) + ysin(tan^{-1}y))/(cot(sin^{-1}y) + tan(sin^{-1}y)))^2 + y^4)^{1/2}`. We will simplify this expression step-by-step.\\n\\n**Step 1: Simplify the numerator of the inner fraction.**\\nLet `A = cos(tan^{-1}y) + ysin(tan^{-1}y)`. Let `theta = tan^{-1}y`, so `tan(theta) = y`. From a right-angled triangle, `cos(theta) = 1/sqrt(y^2 + 1)` and `sin(theta) = y/sqrt(y^2 + 1)`. Substituting these values:\\n`A = 1/sqrt(y^2 + 1) + y * (y/sqrt(y^2 + 1)) = (1 + y^2)/sqrt(y^2 + 1) = sqrt(y^2 + 1)`.\\n\\n**Step 2: Simplify the denominator of the inner fraction.**\\nLet `B = cot(sin^{-1}y) + tan(sin^{-1}y)`. Let `phi = sin^{-1}y`, so `sin(phi) = y`. From a right-angled triangle, `cot(phi) = sqrt(1 - y^2)/y` and `tan(phi) = y/sqrt(1 - y^2)`. Substituting these values:\\n`B = sqrt(1 - y^2)/y + y/sqrt(1 - y^2) = (1 - y^2 + y^2) / (y * sqrt(1 - y^2)) = 1 / (y * sqrt(1 - y^2))`.\\n\\n**Step 3: Simplify the inner fraction (A/B).**\\n`A/B = sqrt(y^2 + 1) / (1 / (y * sqrt(1 - y^2))) = sqrt(y^2 + 1) * y * sqrt(1 - y^2)`\\n`A/B = y * sqrt((y^2 + 1)(1 - y^2)) = y * sqrt(1 - y^4)`.\\n\\n**Step 4: Substitute the simplified inner fraction back into the main expression and complete the calculation.**\\nThe original expression is `(1/y^2 * (A/B))^2 + y^4)^{1/2}`.\\nSubstitute `A/B = y * sqrt(1 - y^4)`:\\n`(1/y^2 * y * sqrt(1 - y^4))^2 + y^4)^{1/2}`\\n`((1/y) * sqrt(1 - y^4))^2 + y^4)^{1/2}`\\nSquare the term inside the parenthesis:\\n`((1 - y^4) / y^2 + y^4)^{1/2}`\\nCombine the terms by finding a common denominator:\\n`((1 - y^4 + y^4 * y^2) / y^2)^{1/2}`\\n`((1 - y^4 + y^6) / y^2)^{1/2}`\\nFinally, take the square root:\\n`sqrt(1 - y^4 + y^6) / sqrt(y^2)`\\n`= sqrt(1 - y^4 + y^6) / |y|`.\\nThe `p.` at the beginning of the question is treated as a label and not part of the mathematical expression.\",\n",
      " \"no_sim_final_answer\": \"sqrt(1 - y^4 + y^6) / |y|\",\n",
      " \"sim_answer_score\": 100,\n",
      " \"no_sim_answer_score\": 100,\n",
      " \"notes\": \"Both the sim_answer and no_sim_answer provide a completely accurate and comprehensive solution to the problem. They follow identical logical steps, correctly simplifying the inverse trigonometric expressions using right-angled triangles, combining terms, squaring, and finally taking the square root. Both correctly use `|y|` for `sqrt(y^2)`. There is no significant difference in quality or correctness between the two answers. The no_sim_answer slightly edges out by explicitly clarifying the `p.` in the question, but this is a minor detail not impacting the mathematical solution itself. Both are excellent solutions.\"\n",
      "}\n",
      "```"
     ]
    },
    {
     "data": {
      "text/plain": [
       "'```json\\n{\\n \"sim_explanation\": \"Step 1: Simplify the term `cos(tan^{-1}y) + ysin(tan^{-1}y)`.Let `θ = tan^{-1}y`, so `tan(θ) = y`. Construct a right-angled triangle with opposite side `y` and adjacent side `1`. The hypotenuse is `√(y^2 + 1)`. From this, `cos(θ) = 1/√(y^2 + 1)` and `sin(θ) = y/√(y^2 + 1)`. Substitute these into the expression: `1/√(y^2 + 1) + y * (y/√(y^2 + 1)) = (1 + y^2) / √(y^2 + 1) = √(y^2 + 1)`.Step 2: Simplify the term `cot(sin^{-1}y) + tan(sin^{-1}y)`.Let `φ = sin^{-1}y`, so `sin(φ) = y`. Construct a right-angled triangle with opposite side `y` and hypotenuse `1`. The adjacent side is `√(1 - y^2)`. From this, `cot(φ) = √(1 - y^2)/y` and `tan(φ) = y/√(1 - y^2)`. Substitute these into the expression: `√(1 - y^2)/y + y/√(1 - y^2) = ( (√(1 - y^2))^2 + y^2 ) / (y * √(1 - y^2)) = (1 - y^2 + y^2) / (y * √(1 - y^2)) = 1 / (y * √(1 - y^2))`.Step 3: Substitute the simplified terms back into the main expression\\'s numerator part of the fraction. The numerator part is `(1/y^2 * (cos(tan^{-1}y) + ysin(tan^{-1}y)))`. Substituting the result from Step 1: `(1/y^2) * √(y^2 + 1)`.Step 4: Form the complete fraction. The fraction is `( (1/y^2) * √(y^2 + 1) ) / ( 1 / (y * √(1 - y^2)) )`. Simplify this: `= (√(y^2 + 1) / y^2) * (y * √(1 - y^2) / 1) = (√(y^2 + 1) * y * √(1 - y^2)) / y^2 = (√(y^2 + 1) * √(1 - y^2)) / y = √( (y^2 + 1) * (1 - y^2) ) / y`. Using the difference of squares `(a+b)(a-b) = a^2 - b^2`: `= √(1 - y^4) / y`.Step 5: Square the result from Step 4. The expression is `(...)^2`. So, square the fraction: `(√(1 - y^4) / y)^2 = (1 - y^4) / y^2`.Step 6: Add `y^4` to the result from Step 5 and take the square root. The full expression is `(Fraction^2 + y^4)^{1/2}`. So, `= ( (1 - y^4) / y^2 + y^4 )^(1/2)`. To combine the terms inside the square root, find a common denominator: `= ( (1 - y^4 + y^4 * y^2) / y^2 )^(1/2) = ( (1 - y^4 + y^6) / y^2 )^(1/2) = √(1 - y^4 + y^6) / √(y^2) = √(1 - y^4 + y^6) / |y|`. The approach aligns with similar problems requiring simplification of expressions with inverse trigonometric functions by breaking them down into smaller parts and using trigonometric identities and algebraic manipulation.\",\\n \"sim_final_answer\": \" (1/|y|) * √(1 - y^4 + y^6) \",\\n \"no_sim_explanation\": \"The given mathematical expression is: `(1/y^2 * (cos(tan^{-1}y) + ysin(tan^{-1}y))/(cot(sin^{-1}y) + tan(sin^{-1}y)))^2 + y^4)^{1/2}`. We will simplify this expression step-by-step.\\\\n\\\\n**Step 1: Simplify the numerator of the inner fraction.**\\\\nLet `A = cos(tan^{-1}y) + ysin(tan^{-1}y)`. Let `theta = tan^{-1}y`, so `tan(theta) = y`. From a right-angled triangle, `cos(theta) = 1/sqrt(y^2 + 1)` and `sin(theta) = y/sqrt(y^2 + 1)`. Substituting these values:\\\\n`A = 1/sqrt(y^2 + 1) + y * (y/sqrt(y^2 + 1)) = (1 + y^2)/sqrt(y^2 + 1) = sqrt(y^2 + 1)`.\\\\n\\\\n**Step 2: Simplify the denominator of the inner fraction.**\\\\nLet `B = cot(sin^{-1}y) + tan(sin^{-1}y)`. Let `phi = sin^{-1}y`, so `sin(phi) = y`. From a right-angled triangle, `cot(phi) = sqrt(1 - y^2)/y` and `tan(phi) = y/sqrt(1 - y^2)`. Substituting these values:\\\\n`B = sqrt(1 - y^2)/y + y/sqrt(1 - y^2) = (1 - y^2 + y^2) / (y * sqrt(1 - y^2)) = 1 / (y * sqrt(1 - y^2))`.\\\\n\\\\n**Step 3: Simplify the inner fraction (A/B).**\\\\n`A/B = sqrt(y^2 + 1) / (1 / (y * sqrt(1 - y^2))) = sqrt(y^2 + 1) * y * sqrt(1 - y^2)`\\\\n`A/B = y * sqrt((y^2 + 1)(1 - y^2)) = y * sqrt(1 - y^4)`.\\\\n\\\\n**Step 4: Substitute the simplified inner fraction back into the main expression and complete the calculation.**\\\\nThe original expression is `(1/y^2 * (A/B))^2 + y^4)^{1/2}`.\\\\nSubstitute `A/B = y * sqrt(1 - y^4)`:\\\\n`(1/y^2 * y * sqrt(1 - y^4))^2 + y^4)^{1/2}`\\\\n`((1/y) * sqrt(1 - y^4))^2 + y^4)^{1/2}`\\\\nSquare the term inside the parenthesis:\\\\n`((1 - y^4) / y^2 + y^4)^{1/2}`\\\\nCombine the terms by finding a common denominator:\\\\n`((1 - y^4 + y^4 * y^2) / y^2)^{1/2}`\\\\n`((1 - y^4 + y^6) / y^2)^{1/2}`\\\\nFinally, take the square root:\\\\n`sqrt(1 - y^4 + y^6) / sqrt(y^2)`\\\\n`= sqrt(1 - y^4 + y^6) / |y|`.\\\\nThe `p.` at the beginning of the question is treated as a label and not part of the mathematical expression.\",\\n \"no_sim_final_answer\": \"sqrt(1 - y^4 + y^6) / |y|\",\\n \"sim_answer_score\": 100,\\n \"no_sim_answer_score\": 100,\\n \"notes\": \"Both the sim_answer and no_sim_answer provide a completely accurate and comprehensive solution to the problem. They follow identical logical steps, correctly simplifying the inverse trigonometric expressions using right-angled triangles, combining terms, squaring, and finally taking the square root. Both correctly use `|y|` for `sqrt(y^2)`. There is no significant difference in quality or correctness between the two answers. The no_sim_answer slightly edges out by explicitly clarifying the `p.` in the question, but this is a minor detail not impacting the mathematical solution itself. Both are excellent solutions.\"\\n}\\n```'"
      ]
     },
     "execution_count": 209,
     "metadata": {},
     "output_type": "execute_result"
    }
   ],
   "source": [
    "await run_orchestrator(user_msg=data[12][\"question_text\"])"
   ]
  },
  {
   "cell_type": "code",
   "execution_count": 210,
   "metadata": {},
   "outputs": [
    {
     "data": {
      "text/plain": [
       "{'sim_explanation': \"1.  **Simplify the term `cos(tan^{-1}y) + ysin(tan^{-1}y)`:**\\n    *   Let `θ = tan^{-1}y`. This means `tan(θ) = y`.\\n    *   Consider a right-angled triangle where the opposite side is `y` and the adjacent side is `1`. The hypotenuse will be `sqrt(y^2 + 1)` (by Pythagorean theorem).\\n    *   Therefore, `cos(θ) = 1/sqrt(y^2 + 1)` and `sin(θ) = y/sqrt(y^2 + 1)`.\\n    *   Substitute these values: `1/sqrt(y^2 + 1) + y * (y/sqrt(y^2 + 1))`\\n    *   `= (1 + y^2)/sqrt(y^2 + 1)`\\n    *   `= sqrt(y^2 + 1)`\\n\\n2.  **Simplify the term `cot(sin^{-1}y) + tan(sin^{-1}y)`:**\\n    *   Let `φ = sin^{-1}y`. This means `sin(φ) = y`.\\n    *   Consider a right-angled triangle where the opposite side is `y` and the hypotenuse is `1`. The adjacent side will be `sqrt(1 - y^2)`.\\n    *   Therefore, `cot(φ) = adjacent/opposite = sqrt(1 - y^2)/y` and `tan(φ) = opposite/adjacent = y/sqrt(1 - y^2)`.\\n    *   Substitute these values: `sqrt(1 - y^2)/y + y/sqrt(1 - y^2)`\\n    *   Find a common denominator: `( (sqrt(1 - y^2))^2 + y^2 ) / (y * sqrt(1 - y^2))`\\n    *   `= (1 - y^2 + y^2) / (y * sqrt(1 - y^2))`\\n    *   `= 1 / (y * sqrt(1 - y^2))`\\n\\n3.  **Substitute the simplified terms back into the main expression (inside the square):**\\n    *   The term is `(1/y^2 * (sqrt(y^2 + 1)) / (1 / (y * sqrt(1 - y^2))))`\\n    *   Simplify the fraction: `sqrt(y^2 + 1) * y * sqrt(1 - y^2)`\\n    *   `= y * sqrt((y^2 + 1)(1 - y^2))`\\n    *   `= y * sqrt(1 - y^4)` (using the difference of squares formula `(a+b)(a-b) = a^2 - b^2`)\\n    *   Now, multiply by `1/y^2`: `(1/y^2) * y * sqrt(1 - y^4)`\\n    *   `= (1/y) * sqrt(1 - y^4)`\\n\\n4.  **Square the result from step 3:**\\n    *   `((1/y) * sqrt(1 - y^4))^2`\\n    *   `= (1/y^2) * (1 - y^4)`\\n    *   `= (1 - y^4) / y^2`\\n\\n5.  **Add `y^4` to the squared term:**\\n    *   `(1 - y^4) / y^2 + y^4`\\n    *   `= (1 - y^4 + y^4 * y^2) / y^2`\\n    *   `= (1 - y^4 + y^6) / y^2`\\n\\n6.  **Take the square root of the entire expression:**\\n    *   `((1 - y^4 + y^6) / y^2)^(1/2)`\\n    *   `= sqrt(1 - y^4 + y^6) / sqrt(y^2)`\\n    *   `= sqrt(1 - y^4 + y^6) / |y|`\\n\\n7.  **Final Simplification (assuming y > 0):**\\n    *   In many mathematical contexts, if the domain is not specified, it's assumed to be positive for such simplifications, or the principal root is considered. Thus, `|y|` can be written as `y`.\",\n",
       " 'sim_final_answer': 'sqrt(1-y^4+y^6)/y',\n",
       " 'no_sim_explanation': \"The problem asks for the value of the expression:\\n$ \\\\\\\\left( \\\\\\\\frac{1}{y^2} \\\\\\\\cdot \\\\\\\\frac{\\\\\\\\cos(\\\\\\\\tan^{-1}y) + y\\\\\\\\sin(\\\\\\\\tan^{-1}y)}{\\\\\\\\cot(\\\\\\\\sin^{-1}y) + \\\\\\\\tan(\\\\\\\\sin^{-1}y)} \\\\\\\\right)^2 + y^4 \\\\\\\\right)^{1/2} $\\n\\n**Step 1: Simplify the trigonometric terms in the numerator**\\nLet $\\\\\\\\theta = \\\\\\\\tan^{-1}y$. This implies $\\\\\\\\tan\\\\\\\\theta = y$. We can construct a right triangle where the opposite side is $y$ and the adjacent side is $1$. The hypotenuse is $\\\\\\\\sqrt{y^2+1}$.\\nFrom this triangle:\\n$\\\\\\\\cos(\\\\\\\\tan^{-1}y) = \\\\\\\\cos\\\\\\\\theta = \\\\\\\\frac{1}{\\\\\\\\sqrt{y^2+1}}$\\n$\\\\\\\\sin(\\\\\\\\tan^{-1}y) = \\\\\\\\sin\\\\\\\\theta = \\\\\\\\frac{y}{\\\\\\\\sqrt{y^2+1}}$\\n\\nSubstitute these into the numerator:\\nNumerator ($N$) $= \\\\\\\\cos(\\\\\\\\tan^{-1}y) + y\\\\\\\\sin(\\\\\\\\tan^{-1}y)$\\n$N = \\\\\\\\frac{1}{\\\\\\\\sqrt{y^2+1}} + y\\\\\\\\left(\\\\\\\\frac{y}{\\\\\\\\sqrt{y^2+1}}\\\\\\\\right)$\\n$N = \\\\\\\\frac{1+y^2}{\\\\\\\\sqrt{y^2+1}}$\\nSince $1+y^2 = (\\\\\\\\sqrt{y^2+1})^2$, we simplify to:\\n$N = \\\\\\\\sqrt{y^2+1}$\\n\\n**Step 2: Simplify the trigonometric terms in the denominator**\\nLet $\\\\\\\\phi = \\\\\\\\sin^{-1}y$. This implies $\\\\\\\\sin\\\\\\\\phi = y$. We can construct a right triangle where the opposite side is $y$ and the hypotenuse is $1$. The adjacent side is $\\\\\\\\sqrt{1-y^2}$. For $\\\\\\\\sin^{-1}y$ to be defined, $y \\\\\\\\in [-1, 1]$. For the denominator terms to be defined, $y \\\\\\\\neq 0$ and $y \\\\\\\\neq \\\\\\\\pm 1$, so $y \\\\\\\\in (-1, 0) \\\\\\\\cup (0, 1)$.\\nFrom this triangle:\\n$\\\\\\\\cot(\\\\\\\\sin^{-1}y) = \\\\\\\\cot\\\\\\\\phi = \\\\\\\\frac{\\\\\\\\sqrt{1-y^2}}{y}$\\n$\\\\\\\\tan(\\\\\\\\sin^{-1}y) = \\\\\\\\tan\\\\\\\\phi = \\\\\\\\frac{y}{\\\\\\\\sqrt{1-y^2}}$\\n\\nSubstitute these into the denominator:\\nDenominator ($D$) $= \\\\\\\\cot(\\\\\\\\sin^{-1}y) + \\\\\\\\tan(\\\\\\\\sin^{-1}y)$\\n$D = \\\\\\\\frac{\\\\\\\\sqrt{1-y^2}}{y} + \\\\\\\\frac{y}{\\\\\\\\sqrt{1-y^2}}$\\nCombine terms with a common denominator:\\n$D = \\\\\\\\frac{(\\\\\\\\sqrt{1-y^2})^2 + y^2}{y\\\\\\\\sqrt{1-y^2}}$\\n$D = \\\\\\\\frac{1-y^2 + y^2}{y\\\\\\\\sqrt{1-y^2}}$\\n$D = \\\\\\\\frac{1}{y\\\\\\\\sqrt{1-y^2}}$\\n\\n**Step 3: Simplify the main fraction term**\\nThe fraction term inside the square is $\\\\\\\\frac{1}{y^2} \\\\\\\\cdot \\\\\\\\frac{N}{D}$. Let's call this $X$.\\n$X = \\\\\\\\frac{1}{y^2} \\\\\\\\cdot \\\\\\\\frac{\\\\\\\\sqrt{y^2+1}}{\\\\\\\\frac{1}{y\\\\\\\\sqrt{1-y^2}}}$\\\\n$X = \\\\\\\\frac{1}{y^2} \\\\\\\\cdot \\\\\\\\sqrt{y^2+1} \\\\\\\\cdot y\\\\\\\\sqrt{1-y^2}$\\\\n$X = \\\\\\\\frac{y\\\\\\\\sqrt{(y^2+1)(1-y^2)}}{y^2}$\\\\nUsing the difference of squares formula, $(a+b)(a-b) = a^2-b^2$, we have $(y^2+1)(1-y^2) = (1+y^2)(1-y^2) = 1^2 - (y^2)^2 = 1-y^4$.\\\\n$X = \\\\\\\\frac{y\\\\\\\\sqrt{1-y^4}}{y^2}$\\\\n$X = \\\\\\\\frac{\\\\\\\\sqrt{1-y^4}}{y}$\\n\\n**Step 4: Substitute into the overall expression and simplify**\\nThe original expression is $(X^2 + y^4)^{1/2}$.\\nFirst, calculate $X^2$:\\n$X^2 = \\\\\\\\left(\\\\\\\\frac{\\\\\\\\sqrt{1-y^4}}{y}\\\\\\\\right)^2 = \\\\\\\\frac{1-y^4}{y^2}$\\n\\nNow, substitute $X^2$ back into the full expression:\\n$\\\\\\\\left( \\\\\\\\frac{1-y^4}{y^2} + y^4 \\\\\\\\right)^{1/2}$\\nTo combine the terms inside the parenthesis, find a common denominator:\\n$\\\\\\\\left( \\\\\\\\frac{1-y^4}{y^2} + \\\\\\\\frac{y^4 \\\\\\\\cdot y^2}{y^2} \\\\\\\\right)^{1/2}$\\n$\\\\\\\\left( \\\\\\\\frac{1-y^4 + y^6}{y^2} \\\\\\\\right)^{1/2}$\\nFinally, take the square root:\\n$\\\\\\\\frac{\\\\\\\\sqrt{1-y^4+y^6}}{\\\\\\\\sqrt{y^2}}$\\n$\\\\\\\\frac{\\\\\\\\sqrt{1-y^4+y^6}}{|y|}$\",\n",
       " 'no_sim_final_answer': '$\\\\\\\\frac{\\\\\\\\sqrt{1-y^4+y^6}}{|y|}$',\n",
       " 'sim_answer_score': 95,\n",
       " 'no_sim_answer_score': 100,\n",
       " 'notes': \"Both the 'sim_answer' and 'no_sim_answer' provide highly accurate and detailed step-by-step solutions to the given mathematical expression. They both correctly simplify the trigonometric terms and then meticulously combine them to arrive at the simplified expression.\\n\\nThe 'no_sim_answer' is slightly superior due to two key reasons:\\n\\n1.  **Mathematical Precision for `sqrt(y^2)`:** The 'no_sim_answer' correctly recognizes that `sqrt(y^2)` simplifies to `|y|` (absolute value of y), which is the most general and mathematically precise simplification. The 'sim_answer', while mentioning in its final step that it assumes `y > 0` to write `|y|` as `y`, presents its final answer without the absolute value. Unless the problem explicitly states `y > 0`, `|y|` is the more accurate result.\\n2.  **Completeness in Domain Consideration:** The 'no_sim_answer' briefly but importantly mentions the domain restrictions for `sin^{-1}y` (i.e., `y \\\\in [-1, 1]`) and further clarifies conditions for the denominator terms to be defined (`y \\\\neq 0` and `y \\\\neq \\\\pm 1`), leading to `y \\\\in (-1, 0) \\\\cup (0, 1)`. This adds a layer of completeness and rigor to the solution that is missing in the 'sim_answer'.\\n\\nOverall, both answers demonstrate a strong understanding of trigonometry and algebraic simplification. The 'no_sim_answer' is marginally better due to its higher mathematical rigor and attention to domain constraints.\"}"
      ]
     },
     "execution_count": 210,
     "metadata": {},
     "output_type": "execute_result"
    }
   ],
   "source": [
    "orchestrator_response = await orchestrator.run(data[12][\"question_text\"])\n",
    "orchestrator_response.structured_response"
   ]
  },
  {
   "cell_type": "code",
   "execution_count": 217,
   "metadata": {},
   "outputs": [
    {
     "data": {
      "text/plain": [
       "AgentOutput(response=ChatMessage(role=<MessageRole.ASSISTANT: 'assistant'>, additional_kwargs={'thought_signatures': [None], 'thoughts': '', 'tool_calls': []}, blocks=[TextBlock(block_type='text', text='```json\\n{\\n \"sim_explanation\": \"1.  **Simplify the term `cos(tan^{-1}y) + ysin(tan^{-1}y)`:**\\\\n    *   Let `θ = tan^{-1}y`. This means `tan(θ) = y`.\\\\n    *   Consider a right-angled triangle where the opposite side is `y` and the adjacent side is `1`. The hypotenuse will be `sqrt(y^2 + 1)` (by Pythagorean theorem).\\\\n    *   Therefore, `cos(θ) = 1/sqrt(y^2 + 1)` and `sin(θ) = y/sqrt(y^2 + 1)`.\\\\n    *   Substitute these values: `1/sqrt(y^2 + 1) + y * (y/sqrt(y^2 + 1))`\\\\n    *   `= (1 + y^2)/sqrt(y^2 + 1)`\\\\n    *   `= sqrt(y^2 + 1)`\\\\n\\\\n2.  **Simplify the term `cot(sin^{-1}y) + tan(sin^{-1}y)`:**\\\\n    *   Let `φ = sin^{-1}y`. This means `sin(φ) = y`.\\\\n    *   Consider a right-angled triangle where the opposite side is `y` and the hypotenuse is `1`. The adjacent side will be `sqrt(1 - y^2)`.\\\\n    *   Therefore, `cot(φ) = adjacent/opposite = sqrt(1 - y^2)/y` and `tan(φ) = opposite/adjacent = y/sqrt(1 - y^2)`.\\\\n    *   Substitute these values: `sqrt(1 - y^2)/y + y/sqrt(1 - y^2)`\\\\n    *   Find a common denominator: `( (sqrt(1 - y^2))^2 + y^2 ) / (y * sqrt(1 - y^2))`\\\\n    *   `= (1 - y^2 + y^2) / (y * sqrt(1 - y^2))`\\\\n    *   `= 1 / (y * sqrt(1 - y^2))`\\\\n\\\\n3.  **Substitute the simplified terms back into the main expression (inside the square):**\\\\n    *   The term is `(1/y^2 * (sqrt(y^2 + 1)) / (1 / (y * sqrt(1 - y^2))))`\\\\n    *   Simplify the fraction: `sqrt(y^2 + 1) * y * sqrt(1 - y^2)`\\\\n    *   `= y * sqrt((y^2 + 1)(1 - y^2))`\\\\n    *   `= y * sqrt(1 - y^4)` (using the difference of squares formula `(a+b)(a-b) = a^2 - b^2`)\\\\n    *   Now, multiply by `1/y^2`: `(1/y^2) * y * sqrt(1 - y^4)`\\\\n    *   `= (1/y) * sqrt(1 - y^4)`\\\\n\\\\n4.  **Square the result from step 3:**\\\\n    *   `((1/y) * sqrt(1 - y^4))^2`\\\\n    *   `= (1/y^2) * (1 - y^4)`\\\\n    *   `= (1 - y^4) / y^2`\\\\n\\\\n5.  **Add `y^4` to the squared term:**\\\\n    *   `(1 - y^4) / y^2 + y^4`\\\\n    *   `= (1 - y^4 + y^4 * y^2) / y^2`\\\\n    *   `= (1 - y^4 + y^6) / y^2`\\\\n\\\\n6.  **Take the square root of the entire expression:**\\\\n    *   `((1 - y^4 + y^6) / y^2)^(1/2)`\\\\n    *   `= sqrt(1 - y^4 + y^6) / sqrt(y^2)`\\\\n    *   `= sqrt(1 - y^4 + y^6) / |y|`\\\\n\\\\n7.  **Final Simplification (assuming y > 0):**\\\\n    *   In many mathematical contexts, if the domain is not specified, it\\'s assumed to be positive for such simplifications, or the principal root is considered. Thus, `|y|` can be written as `y`.\",\\n \"sim_final_answer\": \"sqrt(1-y^4+y^6)/y\",\\n \"no_sim_explanation\": \"The problem asks for the value of the expression:\\\\n$ \\\\\\\\\\\\\\\\left( \\\\\\\\\\\\\\\\frac{1}{y^2} \\\\\\\\\\\\\\\\cdot \\\\\\\\\\\\\\\\frac{\\\\\\\\\\\\\\\\cos(\\\\\\\\\\\\\\\\tan^{-1}y) + y\\\\\\\\\\\\\\\\sin(\\\\\\\\\\\\\\\\tan^{-1}y)}{\\\\\\\\\\\\\\\\cot(\\\\\\\\\\\\\\\\sin^{-1}y) + \\\\\\\\\\\\\\\\tan(\\\\\\\\\\\\\\\\sin^{-1}y)} \\\\\\\\\\\\\\\\right)^2 + y^4 \\\\\\\\\\\\\\\\right)^{1/2} $\\\\n\\\\n**Step 1: Simplify the trigonometric terms in the numerator**\\\\nLet $\\\\\\\\\\\\\\\\theta = \\\\\\\\\\\\\\\\tan^{-1}y$. This implies $\\\\\\\\\\\\\\\\tan\\\\\\\\\\\\\\\\theta = y$. We can construct a right triangle where the opposite side is $y$ and the adjacent side is $1$. The hypotenuse is $\\\\\\\\\\\\\\\\sqrt{y^2+1}$.\\\\nFrom this triangle:\\\\n$\\\\\\\\\\\\\\\\cos(\\\\\\\\\\\\\\\\tan^{-1}y) = \\\\\\\\\\\\\\\\cos\\\\\\\\\\\\\\\\theta = \\\\\\\\\\\\\\\\frac{1}{\\\\\\\\\\\\\\\\sqrt{y^2+1}}$\\\\n$\\\\\\\\\\\\\\\\sin(\\\\\\\\\\\\\\\\tan^{-1}y) = \\\\\\\\\\\\\\\\sin\\\\\\\\\\\\\\\\theta = \\\\\\\\\\\\\\\\frac{y}{\\\\\\\\\\\\\\\\sqrt{y^2+1}}$\\\\n\\\\nSubstitute these into the numerator:\\\\nNumerator ($N$) $= \\\\\\\\\\\\\\\\cos(\\\\\\\\\\\\\\\\tan^{-1}y) + y\\\\\\\\\\\\\\\\sin(\\\\\\\\\\\\\\\\tan^{-1}y)$\\\\n$N = \\\\\\\\\\\\\\\\frac{1}{\\\\\\\\\\\\\\\\sqrt{y^2+1}} + y\\\\\\\\\\\\\\\\left(\\\\\\\\\\\\\\\\frac{y}{\\\\\\\\\\\\\\\\sqrt{y^2+1}}\\\\\\\\\\\\\\\\right)$\\\\n$N = \\\\\\\\\\\\\\\\frac{1+y^2}{\\\\\\\\\\\\\\\\sqrt{y^2+1}}$\\\\nSince $1+y^2 = (\\\\\\\\\\\\\\\\sqrt{y^2+1})^2$, we simplify to:\\\\n$N = \\\\\\\\\\\\\\\\sqrt{y^2+1}$\\\\n\\\\n**Step 2: Simplify the trigonometric terms in the denominator**\\\\nLet $\\\\\\\\\\\\\\\\phi = \\\\\\\\\\\\\\\\sin^{-1}y$. This implies $\\\\\\\\\\\\\\\\sin\\\\\\\\\\\\\\\\phi = y$. We can construct a right triangle where the opposite side is $y$ and the hypotenuse is $1$. The adjacent side is $\\\\\\\\\\\\\\\\sqrt{1-y^2}$. For $\\\\\\\\\\\\\\\\sin^{-1}y$ to be defined, $y \\\\\\\\\\\\\\\\in [-1, 1]$. For the denominator terms to be defined, $y \\\\\\\\\\\\\\\\neq 0$ and $y \\\\\\\\\\\\\\\\neq \\\\\\\\\\\\\\\\pm 1$, so $y \\\\\\\\\\\\\\\\in (-1, 0) \\\\\\\\\\\\\\\\cup (0, 1)$.\\\\nFrom this triangle:\\\\n$\\\\\\\\\\\\\\\\cot(\\\\\\\\\\\\\\\\sin^{-1}y) = \\\\\\\\\\\\\\\\cot\\\\\\\\\\\\\\\\phi = \\\\\\\\\\\\\\\\frac{\\\\\\\\\\\\\\\\sqrt{1-y^2}}{y}$\\\\n$\\\\\\\\\\\\\\\\tan(\\\\\\\\\\\\\\\\sin^{-1}y) = \\\\\\\\\\\\\\\\tan\\\\\\\\\\\\\\\\phi = \\\\\\\\\\\\\\\\frac{y}{\\\\\\\\\\\\\\\\sqrt{1-y^2}}$\\\\n\\\\nSubstitute these into the denominator:\\\\nDenominator ($D$) $= \\\\\\\\\\\\\\\\cot(\\\\\\\\\\\\\\\\sin^{-1}y) + \\\\\\\\\\\\\\\\tan(\\\\\\\\\\\\\\\\sin^{-1}y)$\\\\n$D = \\\\\\\\\\\\\\\\frac{\\\\\\\\\\\\\\\\sqrt{1-y^2}}{y} + \\\\\\\\\\\\\\\\frac{y}{\\\\\\\\\\\\\\\\sqrt{1-y^2}}$\\\\nCombine terms with a common denominator:\\\\n$D = \\\\\\\\\\\\\\\\frac{(\\\\\\\\\\\\\\\\sqrt{1-y^2})^2 + y^2}{y\\\\\\\\\\\\\\\\sqrt{1-y^2}}$\\\\n$D = \\\\\\\\\\\\\\\\frac{1-y^2 + y^2}{y\\\\\\\\\\\\\\\\sqrt{1-y^2}}$\\\\n$D = \\\\\\\\\\\\\\\\frac{1}{y\\\\\\\\\\\\\\\\sqrt{1-y^2}}$\\\\n\\\\n**Step 3: Simplify the main fraction term**\\\\nThe fraction term inside the square is $\\\\\\\\\\\\\\\\frac{1}{y^2} \\\\\\\\\\\\\\\\cdot \\\\\\\\\\\\\\\\frac{N}{D}$. Let\\'s call this $X$.\\\\n$X = \\\\\\\\\\\\\\\\frac{1}{y^2} \\\\\\\\\\\\\\\\cdot \\\\\\\\\\\\\\\\frac{\\\\\\\\\\\\\\\\sqrt{y^2+1}}{\\\\\\\\\\\\\\\\frac{1}{y\\\\\\\\\\\\\\\\sqrt{1-y^2}}}$\\\\\\\\n$X = \\\\\\\\\\\\\\\\frac{1}{y^2} \\\\\\\\\\\\\\\\cdot \\\\\\\\\\\\\\\\sqrt{y^2+1} \\\\\\\\\\\\\\\\cdot y\\\\\\\\\\\\\\\\sqrt{1-y^2}$\\\\\\\\n$X = \\\\\\\\\\\\\\\\frac{y\\\\\\\\\\\\\\\\sqrt{(y^2+1)(1-y^2)}}{y^2}$\\\\\\\\nUsing the difference of squares formula, $(a+b)(a-b) = a^2-b^2$, we have $(y^2+1)(1-y^2) = (1+y^2)(1-y^2) = 1^2 - (y^2)^2 = 1-y^4$.\\\\\\\\n$X = \\\\\\\\\\\\\\\\frac{y\\\\\\\\\\\\\\\\sqrt{1-y^4}}{y^2}$\\\\\\\\n$X = \\\\\\\\\\\\\\\\frac{\\\\\\\\\\\\\\\\sqrt{1-y^4}}{y}$\\\\n\\\\n**Step 4: Substitute into the overall expression and simplify**\\\\nThe original expression is $(X^2 + y^4)^{1/2}$.\\\\nFirst, calculate $X^2$:\\\\n$X^2 = \\\\\\\\\\\\\\\\left(\\\\\\\\\\\\\\\\frac{\\\\\\\\\\\\\\\\sqrt{1-y^4}}{y}\\\\\\\\\\\\\\\\right)^2 = \\\\\\\\\\\\\\\\frac{1-y^4}{y^2}$\\\\n\\\\nNow, substitute $X^2$ back into the full expression:\\\\n$\\\\\\\\\\\\\\\\left( \\\\\\\\\\\\\\\\frac{1-y^4}{y^2} + y^4 \\\\\\\\\\\\\\\\right)^{1/2}$\\\\nTo combine the terms inside the parenthesis, find a common denominator:\\\\n$\\\\\\\\\\\\\\\\left( \\\\\\\\\\\\\\\\frac{1-y^4}{y^2} + \\\\\\\\\\\\\\\\frac{y^4 \\\\\\\\\\\\\\\\cdot y^2}{y^2} \\\\\\\\\\\\\\\\right)^{1/2}$\\\\n$\\\\\\\\\\\\\\\\left( \\\\\\\\\\\\\\\\frac{1-y^4 + y^6}{y^2} \\\\\\\\\\\\\\\\right)^{1/2}$\\\\nFinally, take the square root:\\\\n$\\\\\\\\\\\\\\\\frac{\\\\\\\\\\\\\\\\sqrt{1-y^4+y^6}}{\\\\\\\\\\\\\\\\sqrt{y^2}}$\\\\n$\\\\\\\\\\\\\\\\frac{\\\\\\\\\\\\\\\\sqrt{1-y^4+y^6}}{|y|}$\",\\n \"no_sim_final_answer\": \"$\\\\\\\\\\\\\\\\frac{\\\\\\\\\\\\\\\\sqrt{1-y^4+y^6}}{|y|}$\",\\n \"sim_answer_score\": 95,\\n \"no_sim_answer_score\": 100,\\n \"notes\": \"Both the \\'sim_answer\\' and \\'no_sim_answer\\' provide highly accurate and detailed step-by-step solutions to the given mathematical expression. They both correctly simplify the trigonometric terms and then meticulously combine them to arrive at the simplified expression.\\\\n\\\\nThe \\'no_sim_answer\\' is slightly superior due to two key reasons:\\\\n\\\\n1.  **Mathematical Precision for `sqrt(y^2)`:** The \\'no_sim_answer\\' correctly recognizes that `sqrt(y^2)` simplifies to `|y|` (absolute value of y), which is the most general and mathematically precise simplification. The \\'sim_answer\\', while mentioning in its final step that it assumes `y > 0` to write `|y|` as `y`, presents its final answer without the absolute value. Unless the problem explicitly states `y > 0`, `|y|` is the more accurate result.\\\\n2.  **Completeness in Domain Consideration:** The \\'no_sim_answer\\' briefly but importantly mentions the domain restrictions for `sin^{-1}y` (i.e., `y \\\\\\\\\\\\\\\\in [-1, 1]`) and further clarifies conditions for the denominator terms to be defined (`y \\\\\\\\\\\\\\\\neq 0` and `y \\\\\\\\\\\\\\\\neq \\\\\\\\\\\\\\\\pm 1`), leading to `y \\\\\\\\\\\\\\\\in (-1, 0) \\\\\\\\\\\\\\\\cup (0, 1)`. This adds a layer of completeness and rigor to the solution that is missing in the \\'sim_answer\\'.\\\\n\\\\nOverall, both answers demonstrate a strong understanding of trigonometry and algebraic simplification. The \\'no_sim_answer\\' is marginally better due to its higher mathematical rigor and attention to domain constraints.\"\\n}\\n```')]), structured_response={'sim_explanation': \"1.  **Simplify the term `cos(tan^{-1}y) + ysin(tan^{-1}y)`:**\\n    *   Let `θ = tan^{-1}y`. This means `tan(θ) = y`.\\n    *   Consider a right-angled triangle where the opposite side is `y` and the adjacent side is `1`. The hypotenuse will be `sqrt(y^2 + 1)` (by Pythagorean theorem).\\n    *   Therefore, `cos(θ) = 1/sqrt(y^2 + 1)` and `sin(θ) = y/sqrt(y^2 + 1)`.\\n    *   Substitute these values: `1/sqrt(y^2 + 1) + y * (y/sqrt(y^2 + 1))`\\n    *   `= (1 + y^2)/sqrt(y^2 + 1)`\\n    *   `= sqrt(y^2 + 1)`\\n\\n2.  **Simplify the term `cot(sin^{-1}y) + tan(sin^{-1}y)`:**\\n    *   Let `φ = sin^{-1}y`. This means `sin(φ) = y`.\\n    *   Consider a right-angled triangle where the opposite side is `y` and the hypotenuse is `1`. The adjacent side will be `sqrt(1 - y^2)`.\\n    *   Therefore, `cot(φ) = adjacent/opposite = sqrt(1 - y^2)/y` and `tan(φ) = opposite/adjacent = y/sqrt(1 - y^2)`.\\n    *   Substitute these values: `sqrt(1 - y^2)/y + y/sqrt(1 - y^2)`\\n    *   Find a common denominator: `( (sqrt(1 - y^2))^2 + y^2 ) / (y * sqrt(1 - y^2))`\\n    *   `= (1 - y^2 + y^2) / (y * sqrt(1 - y^2))`\\n    *   `= 1 / (y * sqrt(1 - y^2))`\\n\\n3.  **Substitute the simplified terms back into the main expression (inside the square):**\\n    *   The term is `(1/y^2 * (sqrt(y^2 + 1)) / (1 / (y * sqrt(1 - y^2))))`\\n    *   Simplify the fraction: `sqrt(y^2 + 1) * y * sqrt(1 - y^2)`\\n    *   `= y * sqrt((y^2 + 1)(1 - y^2))`\\n    *   `= y * sqrt(1 - y^4)` (using the difference of squares formula `(a+b)(a-b) = a^2 - b^2`)\\n    *   Now, multiply by `1/y^2`: `(1/y^2) * y * sqrt(1 - y^4)`\\n    *   `= (1/y) * sqrt(1 - y^4)`\\n\\n4.  **Square the result from step 3:**\\n    *   `((1/y) * sqrt(1 - y^4))^2`\\n    *   `= (1/y^2) * (1 - y^4)`\\n    *   `= (1 - y^4) / y^2`\\n\\n5.  **Add `y^4` to the squared term:**\\n    *   `(1 - y^4) / y^2 + y^4`\\n    *   `= (1 - y^4 + y^4 * y^2) / y^2`\\n    *   `= (1 - y^4 + y^6) / y^2`\\n\\n6.  **Take the square root of the entire expression:**\\n    *   `((1 - y^4 + y^6) / y^2)^(1/2)`\\n    *   `= sqrt(1 - y^4 + y^6) / sqrt(y^2)`\\n    *   `= sqrt(1 - y^4 + y^6) / |y|`\\n\\n7.  **Final Simplification (assuming y > 0):**\\n    *   In many mathematical contexts, if the domain is not specified, it's assumed to be positive for such simplifications, or the principal root is considered. Thus, `|y|` can be written as `y`.\", 'sim_final_answer': 'sqrt(1-y^4+y^6)/y', 'no_sim_explanation': \"The problem asks for the value of the expression:\\n$ \\\\\\\\left( \\\\\\\\frac{1}{y^2} \\\\\\\\cdot \\\\\\\\frac{\\\\\\\\cos(\\\\\\\\tan^{-1}y) + y\\\\\\\\sin(\\\\\\\\tan^{-1}y)}{\\\\\\\\cot(\\\\\\\\sin^{-1}y) + \\\\\\\\tan(\\\\\\\\sin^{-1}y)} \\\\\\\\right)^2 + y^4 \\\\\\\\right)^{1/2} $\\n\\n**Step 1: Simplify the trigonometric terms in the numerator**\\nLet $\\\\\\\\theta = \\\\\\\\tan^{-1}y$. This implies $\\\\\\\\tan\\\\\\\\theta = y$. We can construct a right triangle where the opposite side is $y$ and the adjacent side is $1$. The hypotenuse is $\\\\\\\\sqrt{y^2+1}$.\\nFrom this triangle:\\n$\\\\\\\\cos(\\\\\\\\tan^{-1}y) = \\\\\\\\cos\\\\\\\\theta = \\\\\\\\frac{1}{\\\\\\\\sqrt{y^2+1}}$\\n$\\\\\\\\sin(\\\\\\\\tan^{-1}y) = \\\\\\\\sin\\\\\\\\theta = \\\\\\\\frac{y}{\\\\\\\\sqrt{y^2+1}}$\\n\\nSubstitute these into the numerator:\\nNumerator ($N$) $= \\\\\\\\cos(\\\\\\\\tan^{-1}y) + y\\\\\\\\sin(\\\\\\\\tan^{-1}y)$\\n$N = \\\\\\\\frac{1}{\\\\\\\\sqrt{y^2+1}} + y\\\\\\\\left(\\\\\\\\frac{y}{\\\\\\\\sqrt{y^2+1}}\\\\\\\\right)$\\n$N = \\\\\\\\frac{1+y^2}{\\\\\\\\sqrt{y^2+1}}$\\nSince $1+y^2 = (\\\\\\\\sqrt{y^2+1})^2$, we simplify to:\\n$N = \\\\\\\\sqrt{y^2+1}$\\n\\n**Step 2: Simplify the trigonometric terms in the denominator**\\nLet $\\\\\\\\phi = \\\\\\\\sin^{-1}y$. This implies $\\\\\\\\sin\\\\\\\\phi = y$. We can construct a right triangle where the opposite side is $y$ and the hypotenuse is $1$. The adjacent side is $\\\\\\\\sqrt{1-y^2}$. For $\\\\\\\\sin^{-1}y$ to be defined, $y \\\\\\\\in [-1, 1]$. For the denominator terms to be defined, $y \\\\\\\\neq 0$ and $y \\\\\\\\neq \\\\\\\\pm 1$, so $y \\\\\\\\in (-1, 0) \\\\\\\\cup (0, 1)$.\\nFrom this triangle:\\n$\\\\\\\\cot(\\\\\\\\sin^{-1}y) = \\\\\\\\cot\\\\\\\\phi = \\\\\\\\frac{\\\\\\\\sqrt{1-y^2}}{y}$\\n$\\\\\\\\tan(\\\\\\\\sin^{-1}y) = \\\\\\\\tan\\\\\\\\phi = \\\\\\\\frac{y}{\\\\\\\\sqrt{1-y^2}}$\\n\\nSubstitute these into the denominator:\\nDenominator ($D$) $= \\\\\\\\cot(\\\\\\\\sin^{-1}y) + \\\\\\\\tan(\\\\\\\\sin^{-1}y)$\\n$D = \\\\\\\\frac{\\\\\\\\sqrt{1-y^2}}{y} + \\\\\\\\frac{y}{\\\\\\\\sqrt{1-y^2}}$\\nCombine terms with a common denominator:\\n$D = \\\\\\\\frac{(\\\\\\\\sqrt{1-y^2})^2 + y^2}{y\\\\\\\\sqrt{1-y^2}}$\\n$D = \\\\\\\\frac{1-y^2 + y^2}{y\\\\\\\\sqrt{1-y^2}}$\\n$D = \\\\\\\\frac{1}{y\\\\\\\\sqrt{1-y^2}}$\\n\\n**Step 3: Simplify the main fraction term**\\nThe fraction term inside the square is $\\\\\\\\frac{1}{y^2} \\\\\\\\cdot \\\\\\\\frac{N}{D}$. Let's call this $X$.\\n$X = \\\\\\\\frac{1}{y^2} \\\\\\\\cdot \\\\\\\\frac{\\\\\\\\sqrt{y^2+1}}{\\\\\\\\frac{1}{y\\\\\\\\sqrt{1-y^2}}}$\\\\n$X = \\\\\\\\frac{1}{y^2} \\\\\\\\cdot \\\\\\\\sqrt{y^2+1} \\\\\\\\cdot y\\\\\\\\sqrt{1-y^2}$\\\\n$X = \\\\\\\\frac{y\\\\\\\\sqrt{(y^2+1)(1-y^2)}}{y^2}$\\\\nUsing the difference of squares formula, $(a+b)(a-b) = a^2-b^2$, we have $(y^2+1)(1-y^2) = (1+y^2)(1-y^2) = 1^2 - (y^2)^2 = 1-y^4$.\\\\n$X = \\\\\\\\frac{y\\\\\\\\sqrt{1-y^4}}{y^2}$\\\\n$X = \\\\\\\\frac{\\\\\\\\sqrt{1-y^4}}{y}$\\n\\n**Step 4: Substitute into the overall expression and simplify**\\nThe original expression is $(X^2 + y^4)^{1/2}$.\\nFirst, calculate $X^2$:\\n$X^2 = \\\\\\\\left(\\\\\\\\frac{\\\\\\\\sqrt{1-y^4}}{y}\\\\\\\\right)^2 = \\\\\\\\frac{1-y^4}{y^2}$\\n\\nNow, substitute $X^2$ back into the full expression:\\n$\\\\\\\\left( \\\\\\\\frac{1-y^4}{y^2} + y^4 \\\\\\\\right)^{1/2}$\\nTo combine the terms inside the parenthesis, find a common denominator:\\n$\\\\\\\\left( \\\\\\\\frac{1-y^4}{y^2} + \\\\\\\\frac{y^4 \\\\\\\\cdot y^2}{y^2} \\\\\\\\right)^{1/2}$\\n$\\\\\\\\left( \\\\\\\\frac{1-y^4 + y^6}{y^2} \\\\\\\\right)^{1/2}$\\nFinally, take the square root:\\n$\\\\\\\\frac{\\\\\\\\sqrt{1-y^4+y^6}}{\\\\\\\\sqrt{y^2}}$\\n$\\\\\\\\frac{\\\\\\\\sqrt{1-y^4+y^6}}{|y|}$\", 'no_sim_final_answer': '$\\\\\\\\frac{\\\\\\\\sqrt{1-y^4+y^6}}{|y|}$', 'sim_answer_score': 95, 'no_sim_answer_score': 100, 'notes': \"Both the 'sim_answer' and 'no_sim_answer' provide highly accurate and detailed step-by-step solutions to the given mathematical expression. They both correctly simplify the trigonometric terms and then meticulously combine them to arrive at the simplified expression.\\n\\nThe 'no_sim_answer' is slightly superior due to two key reasons:\\n\\n1.  **Mathematical Precision for `sqrt(y^2)`:** The 'no_sim_answer' correctly recognizes that `sqrt(y^2)` simplifies to `|y|` (absolute value of y), which is the most general and mathematically precise simplification. The 'sim_answer', while mentioning in its final step that it assumes `y > 0` to write `|y|` as `y`, presents its final answer without the absolute value. Unless the problem explicitly states `y > 0`, `|y|` is the more accurate result.\\n2.  **Completeness in Domain Consideration:** The 'no_sim_answer' briefly but importantly mentions the domain restrictions for `sin^{-1}y` (i.e., `y \\\\in [-1, 1]`) and further clarifies conditions for the denominator terms to be defined (`y \\\\neq 0` and `y \\\\neq \\\\pm 1`), leading to `y \\\\in (-1, 0) \\\\cup (0, 1)`. This adds a layer of completeness and rigor to the solution that is missing in the 'sim_answer'.\\n\\nOverall, both answers demonstrate a strong understanding of trigonometry and algebraic simplification. The 'no_sim_answer' is marginally better due to its higher mathematical rigor and attention to domain constraints.\"}, current_agent_name='Agent', raw={'content': {'parts': [{'video_metadata': None, 'thought': None, 'inline_data': None, 'file_data': None, 'thought_signature': None, 'code_execution_result': None, 'executable_code': None, 'function_call': None, 'function_response': None, 'text': '```'}], 'role': 'model'}, 'citation_metadata': None, 'finish_message': None, 'token_count': None, 'finish_reason': <FinishReason.STOP: 'STOP'>, 'url_context_metadata': None, 'avg_logprobs': None, 'grounding_metadata': None, 'index': 0, 'logprobs_result': None, 'safety_ratings': None, 'usage_metadata': {'cache_tokens_details': None, 'cached_content_token_count': None, 'candidates_token_count': 2848, 'candidates_tokens_details': None, 'prompt_token_count': 6398, 'prompt_tokens_details': [{'modality': <MediaModality.TEXT: 'TEXT'>, 'token_count': 6398}], 'thoughts_token_count': 39, 'tool_use_prompt_token_count': None, 'tool_use_prompt_tokens_details': None, 'total_token_count': 9285, 'traffic_type': None}}, tool_calls=[ToolCallResult(tool_name='solve_with_similar_questions', tool_kwargs={'question': 'p. (1/y^2 * (cos(tan^{-1}y) + ysin(tan^{-1}y))/(cot(sin^{-1}y) + tan(sin^{-1}y)))^2 + y^4)^{1/2} का मान है'}, tool_id='solve_with_similar_questions', tool_output=ToolOutput(blocks=[TextBlock(block_type='text', text='{\\'explanation\\': \"1.  **Simplify the term `cos(tan^{-1}y) + ysin(tan^{-1}y)`:**\\\\n    *   Let `θ = tan^{-1}y`. This means `tan(θ) = y`.\\\\n    *   Consider a right-angled triangle where the opposite side is `y` and the adjacent side is `1`. The hypotenuse will be `sqrt(y^2 + 1)` (by Pythagorean theorem).\\\\n    *   Therefore, `cos(θ) = 1/sqrt(y^2 + 1)` and `sin(θ) = y/sqrt(y^2 + 1)`.\\\\n    *   Substitute these values: `1/sqrt(y^2 + 1) + y * (y/sqrt(y^2 + 1))`\\\\n    *   `= (1 + y^2)/sqrt(y^2 + 1)`\\\\n    *   `= sqrt(y^2 + 1)`\\\\n\\\\n2.  **Simplify the term `cot(sin^{-1}y) + tan(sin^{-1}y)`:**\\\\n    *   Let `φ = sin^{-1}y`. This means `sin(φ) = y`.\\\\n    *   Consider a right-angled triangle where the opposite side is `y` and the hypotenuse is `1`. The adjacent side will be `sqrt(1 - y^2)`.\\\\n    *   Therefore, `cot(φ) = adjacent/opposite = sqrt(1 - y^2)/y` and `tan(φ) = opposite/adjacent = y/sqrt(1 - y^2)`.\\\\n    *   Substitute these values: `sqrt(1 - y^2)/y + y/sqrt(1 - y^2)`\\\\n    *   Find a common denominator: `( (sqrt(1 - y^2))^2 + y^2 ) / (y * sqrt(1 - y^2))`\\\\n    *   `= (1 - y^2 + y^2) / (y * sqrt(1 - y^2))`\\\\n    *   `= 1 / (y * sqrt(1 - y^2))`\\\\n\\\\n3.  **Substitute the simplified terms back into the main expression (inside the square):**\\\\n    *   The term is `(1/y^2 * (sqrt(y^2 + 1)) / (1 / (y * sqrt(1 - y^2))))`\\\\n    *   Simplify the fraction: `sqrt(y^2 + 1) * y * sqrt(1 - y^2)`\\\\n    *   `= y * sqrt((y^2 + 1)(1 - y^2))`\\\\n    *   `= y * sqrt(1 - y^4)` (using the difference of squares formula `(a+b)(a-b) = a^2 - b^2`)\\\\n    *   Now, multiply by `1/y^2`: `(1/y^2) * y * sqrt(1 - y^4)`\\\\n    *   `= (1/y) * sqrt(1 - y^4)`\\\\n\\\\n4.  **Square the result from step 3:**\\\\n    *   `((1/y) * sqrt(1 - y^4))^2`\\\\n    *   `= (1/y^2) * (1 - y^4)`\\\\n    *   `= (1 - y^4) / y^2`\\\\n\\\\n5.  **Add `y^4` to the squared term:**\\\\n    *   `(1 - y^4) / y^2 + y^4`\\\\n    *   `= (1 - y^4 + y^4 * y^2) / y^2`\\\\n    *   `= (1 - y^4 + y^6) / y^2`\\\\n\\\\n6.  **Take the square root of the entire expression:**\\\\n    *   `((1 - y^4 + y^6) / y^2)^(1/2)`\\\\n    *   `= sqrt(1 - y^4 + y^6) / sqrt(y^2)`\\\\n    *   `= sqrt(1 - y^4 + y^6) / |y|`\\\\n\\\\n7.  **Final Simplification (assuming y > 0):**\\\\n    *   In many mathematical contexts, if the domain is not specified, it\\'s assumed to be positive for such simplifications, or the principal root is considered. Thus, `|y|` can be written as `y`.\", \\'final_answer\\': \\'sqrt(1-y^4+y^6)/y\\'}')], tool_name='solve_with_similar_questions', raw_input={'args': (), 'kwargs': {'question': 'p. (1/y^2 * (cos(tan^{-1}y) + ysin(tan^{-1}y))/(cot(sin^{-1}y) + tan(sin^{-1}y)))^2 + y^4)^{1/2} का मान है'}}, raw_output='{\\'explanation\\': \"1.  **Simplify the term `cos(tan^{-1}y) + ysin(tan^{-1}y)`:**\\\\n    *   Let `θ = tan^{-1}y`. This means `tan(θ) = y`.\\\\n    *   Consider a right-angled triangle where the opposite side is `y` and the adjacent side is `1`. The hypotenuse will be `sqrt(y^2 + 1)` (by Pythagorean theorem).\\\\n    *   Therefore, `cos(θ) = 1/sqrt(y^2 + 1)` and `sin(θ) = y/sqrt(y^2 + 1)`.\\\\n    *   Substitute these values: `1/sqrt(y^2 + 1) + y * (y/sqrt(y^2 + 1))`\\\\n    *   `= (1 + y^2)/sqrt(y^2 + 1)`\\\\n    *   `= sqrt(y^2 + 1)`\\\\n\\\\n2.  **Simplify the term `cot(sin^{-1}y) + tan(sin^{-1}y)`:**\\\\n    *   Let `φ = sin^{-1}y`. This means `sin(φ) = y`.\\\\n    *   Consider a right-angled triangle where the opposite side is `y` and the hypotenuse is `1`. The adjacent side will be `sqrt(1 - y^2)`.\\\\n    *   Therefore, `cot(φ) = adjacent/opposite = sqrt(1 - y^2)/y` and `tan(φ) = opposite/adjacent = y/sqrt(1 - y^2)`.\\\\n    *   Substitute these values: `sqrt(1 - y^2)/y + y/sqrt(1 - y^2)`\\\\n    *   Find a common denominator: `( (sqrt(1 - y^2))^2 + y^2 ) / (y * sqrt(1 - y^2))`\\\\n    *   `= (1 - y^2 + y^2) / (y * sqrt(1 - y^2))`\\\\n    *   `= 1 / (y * sqrt(1 - y^2))`\\\\n\\\\n3.  **Substitute the simplified terms back into the main expression (inside the square):**\\\\n    *   The term is `(1/y^2 * (sqrt(y^2 + 1)) / (1 / (y * sqrt(1 - y^2))))`\\\\n    *   Simplify the fraction: `sqrt(y^2 + 1) * y * sqrt(1 - y^2)`\\\\n    *   `= y * sqrt((y^2 + 1)(1 - y^2))`\\\\n    *   `= y * sqrt(1 - y^4)` (using the difference of squares formula `(a+b)(a-b) = a^2 - b^2`)\\\\n    *   Now, multiply by `1/y^2`: `(1/y^2) * y * sqrt(1 - y^4)`\\\\n    *   `= (1/y) * sqrt(1 - y^4)`\\\\n\\\\n4.  **Square the result from step 3:**\\\\n    *   `((1/y) * sqrt(1 - y^4))^2`\\\\n    *   `= (1/y^2) * (1 - y^4)`\\\\n    *   `= (1 - y^4) / y^2`\\\\n\\\\n5.  **Add `y^4` to the squared term:**\\\\n    *   `(1 - y^4) / y^2 + y^4`\\\\n    *   `= (1 - y^4 + y^4 * y^2) / y^2`\\\\n    *   `= (1 - y^4 + y^6) / y^2`\\\\n\\\\n6.  **Take the square root of the entire expression:**\\\\n    *   `((1 - y^4 + y^6) / y^2)^(1/2)`\\\\n    *   `= sqrt(1 - y^4 + y^6) / sqrt(y^2)`\\\\n    *   `= sqrt(1 - y^4 + y^6) / |y|`\\\\n\\\\n7.  **Final Simplification (assuming y > 0):**\\\\n    *   In many mathematical contexts, if the domain is not specified, it\\'s assumed to be positive for such simplifications, or the principal root is considered. Thus, `|y|` can be written as `y`.\", \\'final_answer\\': \\'sqrt(1-y^4+y^6)/y\\'}', is_error=False), return_direct=False), ToolCallResult(tool_name='solve_without_similar_questions', tool_kwargs={'question': 'p. (1/y^2 * (cos(tan^{-1}y) + ysin(tan^{-1}y))/(cot(sin^{-1}y) + tan(sin^{-1}y)))^2 + y^4)^{1/2} का मान है'}, tool_id='solve_without_similar_questions', tool_output=ToolOutput(blocks=[TextBlock(block_type='text', text='{\\'explanation\\': \"The problem asks for the value of the expression:\\\\n$ \\\\\\\\left( \\\\\\\\frac{1}{y^2} \\\\\\\\cdot \\\\\\\\frac{\\\\\\\\cos(\\\\\\\\tan^{-1}y) + y\\\\\\\\sin(\\\\\\\\tan^{-1}y)}{\\\\\\\\cot(\\\\\\\\sin^{-1}y) + \\\\\\\\tan(\\\\\\\\sin^{-1}y)} \\\\\\\\right)^2 + y^4 \\\\\\\\right)^{1/2} $\\\\n\\\\n**Step 1: Simplify the trigonometric terms in the numerator**\\\\nLet $\\\\\\\\theta = \\\\\\\\tan^{-1}y$. This implies $\\\\\\\\tan\\\\\\\\theta = y$. We can construct a right triangle where the opposite side is $y$ and the adjacent side is $1$. The hypotenuse is $\\\\\\\\sqrt{y^2+1}$.\\\\nFrom this triangle:\\\\n$\\\\\\\\cos(\\\\\\\\tan^{-1}y) = \\\\\\\\cos\\\\\\\\theta = \\\\\\\\frac{1}{\\\\\\\\sqrt{y^2+1}}$\\\\n$\\\\\\\\sin(\\\\\\\\tan^{-1}y) = \\\\\\\\sin\\\\\\\\theta = \\\\\\\\frac{y}{\\\\\\\\sqrt{y^2+1}}$\\\\n\\\\nSubstitute these into the numerator:\\\\nNumerator ($N$) $= \\\\\\\\cos(\\\\\\\\tan^{-1}y) + y\\\\\\\\sin(\\\\\\\\tan^{-1}y)$\\\\n$N = \\\\\\\\frac{1}{\\\\\\\\sqrt{y^2+1}} + y\\\\\\\\left(\\\\\\\\frac{y}{\\\\\\\\sqrt{y^2+1}}\\\\\\\\right)$\\\\n$N = \\\\\\\\frac{1+y^2}{\\\\\\\\sqrt{y^2+1}}$\\\\nSince $1+y^2 = (\\\\\\\\sqrt{y^2+1})^2$, we simplify to:\\\\n$N = \\\\\\\\sqrt{y^2+1}$\\\\n\\\\n**Step 2: Simplify the trigonometric terms in the denominator**\\\\nLet $\\\\\\\\phi = \\\\\\\\sin^{-1}y$. This implies $\\\\\\\\sin\\\\\\\\phi = y$. We can construct a right triangle where the opposite side is $y$ and the hypotenuse is $1$. The adjacent side is $\\\\\\\\sqrt{1-y^2}$. For $\\\\\\\\sin^{-1}y$ to be defined, $y \\\\\\\\in [-1, 1]$. For the denominator terms to be defined, $y \\\\\\\\neq 0$ and $y \\\\\\\\neq \\\\\\\\pm 1$, so $y \\\\\\\\in (-1, 0) \\\\\\\\cup (0, 1)$.\\\\nFrom this triangle:\\\\n$\\\\\\\\cot(\\\\\\\\sin^{-1}y) = \\\\\\\\cot\\\\\\\\phi = \\\\\\\\frac{\\\\\\\\sqrt{1-y^2}}{y}$\\\\n$\\\\\\\\tan(\\\\\\\\sin^{-1}y) = \\\\\\\\tan\\\\\\\\phi = \\\\\\\\frac{y}{\\\\\\\\sqrt{1-y^2}}$\\\\n\\\\nSubstitute these into the denominator:\\\\nDenominator ($D$) $= \\\\\\\\cot(\\\\\\\\sin^{-1}y) + \\\\\\\\tan(\\\\\\\\sin^{-1}y)$\\\\n$D = \\\\\\\\frac{\\\\\\\\sqrt{1-y^2}}{y} + \\\\\\\\frac{y}{\\\\\\\\sqrt{1-y^2}}$\\\\nCombine terms with a common denominator:\\\\n$D = \\\\\\\\frac{(\\\\\\\\sqrt{1-y^2})^2 + y^2}{y\\\\\\\\sqrt{1-y^2}}$\\\\n$D = \\\\\\\\frac{1-y^2 + y^2}{y\\\\\\\\sqrt{1-y^2}}$\\\\n$D = \\\\\\\\frac{1}{y\\\\\\\\sqrt{1-y^2}}$\\\\n\\\\n**Step 3: Simplify the main fraction term**\\\\nThe fraction term inside the square is $\\\\\\\\frac{1}{y^2} \\\\\\\\cdot \\\\\\\\frac{N}{D}$. Let\\'s call this $X$.\\\\n$X = \\\\\\\\frac{1}{y^2} \\\\\\\\cdot \\\\\\\\frac{\\\\\\\\sqrt{y^2+1}}{\\\\\\\\frac{1}{y\\\\\\\\sqrt{1-y^2}}}$\\\\n$X = \\\\\\\\frac{1}{y^2} \\\\\\\\cdot \\\\\\\\sqrt{y^2+1} \\\\\\\\cdot y\\\\\\\\sqrt{1-y^2}$\\\\n$X = \\\\\\\\frac{y\\\\\\\\sqrt{(y^2+1)(1-y^2)}}{y^2}$\\\\nUsing the difference of squares formula, $(a+b)(a-b) = a^2-b^2$, we have $(y^2+1)(1-y^2) = (1+y^2)(1-y^2) = 1^2 - (y^2)^2 = 1-y^4$.\\\\n$X = \\\\\\\\frac{y\\\\\\\\sqrt{1-y^4}}{y^2}$\\\\n$X = \\\\\\\\frac{\\\\\\\\sqrt{1-y^4}}{y}$\\\\n\\\\n**Step 4: Substitute into the overall expression and simplify**\\\\nThe original expression is $(X^2 + y^4)^{1/2}$.\\\\nFirst, calculate $X^2$:\\\\n$X^2 = \\\\\\\\left(\\\\\\\\frac{\\\\\\\\sqrt{1-y^4}}{y}\\\\\\\\right)^2 = \\\\\\\\frac{1-y^4}{y^2}$\\\\n\\\\nNow, substitute $X^2$ back into the full expression:\\\\n$\\\\\\\\left( \\\\\\\\frac{1-y^4}{y^2} + y^4 \\\\\\\\right)^{1/2}$\\\\nTo combine the terms inside the parenthesis, find a common denominator:\\\\n$\\\\\\\\left( \\\\\\\\frac{1-y^4}{y^2} + \\\\\\\\frac{y^4 \\\\\\\\cdot y^2}{y^2} \\\\\\\\right)^{1/2}$\\\\n$\\\\\\\\left( \\\\\\\\frac{1-y^4 + y^6}{y^2} \\\\\\\\right)^{1/2}$\\\\nFinally, take the square root:\\\\n$\\\\\\\\frac{\\\\\\\\sqrt{1-y^4+y^6}}{\\\\\\\\sqrt{y^2}}$\\\\n$\\\\\\\\frac{\\\\\\\\sqrt{1-y^4+y^6}}{|y|}$\", \\'final_answer\\': \\'$\\\\\\\\frac{\\\\\\\\sqrt{1-y^4+y^6}}{|y|}$\\'}')], tool_name='solve_without_similar_questions', raw_input={'args': (), 'kwargs': {'question': 'p. (1/y^2 * (cos(tan^{-1}y) + ysin(tan^{-1}y))/(cot(sin^{-1}y) + tan(sin^{-1}y)))^2 + y^4)^{1/2} का मान है'}}, raw_output='{\\'explanation\\': \"The problem asks for the value of the expression:\\\\n$ \\\\\\\\left( \\\\\\\\frac{1}{y^2} \\\\\\\\cdot \\\\\\\\frac{\\\\\\\\cos(\\\\\\\\tan^{-1}y) + y\\\\\\\\sin(\\\\\\\\tan^{-1}y)}{\\\\\\\\cot(\\\\\\\\sin^{-1}y) + \\\\\\\\tan(\\\\\\\\sin^{-1}y)} \\\\\\\\right)^2 + y^4 \\\\\\\\right)^{1/2} $\\\\n\\\\n**Step 1: Simplify the trigonometric terms in the numerator**\\\\nLet $\\\\\\\\theta = \\\\\\\\tan^{-1}y$. This implies $\\\\\\\\tan\\\\\\\\theta = y$. We can construct a right triangle where the opposite side is $y$ and the adjacent side is $1$. The hypotenuse is $\\\\\\\\sqrt{y^2+1}$.\\\\nFrom this triangle:\\\\n$\\\\\\\\cos(\\\\\\\\tan^{-1}y) = \\\\\\\\cos\\\\\\\\theta = \\\\\\\\frac{1}{\\\\\\\\sqrt{y^2+1}}$\\\\n$\\\\\\\\sin(\\\\\\\\tan^{-1}y) = \\\\\\\\sin\\\\\\\\theta = \\\\\\\\frac{y}{\\\\\\\\sqrt{y^2+1}}$\\\\n\\\\nSubstitute these into the numerator:\\\\nNumerator ($N$) $= \\\\\\\\cos(\\\\\\\\tan^{-1}y) + y\\\\\\\\sin(\\\\\\\\tan^{-1}y)$\\\\n$N = \\\\\\\\frac{1}{\\\\\\\\sqrt{y^2+1}} + y\\\\\\\\left(\\\\\\\\frac{y}{\\\\\\\\sqrt{y^2+1}}\\\\\\\\right)$\\\\n$N = \\\\\\\\frac{1+y^2}{\\\\\\\\sqrt{y^2+1}}$\\\\nSince $1+y^2 = (\\\\\\\\sqrt{y^2+1})^2$, we simplify to:\\\\n$N = \\\\\\\\sqrt{y^2+1}$\\\\n\\\\n**Step 2: Simplify the trigonometric terms in the denominator**\\\\nLet $\\\\\\\\phi = \\\\\\\\sin^{-1}y$. This implies $\\\\\\\\sin\\\\\\\\phi = y$. We can construct a right triangle where the opposite side is $y$ and the hypotenuse is $1$. The adjacent side is $\\\\\\\\sqrt{1-y^2}$. For $\\\\\\\\sin^{-1}y$ to be defined, $y \\\\\\\\in [-1, 1]$. For the denominator terms to be defined, $y \\\\\\\\neq 0$ and $y \\\\\\\\neq \\\\\\\\pm 1$, so $y \\\\\\\\in (-1, 0) \\\\\\\\cup (0, 1)$.\\\\nFrom this triangle:\\\\n$\\\\\\\\cot(\\\\\\\\sin^{-1}y) = \\\\\\\\cot\\\\\\\\phi = \\\\\\\\frac{\\\\\\\\sqrt{1-y^2}}{y}$\\\\n$\\\\\\\\tan(\\\\\\\\sin^{-1}y) = \\\\\\\\tan\\\\\\\\phi = \\\\\\\\frac{y}{\\\\\\\\sqrt{1-y^2}}$\\\\n\\\\nSubstitute these into the denominator:\\\\nDenominator ($D$) $= \\\\\\\\cot(\\\\\\\\sin^{-1}y) + \\\\\\\\tan(\\\\\\\\sin^{-1}y)$\\\\n$D = \\\\\\\\frac{\\\\\\\\sqrt{1-y^2}}{y} + \\\\\\\\frac{y}{\\\\\\\\sqrt{1-y^2}}$\\\\nCombine terms with a common denominator:\\\\n$D = \\\\\\\\frac{(\\\\\\\\sqrt{1-y^2})^2 + y^2}{y\\\\\\\\sqrt{1-y^2}}$\\\\n$D = \\\\\\\\frac{1-y^2 + y^2}{y\\\\\\\\sqrt{1-y^2}}$\\\\n$D = \\\\\\\\frac{1}{y\\\\\\\\sqrt{1-y^2}}$\\\\n\\\\n**Step 3: Simplify the main fraction term**\\\\nThe fraction term inside the square is $\\\\\\\\frac{1}{y^2} \\\\\\\\cdot \\\\\\\\frac{N}{D}$. Let\\'s call this $X$.\\\\n$X = \\\\\\\\frac{1}{y^2} \\\\\\\\cdot \\\\\\\\frac{\\\\\\\\sqrt{y^2+1}}{\\\\\\\\frac{1}{y\\\\\\\\sqrt{1-y^2}}}$\\\\n$X = \\\\\\\\frac{1}{y^2} \\\\\\\\cdot \\\\\\\\sqrt{y^2+1} \\\\\\\\cdot y\\\\\\\\sqrt{1-y^2}$\\\\n$X = \\\\\\\\frac{y\\\\\\\\sqrt{(y^2+1)(1-y^2)}}{y^2}$\\\\nUsing the difference of squares formula, $(a+b)(a-b) = a^2-b^2$, we have $(y^2+1)(1-y^2) = (1+y^2)(1-y^2) = 1^2 - (y^2)^2 = 1-y^4$.\\\\n$X = \\\\\\\\frac{y\\\\\\\\sqrt{1-y^4}}{y^2}$\\\\n$X = \\\\\\\\frac{\\\\\\\\sqrt{1-y^4}}{y}$\\\\n\\\\n**Step 4: Substitute into the overall expression and simplify**\\\\nThe original expression is $(X^2 + y^4)^{1/2}$.\\\\nFirst, calculate $X^2$:\\\\n$X^2 = \\\\\\\\left(\\\\\\\\frac{\\\\\\\\sqrt{1-y^4}}{y}\\\\\\\\right)^2 = \\\\\\\\frac{1-y^4}{y^2}$\\\\n\\\\nNow, substitute $X^2$ back into the full expression:\\\\n$\\\\\\\\left( \\\\\\\\frac{1-y^4}{y^2} + y^4 \\\\\\\\right)^{1/2}$\\\\nTo combine the terms inside the parenthesis, find a common denominator:\\\\n$\\\\\\\\left( \\\\\\\\frac{1-y^4}{y^2} + \\\\\\\\frac{y^4 \\\\\\\\cdot y^2}{y^2} \\\\\\\\right)^{1/2}$\\\\n$\\\\\\\\left( \\\\\\\\frac{1-y^4 + y^6}{y^2} \\\\\\\\right)^{1/2}$\\\\nFinally, take the square root:\\\\n$\\\\\\\\frac{\\\\\\\\sqrt{1-y^4+y^6}}{\\\\\\\\sqrt{y^2}}$\\\\n$\\\\\\\\frac{\\\\\\\\sqrt{1-y^4+y^6}}{|y|}$\", \\'final_answer\\': \\'$\\\\\\\\frac{\\\\\\\\sqrt{1-y^4+y^6}}{|y|}$\\'}', is_error=False), return_direct=False), ToolCallResult(tool_name='evaluate_and_compare_solutions', tool_kwargs={'no_sim_solution_explanation': \"The problem asks for the value of the expression:\\\\n$ \\\\\\\\left( \\\\\\\\frac{1}{y^2} \\\\\\\\cdot \\\\\\\\frac{\\\\\\\\cos(\\\\\\\\tan^{-1}y) + y\\\\\\\\sin(\\\\\\\\tan^{-1}y)}{\\\\\\\\cot(\\\\\\\\sin^{-1}y) + \\\\\\\\tan(\\\\\\\\sin^{-1}y)} \\\\\\\\right)^2 + y^4 \\\\\\\\right)^{1/2} $\\\\n\\\\n**Step 1: Simplify the trigonometric terms in the numerator**\\\\nLet $\\\\\\\\theta = \\\\\\\\tan^{-1}y$. This implies $\\\\\\\\tan\\\\\\\\theta = y$. We can construct a right triangle where the opposite side is $y$ and the adjacent side is $1$. The hypotenuse is $\\\\\\\\sqrt{y^2+1}$.\\\\nFrom this triangle:\\\\n$\\\\\\\\cos(\\\\\\\\tan^{-1}y) = \\\\\\\\cos\\\\\\\\theta = \\\\\\\\frac{1}{\\\\\\\\sqrt{y^2+1}}$\\\\n$\\\\\\\\sin(\\\\\\\\tan^{-1}y) = \\\\\\\\sin\\\\\\\\theta = \\\\\\\\frac{y}{\\\\\\\\sqrt{y^2+1}}$\\\\n\\\\nSubstitute these into the numerator:\\\\nNumerator ($N$) $= \\\\\\\\cos(\\\\\\\\tan^{-1}y) + y\\\\\\\\sin(\\\\\\\\tan^{-1}y)$\\\\n$N = \\\\\\\\frac{1}{\\\\\\\\sqrt{y^2+1}} + y\\\\\\\\left(\\\\\\\\frac{y}{\\\\\\\\sqrt{y^2+1}}\\\\\\\\right)$\\\\n$N = \\\\\\\\frac{1+y^2}{\\\\\\\\sqrt{y^2+1}}$\\\\nSince $1+y^2 = (\\\\\\\\sqrt{y^2+1})^2$, we simplify to:\\\\n$N = \\\\\\\\sqrt{y^2+1}$\\\\n\\\\n**Step 2: Simplify the trigonometric terms in the denominator**\\\\nLet $\\\\\\\\phi = \\\\\\\\sin^{-1}y$. This implies $\\\\\\\\sin\\\\\\\\phi = y$. We can construct a right triangle where the opposite side is $y$ and the hypotenuse is $1$. The adjacent side is $\\\\\\\\sqrt{1-y^2}$. For $\\\\\\\\sin^{-1}y$ to be defined, $y \\\\\\\\in [-1, 1]$. For the denominator terms to be defined, $y \\\\\\\\neq 0$ and $y \\\\\\\\neq \\\\\\\\pm 1$, so $y \\\\\\\\in (-1, 0) \\\\\\\\cup (0, 1)$.\\\\nFrom this triangle:\\\\n$\\\\\\\\cot(\\\\\\\\sin^{-1}y) = \\\\\\\\cot\\\\\\\\phi = \\\\\\\\frac{\\\\\\\\sqrt{1-y^2}}{y}$\\\\n$\\\\\\\\tan(\\\\\\\\sin^{-1}y) = \\\\\\\\tan\\\\\\\\phi = \\\\\\\\frac{y}{\\\\\\\\sqrt{1-y^2}}$\\\\n\\\\nSubstitute these into the denominator:\\\\nDenominator ($D$) $= \\\\\\\\cot(\\\\\\\\sin^{-1}y) + \\\\\\\\tan(\\\\\\\\sin^{-1}y)$\\\\n$D = \\\\\\\\frac{\\\\\\\\sqrt{1-y^2}}{y} + \\\\\\\\frac{y}{\\\\\\\\sqrt{1-y^2}}$\\\\nCombine terms with a common denominator:\\\\n$D = \\\\\\\\frac{(\\\\\\\\sqrt{1-y^2})^2 + y^2}{y\\\\\\\\sqrt{1-y^2}}$\\\\n$D = \\\\\\\\frac{1-y^2 + y^2}{y\\\\\\\\sqrt{1-y^2}}$\\\\n$D = \\\\\\\\frac{1}{y\\\\\\\\sqrt{1-y^2}}$\\\\n\\\\n**Step 3: Simplify the main fraction term**\\\\nThe fraction term inside the square is $\\\\\\\\frac{1}{y^2} \\\\\\\\cdot \\\\\\\\frac{N}{D}$. Let\\\\'s call this $X$.\\\\n$X = \\\\\\\\frac{1}{y^2} \\\\\\\\cdot \\\\\\\\frac{\\\\\\\\sqrt{y^2+1}}{\\\\\\\\frac{1}{y\\\\\\\\sqrt{1-y^2}}}$\\\\n$X = \\\\\\\\frac{1}{y^2} \\\\\\\\cdot \\\\\\\\sqrt{y^2+1} \\\\\\\\cdot y\\\\\\\\sqrt{1-y^2}$\\\\n$X = \\\\\\\\frac{y\\\\\\\\sqrt{(y^2+1)(1-y^2)}}{y^2}$\\\\nUsing the difference of squares formula, $(a+b)(a-b) = a^2-b^2$, we have $(y^2+1)(1-y^2) = (1+y^2)(1-y^2) = 1^2 - (y^2)^2 = 1-y^4$.\\\\n$X = \\\\\\\\frac{y\\\\\\\\sqrt{1-y^4}}{y^2}$\\\\n$X = \\\\\\\\frac{\\\\\\\\sqrt{1-y^4}}{y}$\\\\n\\\\n**Step 4: Substitute into the overall expression and simplify**\\\\nThe original expression is $(X^2 + y^4)^{1/2}$.\\\\nFirst, calculate $X^2$:\\\\n$X^2 = \\\\\\\\left(\\\\\\\\frac{\\\\\\\\sqrt{1-y^4}}{y}\\\\\\\\right)^2 = \\\\\\\\frac{1-y^4}{y^2}$\\\\n\\\\nNow, substitute $X^2$ back into the full expression:\\\\n$\\\\\\\\left( \\\\\\\\frac{1-y^4}{y^2} + y^4 \\\\\\\\right)^{1/2}$\\\\nTo combine the terms inside the parenthesis, find a common denominator:\\\\n$\\\\\\\\left( \\\\\\\\frac{1-y^4}{y^2} + \\\\\\\\frac{y^4 \\\\\\\\cdot y^2}{y^2} \\\\\\\\right)^{1/2}$\\\\n$\\\\\\\\left( \\\\\\\\frac{1-y^4 + y^6}{y^2} \\\\\\\\right)^{1/2}$\\\\nFinally, take the square root:\\\\n$\\\\\\\\frac{\\\\\\\\sqrt{1-y^4+y^6}}{\\\\\\\\sqrt{y^2}}$\\\\n$\\\\\\\\frac{\\\\\\\\sqrt{1-y^4+y^6}}{|y|}$\", 'sim_solution_explanation': \"1.  **Simplify the term `cos(tan^{-1}y) + ysin(tan^{-1}y)`:**\\\\n    *   Let `θ = tan^{-1}y`. This means `tan(θ) = y`.\\\\n    *   Consider a right-angled triangle where the opposite side is `y` and the adjacent side is `1`. The hypotenuse will be `sqrt(y^2 + 1)` (by Pythagorean theorem).\\\\n    *   Therefore, `cos(θ) = 1/sqrt(y^2 + 1)` and `sin(θ) = y/sqrt(y^2 + 1)`.\\\\n    *   Substitute these values: `1/sqrt(y^2 + 1) + y * (y/sqrt(y^2 + 1))`\\\\n    *   `= (1 + y^2)/sqrt(y^2 + 1)`\\\\n    *   `= sqrt(y^2 + 1)`\\\\n\\\\n2.  **Simplify the term `cot(sin^{-1}y) + tan(sin^{-1}y)`:**\\\\n    *   Let `φ = sin^{-1}y`. This means `sin(φ) = y`.\\\\n    *   Consider a right-angled triangle where the opposite side is `y` and the hypotenuse is `1`. The adjacent side will be `sqrt(1 - y^2)`.\\\\n    *   Therefore, `cot(φ) = adjacent/opposite = sqrt(1 - y^2)/y` and `tan(φ) = opposite/adjacent = y/sqrt(1 - y^2)`.\\\\n    *   Substitute these values: `sqrt(1 - y^2)/y + y/sqrt(1 - y^2)`\\\\n    *   Find a common denominator: `( (sqrt(1 - y^2))^2 + y^2 ) / (y * sqrt(1 - y^2))`\\\\n    *   `= (1 - y^2 + y^2) / (y * sqrt(1 - y^2))`\\\\n    *   `= 1 / (y * sqrt(1 - y^2))`\\\\n\\\\n3.  **Substitute the simplified terms back into the main expression (inside the square):**\\\\n    *   The term is `(1/y^2 * (sqrt(y^2 + 1)) / (1 / (y * sqrt(1 - y^2))))`\\\\n    *   Simplify the fraction: `sqrt(y^2 + 1) * y * sqrt(1 - y^2)`\\\\n    *   `= y * sqrt((y^2 + 1)(1 - y^2))`\\\\n    *   `= y * sqrt(1 - y^4)` (using the difference of squares formula `(a+b)(a-b) = a^2 - b^2`)\\\\n    *   Now, multiply by `1/y^2`: `(1/y^2) * y * sqrt(1 - y^4)`\\\\n    *   `= (1/y) * sqrt(1 - y^4)`\\\\n\\\\n4.  **Square the result from step 3:**\\\\n    *   `((1/y) * sqrt(1 - y^4))^2`\\\\n    *   `= (1/y^2) * (1 - y^4)`\\\\n    *   `= (1 - y^4) / y^2`\\\\n\\\\n5.  **Add `y^4` to the squared term:**\\\\n    *   `(1 - y^4) / y^2 + y^4`\\\\n    *   `= (1 - y^4 + y^4 * y^2) / y^2`\\\\n    *   `= (1 - y^4 + y^6) / y^2`\\\\n\\\\n6.  **Take the square root of the entire expression:**\\\\n    *   `((1 - y^4 + y^6) / y^2)^(1/2)`\\\\n    *   `= sqrt(1 - y^4 + y^6) / sqrt(y^2)`\\\\n    *   `= sqrt(1 - y^4 + y^6) / |y|`\\\\n\\\\n7.  **Final Simplification (assuming y > 0):**\\\\n    *   In many mathematical contexts, if the domain is not specified, it\\\\'s assumed to be positive for such simplifications, or the principal root is considered. Thus, `|y|` can be written as `y`.\", 'sim_solution_final_answer': 'sqrt(1-y^4+y^6)/y', 'question': 'p. (1/y^2 * (cos(tan^{-1}y) + ysin(tan^{-1}y))/(cot(sin^{-1}y) + tan(sin^{-1}y)))^2 + y^4)^{1/2} का मान है', 'no_sim_solution_final_answer': '$\\\\\\\\frac{\\\\\\\\sqrt{1-y^4+y^6}}{|y|}$'}, tool_id='evaluate_and_compare_solutions', tool_output=ToolOutput(blocks=[TextBlock(block_type='text', text='{\\'sim_answer_score\\': 95, \\'no_sim_answer_score\\': 100, \\'notes\\': \"Both the \\'sim_answer\\' and \\'no_sim_answer\\' provide highly accurate and detailed step-by-step solutions to the given mathematical expression. They both correctly simplify the trigonometric terms and then meticulously combine them to arrive at the simplified expression.\\\\n\\\\nThe \\'no_sim_answer\\' is slightly superior due to two key reasons:\\\\n\\\\n1.  **Mathematical Precision for `sqrt(y^2)`:** The \\'no_sim_answer\\' correctly recognizes that `sqrt(y^2)` simplifies to `|y|` (absolute value of y), which is the most general and mathematically precise simplification. The \\'sim_answer\\', while mentioning in its final step that it assumes `y > 0` to write `|y|` as `y`, presents its final answer without the absolute value. Unless the problem explicitly states `y > 0`, `|y|` is the more accurate result.\\\\n2.  **Completeness in Domain Consideration:** The \\'no_sim_answer\\' briefly but importantly mentions the domain restrictions for `sin^{-1}y` (i.e., `y \\\\\\\\in [-1, 1]`) and further clarifies conditions for the denominator terms to be defined (`y \\\\\\\\neq 0` and `y \\\\\\\\neq \\\\\\\\pm 1`), leading to `y \\\\\\\\in (-1, 0) \\\\\\\\cup (0, 1)`. This adds a layer of completeness and rigor to the solution that is missing in the \\'sim_answer\\'.\\\\n\\\\nOverall, both answers demonstrate a strong understanding of trigonometry and algebraic simplification. The \\'no_sim_answer\\' is marginally better due to its higher mathematical rigor and attention to domain constraints.\"}')], tool_name='evaluate_and_compare_solutions', raw_input={'args': (), 'kwargs': {'no_sim_solution_explanation': \"The problem asks for the value of the expression:\\\\n$ \\\\\\\\left( \\\\\\\\frac{1}{y^2} \\\\\\\\cdot \\\\\\\\frac{\\\\\\\\cos(\\\\\\\\tan^{-1}y) + y\\\\\\\\sin(\\\\\\\\tan^{-1}y)}{\\\\\\\\cot(\\\\\\\\sin^{-1}y) + \\\\\\\\tan(\\\\\\\\sin^{-1}y)} \\\\\\\\right)^2 + y^4 \\\\\\\\right)^{1/2} $\\\\n\\\\n**Step 1: Simplify the trigonometric terms in the numerator**\\\\nLet $\\\\\\\\theta = \\\\\\\\tan^{-1}y$. This implies $\\\\\\\\tan\\\\\\\\theta = y$. We can construct a right triangle where the opposite side is $y$ and the adjacent side is $1$. The hypotenuse is $\\\\\\\\sqrt{y^2+1}$.\\\\nFrom this triangle:\\\\n$\\\\\\\\cos(\\\\\\\\tan^{-1}y) = \\\\\\\\cos\\\\\\\\theta = \\\\\\\\frac{1}{\\\\\\\\sqrt{y^2+1}}$\\\\n$\\\\\\\\sin(\\\\\\\\tan^{-1}y) = \\\\\\\\sin\\\\\\\\theta = \\\\\\\\frac{y}{\\\\\\\\sqrt{y^2+1}}$\\\\n\\\\nSubstitute these into the numerator:\\\\nNumerator ($N$) $= \\\\\\\\cos(\\\\\\\\tan^{-1}y) + y\\\\\\\\sin(\\\\\\\\tan^{-1}y)$\\\\n$N = \\\\\\\\frac{1}{\\\\\\\\sqrt{y^2+1}} + y\\\\\\\\left(\\\\\\\\frac{y}{\\\\\\\\sqrt{y^2+1}}\\\\\\\\right)$\\\\n$N = \\\\\\\\frac{1+y^2}{\\\\\\\\sqrt{y^2+1}}$\\\\nSince $1+y^2 = (\\\\\\\\sqrt{y^2+1})^2$, we simplify to:\\\\n$N = \\\\\\\\sqrt{y^2+1}$\\\\n\\\\n**Step 2: Simplify the trigonometric terms in the denominator**\\\\nLet $\\\\\\\\phi = \\\\\\\\sin^{-1}y$. This implies $\\\\\\\\sin\\\\\\\\phi = y$. We can construct a right triangle where the opposite side is $y$ and the hypotenuse is $1$. The adjacent side is $\\\\\\\\sqrt{1-y^2}$. For $\\\\\\\\sin^{-1}y$ to be defined, $y \\\\\\\\in [-1, 1]$. For the denominator terms to be defined, $y \\\\\\\\neq 0$ and $y \\\\\\\\neq \\\\\\\\pm 1$, so $y \\\\\\\\in (-1, 0) \\\\\\\\cup (0, 1)$.\\\\nFrom this triangle:\\\\n$\\\\\\\\cot(\\\\\\\\sin^{-1}y) = \\\\\\\\cot\\\\\\\\phi = \\\\\\\\frac{\\\\\\\\sqrt{1-y^2}}{y}$\\\\n$\\\\\\\\tan(\\\\\\\\sin^{-1}y) = \\\\\\\\tan\\\\\\\\phi = \\\\\\\\frac{y}{\\\\\\\\sqrt{1-y^2}}$\\\\n\\\\nSubstitute these into the denominator:\\\\nDenominator ($D$) $= \\\\\\\\cot(\\\\\\\\sin^{-1}y) + \\\\\\\\tan(\\\\\\\\sin^{-1}y)$\\\\n$D = \\\\\\\\frac{\\\\\\\\sqrt{1-y^2}}{y} + \\\\\\\\frac{y}{\\\\\\\\sqrt{1-y^2}}$\\\\nCombine terms with a common denominator:\\\\n$D = \\\\\\\\frac{(\\\\\\\\sqrt{1-y^2})^2 + y^2}{y\\\\\\\\sqrt{1-y^2}}$\\\\n$D = \\\\\\\\frac{1-y^2 + y^2}{y\\\\\\\\sqrt{1-y^2}}$\\\\n$D = \\\\\\\\frac{1}{y\\\\\\\\sqrt{1-y^2}}$\\\\n\\\\n**Step 3: Simplify the main fraction term**\\\\nThe fraction term inside the square is $\\\\\\\\frac{1}{y^2} \\\\\\\\cdot \\\\\\\\frac{N}{D}$. Let\\\\'s call this $X$.\\\\n$X = \\\\\\\\frac{1}{y^2} \\\\\\\\cdot \\\\\\\\frac{\\\\\\\\sqrt{y^2+1}}{\\\\\\\\frac{1}{y\\\\\\\\sqrt{1-y^2}}}$\\\\n$X = \\\\\\\\frac{1}{y^2} \\\\\\\\cdot \\\\\\\\sqrt{y^2+1} \\\\\\\\cdot y\\\\\\\\sqrt{1-y^2}$\\\\n$X = \\\\\\\\frac{y\\\\\\\\sqrt{(y^2+1)(1-y^2)}}{y^2}$\\\\nUsing the difference of squares formula, $(a+b)(a-b) = a^2-b^2$, we have $(y^2+1)(1-y^2) = (1+y^2)(1-y^2) = 1^2 - (y^2)^2 = 1-y^4$.\\\\n$X = \\\\\\\\frac{y\\\\\\\\sqrt{1-y^4}}{y^2}$\\\\n$X = \\\\\\\\frac{\\\\\\\\sqrt{1-y^4}}{y}$\\\\n\\\\n**Step 4: Substitute into the overall expression and simplify**\\\\nThe original expression is $(X^2 + y^4)^{1/2}$.\\\\nFirst, calculate $X^2$:\\\\n$X^2 = \\\\\\\\left(\\\\\\\\frac{\\\\\\\\sqrt{1-y^4}}{y}\\\\\\\\right)^2 = \\\\\\\\frac{1-y^4}{y^2}$\\\\n\\\\nNow, substitute $X^2$ back into the full expression:\\\\n$\\\\\\\\left( \\\\\\\\frac{1-y^4}{y^2} + y^4 \\\\\\\\right)^{1/2}$\\\\nTo combine the terms inside the parenthesis, find a common denominator:\\\\n$\\\\\\\\left( \\\\\\\\frac{1-y^4}{y^2} + \\\\\\\\frac{y^4 \\\\\\\\cdot y^2}{y^2} \\\\\\\\right)^{1/2}$\\\\n$\\\\\\\\left( \\\\\\\\frac{1-y^4 + y^6}{y^2} \\\\\\\\right)^{1/2}$\\\\nFinally, take the square root:\\\\n$\\\\\\\\frac{\\\\\\\\sqrt{1-y^4+y^6}}{\\\\\\\\sqrt{y^2}}$\\\\n$\\\\\\\\frac{\\\\\\\\sqrt{1-y^4+y^6}}{|y|}$\", 'sim_solution_explanation': \"1.  **Simplify the term `cos(tan^{-1}y) + ysin(tan^{-1}y)`:**\\\\n    *   Let `θ = tan^{-1}y`. This means `tan(θ) = y`.\\\\n    *   Consider a right-angled triangle where the opposite side is `y` and the adjacent side is `1`. The hypotenuse will be `sqrt(y^2 + 1)` (by Pythagorean theorem).\\\\n    *   Therefore, `cos(θ) = 1/sqrt(y^2 + 1)` and `sin(θ) = y/sqrt(y^2 + 1)`.\\\\n    *   Substitute these values: `1/sqrt(y^2 + 1) + y * (y/sqrt(y^2 + 1))`\\\\n    *   `= (1 + y^2)/sqrt(y^2 + 1)`\\\\n    *   `= sqrt(y^2 + 1)`\\\\n\\\\n2.  **Simplify the term `cot(sin^{-1}y) + tan(sin^{-1}y)`:**\\\\n    *   Let `φ = sin^{-1}y`. This means `sin(φ) = y`.\\\\n    *   Consider a right-angled triangle where the opposite side is `y` and the hypotenuse is `1`. The adjacent side will be `sqrt(1 - y^2)`.\\\\n    *   Therefore, `cot(φ) = adjacent/opposite = sqrt(1 - y^2)/y` and `tan(φ) = opposite/adjacent = y/sqrt(1 - y^2)`.\\\\n    *   Substitute these values: `sqrt(1 - y^2)/y + y/sqrt(1 - y^2)`\\\\n    *   Find a common denominator: `( (sqrt(1 - y^2))^2 + y^2 ) / (y * sqrt(1 - y^2))`\\\\n    *   `= (1 - y^2 + y^2) / (y * sqrt(1 - y^2))`\\\\n    *   `= 1 / (y * sqrt(1 - y^2))`\\\\n\\\\n3.  **Substitute the simplified terms back into the main expression (inside the square):**\\\\n    *   The term is `(1/y^2 * (sqrt(y^2 + 1)) / (1 / (y * sqrt(1 - y^2))))`\\\\n    *   Simplify the fraction: `sqrt(y^2 + 1) * y * sqrt(1 - y^2)`\\\\n    *   `= y * sqrt((y^2 + 1)(1 - y^2))`\\\\n    *   `= y * sqrt(1 - y^4)` (using the difference of squares formula `(a+b)(a-b) = a^2 - b^2`)\\\\n    *   Now, multiply by `1/y^2`: `(1/y^2) * y * sqrt(1 - y^4)`\\\\n    *   `= (1/y) * sqrt(1 - y^4)`\\\\n\\\\n4.  **Square the result from step 3:**\\\\n    *   `((1/y) * sqrt(1 - y^4))^2`\\\\n    *   `= (1/y^2) * (1 - y^4)`\\\\n    *   `= (1 - y^4) / y^2`\\\\n\\\\n5.  **Add `y^4` to the squared term:**\\\\n    *   `(1 - y^4) / y^2 + y^4`\\\\n    *   `= (1 - y^4 + y^4 * y^2) / y^2`\\\\n    *   `= (1 - y^4 + y^6) / y^2`\\\\n\\\\n6.  **Take the square root of the entire expression:**\\\\n    *   `((1 - y^4 + y^6) / y^2)^(1/2)`\\\\n    *   `= sqrt(1 - y^4 + y^6) / sqrt(y^2)`\\\\n    *   `= sqrt(1 - y^4 + y^6) / |y|`\\\\n\\\\n7.  **Final Simplification (assuming y > 0):**\\\\n    *   In many mathematical contexts, if the domain is not specified, it\\\\'s assumed to be positive for such simplifications, or the principal root is considered. Thus, `|y|` can be written as `y`.\", 'sim_solution_final_answer': 'sqrt(1-y^4+y^6)/y', 'question': 'p. (1/y^2 * (cos(tan^{-1}y) + ysin(tan^{-1}y))/(cot(sin^{-1}y) + tan(sin^{-1}y)))^2 + y^4)^{1/2} का मान है', 'no_sim_solution_final_answer': '$\\\\\\\\frac{\\\\\\\\sqrt{1-y^4+y^6}}{|y|}$'}}, raw_output='{\\'sim_answer_score\\': 95, \\'no_sim_answer_score\\': 100, \\'notes\\': \"Both the \\'sim_answer\\' and \\'no_sim_answer\\' provide highly accurate and detailed step-by-step solutions to the given mathematical expression. They both correctly simplify the trigonometric terms and then meticulously combine them to arrive at the simplified expression.\\\\n\\\\nThe \\'no_sim_answer\\' is slightly superior due to two key reasons:\\\\n\\\\n1.  **Mathematical Precision for `sqrt(y^2)`:** The \\'no_sim_answer\\' correctly recognizes that `sqrt(y^2)` simplifies to `|y|` (absolute value of y), which is the most general and mathematically precise simplification. The \\'sim_answer\\', while mentioning in its final step that it assumes `y > 0` to write `|y|` as `y`, presents its final answer without the absolute value. Unless the problem explicitly states `y > 0`, `|y|` is the more accurate result.\\\\n2.  **Completeness in Domain Consideration:** The \\'no_sim_answer\\' briefly but importantly mentions the domain restrictions for `sin^{-1}y` (i.e., `y \\\\\\\\in [-1, 1]`) and further clarifies conditions for the denominator terms to be defined (`y \\\\\\\\neq 0` and `y \\\\\\\\neq \\\\\\\\pm 1`), leading to `y \\\\\\\\in (-1, 0) \\\\\\\\cup (0, 1)`. This adds a layer of completeness and rigor to the solution that is missing in the \\'sim_answer\\'.\\\\n\\\\nOverall, both answers demonstrate a strong understanding of trigonometry and algebraic simplification. The \\'no_sim_answer\\' is marginally better due to its higher mathematical rigor and attention to domain constraints.\"}', is_error=False), return_direct=False)], retry_messages=[])"
      ]
     },
     "execution_count": 217,
     "metadata": {},
     "output_type": "execute_result"
    }
   ],
   "source": [
    "orchestrator_response"
   ]
  },
  {
   "cell_type": "code",
   "execution_count": 211,
   "metadata": {},
   "outputs": [
    {
     "data": {
      "text/plain": [
       "AgenticComparitiveAnalysis(sim_explanation=\"1.  **Simplify the term `cos(tan^{-1}y) + ysin(tan^{-1}y)`:**\\n    *   Let `θ = tan^{-1}y`. This means `tan(θ) = y`.\\n    *   Consider a right-angled triangle where the opposite side is `y` and the adjacent side is `1`. The hypotenuse will be `sqrt(y^2 + 1)` (by Pythagorean theorem).\\n    *   Therefore, `cos(θ) = 1/sqrt(y^2 + 1)` and `sin(θ) = y/sqrt(y^2 + 1)`.\\n    *   Substitute these values: `1/sqrt(y^2 + 1) + y * (y/sqrt(y^2 + 1))`\\n    *   `= (1 + y^2)/sqrt(y^2 + 1)`\\n    *   `= sqrt(y^2 + 1)`\\n\\n2.  **Simplify the term `cot(sin^{-1}y) + tan(sin^{-1}y)`:**\\n    *   Let `φ = sin^{-1}y`. This means `sin(φ) = y`.\\n    *   Consider a right-angled triangle where the opposite side is `y` and the hypotenuse is `1`. The adjacent side will be `sqrt(1 - y^2)`.\\n    *   Therefore, `cot(φ) = adjacent/opposite = sqrt(1 - y^2)/y` and `tan(φ) = opposite/adjacent = y/sqrt(1 - y^2)`.\\n    *   Substitute these values: `sqrt(1 - y^2)/y + y/sqrt(1 - y^2)`\\n    *   Find a common denominator: `( (sqrt(1 - y^2))^2 + y^2 ) / (y * sqrt(1 - y^2))`\\n    *   `= (1 - y^2 + y^2) / (y * sqrt(1 - y^2))`\\n    *   `= 1 / (y * sqrt(1 - y^2))`\\n\\n3.  **Substitute the simplified terms back into the main expression (inside the square):**\\n    *   The term is `(1/y^2 * (sqrt(y^2 + 1)) / (1 / (y * sqrt(1 - y^2))))`\\n    *   Simplify the fraction: `sqrt(y^2 + 1) * y * sqrt(1 - y^2)`\\n    *   `= y * sqrt((y^2 + 1)(1 - y^2))`\\n    *   `= y * sqrt(1 - y^4)` (using the difference of squares formula `(a+b)(a-b) = a^2 - b^2`)\\n    *   Now, multiply by `1/y^2`: `(1/y^2) * y * sqrt(1 - y^4)`\\n    *   `= (1/y) * sqrt(1 - y^4)`\\n\\n4.  **Square the result from step 3:**\\n    *   `((1/y) * sqrt(1 - y^4))^2`\\n    *   `= (1/y^2) * (1 - y^4)`\\n    *   `= (1 - y^4) / y^2`\\n\\n5.  **Add `y^4` to the squared term:**\\n    *   `(1 - y^4) / y^2 + y^4`\\n    *   `= (1 - y^4 + y^4 * y^2) / y^2`\\n    *   `= (1 - y^4 + y^6) / y^2`\\n\\n6.  **Take the square root of the entire expression:**\\n    *   `((1 - y^4 + y^6) / y^2)^(1/2)`\\n    *   `= sqrt(1 - y^4 + y^6) / sqrt(y^2)`\\n    *   `= sqrt(1 - y^4 + y^6) / |y|`\\n\\n7.  **Final Simplification (assuming y > 0):**\\n    *   In many mathematical contexts, if the domain is not specified, it's assumed to be positive for such simplifications, or the principal root is considered. Thus, `|y|` can be written as `y`.\", sim_final_answer='sqrt(1-y^4+y^6)/y', no_sim_explanation=\"The problem asks for the value of the expression:\\n$ \\\\\\\\left( \\\\\\\\frac{1}{y^2} \\\\\\\\cdot \\\\\\\\frac{\\\\\\\\cos(\\\\\\\\tan^{-1}y) + y\\\\\\\\sin(\\\\\\\\tan^{-1}y)}{\\\\\\\\cot(\\\\\\\\sin^{-1}y) + \\\\\\\\tan(\\\\\\\\sin^{-1}y)} \\\\\\\\right)^2 + y^4 \\\\\\\\right)^{1/2} $\\n\\n**Step 1: Simplify the trigonometric terms in the numerator**\\nLet $\\\\\\\\theta = \\\\\\\\tan^{-1}y$. This implies $\\\\\\\\tan\\\\\\\\theta = y$. We can construct a right triangle where the opposite side is $y$ and the adjacent side is $1$. The hypotenuse is $\\\\\\\\sqrt{y^2+1}$.\\nFrom this triangle:\\n$\\\\\\\\cos(\\\\\\\\tan^{-1}y) = \\\\\\\\cos\\\\\\\\theta = \\\\\\\\frac{1}{\\\\\\\\sqrt{y^2+1}}$\\n$\\\\\\\\sin(\\\\\\\\tan^{-1}y) = \\\\\\\\sin\\\\\\\\theta = \\\\\\\\frac{y}{\\\\\\\\sqrt{y^2+1}}$\\n\\nSubstitute these into the numerator:\\nNumerator ($N$) $= \\\\\\\\cos(\\\\\\\\tan^{-1}y) + y\\\\\\\\sin(\\\\\\\\tan^{-1}y)$\\n$N = \\\\\\\\frac{1}{\\\\\\\\sqrt{y^2+1}} + y\\\\\\\\left(\\\\\\\\frac{y}{\\\\\\\\sqrt{y^2+1}}\\\\\\\\right)$\\n$N = \\\\\\\\frac{1+y^2}{\\\\\\\\sqrt{y^2+1}}$\\nSince $1+y^2 = (\\\\\\\\sqrt{y^2+1})^2$, we simplify to:\\n$N = \\\\\\\\sqrt{y^2+1}$\\n\\n**Step 2: Simplify the trigonometric terms in the denominator**\\nLet $\\\\\\\\phi = \\\\\\\\sin^{-1}y$. This implies $\\\\\\\\sin\\\\\\\\phi = y$. We can construct a right triangle where the opposite side is $y$ and the hypotenuse is $1$. The adjacent side is $\\\\\\\\sqrt{1-y^2}$. For $\\\\\\\\sin^{-1}y$ to be defined, $y \\\\\\\\in [-1, 1]$. For the denominator terms to be defined, $y \\\\\\\\neq 0$ and $y \\\\\\\\neq \\\\\\\\pm 1$, so $y \\\\\\\\in (-1, 0) \\\\\\\\cup (0, 1)$.\\nFrom this triangle:\\n$\\\\\\\\cot(\\\\\\\\sin^{-1}y) = \\\\\\\\cot\\\\\\\\phi = \\\\\\\\frac{\\\\\\\\sqrt{1-y^2}}{y}$\\n$\\\\\\\\tan(\\\\\\\\sin^{-1}y) = \\\\\\\\tan\\\\\\\\phi = \\\\\\\\frac{y}{\\\\\\\\sqrt{1-y^2}}$\\n\\nSubstitute these into the denominator:\\nDenominator ($D$) $= \\\\\\\\cot(\\\\\\\\sin^{-1}y) + \\\\\\\\tan(\\\\\\\\sin^{-1}y)$\\n$D = \\\\\\\\frac{\\\\\\\\sqrt{1-y^2}}{y} + \\\\\\\\frac{y}{\\\\\\\\sqrt{1-y^2}}$\\nCombine terms with a common denominator:\\n$D = \\\\\\\\frac{(\\\\\\\\sqrt{1-y^2})^2 + y^2}{y\\\\\\\\sqrt{1-y^2}}$\\n$D = \\\\\\\\frac{1-y^2 + y^2}{y\\\\\\\\sqrt{1-y^2}}$\\n$D = \\\\\\\\frac{1}{y\\\\\\\\sqrt{1-y^2}}$\\n\\n**Step 3: Simplify the main fraction term**\\nThe fraction term inside the square is $\\\\\\\\frac{1}{y^2} \\\\\\\\cdot \\\\\\\\frac{N}{D}$. Let's call this $X$.\\n$X = \\\\\\\\frac{1}{y^2} \\\\\\\\cdot \\\\\\\\frac{\\\\\\\\sqrt{y^2+1}}{\\\\\\\\frac{1}{y\\\\\\\\sqrt{1-y^2}}}$\\\\n$X = \\\\\\\\frac{1}{y^2} \\\\\\\\cdot \\\\\\\\sqrt{y^2+1} \\\\\\\\cdot y\\\\\\\\sqrt{1-y^2}$\\\\n$X = \\\\\\\\frac{y\\\\\\\\sqrt{(y^2+1)(1-y^2)}}{y^2}$\\\\nUsing the difference of squares formula, $(a+b)(a-b) = a^2-b^2$, we have $(y^2+1)(1-y^2) = (1+y^2)(1-y^2) = 1^2 - (y^2)^2 = 1-y^4$.\\\\n$X = \\\\\\\\frac{y\\\\\\\\sqrt{1-y^4}}{y^2}$\\\\n$X = \\\\\\\\frac{\\\\\\\\sqrt{1-y^4}}{y}$\\n\\n**Step 4: Substitute into the overall expression and simplify**\\nThe original expression is $(X^2 + y^4)^{1/2}$.\\nFirst, calculate $X^2$:\\n$X^2 = \\\\\\\\left(\\\\\\\\frac{\\\\\\\\sqrt{1-y^4}}{y}\\\\\\\\right)^2 = \\\\\\\\frac{1-y^4}{y^2}$\\n\\nNow, substitute $X^2$ back into the full expression:\\n$\\\\\\\\left( \\\\\\\\frac{1-y^4}{y^2} + y^4 \\\\\\\\right)^{1/2}$\\nTo combine the terms inside the parenthesis, find a common denominator:\\n$\\\\\\\\left( \\\\\\\\frac{1-y^4}{y^2} + \\\\\\\\frac{y^4 \\\\\\\\cdot y^2}{y^2} \\\\\\\\right)^{1/2}$\\n$\\\\\\\\left( \\\\\\\\frac{1-y^4 + y^6}{y^2} \\\\\\\\right)^{1/2}$\\nFinally, take the square root:\\n$\\\\\\\\frac{\\\\\\\\sqrt{1-y^4+y^6}}{\\\\\\\\sqrt{y^2}}$\\n$\\\\\\\\frac{\\\\\\\\sqrt{1-y^4+y^6}}{|y|}$\", no_sim_final_answer='$\\\\\\\\frac{\\\\\\\\sqrt{1-y^4+y^6}}{|y|}$', sim_answer_score=95, no_sim_answer_score=100, notes=\"Both the 'sim_answer' and 'no_sim_answer' provide highly accurate and detailed step-by-step solutions to the given mathematical expression. They both correctly simplify the trigonometric terms and then meticulously combine them to arrive at the simplified expression.\\n\\nThe 'no_sim_answer' is slightly superior due to two key reasons:\\n\\n1.  **Mathematical Precision for `sqrt(y^2)`:** The 'no_sim_answer' correctly recognizes that `sqrt(y^2)` simplifies to `|y|` (absolute value of y), which is the most general and mathematically precise simplification. The 'sim_answer', while mentioning in its final step that it assumes `y > 0` to write `|y|` as `y`, presents its final answer without the absolute value. Unless the problem explicitly states `y > 0`, `|y|` is the more accurate result.\\n2.  **Completeness in Domain Consideration:** The 'no_sim_answer' briefly but importantly mentions the domain restrictions for `sin^{-1}y` (i.e., `y \\\\in [-1, 1]`) and further clarifies conditions for the denominator terms to be defined (`y \\\\neq 0` and `y \\\\neq \\\\pm 1`), leading to `y \\\\in (-1, 0) \\\\cup (0, 1)`. This adds a layer of completeness and rigor to the solution that is missing in the 'sim_answer'.\\n\\nOverall, both answers demonstrate a strong understanding of trigonometry and algebraic simplification. The 'no_sim_answer' is marginally better due to its higher mathematical rigor and attention to domain constraints.\")"
      ]
     },
     "execution_count": 211,
     "metadata": {},
     "output_type": "execute_result"
    }
   ],
   "source": [
    "orchestrator_response.get_pydantic_model(AgenticComparitiveAnalysis)"
   ]
  },
  {
   "cell_type": "code",
   "execution_count": 212,
   "metadata": {},
   "outputs": [
    {
     "name": "stdout",
     "output_type": "stream",
     "text": [
      "{'success': True, 'data': {'sim_explanation': 'The problem asks to find the value of the given mathematical expression: `(1/y^2 * (cos(tan^{-1}y) + ysin(tan^{-1}y))/(cot(sin^{-1}y) + tan(sin^{-1}y)))^2 + y^4)^{1/2}`\\n\\nWe will simplify the expression step-by-step.\\n\\n**Step 1: Simplify the term `cos(tan^{-1}y) + ysin(tan^{-1}y)`**\\nLet `θ = tan^{-1}y`. This implies `tan(θ) = y`.\\nWe can construct a right-angled triangle where the opposite side is `y` and the adjacent side is `1`. The hypotenuse will be `√(y^2 + 1^2) = √(y^2 + 1)`.\\nTherefore, `cos(θ) = 1/√(y^2 + 1)` and `sin(θ) = y/√(y^2 + 1)`.\\nSubstitute these into the expression:\\n`cos(tan^{-1}y) + ysin(tan^{-1}y) = 1/√(y^2 + 1) + y * (y/√(y^2 + 1))`\\n`= 1/√(y^2 + 1) + y^2/√(y^2 + 1)`\\n`= (1 + y^2)/√(y^2 + 1)`\\nSince `(1 + y^2) = √(1 + y^2) * √(1 + y^2)`, we get:\\n`= √(1 + y^2)`\\n\\n**Step 2: Simplify the term `cot(sin^{-1}y) + tan(sin^{-1}y)`**\\nLet `φ = sin^{-1}y`. This implies `sin(φ) = y`.\\nFor `sin^{-1}y` to be defined, `-1 ≤ y ≤ 1`. Also, for `tan(sin^{-1}y)` and `cot(sin^{-1}y)` to be defined, `y ≠ 0`, `y ≠ 1`, and `y ≠ -1`. Thus, the valid domain for `y` is `-1 < y < 1` and `y ≠ 0`.\\nWe can construct a right-angled triangle where the opposite side is `y` and the hypotenuse is `1`. The adjacent side will be `√(1^2 - y^2) = √(1 - y^2)`.\\nTherefore, `cot(φ) = √(1 - y^2)/y` and `tan(φ) = y/√(1 - y^2)`.\\nSubstitute these into the expression:\\n`cot(sin^{-1}y) + tan(sin^{-1}y) = √(1 - y^2)/y + y/√(1 - y^2)`\\nTo add these fractions, find a common denominator `y * √(1 - y^2)`:\\n`= (√(1 - y^2) * √(1 - y^2) + y * y) / (y * √(1 - y^2))`\\n`= (1 - y^2 + y^2) / (y * √(1 - y^2))`\\n`= 1 / (y * √(1 - y^2))`\\n\\n**Step 3: Simplify the ratio of the results from Step 1 and Step 2**\\nThe ratio is `(√(1 + y^2)) / (1 / (y * √(1 - y^2)))`\\n`= √(1 + y^2) * y * √(1 - y^2)`\\n`= y * √( (1 + y^2) * (1 - y^2) )`\\nUsing the difference of squares formula `(a+b)(a-b) = a^2 - b^2`, where `a=1` and `b=y^2`:\\n`= y * √(1^2 - (y^2)^2)`\\n`= y * √(1 - y^4)`\\n\\n**Step 4: Substitute the simplified ratio into the main expression and perform the squaring and addition, then take the square root**\\nThe main expression is `(1/y^2 * (y * √(1 - y^4)))^2 + y^4)^{1/2}`\\nFirst, simplify the term inside the parenthesis:\\n`1/y^2 * y * √(1 - y^4) = (y * √(1 - y^4)) / y^2 = √(1 - y^4) / y`\\nNow, square this term:\\n`(√(1 - y^4) / y)^2 = (1 - y^4) / y^2`\\nNow, add `y^4` to this result:\\n`(1 - y^4) / y^2 + y^4`\\nTo add these, find a common denominator `y^2`:\\n`= (1 - y^4 + y^4 * y^2) / y^2`\\n`= (1 - y^4 + y^6) / y^2`\\nFinally, take the square root of the entire expression:\\n`((1 - y^4 + y^6) / y^2)^{1/2}`\\n`= √(1 - y^4 + y^6) / √(y^2)`\\n`= √(1 - y^4 + y^6) / |y|`', 'sim_final_answer': '√(1 - y^4 + y^6) / |y|', 'no_sim_explanation': 'To evaluate the given expression, we will simplify it step-by-step by addressing the terms involving inverse trigonometric functions.\\n\\nStep 1: Simplify the term `cos(tan^{-1}y) + ysin(tan^{-1}y)`.\\nLet `theta = tan^{-1}y`. This means `tan(theta) = y`. We can construct a right-angled triangle where the opposite side is `y` and the adjacent side is `1`. The hypotenuse will be `sqrt(y^2 + 1^2) = sqrt(y^2 + 1)`.\\nFrom this, `cos(theta) = 1/sqrt(y^2 + 1)` and `sin(theta) = y/sqrt(y^2 + 1)`.\\nSubstitute these into the expression: `cos(tan^{-1}y) + ysin(tan^{-1}y) = 1/sqrt(y^2 + 1) + y * (y/sqrt(y^2 + 1)) = (1 + y^2)/sqrt(y^2 + 1) = sqrt(y^2 + 1)`.\\n\\nStep 2: Simplify the term `cot(sin^{-1}y) + tan(sin^{-1}y)`.\\nLet `phi = sin^{-1}y`. This means `sin(phi) = y`. We can construct a right-angled triangle where the opposite side is `y` and the hypotenuse is `1`. The adjacent side will be `sqrt(1^2 - y^2) = sqrt(1 - y^2)`. (This requires `|y| <= 1`)\\nFrom this, `cot(phi) = sqrt(1 - y^2)/y` and `tan(phi) = y/sqrt(1 - y^2)`. (This requires `y != 0, 1, -1`)\\nSubstitute these into the expression: `cot(sin^{-1}y) + tan(sin^{-1}y) = sqrt(1 - y^2)/y + y/sqrt(1 - y^2)`.\\nFind a common denominator: `= ( (sqrt(1 - y^2))^2 + y^2 ) / (y * sqrt(1 - y^2)) = (1 - y^2 + y^2) / (y * sqrt(1 - y^2)) = 1 / (y * sqrt(1 - y^2))`.\\n\\nStep 3: Evaluate the fraction `(cos(tan^{-1}y) + ysin(tan^{-1}y))/(cot(sin^{-1}y) + tan(sin^{-1}y))`.\\nUsing the results from Step 1 and Step 2:\\n`= sqrt(y^2 + 1) / (1 / (y * sqrt(1 - y^2)))`\\n`= sqrt(y^2 + 1) * y * sqrt(1 - y^2)`\\n`= y * sqrt((y^2 + 1)(1 - y^2))`\\n`= y * sqrt(1 - y^4)`.\\n\\nStep 4: Multiply by `1/y^2` and then square the result.\\n`1/y^2 * (y * sqrt(1 - y^4)) = (1/y) * sqrt(1 - y^4)`.\\nNow, square this expression: `((1/y) * sqrt(1 - y^4))^2 = (1/y^2) * (1 - y^4) = (1 - y^4)/y^2`.\\n\\nStep 5: Add `y^4` to the result from Step 4.\\n`(1 - y^4)/y^2 + y^4 = (1 - y^4 + y^4 * y^2) / y^2 = (1 - y^4 + y^6) / y^2`.\\n\\nStep 6: Take the square root of the entire expression.\\n`( (1 - y^4 + y^6) / y^2 )^{1/2} = sqrt(1 - y^4 + y^6) / sqrt(y^2) = sqrt(1 - y^4 + y^6) / |y|`.\\n\\nConditions for validity: For the expression to be defined, `sin^{-1}y` requires `-1 <= y <= 1`. The terms `cot(sin^{-1}y)` and `tan(sin^{-1}y)` imply that `sin^{-1}y` cannot be `0, pi/2, -pi/2`, so `y` cannot be `0, 1, -1`. Also, `1/y^2` requires `y != 0`. Combining these, `y` must be in the interval `(-1, 0) U (0, 1)`.', 'no_sim_final_answer': 'sqrt(1 - y^4 + y^6) / |y|', 'sim_answer_score': 100, 'no_sim_answer_score': 100, 'notes': \"Both the 'sim_answer' and 'no_sim_answer' provide identical, highly accurate, and complete solutions. Both explanations break down the problem into logical, manageable steps, simplifying the complex expression term by term. They correctly handle the inverse trigonometric functions by constructing right-angled triangles, accurately perform algebraic manipulations, and correctly address the square root of y^2 as |y|. Both answers also correctly identify and state the domain restrictions for the expression to be defined, which is a crucial aspect of such problems. There is no notable difference in quality or content between the two answers; both are exemplary.\"}, 'processing_time_ms': 184863, 'request_id': '1755526721-140514842080720'}\n"
     ]
    }
   ],
   "source": [
    "import requests\n",
    "\n",
    "url = \"http://localhost:8001/compare\"\n",
    "\n",
    "payload = {\n",
    "    \"question\": data[12][\"question_text\"]\n",
    "}\n",
    "\n",
    "response = requests.post(url, json=payload)\n",
    "\n",
    "print(response.json())\n"
   ]
  },
  {
   "cell_type": "code",
   "execution_count": 214,
   "metadata": {},
   "outputs": [
    {
     "data": {
      "text/plain": [
       "\"p. (1/y^2 * (cos(tan^{-1}y) + ysin(tan^{-1}y))/(cot(sin^{-1}y) + tan(sin^{-1}y)))^2 + y^4)^{1/2} का मान है\\n\\nThe image contains a mathematical expression. The expression involves trigonometric functions, inverse trigonometric functions, and algebraic terms. Specifically, it includes terms like cosine, sine, cotangent, and tangent, each applied to inverse trigonometric functions of 'y'. The expression also involves powers of 'y' and numerical constants. The entire expression is enclosed in parentheses and raised to the power of 1/2.\""
      ]
     },
     "execution_count": 214,
     "metadata": {},
     "output_type": "execute_result"
    }
   ],
   "source": [
    "data[12][\"question_text\"]"
   ]
  }
 ],
 "metadata": {
  "kernelspec": {
   "display_name": "nemo_env",
   "language": "python",
   "name": "python3"
  },
  "language_info": {
   "codemirror_mode": {
    "name": "ipython",
    "version": 3
   },
   "file_extension": ".py",
   "mimetype": "text/x-python",
   "name": "python",
   "nbconvert_exporter": "python",
   "pygments_lexer": "ipython3",
   "version": "3.11.13"
  }
 },
 "nbformat": 4,
 "nbformat_minor": 2
}
