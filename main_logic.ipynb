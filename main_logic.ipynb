{
 "cells": [
  {
   "cell_type": "code",
   "execution_count": 3,
   "metadata": {},
   "outputs": [
    {
     "name": "stdout",
     "output_type": "stream",
     "text": [
      "[{'question_id': '006d7', 'question_text': 'माना A = $\\\\begin{pmatrix} 1+i & 1 \\\\ -i & 0 \\\\end{pmatrix}$, जहाँ i = √-1 है। तो समुच्चय { n ∈ {1,2,......,100} : $A^n$ = A} में अवयवों की संख्या है _______\\n\\nThe image shows a mathematical expression defining a matrix A and a set condition. The matrix A is a 2x2 matrix with elements 1+i, 1, -i, and 0, where i is defined as the square root of -1. The problem asks to find the number of elements in the set of n belonging to {1, 2, ..., 100} such that A to the power of n equals A.', 'subject': 'Mathematics', 'similar_questions': [{'similar_question_text': 'Let A = $\\\\begin{pmatrix} 1+i & 1 \\\\ -i & 0 \\\\end{pmatrix}$ where I = $\\\\sqrt{-1}$. Then, the number of elements in the set {n$\\\\in$ {1,2, ....., 100} : $A^n$ = A} is', 'similarity_score': 0.981, 'summarized_solution_approach': 'The solution calculates $A^2$ and $A^4$. It finds that $A^4 = I$ (identity matrix). Consequently, $A^5 = A, A^9 = A$, and so on. The values of n for which $A^n = A$ form an arithmetic progression: n = 1, 5, 9, ..., 97. The number of terms in this sequence is then calculated, which gives the number of elements in the set.'}, {'similar_question_text': 'Let $$A = \\\\left( {\\\\matrix{\\n   {1 + i} & 1  \\\\cr \\n   { - i} & 0  \\\\cr \\n\\n } } \\\\right)$$ where $$i = \\\\sqrt { - 1} $$. Then, the number of elements in the set { n $$\\\\in$$ {1, 2, ......, 100} : A n = A } is ____________.', 'similarity_score': 0.98, 'summarized_solution_approach': 'First, the solution calculates A^2 and A^4. It finds that A^4 equals the identity matrix I. Consequently, A^5 = A, A^9 = A, and so on. The values of n for which A^n = A are 1, 5, 9, ..., 97. The number of such values of n is 25.'}]}, {'question_id': '00b31', 'question_text': 'अवकल सभीकरण $(x\\\\sqrt{1+y^2}) dx + (y\\\\sqrt{1+x^2})dy=0$ का हल है :', 'subject': 'Mathematics', 'similar_questions': [{'similar_question_text': 'Question Text::\\n            x (y2 + 1) dx + y (x² + 1) dy = 0\\n\\n            \\n            {\"goemetric_relationships\":[],\"labels_and_symbols\":[],\"spatial_arrangements\":[]}', 'similarity_score': 0.9876, 'summarized_solution_approach': 'The solution uses the variable separable method to solve the differential equation. First, the variables are separated to have x terms on one side and y terms on the other. Then, both sides are integrated, using substitution to solve the integrals. The logarithmic terms are simplified and combined using logarithm properties. Finally, the equation is converted from logarithmic to algebraic form by exponentiating both sides, resulting in the general solution.'}, {'similar_question_text': 'The solution of the differential equation\\n x dy + y dx - \\\\sqrt{1-x^{2}y^{2}}dx = 0 is', 'similarity_score': 0.9886, 'summarized_solution_approach': 'The given differential equation is solved by rearranging the terms and integrating. First, the equation is rewritten as \\\\( \\\\frac{xdy+ydx}{\\\\sqrt{1-x^{2}y^{2}}} = dx \\\\). Noticing that \\\\( xdy + ydx = d(xy) \\\\), the equation becomes \\\\( \\\\frac{d(xy)}{\\\\sqrt{1-(xy)^{2}}} = dx \\\\). Both sides are then integrated, yielding \\\\( sin^{-1}(xy) = x + c \\\\). Finally, solving for \\\\( xy \\\\), we get the solution \\\\( xy = sin(x + c) \\\\).'}]}, {'question_id': '0159a', 'question_text': \"If \\\\(y = 1 + \\\\frac{x_1}{x - x_1} + \\\\frac{x_2 \\\\cdot x}{(x - x_1)(x - x_2)} + \\\\frac{x_3 \\\\cdot x^2}{(x - x_1)(x - x_2)(x - x_3)} + \\\\dots \\\\) upto \\\\((n + 1)\\\\) terms then prove that \\\\(\\\\frac{dy}{dx} = \\\\frac{y}{x} \\\\left[ \\\\frac{x_1}{x_1 - x} + \\\\frac{x_2}{x_2 - x} + \\\\frac{x_3}{x_3 - x} + \\\\dots + \\\\frac{x_n}{x_n - x} \\\\right]\\\\)\\n\\nThe image shows a mathematical expression involving a series. The expression starts with 'If y = 1 +', followed by a series of terms. The general form of each term in the series is a fraction where the numerator involves a product of 'x' terms with subscripts (e.g., x1, x2, x3) and powers of 'x', and the denominator involves a product of differences of the form '(x - xi)', where 'i' is an index. The series continues up to (n+1) terms. Following this series, there is an expression to prove, which involves the derivative of 'y' with respect to 'x' (dy/dx). This expression equates dy/dx to a product of 'y/x' and a sum of fractions. Each fraction in the sum has a numerator of the form 'xi' and a denominator of the form 'xi - x', where 'i' ranges from 1 to n.\", 'subject': 'Mathematics', 'similar_questions': [{'similar_question_text': 'If f (x) = x^{n}, then the value of\\nf(1) + \\\\frac{f^{1}(1)}{1} + \\\\frac{f^{2}(1)}{2!} + \\\\dots + \\\\frac{f^{n}(1)}{n!}, where f^{r}(x) denotes the r^{th}\\norder derivative of f(x) with respect to x, is', 'similarity_score': 0.9678, 'summarized_solution_approach': 'The approach involves finding the derivatives of f(x) = xⁿ, then evaluating these derivatives at x=1. After this, substitute these values into the given expression. Recognize that the resulting expression is the binomial expansion of (1+1)ⁿ, which simplifies to 2ⁿ.'}, {'similar_question_text': 'Let $f_1(x) = e^x$ and $f_{n+1}(x) = e^{f_n(x)}$ for any $n \\\\ge 1, n \\\\in N$. Then for any fixed n, the value of $\\\\frac{d}{dx}f_n(x)$ equals:', 'similarity_score': 0.9632, 'summarized_solution_approach': 'The approach involves recognizing a recursively defined function $f_n(x)$ where $f_1(x) = e^x$ and $f_{n+1}(x) = e^{f_n(x)}$. We find the derivative of $f_n(x)$ with respect to $x$ for $n = 1, 2, 3$ to identify a pattern. For $n=1$, the derivative is simply $e^x = f_1(x)$. For $n=2$ and $n=3$, we apply the chain rule and express the derivatives in terms of the function itself. Based on the pattern observed for $n=1, 2, 3$, we generalize the formula for the derivative of $f_n(x)$ as the product of $f_n(x), f_{n-1}(x), \\\\dots, f_1(x)$.'}]}, {'question_id': '015c4', 'question_text': 'A river has width 0.5 km and flows from West to East with a speed 30 km/hr. If a boatman starts sailing boat at a speed 40 km/hr normal to bank, the boat shall cross the river in time -\\n\\nThe problem describes a river with a width of 0.5 km flowing from West to East at a speed of 30 km/hr. A boatman starts sailing a boat at a speed of 40 km/hr normal to the bank.', 'subject': 'Physics', 'similar_questions': [{'similar_question_text': 'A boat crosses a river from port A to port B, which are just on the opposite side. The speed of the water is $V_W$ and that of boat is $V_B$ relative to still water. Assume $V_B = 2V_W$. What is the time taken by the boat, if it has to cross the river directly on the AB line ?', 'similarity_score': 0.9747, 'summarized_solution_approach': \"The boat needs to travel from point A to point B directly across the river. The speed of the boat is \\\\(V_B\\\\), and the speed of the water is \\\\(V_W\\\\). Given that \\\\(V_B = 2V_W\\\\), the boat must travel at an angle \\\\(\\\\theta\\\\) such that \\\\(V_B \\\\sin(\\\\theta) = V_W\\\\). From this relationship, we find \\\\(\\\\theta = 30^\\\\circ\\\\). The time \\\\(t\\\\) taken to cross the river is the distance \\\\(D\\\\) divided by the component of the boat's velocity in the direction from A to B, which is \\\\(V_B \\\\cos(\\\\theta)\\\\). Substituting \\\\(\\\\theta = 30^\\\\circ\\\\), we get \\\\(t = \\\\frac{D}{V_B \\\\cos(30^\\\\circ)} = \\\\frac{2D}{V_B \\\\sqrt{3}}\\\\) \"}, {'similar_question_text': 'A boat which has a speed of 5 km/h in still water crosses a river of width 1 km along the shortest possible path in 15 min. The speed of the river water in km/h is:', 'similarity_score': 0.9748, 'summarized_solution_approach': 'The problem is solved using the concept of relative velocity. First, the velocity of boat is calculated using the formula \\\\( V_b = \\\\frac{y}{t} \\\\), where y is the width of the river and t is the time taken to cross the river. Then river velocity \\\\( V_r \\\\) is calculated using \\\\( V_r = \\\\sqrt{(V_{br})^2 - (V_b)^2} \\\\), where \\\\( V_{br} \\\\) is the velocity of the boat with respect to the river.'}]}, {'question_id': '01a13', 'question_text': '1.0 mol of Fe reacts completely with 0.65 mol of O₂ to give a mixture of only FeO and Fe₂O₃. The mole ratio of ferrous oxide to ferric oxide is', 'subject': 'Chemistry', 'similar_questions': [{'similar_question_text': 'The compound formed when 1.95 moles of oxygen combine with 1.46 moles of iron is :', 'similarity_score': 0.9598, 'summarized_solution_approach': 'To determine the compound formed by the combination of iron and oxygen, the mole ratio between iron and oxygen is analyzed. Given 1.46 moles of iron and 1.95 moles of oxygen, the ratio is examined to find a simple whole number ratio. By scaling the given ratio, it is found that 3 moles of iron combine with approximately 4 moles of oxygen. Therefore, the formula of the iron oxide compound is determined to be $Fe_3O_4$.'}, {'similar_question_text': 'The number of moles of $F{e_2}{O_3}$ formed when 0.5 moles of O${_2}$ and 0.5 moles of Fe are allowed to react are', 'similarity_score': 0.9548, 'summarized_solution_approach': 'The problem is based on the concept of limiting reagent. First, the balanced chemical equation is written. Then, by using the given number of moles of reactants, the limiting reagent is identified. Here, $Fe$ is the limiting reagent. Finally, the amount of $F{e_2}{O_3}$ formed from the given amount of limiting reagent is calculated using stoichiometry.'}]}]\n"
     ]
    }
   ],
   "source": [
    "import json\n",
    "\n",
    "# read similar_question_data.json\n",
    "\n",
    "with open('similar_question_data.json') as f:\n",
    "    data = json.load(f)\n",
    "\n",
    "print(data[:5])"
   ]
  },
  {
   "cell_type": "code",
   "execution_count": 4,
   "metadata": {},
   "outputs": [
    {
     "data": {
      "text/plain": [
       "553"
      ]
     },
     "execution_count": 4,
     "metadata": {},
     "output_type": "execute_result"
    }
   ],
   "source": [
    "len(data)"
   ]
  },
  {
   "cell_type": "code",
   "execution_count": 5,
   "metadata": {},
   "outputs": [
    {
     "data": {
      "text/plain": [
       "{'question_id': '006d7',\n",
       " 'question_text': 'माना A = $\\\\begin{pmatrix} 1+i & 1 \\\\ -i & 0 \\\\end{pmatrix}$, जहाँ i = √-1 है। तो समुच्चय { n ∈ {1,2,......,100} : $A^n$ = A} में अवयवों की संख्या है _______\\n\\nThe image shows a mathematical expression defining a matrix A and a set condition. The matrix A is a 2x2 matrix with elements 1+i, 1, -i, and 0, where i is defined as the square root of -1. The problem asks to find the number of elements in the set of n belonging to {1, 2, ..., 100} such that A to the power of n equals A.',\n",
       " 'subject': 'Mathematics',\n",
       " 'similar_questions': [{'similar_question_text': 'Let A = $\\\\begin{pmatrix} 1+i & 1 \\\\ -i & 0 \\\\end{pmatrix}$ where I = $\\\\sqrt{-1}$. Then, the number of elements in the set {n$\\\\in$ {1,2, ....., 100} : $A^n$ = A} is',\n",
       "   'similarity_score': 0.981,\n",
       "   'summarized_solution_approach': 'The solution calculates $A^2$ and $A^4$. It finds that $A^4 = I$ (identity matrix). Consequently, $A^5 = A, A^9 = A$, and so on. The values of n for which $A^n = A$ form an arithmetic progression: n = 1, 5, 9, ..., 97. The number of terms in this sequence is then calculated, which gives the number of elements in the set.'},\n",
       "  {'similar_question_text': 'Let $$A = \\\\left( {\\\\matrix{\\n   {1 + i} & 1  \\\\cr \\n   { - i} & 0  \\\\cr \\n\\n } } \\\\right)$$ where $$i = \\\\sqrt { - 1} $$. Then, the number of elements in the set { n $$\\\\in$$ {1, 2, ......, 100} : A n = A } is ____________.',\n",
       "   'similarity_score': 0.98,\n",
       "   'summarized_solution_approach': 'First, the solution calculates A^2 and A^4. It finds that A^4 equals the identity matrix I. Consequently, A^5 = A, A^9 = A, and so on. The values of n for which A^n = A are 1, 5, 9, ..., 97. The number of such values of n is 25.'}]}"
      ]
     },
     "execution_count": 5,
     "metadata": {},
     "output_type": "execute_result"
    }
   ],
   "source": [
    "data[0]"
   ]
  },
  {
   "cell_type": "code",
   "execution_count": 6,
   "metadata": {},
   "outputs": [
    {
     "data": {
      "text/plain": [
       "'माना A = $\\\\begin{pmatrix} 1+i & 1 \\\\ -i & 0 \\\\end{pmatrix}$, जहाँ i = √-1 है। तो समुच्चय { n ∈ {1,2,......,100} : $A^n$ = A} में अवयवों की संख्या है _______\\n\\nThe image shows a mathematical expression defining a matrix A and a set condition. The matrix A is a 2x2 matrix with elements 1+i, 1, -i, and 0, where i is defined as the square root of -1. The problem asks to find the number of elements in the set of n belonging to {1, 2, ..., 100} such that A to the power of n equals A.'"
      ]
     },
     "execution_count": 6,
     "metadata": {},
     "output_type": "execute_result"
    }
   ],
   "source": [
    "data[0][\"question_text\"]"
   ]
  },
  {
   "cell_type": "code",
   "execution_count": 7,
   "metadata": {},
   "outputs": [
    {
     "data": {
      "text/plain": [
       "{'similar_question_text': 'Let A = $\\\\begin{pmatrix} 1+i & 1 \\\\ -i & 0 \\\\end{pmatrix}$ where I = $\\\\sqrt{-1}$. Then, the number of elements in the set {n$\\\\in$ {1,2, ....., 100} : $A^n$ = A} is',\n",
       " 'similarity_score': 0.981,\n",
       " 'summarized_solution_approach': 'The solution calculates $A^2$ and $A^4$. It finds that $A^4 = I$ (identity matrix). Consequently, $A^5 = A, A^9 = A$, and so on. The values of n for which $A^n = A$ form an arithmetic progression: n = 1, 5, 9, ..., 97. The number of terms in this sequence is then calculated, which gives the number of elements in the set.'}"
      ]
     },
     "execution_count": 7,
     "metadata": {},
     "output_type": "execute_result"
    }
   ],
   "source": [
    "data[0][\"similar_questions\"][0]"
   ]
  },
  {
   "cell_type": "code",
   "execution_count": 8,
   "metadata": {},
   "outputs": [
    {
     "data": {
      "text/plain": [
       "Solution(explanation=\"Let the given matrix be A = $\\\\begin{pmatrix} 1+i & 1 \\\\ -i & 0 \\\\end{pmatrix}$. We need to find the number of integers n in the set {1, 2, ..., 100} such that $A^n = A$.\\n\\nFirst, let's calculate $A^2$:\\n$A^2 = A \\\\cdot A = \\\\begin{pmatrix} 1+i & 1 \\\\ -i & 0 \\\\end{pmatrix} \\\\begin{pmatrix} 1+i & 1 \\\\ -i & 0 \\\\end{pmatrix}$\\n$A^2 = \\\\begin{pmatrix} (1+i)(1+i) + 1(-i) & (1+i)(1) + 1(0) \\\\ -i(1+i) + 0(-i) & -i(1) + 0(0) \\\\end{pmatrix}$\\n$A^2 = \\\\begin{pmatrix} (1 + 2i + i^2) - i & 1+i \\\\ (-i - i^2) & -i \\\\end{pmatrix}$\\nSince $i^2 = -1$,\\n$A^2 = \\\\begin{pmatrix} (1 + 2i - 1) - i & 1+i \\\\ (-i - (-1)) & -i \\\\end{pmatrix}$\\n$A^2 = \\\\begin{pmatrix} 2i - i & 1+i \\\\ -i + 1 & -i \\\\end{pmatrix}$\\n$A^2 = \\\\begin{pmatrix} i & 1+i \\\\ 1-i & -i \\\\end{pmatrix}$\\n\\nNow, let's calculate $A^3$:\\n$A^3 = A^2 \\\\cdot A = \\\\begin{pmatrix} i & 1+i \\\\ 1-i & -i \\\\end{pmatrix} \\\\begin{pmatrix} 1+i & 1 \\\\ -i & 0 \\\\end{pmatrix}$\\n$A^3 = \\\\begin{pmatrix} i(1+i) + (1+i)(-i) & i(1) + (1+i)(0) \\\\ (1-i)(1+i) + (-i)(-i) & (1-i)(1) + (-i)(0) \\\\end{pmatrix}$\\n$A^3 = \\\\begin{pmatrix} (i + i^2) + (-i - i^2) & i \\\\ (1 - i^2) + i^2 & 1-i \\\\end{pmatrix}$\\nSince $i^2 = -1$,\\n$A^3 = \\\\begin{pmatrix} (i - 1) + (-i + 1) & i \\\\ (1 - (-1)) + (-1) & 1-i \\\\end{pmatrix}$\\n$A^3 = \\\\begin{pmatrix} 0 & i \\\\ (2) - 1 & 1-i \\\\end{pmatrix}$\\n$A^3 = \\\\begin{pmatrix} 0 & i \\\\ 1 & 1-i \\\\end{pmatrix}$\\n\\nLet's calculate $A^4$:\\n$A^4 = A^3 \\\\cdot A = \\\\begin{pmatrix} 0 & i \\\\ 1 & 1-i \\\\end{pmatrix} \\\\begin{pmatrix} 1+i & 1 \\\\ -i & 0 \\\\end{pmatrix}$\\n$A^4 = \\\\begin{pmatrix} 0(1+i) + i(-i) & 0(1) + i(0) \\\\ 1(1+i) + (1-i)(-i) & 1(1) + (1-i)(0) \\\\end{pmatrix}$\\n$A^4 = \\\\begin{pmatrix} -i^2 & 0 \\\\ (1+i) + (-i + i^2) & 1 \\\\end{pmatrix}$\\n$A^4 = \\\\begin{pmatrix} -(-1) & 0 \\\\ (1+i) + (-i - 1) & 1 \\\\end{pmatrix}$\\n$A^4 = \\\\begin{pmatrix} 1 & 0 \\\\ 0 & 1 \\\\end{pmatrix}$\\nSo, $A^4 = I$, where I is the identity matrix.\\n\\nSince $A^4 = I$, the powers of A will cycle with a period of 4:\\n$A^1 = A$\\n$A^2$\\n$A^3$\\n$A^4 = I$\\n$A^5 = A^4 \\\\cdot A = I \\\\cdot A = A$\\n$A^6 = A^5 \\\\cdot A = A \\\\cdot A = A^2$\\nAnd so on.\\n\\nWe are looking for n such that $A^n = A$. This means n must be of the form $4k+1$ for some non-negative integer k.\\n\\nWe need to find the number of n in {1, 2, ..., 100} such that n is of the form $4k+1$.\\n\\nFor k=0, n = 4(0)+1 = 1.\\nFor k=1, n = 4(1)+1 = 5.\\nFor k=2, n = 4(2)+1 = 9.\\n...\\nWe need to find the largest k such that $4k+1 \\\\le 100$.\\n$4k \\\\le 99$\\n$k \\\\le \\\\frac{99}{4}$\\n$k \\\\le 24.75$\\n\\nSince k must be an integer, the largest possible value for k is 24.\\nSo, k ranges from 0 to 24, inclusive.\\nThe number of values for k is 24 - 0 + 1 = 25.\\nEach value of k corresponds to a unique value of n that satisfies the condition $A^n = A$.\\n\\nTherefore, there are 25 such values of n in the set {1, 2, ..., 100}.\", final_answer='25')"
      ]
     },
     "execution_count": 8,
     "metadata": {},
     "output_type": "execute_result"
    }
   ],
   "source": [
    "# basic qna logic\n",
    "\n",
    "\n",
    "from google import genai\n",
    "import os\n",
    "from dotenv import load_dotenv\n",
    "from google.genai import types\n",
    "import json\n",
    "\n",
    "from pydantic import BaseModel, ValidationError\n",
    "\n",
    "class Solution(BaseModel):\n",
    "    explanation: str\n",
    "    final_answer: str\n",
    "\n",
    "load_dotenv()\n",
    "client = genai.Client(api_key=os.getenv(\"GEMINI_API_KEY\"))\n",
    "\n",
    "\n",
    "def get_raw_solution(question: str, max_retries: int = 3) -> Solution | None:\n",
    "    \"\"\"\n",
    "    A straightfoward question answering function using the gemini model.\n",
    "    Args:\n",
    "        question (str): The question to be answered.\n",
    "        max_retries (int): The maximum number of retries to get a response from the model (for object validation).\n",
    "    Returns:\n",
    "        dict: A dictionary containing the explanation and final answer.\n",
    "    \"\"\"\n",
    "    try:\n",
    "        response = client.models.generate_content(\n",
    "            model=\"gemini-2.5-flash\",\n",
    "            contents=f\"\"\"You are an academic expert at solving problems in the field of maths, physics and chemistry. \n",
    "            Respond with the solution to the given problem: {question}\n",
    "            You respond with a JSON of explanation and final_answer where you can give step by step explanation in the explanation and the final solution in the final_answer.\n",
    "            Keep final answer direct and as short as possible and keep the step by stem explanation to the explanation portion of the JSON\n",
    "            \"\"\",\n",
    "            config=types.GenerateContentConfig(\n",
    "                thinking_config=types.ThinkingConfig(thinking_budget=0),\n",
    "                response_mime_type=\"application/json\",\n",
    "                response_schema=Solution,\n",
    "            ),\n",
    "        )\n",
    "        \n",
    "        parsed = json.loads(response.text)\n",
    "        solution = Solution(parsed)\n",
    "        return solution\n",
    "        \n",
    "    except (json.JSONDecodeError, ValidationError) as e:\n",
    "        if max_retries > 0:\n",
    "            return get_raw_solution(question, max_retries - 1)\n",
    "        else:\n",
    "            print(\"Max retries reached: JSON parse error.\")\n",
    "            return None\n",
    "\n",
    "    except Exception as e:\n",
    "        print(f\"Error: {e}\")\n",
    "        return None\n",
    "\n",
    "\n",
    "get_raw_solution(data[0][\"question_text\"])\n"
   ]
  },
  {
   "cell_type": "code",
   "execution_count": 9,
   "metadata": {},
   "outputs": [
    {
     "data": {
      "text/plain": [
       "[{'similar_question_text': 'Let A = $\\\\begin{pmatrix} 1+i & 1 \\\\ -i & 0 \\\\end{pmatrix}$ where I = $\\\\sqrt{-1}$. Then, the number of elements in the set {n$\\\\in$ {1,2, ....., 100} : $A^n$ = A} is',\n",
       "  'similarity_score': 0.981,\n",
       "  'summarized_solution_approach': 'The solution calculates $A^2$ and $A^4$. It finds that $A^4 = I$ (identity matrix). Consequently, $A^5 = A, A^9 = A$, and so on. The values of n for which $A^n = A$ form an arithmetic progression: n = 1, 5, 9, ..., 97. The number of terms in this sequence is then calculated, which gives the number of elements in the set.'},\n",
       " {'similar_question_text': 'Let $$A = \\\\left( {\\\\matrix{\\n   {1 + i} & 1  \\\\cr \\n   { - i} & 0  \\\\cr \\n\\n } } \\\\right)$$ where $$i = \\\\sqrt { - 1} $$. Then, the number of elements in the set { n $$\\\\in$$ {1, 2, ......, 100} : A n = A } is ____________.',\n",
       "  'similarity_score': 0.98,\n",
       "  'summarized_solution_approach': 'First, the solution calculates A^2 and A^4. It finds that A^4 equals the identity matrix I. Consequently, A^5 = A, A^9 = A, and so on. The values of n for which A^n = A are 1, 5, 9, ..., 97. The number of such values of n is 25.'}]"
      ]
     },
     "execution_count": 9,
     "metadata": {},
     "output_type": "execute_result"
    }
   ],
   "source": [
    "data[0][\"similar_questions\"]\n"
   ]
  },
  {
   "cell_type": "code",
   "execution_count": 10,
   "metadata": {},
   "outputs": [
    {
     "data": {
      "text/plain": [
       "SimilarQuestionsEvaluation(conceptual_similarity_score=100, structural_similarity_score=100, difficulty_alignment_score=100, solution_approach_transferability_score=100)"
      ]
     },
     "execution_count": 10,
     "metadata": {},
     "output_type": "execute_result"
    }
   ],
   "source": [
    "# evaluation\n",
    "\n",
    "class SimilarQuestion(BaseModel):\n",
    "    similar_question_text: str\n",
    "    similarity_score: float\n",
    "    summarized_solution_approach: str\n",
    "    \n",
    "class SimilarQuestionsEvaluation(BaseModel):\n",
    "    conceptual_similarity_score: int\n",
    "    structural_similarity_score: int\n",
    "    difficulty_alignment_score: int\n",
    "    solution_approach_transferability_score: int\n",
    "    \n",
    "    \n",
    "def evaluate_similar_question(question: str, similar_question: SimilarQuestion, max_retries: int = 3) -> SimilarQuestionsEvaluation:\n",
    "    try:\n",
    "        response = client.models.generate_content(\n",
    "            model=\"gemini-2.5-flash\",\n",
    "            contents=f\"\"\"You are an academic expert at analyzing and solving problems in the field of maths, physics and chemistry. \n",
    "            Here, you are given a question alongside a similar question, its solution approach and similarity score, and you are responsible for evaluating the similarity between the main question and it's similar question.\n",
    "            You must assess how well the similar question represents the input question across the following dimensions.\n",
    "            1. Conceptual Similarity: Do they test the same underlying concepts/principles?\n",
    "            2. Structural Similarity: Are the problem structures analogous?\n",
    "            3. Difficulty Alignment: Is the difficulty level appropriate?\n",
    "            4. Solution Approach Transferability: Can the solution method be meaningfully applied?\n",
    "            \n",
    "            \n",
    "            The input question is: {question}\n",
    "            The similar question is: {str(similar_question.model_dump_json())}\n",
    "            \n",
    "            You respond with a JSON containing the following keys which are scores based on the aforementioned dimensions for analysis:\n",
    "            \n",
    "            conceptual_similarity_score: A score between 0 and 100\n",
    "            structural_similarity_score: A score between 0 and 100\n",
    "            difficulty_alignment_score: A score between 0 and 100 \n",
    "            solution_approach_transferability_score: A score between 0 and 100\n",
    "            \n",
    "            Make sure to respond with a json strictly following the above format.\n",
    "            \n",
    "            \"\"\",\n",
    "            config=types.GenerateContentConfig(\n",
    "                thinking_config=types.ThinkingConfig(thinking_budget=0),\n",
    "                response_mime_type=\"application/json\",\n",
    "                response_schema=SimilarQuestionsEvaluation,\n",
    "            ),\n",
    "        )\n",
    "        \n",
    "        parsed = json.loads(response.text)\n",
    "        evaluation = SimilarQuestionsEvaluation(parsed)\n",
    "        return evaluation\n",
    "        \n",
    "    except (json.JSONDecodeError, ValidationError) as e:\n",
    "        print(\"retrying\")\n",
    "        if max_retries > 0:\n",
    "            return get_raw_solution(question, max_retries - 1)\n",
    "        else:\n",
    "            print(\"Max retries reached: JSON parse error.\")\n",
    "            return None\n",
    "\n",
    "    except Exception as e:\n",
    "        print(f\"Error: {e}\")\n",
    "        return None\n",
    "\n",
    "    \n",
    "        \n",
    "evaluate_similar_question(data[0][\"question_text\"], SimilarQuestion(data[0][\"similar_questions\"][0]))"
   ]
  },
  {
   "cell_type": "code",
   "execution_count": 11,
   "metadata": {},
   "outputs": [
    {
     "data": {
      "text/plain": [
       "SimilarQuestionsEvaluation(conceptual_similarity_score=0, structural_similarity_score=0, difficulty_alignment_score=0, solution_approach_transferability_score=0)"
      ]
     },
     "execution_count": 11,
     "metadata": {},
     "output_type": "execute_result"
    }
   ],
   "source": [
    "evaluate_similar_question(data[1][\"question_text\"], SimilarQuestion(data[0][\"similar_questions\"][0]))"
   ]
  },
  {
   "cell_type": "code",
   "execution_count": 12,
   "metadata": {},
   "outputs": [
    {
     "data": {
      "text/plain": [
       "[{'similar_question_text': 'Let A = $\\\\begin{pmatrix} 1+i & 1 \\\\ -i & 0 \\\\end{pmatrix}$ where I = $\\\\sqrt{-1}$. Then, the number of elements in the set {n$\\\\in$ {1,2, ....., 100} : $A^n$ = A} is',\n",
       "  'similarity_score': 0.981,\n",
       "  'summarized_solution_approach': 'The solution calculates $A^2$ and $A^4$. It finds that $A^4 = I$ (identity matrix). Consequently, $A^5 = A, A^9 = A$, and so on. The values of n for which $A^n = A$ form an arithmetic progression: n = 1, 5, 9, ..., 97. The number of terms in this sequence is then calculated, which gives the number of elements in the set.'},\n",
       " {'similar_question_text': 'Let $$A = \\\\left( {\\\\matrix{\\n   {1 + i} & 1  \\\\cr \\n   { - i} & 0  \\\\cr \\n\\n } } \\\\right)$$ where $$i = \\\\sqrt { - 1} $$. Then, the number of elements in the set { n $$\\\\in$$ {1, 2, ......, 100} : A n = A } is ____________.',\n",
       "  'similarity_score': 0.98,\n",
       "  'summarized_solution_approach': 'First, the solution calculates A^2 and A^4. It finds that A^4 equals the identity matrix I. Consequently, A^5 = A, A^9 = A, and so on. The values of n for which A^n = A are 1, 5, 9, ..., 97. The number of such values of n is 25.'}]"
      ]
     },
     "execution_count": 12,
     "metadata": {},
     "output_type": "execute_result"
    }
   ],
   "source": [
    "data[0][\"similar_questions\"]"
   ]
  },
  {
   "cell_type": "code",
   "execution_count": 4,
   "metadata": {},
   "outputs": [
    {
     "name": "stdout",
     "output_type": "stream",
     "text": [
      "[{'question_id': '006d7', 'question_text': 'माना A = $\\\\begin{pmatrix} 1+i & 1 \\\\ -i & 0 \\\\end{pmatrix}$, जहाँ i = √-1 है। तो समुच्चय { n ∈ {1,2,......,100} : $A^n$ = A} में अवयवों की संख्या है _______\\n\\nThe image shows a mathematical expression defining a matrix A and a set condition. The matrix A is a 2x2 matrix with elements 1+i, 1, -i, and 0, where i is defined as the square root of -1. The problem asks to find the number of elements in the set of n belonging to {1, 2, ..., 100} such that A to the power of n equals A.', 'subject': 'Mathematics', 'similar_questions': [{'similar_question_text': 'Let A = $\\\\begin{pmatrix} 1+i & 1 \\\\ -i & 0 \\\\end{pmatrix}$ where I = $\\\\sqrt{-1}$. Then, the number of elements in the set {n$\\\\in$ {1,2, ....., 100} : $A^n$ = A} is', 'similarity_score': 0.981, 'summarized_solution_approach': 'The solution calculates $A^2$ and $A^4$. It finds that $A^4 = I$ (identity matrix). Consequently, $A^5 = A, A^9 = A$, and so on. The values of n for which $A^n = A$ form an arithmetic progression: n = 1, 5, 9, ..., 97. The number of terms in this sequence is then calculated, which gives the number of elements in the set.'}, {'similar_question_text': 'Let $$A = \\\\left( {\\\\matrix{\\n   {1 + i} & 1  \\\\cr \\n   { - i} & 0  \\\\cr \\n\\n } } \\\\right)$$ where $$i = \\\\sqrt { - 1} $$. Then, the number of elements in the set { n $$\\\\in$$ {1, 2, ......, 100} : A n = A } is ____________.', 'similarity_score': 0.98, 'summarized_solution_approach': 'First, the solution calculates A^2 and A^4. It finds that A^4 equals the identity matrix I. Consequently, A^5 = A, A^9 = A, and so on. The values of n for which A^n = A are 1, 5, 9, ..., 97. The number of such values of n is 25.'}]}, {'question_id': '00b31', 'question_text': 'अवकल सभीकरण $(x\\\\sqrt{1+y^2}) dx + (y\\\\sqrt{1+x^2})dy=0$ का हल है :', 'subject': 'Mathematics', 'similar_questions': [{'similar_question_text': 'Question Text::\\n            x (y2 + 1) dx + y (x² + 1) dy = 0\\n\\n            \\n            {\"goemetric_relationships\":[],\"labels_and_symbols\":[],\"spatial_arrangements\":[]}', 'similarity_score': 0.9876, 'summarized_solution_approach': 'The solution uses the variable separable method to solve the differential equation. First, the variables are separated to have x terms on one side and y terms on the other. Then, both sides are integrated, using substitution to solve the integrals. The logarithmic terms are simplified and combined using logarithm properties. Finally, the equation is converted from logarithmic to algebraic form by exponentiating both sides, resulting in the general solution.'}, {'similar_question_text': 'The solution of the differential equation\\n x dy + y dx - \\\\sqrt{1-x^{2}y^{2}}dx = 0 is', 'similarity_score': 0.9886, 'summarized_solution_approach': 'The given differential equation is solved by rearranging the terms and integrating. First, the equation is rewritten as \\\\( \\\\frac{xdy+ydx}{\\\\sqrt{1-x^{2}y^{2}}} = dx \\\\). Noticing that \\\\( xdy + ydx = d(xy) \\\\), the equation becomes \\\\( \\\\frac{d(xy)}{\\\\sqrt{1-(xy)^{2}}} = dx \\\\). Both sides are then integrated, yielding \\\\( sin^{-1}(xy) = x + c \\\\). Finally, solving for \\\\( xy \\\\), we get the solution \\\\( xy = sin(x + c) \\\\).'}]}, {'question_id': '0159a', 'question_text': \"If \\\\(y = 1 + \\\\frac{x_1}{x - x_1} + \\\\frac{x_2 \\\\cdot x}{(x - x_1)(x - x_2)} + \\\\frac{x_3 \\\\cdot x^2}{(x - x_1)(x - x_2)(x - x_3)} + \\\\dots \\\\) upto \\\\((n + 1)\\\\) terms then prove that \\\\(\\\\frac{dy}{dx} = \\\\frac{y}{x} \\\\left[ \\\\frac{x_1}{x_1 - x} + \\\\frac{x_2}{x_2 - x} + \\\\frac{x_3}{x_3 - x} + \\\\dots + \\\\frac{x_n}{x_n - x} \\\\right]\\\\)\\n\\nThe image shows a mathematical expression involving a series. The expression starts with 'If y = 1 +', followed by a series of terms. The general form of each term in the series is a fraction where the numerator involves a product of 'x' terms with subscripts (e.g., x1, x2, x3) and powers of 'x', and the denominator involves a product of differences of the form '(x - xi)', where 'i' is an index. The series continues up to (n+1) terms. Following this series, there is an expression to prove, which involves the derivative of 'y' with respect to 'x' (dy/dx). This expression equates dy/dx to a product of 'y/x' and a sum of fractions. Each fraction in the sum has a numerator of the form 'xi' and a denominator of the form 'xi - x', where 'i' ranges from 1 to n.\", 'subject': 'Mathematics', 'similar_questions': [{'similar_question_text': 'If f (x) = x^{n}, then the value of\\nf(1) + \\\\frac{f^{1}(1)}{1} + \\\\frac{f^{2}(1)}{2!} + \\\\dots + \\\\frac{f^{n}(1)}{n!}, where f^{r}(x) denotes the r^{th}\\norder derivative of f(x) with respect to x, is', 'similarity_score': 0.9678, 'summarized_solution_approach': 'The approach involves finding the derivatives of f(x) = xⁿ, then evaluating these derivatives at x=1. After this, substitute these values into the given expression. Recognize that the resulting expression is the binomial expansion of (1+1)ⁿ, which simplifies to 2ⁿ.'}, {'similar_question_text': 'Let $f_1(x) = e^x$ and $f_{n+1}(x) = e^{f_n(x)}$ for any $n \\\\ge 1, n \\\\in N$. Then for any fixed n, the value of $\\\\frac{d}{dx}f_n(x)$ equals:', 'similarity_score': 0.9632, 'summarized_solution_approach': 'The approach involves recognizing a recursively defined function $f_n(x)$ where $f_1(x) = e^x$ and $f_{n+1}(x) = e^{f_n(x)}$. We find the derivative of $f_n(x)$ with respect to $x$ for $n = 1, 2, 3$ to identify a pattern. For $n=1$, the derivative is simply $e^x = f_1(x)$. For $n=2$ and $n=3$, we apply the chain rule and express the derivatives in terms of the function itself. Based on the pattern observed for $n=1, 2, 3$, we generalize the formula for the derivative of $f_n(x)$ as the product of $f_n(x), f_{n-1}(x), \\\\dots, f_1(x)$.'}]}, {'question_id': '015c4', 'question_text': 'A river has width 0.5 km and flows from West to East with a speed 30 km/hr. If a boatman starts sailing boat at a speed 40 km/hr normal to bank, the boat shall cross the river in time -\\n\\nThe problem describes a river with a width of 0.5 km flowing from West to East at a speed of 30 km/hr. A boatman starts sailing a boat at a speed of 40 km/hr normal to the bank.', 'subject': 'Physics', 'similar_questions': [{'similar_question_text': 'A boat crosses a river from port A to port B, which are just on the opposite side. The speed of the water is $V_W$ and that of boat is $V_B$ relative to still water. Assume $V_B = 2V_W$. What is the time taken by the boat, if it has to cross the river directly on the AB line ?', 'similarity_score': 0.9747, 'summarized_solution_approach': \"The boat needs to travel from point A to point B directly across the river. The speed of the boat is \\\\(V_B\\\\), and the speed of the water is \\\\(V_W\\\\). Given that \\\\(V_B = 2V_W\\\\), the boat must travel at an angle \\\\(\\\\theta\\\\) such that \\\\(V_B \\\\sin(\\\\theta) = V_W\\\\). From this relationship, we find \\\\(\\\\theta = 30^\\\\circ\\\\). The time \\\\(t\\\\) taken to cross the river is the distance \\\\(D\\\\) divided by the component of the boat's velocity in the direction from A to B, which is \\\\(V_B \\\\cos(\\\\theta)\\\\). Substituting \\\\(\\\\theta = 30^\\\\circ\\\\), we get \\\\(t = \\\\frac{D}{V_B \\\\cos(30^\\\\circ)} = \\\\frac{2D}{V_B \\\\sqrt{3}}\\\\) \"}, {'similar_question_text': 'A boat which has a speed of 5 km/h in still water crosses a river of width 1 km along the shortest possible path in 15 min. The speed of the river water in km/h is:', 'similarity_score': 0.9748, 'summarized_solution_approach': 'The problem is solved using the concept of relative velocity. First, the velocity of boat is calculated using the formula \\\\( V_b = \\\\frac{y}{t} \\\\), where y is the width of the river and t is the time taken to cross the river. Then river velocity \\\\( V_r \\\\) is calculated using \\\\( V_r = \\\\sqrt{(V_{br})^2 - (V_b)^2} \\\\), where \\\\( V_{br} \\\\) is the velocity of the boat with respect to the river.'}]}, {'question_id': '01a13', 'question_text': '1.0 mol of Fe reacts completely with 0.65 mol of O₂ to give a mixture of only FeO and Fe₂O₃. The mole ratio of ferrous oxide to ferric oxide is', 'subject': 'Chemistry', 'similar_questions': [{'similar_question_text': 'The compound formed when 1.95 moles of oxygen combine with 1.46 moles of iron is :', 'similarity_score': 0.9598, 'summarized_solution_approach': 'To determine the compound formed by the combination of iron and oxygen, the mole ratio between iron and oxygen is analyzed. Given 1.46 moles of iron and 1.95 moles of oxygen, the ratio is examined to find a simple whole number ratio. By scaling the given ratio, it is found that 3 moles of iron combine with approximately 4 moles of oxygen. Therefore, the formula of the iron oxide compound is determined to be $Fe_3O_4$.'}, {'similar_question_text': 'The number of moles of $F{e_2}{O_3}$ formed when 0.5 moles of O${_2}$ and 0.5 moles of Fe are allowed to react are', 'similarity_score': 0.9548, 'summarized_solution_approach': 'The problem is based on the concept of limiting reagent. First, the balanced chemical equation is written. Then, by using the given number of moles of reactants, the limiting reagent is identified. Here, $Fe$ is the limiting reagent. Finally, the amount of $F{e_2}{O_3}$ formed from the given amount of limiting reagent is calculated using stoichiometry.'}]}]\n"
     ]
    }
   ],
   "source": [
    "import json\n",
    "\n",
    "# read similar_question_data.json\n",
    "\n",
    "with open('similar_question_data.json') as f:\n",
    "    data = json.load(f)\n",
    "\n",
    "print(data[:5])"
   ]
  },
  {
   "cell_type": "code",
   "execution_count": 8,
   "metadata": {},
   "outputs": [
    {
     "name": "stdout",
     "output_type": "stream",
     "text": [
      "explanation=\"The given matrix is A = $\\\\begin{pmatrix} 1+i & 1 \\\\ -i & 0 \\\\end{pmatrix}$. We need to find the number of n in {1, 2, ..., 100} such that $A^n = A$. Let's calculate the powers of A.\\n\\nFirst, calculate $A^2$:\\n$A^2 = A \\\\cdot A = \\\\begin{pmatrix} 1+i & 1 \\\\ -i & 0 \\\\end{pmatrix} \\\\begin{pmatrix} 1+i & 1 \\\\ -i & 0 \\\\end{pmatrix}$\\n$A^2 = \\\\begin{pmatrix} (1+i)(1+i) + 1(-i) & (1+i)(1) + 1(0) \\\\ -i(1+i) + 0(-i) & -i(1) + 0(0) \\\\end{pmatrix}$\\n$A^2 = \\\\begin{pmatrix} (1+2i+i^2) - i & 1+i \\\\ -i-i^2 & -i \\\\end{pmatrix}$\\nSince $i^2 = -1$,\\n$A^2 = \\\\begin{pmatrix} (1+2i-1) - i & 1+i \\\\ -i-(-1) & -i \\\\end{pmatrix}$\\n$A^2 = \\\\begin{pmatrix} i & 1+i \\\\ 1-i & -i \\\\end{pmatrix}$\\n\\nNow, calculate $A^3$:\\n$A^3 = A^2 \\\\cdot A = \\\\begin{pmatrix} i & 1+i \\\\ 1-i & -i \\\\end{pmatrix} \\\\begin{pmatrix} 1+i & 1 \\\\ -i & 0 \\\\end{pmatrix}$\\n$A^3 = \\\\begin{pmatrix} i(1+i) + (1+i)(-i) & i(1) + (1+i)(0) \\\\ (1-i)(1+i) + (-i)(-i) & (1-i)(1) + (-i)(0) \\\\end{pmatrix}$\\n$A^3 = \\\\begin{pmatrix} i+i^2 -i-i^2 & i \\\\ (1-i^2) + i^2 & 1-i \\\\end{pmatrix}$\\n$A^3 = \\\\begin{pmatrix} i-1 -i+1 & i \\\\ (1-(-1)) + (-1) & 1-i \\\\end{pmatrix}$\\n$A^3 = \\\\begin{pmatrix} 0 & i \\\\ 2-1 & 1-i \\\\end{pmatrix}$\\n$A^3 = \\\\begin{pmatrix} 0 & i \\\\ 1 & 1-i \\\\end{pmatrix}$\\n\\nNow, calculate $A^4$:\\n$A^4 = A^3 \\\\cdot A = \\\\begin{pmatrix} 0 & i \\\\ 1 & 1-i \\\\end{pmatrix} \\\\begin{pmatrix} 1+i & 1 \\\\ -i & 0 \\\\end{pmatrix}$\\n$A^4 = \\\\begin{pmatrix} 0(1+i) + i(-i) & 0(1) + i(0) \\\\ 1(1+i) + (1-i)(-i) & 1(1) + (1-i)(0) \\\\end{pmatrix}$\\n$A^4 = \\\\begin{pmatrix} 0 - i^2 & 0 \\\\ 1+i -i+i^2 & 1 \\\\end{pmatrix}$\\n$A^4 = \\\\begin{pmatrix} 0 - (-1) & 0 \\\\ 1+i -i-1 & 1 \\\\end{pmatrix}$\\n$A^4 = \\\\begin{pmatrix} 1 & 0 \\\\ 0 & 1 \\\\end{pmatrix}$\\nSo, $A^4 = I$, where I is the identity matrix.\\n\\nNow we need to find n such that $A^n = A$. We know that $A^4 = I$. \\nWe can write $A^n = A^{4k+r}$ where r is the remainder when n is divided by 4.\\nSo, $A^n = (A^4)^k A^r = I^k A^r = A^r$.\\nFor $A^n = A$, we must have $A^r = A$. This means r must be 1.\\nSo, n must be of the form $4k+1$ for some integer k.\\n\\nWe are looking for n in the set {1, 2, ..., 100} such that n leaves a remainder of 1 when divided by 4.\\n\\nLet's list the values of n:\\nIf k=0, n = 4(0)+1 = 1. (This is valid, $A^1 = A$)\\nIf k=1, n = 4(1)+1 = 5. ($A^5 = A^{4+1} = A^4 A^1 = I A = A$)\\nIf k=2, n = 4(2)+1 = 9.\\n...\\nWe need to find the largest k such that $4k+1 \\\\le 100$.\\n$4k \\\\le 99$\\n$k \\\\le 99/4$\\n$k \\\\le 24.75$\\nSo the largest integer value for k is 24.\\n\\nThe values of n are obtained for k = 0, 1, 2, ..., 24.\\nThe number of such values of k is 24 - 0 + 1 = 25.\\nTherefore, there are 25 such values of n.\" final_answer='25'\n"
     ]
    }
   ],
   "source": [
    "#basic solution building logic with llama index \n",
    "\n",
    "import os\n",
    "from dotenv import load_dotenv\n",
    "load_dotenv()\n",
    "from llama_index.llms.google_genai import GoogleGenAI\n",
    "from llama_index.core.prompts import PromptTemplate\n",
    "from llama_index.core.bridge.pydantic import BaseModel\n",
    "from llama_index.llms.google_genai import GoogleGenAI\n",
    "from google.genai import types\n",
    "\n",
    "\n",
    "from typing import List\n",
    "\n",
    "llm = GoogleGenAI(\n",
    "    model=\"gemini-2.5-flash\",\n",
    "    api_key = os.getenv(\"GEMINI_API_KEY\"),\n",
    "    generation_config=types.GenerateContentConfig(\n",
    "        thinking_config=types.ThinkingConfig(\n",
    "            thinking_budget=0\n",
    "        )  \n",
    "    ),\n",
    "    max_tokens=10000,\n",
    ")\n",
    "\n",
    "class Solution(BaseModel):\n",
    "    explanation: str\n",
    "    final_answer: str\n",
    "\n",
    "\n",
    "prompt_tmpl = PromptTemplate(\"\"\"You are an academic expert at solving problems in the field of maths, physics and chemistry. \n",
    "            Respond with the solution to the given problem: {question}\n",
    "            You respond with a JSON of explanation and final_answer where you can give step by step explanation in the explanation and the final solution in the final_answer.\n",
    "            Keep final answer direct and as short as possible and keep the step by stem explanation to the explanation portion of the JSON\n",
    "            \"\"\",)\n",
    "\n",
    "solution_object = llm.as_structured_llm(Solution).complete(prompt_tmpl.format(question=data[0][\"question_text\"])).raw\n",
    "\n",
    "print(solution_object)"
   ]
  },
  {
   "cell_type": "code",
   "execution_count": 9,
   "metadata": {},
   "outputs": [
    {
     "data": {
      "text/plain": [
       "'25'"
      ]
     },
     "execution_count": 9,
     "metadata": {},
     "output_type": "execute_result"
    }
   ],
   "source": [
    "solution_object.model_dump()[\"final_answer\"]"
   ]
  },
  {
   "cell_type": "code",
   "execution_count": 10,
   "metadata": {},
   "outputs": [
    {
     "data": {
      "text/plain": [
       "{'question_id': '006d7',\n",
       " 'question_text': 'माना A = $\\\\begin{pmatrix} 1+i & 1 \\\\ -i & 0 \\\\end{pmatrix}$, जहाँ i = √-1 है। तो समुच्चय { n ∈ {1,2,......,100} : $A^n$ = A} में अवयवों की संख्या है _______\\n\\nThe image shows a mathematical expression defining a matrix A and a set condition. The matrix A is a 2x2 matrix with elements 1+i, 1, -i, and 0, where i is defined as the square root of -1. The problem asks to find the number of elements in the set of n belonging to {1, 2, ..., 100} such that A to the power of n equals A.',\n",
       " 'subject': 'Mathematics',\n",
       " 'similar_questions': [{'similar_question_text': 'Let A = $\\\\begin{pmatrix} 1+i & 1 \\\\ -i & 0 \\\\end{pmatrix}$ where I = $\\\\sqrt{-1}$. Then, the number of elements in the set {n$\\\\in$ {1,2, ....., 100} : $A^n$ = A} is',\n",
       "   'similarity_score': 0.981,\n",
       "   'summarized_solution_approach': 'The solution calculates $A^2$ and $A^4$. It finds that $A^4 = I$ (identity matrix). Consequently, $A^5 = A, A^9 = A$, and so on. The values of n for which $A^n = A$ form an arithmetic progression: n = 1, 5, 9, ..., 97. The number of terms in this sequence is then calculated, which gives the number of elements in the set.'},\n",
       "  {'similar_question_text': 'Let $$A = \\\\left( {\\\\matrix{\\n   {1 + i} & 1  \\\\cr \\n   { - i} & 0  \\\\cr \\n\\n } } \\\\right)$$ where $$i = \\\\sqrt { - 1} $$. Then, the number of elements in the set { n $$\\\\in$$ {1, 2, ......, 100} : A n = A } is ____________.',\n",
       "   'similarity_score': 0.98,\n",
       "   'summarized_solution_approach': 'First, the solution calculates A^2 and A^4. It finds that A^4 equals the identity matrix I. Consequently, A^5 = A, A^9 = A, and so on. The values of n for which A^n = A are 1, 5, 9, ..., 97. The number of such values of n is 25.'}]}"
      ]
     },
     "execution_count": 10,
     "metadata": {},
     "output_type": "execute_result"
    }
   ],
   "source": [
    "data[0]"
   ]
  },
  {
   "cell_type": "code",
   "execution_count": 11,
   "metadata": {},
   "outputs": [],
   "source": [
    "from llama_index.core.tools import FunctionTool\n",
    "from llama_index.core.agent.workflow import FunctionAgent, ReActAgent\n",
    "from difflib import SequenceMatcher\n",
    "\n",
    "\n",
    "class SimilarQuestion(BaseModel):\n",
    "    similar_question_text: str\n",
    "    similarity_score: float\n",
    "    summarized_solution_approach: str\n",
    "\n",
    "class SimilarQuestionsEvaluation(BaseModel):\n",
    "    similar_question: str\n",
    "    solution_approach: str\n",
    "    conceptual_similarity_score: int\n",
    "    structural_similarity_score: int\n",
    "    difficulty_alignment_score: int\n",
    "    solution_approach_transferability_score: int\n",
    "    total_score: int\n",
    "    \n",
    "class SimilarQuestionsEvaluationList(BaseModel):\n",
    "    original_question: str\n",
    "    similar_question_evaluations: List[SimilarQuestionsEvaluation]\n",
    "    \n",
    "    \n",
    "async def get_similar_questions(question: str) -> List[SimilarQuestion]:\n",
    "    # ideally we do a vector similarity search here but rn just doing fuzzy matching with whatever question the llm passes to this function\n",
    "    \"\"\" Get most similar question from dataset and return its similar questions \"\"\"\n",
    "    with open('similar_question_data.json') as f:\n",
    "        data = json.load(f)\n",
    "\n",
    "    best_match = max(\n",
    "        data,\n",
    "        key=lambda q: SequenceMatcher(None, q['question_text'], question).ratio()\n",
    "    )\n",
    "\n",
    "    return [SimilarQuestion(sq) for sq in best_match.get('similar_questions', [])]\n",
    "\n",
    "    \n",
    "    \n",
    "get_similar_questions_tool = FunctionTool.from_defaults(fn=get_similar_questions)\n",
    "\n",
    "eval_prompt = \"\"\"You are an academic expert at analyzing and solving problems in the field of maths, physics and chemistry. \n",
    "Here, you are given a question and you must get similar questions to the question from the dataset and evaluate them and return the results.\n",
    "The image descriptions after the question given are also part of the question, make sure to include them.\n",
    "            \n",
    "You must assess how well each similar question represents the input question across the following dimensions.\n",
    "            \n",
    "1. Conceptual Similarity: Do they test the same underlying concepts/principles?\n",
    "2. Structural Similarity: Are the problem structures analogous?\n",
    "3. Difficulty Alignment: Is the difficulty level appropriate?\n",
    "4. Solution Approach Transferability: Can the solution method be meaningfully applied?\n",
    "            \n",
    "You should get similar questions via the tool get_similar_questions_tool\n",
    "which accepts the question and responds with similar questions, their solution approaches and vector similarity scores.\n",
    "You must pass the question that you receive identically to the function without changing a single character.           \n",
    "            \n",
    "You respond with a json with key original_question and another key called similar_question_evaluations with its corresponding value which is a list of objects.\n",
    "Each object contain the following keys which are scores based on the aforementioned dimensions for analysis for each similar quesion:\n",
    "            \n",
    "            \n",
    "similar_question: The similar question\n",
    "solution_approach: The solution approach\n",
    "conceptual_similarity_score: A score between 0 and 100\n",
    "structural_similarity_score: A score between 0 and 100\n",
    "difficulty_alignment_score: A score between 0 and 100 \n",
    "solution_approach_transferability_score: A score between 0 and 100\n",
    "total_score: A score between 0 and 100 which is the average of all the scores\n",
    "            \n",
    "Make sure to respond with a list of objects strictly following the above format.\n",
    " \"\"\"\n",
    "\n",
    "\n",
    "\n",
    "eval_agent = FunctionAgent(\n",
    "    name=\"EvaluationAgent\",\n",
    "    description=\"It responds with similar questions and answers to a question alongside their solution approach and their evaluations\",\n",
    "    system_prompt=(\n",
    "        eval_prompt\n",
    "    ),\n",
    "    llm=llm,\n",
    "    tools=[get_similar_questions_tool],\n",
    "    output_cls=SimilarQuestionsEvaluationList,\n",
    "    can_handoff_to=[\"SolutionAgent\"],\n",
    ")\n",
    "\n",
    "response = await eval_agent.run(data[0][\"question_text\"])"
   ]
  },
  {
   "cell_type": "code",
   "execution_count": 12,
   "metadata": {},
   "outputs": [
    {
     "data": {
      "text/plain": [
       "'माना A = $\\\\begin{pmatrix} 1+i & 1 \\\\ -i & 0 \\\\end{pmatrix}$, जहाँ i = √-1 है। तो समुच्चय { n ∈ {1,2,......,100} : $A^n$ = A} में अवयवों की संख्या है _______\\n\\nThe image shows a mathematical expression defining a matrix A and a set condition. The matrix A is a 2x2 matrix with elements 1+i, 1, -i, and 0, where i is defined as the square root of -1. The problem asks to find the number of elements in the set of n belonging to {1, 2, ..., 100} such that A to the power of n equals A.'"
      ]
     },
     "execution_count": 12,
     "metadata": {},
     "output_type": "execute_result"
    }
   ],
   "source": [
    "data[0][\"question_text\"]"
   ]
  },
  {
   "cell_type": "code",
   "execution_count": 13,
   "metadata": {},
   "outputs": [
    {
     "data": {
      "text/plain": [
       "{'original_question': 'माना A = $\\\\begin{pmatrix} 1+i & 1 \\\\ -i & 0 \\\\ \\\\end{pmatrix}$, जहाँ i = √-1 है। तो समुच्चय { n ∈ {1,2,......,100} : $A^n$ = A} में अवयवों की संख्या है _______',\n",
       " 'similar_question_evaluations': [{'similar_question': 'Let A = $\\\\begin{pmatrix} 1+i & 1 \\\\\\\\ -i & 0 \\\\\\\\end{pmatrix}$ where I = $\\\\sqrt{-1}$. Then, the number of elements in the set {n$\\\\in$ {1,2, ....., 100} : $A^n$ = A} is',\n",
       "   'solution_approach': 'The solution calculates $A^2$ and $A^4$. It finds that $A^4 = I$ (identity matrix). Consequently, $A^5 = A, A^9 = A$, and so on. The values of n for which $A^n = A$ form an arithmetic progression: n = 1, 5, 9, ..., 97. The number of terms in this sequence is then calculated, which gives the number of elements in the set.',\n",
       "   'conceptual_similarity_score': 100,\n",
       "   'structural_similarity_score': 100,\n",
       "   'difficulty_alignment_score': 100,\n",
       "   'solution_approach_transferability_score': 100,\n",
       "   'total_score': 100},\n",
       "  {'similar_question': 'Let $$A = \\\\\\\\left( {\\\\\\\\matrix{\\\\n   {1 + i} & 1  \\\\\\\\cr \\\\n   { - i} & 0  \\\\\\\\cr \\\\n\\\\n } } \\\\\\\\right)$$ where $$i = \\\\\\\\sqrt { - 1} $$. Then, the number of elements in the set { n $$\\\\in$$ {1, 2, ......, 100} : A n = A } is ____________.',\n",
       "   'solution_approach': 'First, the solution calculates A^2 and A^4. It finds that A^4 equals the identity matrix I. Consequently, A^5 = A, A^9 = A, and so on. The values of n for which A^n = A are 1, 5, 9, ..., 97. The number of such values of n is 25.',\n",
       "   'conceptual_similarity_score': 100,\n",
       "   'structural_similarity_score': 100,\n",
       "   'difficulty_alignment_score': 100,\n",
       "   'solution_approach_transferability_score': 100,\n",
       "   'total_score': 100}]}"
      ]
     },
     "execution_count": 13,
     "metadata": {},
     "output_type": "execute_result"
    }
   ],
   "source": [
    "response.structured_response"
   ]
  },
  {
   "cell_type": "code",
   "execution_count": 14,
   "metadata": {},
   "outputs": [
    {
     "data": {
      "text/plain": [
       "SimilarQuestionsEvaluationList(original_question='माना A = $\\\\begin{pmatrix} 1+i & 1 \\\\ -i & 0 \\\\ \\\\end{pmatrix}$, जहाँ i = √-1 है। तो समुच्चय { n ∈ {1,2,......,100} : $A^n$ = A} में अवयवों की संख्या है _______', similar_question_evaluations=[SimilarQuestionsEvaluation(similar_question='Let A = $\\\\begin{pmatrix} 1+i & 1 \\\\\\\\ -i & 0 \\\\\\\\end{pmatrix}$ where I = $\\\\sqrt{-1}$. Then, the number of elements in the set {n$\\\\in$ {1,2, ....., 100} : $A^n$ = A} is', solution_approach='The solution calculates $A^2$ and $A^4$. It finds that $A^4 = I$ (identity matrix). Consequently, $A^5 = A, A^9 = A$, and so on. The values of n for which $A^n = A$ form an arithmetic progression: n = 1, 5, 9, ..., 97. The number of terms in this sequence is then calculated, which gives the number of elements in the set.', conceptual_similarity_score=100, structural_similarity_score=100, difficulty_alignment_score=100, solution_approach_transferability_score=100, total_score=100), SimilarQuestionsEvaluation(similar_question='Let $$A = \\\\\\\\left( {\\\\\\\\matrix{\\\\n   {1 + i} & 1  \\\\\\\\cr \\\\n   { - i} & 0  \\\\\\\\cr \\\\n\\\\n } } \\\\\\\\right)$$ where $$i = \\\\\\\\sqrt { - 1} $$. Then, the number of elements in the set { n $$\\\\in$$ {1, 2, ......, 100} : A n = A } is ____________.', solution_approach='First, the solution calculates A^2 and A^4. It finds that A^4 equals the identity matrix I. Consequently, A^5 = A, A^9 = A, and so on. The values of n for which A^n = A are 1, 5, 9, ..., 97. The number of such values of n is 25.', conceptual_similarity_score=100, structural_similarity_score=100, difficulty_alignment_score=100, solution_approach_transferability_score=100, total_score=100)])"
      ]
     },
     "execution_count": 14,
     "metadata": {},
     "output_type": "execute_result"
    }
   ],
   "source": [
    "response.get_pydantic_model(SimilarQuestionsEvaluationList)"
   ]
  },
  {
   "cell_type": "code",
   "execution_count": 17,
   "metadata": {},
   "outputs": [
    {
     "data": {
      "text/plain": [
       "{'explanation': \"Let's first calculate the powers of A to observe a pattern.\\n\\nGiven matrix A = $\\\\begin{pmatrix} 1+i & 1 \\\\ -i & 0 \\\\end{pmatrix}$.\\n\\nStep 1: Calculate $A^2$\\n$A^2 = A \\\\cdot A = \\\\begin{pmatrix} 1+i & 1 \\\\\\\\ -i & 0 \\\\end{pmatrix} \\\\begin{pmatrix} 1+i & 1 \\\\\\\\ -i & 0 \\\\end{pmatrix}$\\n$A^2 = \\\\begin{pmatrix} (1+i)(1+i) + 1(-i) & (1+i)(1) + 1(0) \\\\\\\\ (-i)(1+i) + 0(-i) & (-i)(1) + 0(0) \\\\end{pmatrix}$\\n$A^2 = \\\\begin{pmatrix} (1 + 2i + i^2) - i & 1+i \\\\\\\\ -i - i^2 & -i \\\\end{pmatrix}$\\nSince $i^2 = -1$,\\n$A^2 = \\\\begin{pmatrix} (1 + 2i - 1) - i & 1+i \\\\\\\\ -i - (-1) & -i \\\\end{pmatrix}$\\n$A^2 = \\\\begin{pmatrix} 2i - i & 1+i \\\\\\\\ -i + 1 & -i \\\\end{pmatrix}$\\n$A^2 = \\\\begin{pmatrix} i & 1+i \\\\\\\\ 1-i & -i \\\\end{pmatrix}$\\n\\nStep 2: Calculate $A^3$\\n$A^3 = A^2 \\\\cdot A = \\\\begin{pmatrix} i & 1+i \\\\\\\\ 1-i & -i \\\\end{pmatrix} \\\\begin{pmatrix} 1+i & 1 \\\\\\\\ -i & 0 \\\\end{pmatrix}$\\n$A^3 = \\\\begin{pmatrix} i(1+i) + (1+i)(-i) & i(1) + (1+i)(0) \\\\\\\\ (1-i)(1+i) + (-i)(-i) & (1-i)(1) + (-i)(0) \\\\end{pmatrix}$\\n$A^3 = \\\\begin{pmatrix} (i + i^2) + (-i - i^2) & i \\\\\\\\ (1^2 - i^2) + i^2 & 1-i \\\\end{pmatrix}$\\nSince $i^2 = -1$,\\n$A^3 = \\\\begin{pmatrix} (i - 1) + (-i - (-1)) & i \\\\\\\\ (1 - (-1)) + (-1) & 1-i \\\\end{pmatrix}$\\n$A^3 = \\\\begin{pmatrix} i - 1 - i + 1 & i \\\\\\\\ (1 + 1) - 1 & 1-i \\\\end{pmatrix}$\\n$A^3 = \\\\begin{pmatrix} 0 & i \\\\\\\\ 2 - 1 & 1-i \\\\end{pmatrix}$\\n$A^3 = \\\\begin{pmatrix} 0 & i \\\\\\\\ 1 & 1-i \\\\end{pmatrix}$\\n\\nStep 3: Calculate $A^4$\\n$A^4 = A^3 \\\\cdot A = \\\\begin{pmatrix} 0 & i \\\\\\\\ 1 & 1-i \\\\end{pmatrix} \\\\begin{pmatrix} 1+i & 1 \\\\\\\\ -i & 0 \\\\end{pmatrix}$\\n$A^4 = \\\\begin{pmatrix} 0(1+i) + i(-i) & 0(1) + i(0) \\\\\\\\ 1(1+i) + (1-i)(-i) & 1(1) + (1-i)(0) \\\\end{pmatrix}$\\n$A^4 = \\\\begin{pmatrix} -i^2 & 0 \\\\\\\\ 1+i - i + i^2 & 1 \\\\end{pmatrix}$\\nSince $i^2 = -1$,\\n$A^4 = \\\\begin{pmatrix} -(-1) & 0 \\\\\\\\ 1 + (-1) & 1 \\\\end{pmatrix}$\\n$A^4 = \\\\begin{pmatrix} 1 & 0 \\\\\\\\ 0 & 1 \\\\end{pmatrix}$\\nThis is the identity matrix, denoted as I.\\n\\nStep 4: Calculate $A^5$\\n$A^5 = A^4 \\\\cdot A = I \\\\cdot A = A$\\n\\nWe have found that $A^5 = A$. This means the powers of A will follow a cycle.\\n$A^1 = A$\\n$A^2$\\n$A^3$\\n$A^4 = I$\\n$A^5 = A$\\n$A^6 = A^2$\\n$A^7 = A^3$\\n$A^8 = I$\\n\\nIn general, $A^n = A$ if and only if $n$ is of the form $4k+1$ for some non-negative integer $k$.\\n\\nWe need to find the number of elements in the set { n \\\\in {1,2,......,100} : $A^n$ = A}.\\nSo we need to find values of n in the range [1, 100] such that $n = 4k+1$.\\n\\nFor $k=0$, $n = 4(0)+1 = 1$. So $A^1 = A$. (This is the given condition itself).\\nFor $k=1$, $n = 4(1)+1 = 5$. We verified $A^5 = A$.\\nFor $k=2$, $n = 4(2)+1 = 9$.\\n...\\nWe need to find the maximum value of $k$ such that $4k+1 \\\\le 100$.\\n$4k \\\\le 99$\\n$k \\\\le \\\\frac{99}{4}$\\n$k \\\\le 24.75$\\nSince $k$ must be an integer, the maximum value for $k$ is 24.\\n\\nThe possible values of $k$ are 0, 1, 2, ..., 24.\\nThe number of such values of $k$ is $24 - 0 + 1 = 25$.\\n\\nThus, there are 25 values of n in the given set for which $A^n = A$.\",\n",
       " 'final_answer': '25'}"
      ]
     },
     "execution_count": 17,
     "metadata": {},
     "output_type": "execute_result"
    }
   ],
   "source": [
    "\n",
    "class Solution(BaseModel):\n",
    "    explanation: str\n",
    "    final_answer: str\n",
    "\n",
    "\n",
    "# to be reworked to make it thorough\n",
    "solution_prompt = \"\"\"You are an academic expert at solving problems in the field of maths, physics and chemistry. \n",
    "You are given an original question and sometimes alongside it few similar questions, solution approaches and thorough evaluations of their relevance for each similar question.\n",
    "You respond with a JSON of explanation and final_answer where you can give step by step explanation in the explanation and the final solution in the final_answer.\n",
    "The explanation should be a step by step solution approach to the given question so that the student can understand how you arrived to the solution.\n",
    "Keep final answer direct and as short as possible and keep the step by stem explanation to the explanation portion of the JSON\n",
    "\"\"\"\n",
    "\n",
    "\n",
    "solution_agent = FunctionAgent(\n",
    "    name=\"SolutionAgent\",\n",
    "    description=\"It responds with a final answer to a given original questions alongside similar questions, solution approaches and evals\",\n",
    "    system_prompt=(\n",
    "        solution_prompt\n",
    "    ),\n",
    "    llm=llm,\n",
    "    output_cls=Solution,\n",
    "    tools=[],\n",
    "    timeout=30,\n",
    ")\n",
    "\n",
    "\n",
    "\n",
    "\n",
    "response = await solution_agent.run(data[0][\"question_text\"])\n",
    "response.structured_response"
   ]
  },
  {
   "cell_type": "code",
   "execution_count": 28,
   "metadata": {},
   "outputs": [],
   "source": [
    "\n",
    "from llama_index.core.agent.workflow import AgentWorkflow\n",
    "from llama_index.core.workflow import Context\n",
    "\n",
    "\n",
    "class Solution(BaseModel):\n",
    "    explanation: str\n",
    "    final_answer: str\n",
    "    referred_faqs: list[str]\n",
    "\n",
    "\n",
    "\n",
    "solution_prompt = \"\"\"You are an academic expert at solving problems in the field of maths, physics and chemistry. \n",
    "You are given an original question and sometimes alongside it few similar questions, solution approaches and thorough evaluations of their relevance for each similar question.\n",
    "Make sure to refer to the evaluation scores of each similar question for considering their relevance.\n",
    "You respond with a JSON of explanation and final_answer where you can give step by step explanation in the explanation and the final solution in the final_answer.\n",
    "The explanation should be a step by step solution approach to the given question so that the student can understand how you arrived to the solution.\n",
    "Keep final answer direct and as short as possible and keep the step by stem explanation to the explanation portion of the JSON\n",
    "Mention the FAQs that you referred to in the referred_faqs portion of the JSON\n",
    "\"\"\"\n",
    "\n",
    "solution_agent = FunctionAgent(\n",
    "    name=\"SolutionAgent\",\n",
    "    description=\"It accepts original question, similar questions & their evaluations to form a final answer to the original question\",\n",
    "    system_prompt=(\n",
    "        solution_prompt\n",
    "    ),\n",
    "    llm=llm,\n",
    "    output_cls=Solution,\n",
    "    timeout=30,\n",
    "    tools=[]\n",
    "\n",
    ")\n",
    "\n",
    "eval_prompt = \"\"\"You are an academic expert at analyzing and solving problems in the field of maths, physics and chemistry. \n",
    "Here, you are given a question and you must get similar questions to the question from the dataset and evaluate them and return the results.\n",
    "The image descriptions after the question given are also part of the question, make sure to include them.\n",
    "            \n",
    "You must assess how well each similar question represents the input question across the following dimensions.\n",
    "            \n",
    "1. Conceptual Similarity: Do they test the same underlying concepts/principles?\n",
    "2. Structural Similarity: Are the problem structures analogous?\n",
    "3. Difficulty Alignment: Is the difficulty level appropriate?\n",
    "4. Solution Approach Transferability: Can the solution method be meaningfully applied?\n",
    "            \n",
    "You should get similar questions via the tool get_similar_questions_tool\n",
    "which accepts the question and responds with similar questions, their solution approaches and vector similarity scores.\n",
    "You must pass the question that you receive identically to the function without changing a single character.           \n",
    "            \n",
    "You respond with a json with key original_question and another key called similar_question_evaluations with its corresponding value which is a list of objects.\n",
    "Each object contain the following keys which are scores based on the aforementioned dimensions for analysis for each similar quesion:\n",
    "            \n",
    "            \n",
    "similar_question: The similar question\n",
    "solution_approach: The solution approach\n",
    "conceptual_similarity_score: A score between 0 and 100\n",
    "structural_similarity_score: A score between 0 and 100\n",
    "difficulty_alignment_score: A score between 0 and 100 \n",
    "solution_approach_transferability_score: A score between 0 and 100\n",
    "total_score: A score between 0 and 100 which is the average of all the scores\n",
    "            \n",
    "Make sure to respond with a list of objects strictly following the above format. Handover the output JSON to the SolutionAgent to form a final answer to the original question.\n",
    " \"\"\"\n",
    " \n",
    "eval_agent = FunctionAgent(\n",
    "    name=\"EvaluationAgent\",\n",
    "    description=\"It responds with similar questions and answers to a question alongside their solution approach and their evaluations\",\n",
    "    system_prompt=(\n",
    "        eval_prompt\n",
    "    ),\n",
    "    llm=llm,\n",
    "    tools=[get_similar_questions_tool,],\n",
    "    output_cls=SimilarQuestionsEvaluationList,\n",
    "    can_handoff_to=[\"SolutionAgent\"],\n",
    ")\n",
    "\n",
    "agent_workflow = AgentWorkflow(\n",
    "    agents=[eval_agent, solution_agent],\n",
    "    root_agent=eval_agent.name,\n",
    "    initial_state={\n",
    "        \"original_question\": \"\",\n",
    "        \"unsubstantiated_explanation\" : \"\",\n",
    "        \"unsubstantiated_answer\": \"\",\n",
    "        \"substantiated_explanation\": \"\",\n",
    "        \"substantiated_answer\": \"\",\n",
    "        \n",
    "    },\n",
    ")"
   ]
  },
  {
   "cell_type": "code",
   "execution_count": null,
   "metadata": {},
   "outputs": [],
   "source": [
    "from llama_index.core.agent.workflow import (\n",
    "    AgentInput,\n",
    "    AgentOutput,\n",
    "    ToolCall,\n",
    "    ToolCallResult,\n",
    "    AgentStream,\n",
    ")\n",
    "\n",
    "user_question = data[0][\"question_text\"]\n",
    "\n",
    "\n",
    "handler = agent_workflow.run(\n",
    "    user_msg=(\n",
    "        f\"Answer the following question asked by a student: {(user_question)}\\n\"\n",
    "    )\n",
    ")\n",
    "\n",
    "current_agent = None\n",
    "current_tool_calls = \"\"\n",
    "\n",
    "final_output = \"\"\n",
    "\n",
    "async for event in handler.stream_events():\n",
    "    if (\n",
    "        hasattr(event, \"current_agent_name\")\n",
    "        and event.current_agent_name != current_agent\n",
    "    ):\n",
    "        current_agent = event.current_agent_name\n",
    "        print(f\"\\n{'='*50}\")\n",
    "        print(f\"🤖 Agent: {current_agent}\")\n",
    "        print(f\"{'='*50}\\n\")\n",
    "\n",
    "    # if isinstance(event, AgentStream):\n",
    "    #     if event.delta:\n",
    "    #         print(event.delta, end=\"\", flush=True)\n",
    "    # elif isinstance(event, AgentInput):\n",
    "    #     print(\"📥 Input:\", event.input)\n",
    "    elif isinstance(event, AgentOutput):\n",
    "        if event.response.content:\n",
    "            print(\"📤 Output:\", event.response.content)\n",
    "            final_output += event.response.content\n",
    "        if event.tool_calls:\n",
    "            print(\n",
    "                \"🛠️  Planning to use tools:\",\n",
    "                [call.tool_name for call in event.tool_calls],\n",
    "            )\n",
    "    elif isinstance(event, ToolCallResult):\n",
    "        print(f\"🔧 Tool Result ({event.tool_name}):\")\n",
    "        print(f\"  Arguments: {event.tool_kwargs}\")\n",
    "        print(f\"  Output: {event.tool_output}\")\n",
    "    elif isinstance(event, ToolCall):\n",
    "        print(f\"🔨 Calling Tool: {event.tool_name}\")\n",
    "        print(f\"  With arguments: {event.tool_kwargs}\")"
   ]
  },
  {
   "cell_type": "code",
   "execution_count": 30,
   "metadata": {},
   "outputs": [],
   "source": [
    "# MAS for Similar Questions Evaluation\n",
    "\n",
    "from llama_index.core.agent.workflow import FunctionAgent, ReActAgent\n",
    "\n",
    "\n",
    "sub_agent_llm = GoogleGenAI(\n",
    "    model=\"gemini-2.5-flash\",\n",
    "    api_key = os.getenv(\"GEMINI_API_KEY\"),\n",
    "    generation_config=types.GenerateContentConfig(\n",
    "        max_output_tokens=8192,\n",
    "        thinking_config=types.ThinkingConfig(\n",
    "            thinking_budget=0\n",
    "        )  \n",
    "    ),\n",
    ")\n",
    "\n",
    "\n",
    "class ConceptualSimilarity(BaseModel):\n",
    "    conceptual_similarity: int\n",
    "    conceptual_similarity_note: str\n",
    "\n",
    "conceptual_similarity_agent = FunctionAgent(\n",
    "    system_prompt=\"\"\"You are an academic expert in math, physics and chemistry.\n",
    "You are tasked with evaluating the conceptual similarity of an original question and a fetched similar question alongside its solution approach.\n",
    "You evaluate the similar question for if it tests the same underlying concepts/principles.\n",
    "You return an object with keys conceptual_similarity and conceptual_similarity_note.\n",
    "conceptual_similarity should be a score between 0 to 100.\n",
    "conceptual_similarity_note should be a short note explaining the score.\n",
    "\"\"\",\n",
    "    llm=sub_agent_llm,\n",
    "    tools=[],\n",
    "    output_cls=ConceptualSimilarity,\n",
    ")\n",
    "\n",
    "class StructuralSimilarity(BaseModel):\n",
    "    structural_similarity: int\n",
    "    structural_similarity_note: str\n",
    "    \n",
    "structural_similarity_agent = FunctionAgent(\n",
    "    system_prompt=\"\"\"You are an academic expert in math, physics and chemistry.\n",
    "You are tasked with evaluating the structural similarity of an original question and a fetched similar question.\n",
    "You evaluate if the problem structures are analogous, considering the type of information given, what is being asked, and the overall setup of the problem.\n",
    "You return an object with keys structural_similarity and structural_similarity_note.\n",
    "structural_similarity should be a score between 0 to 100.\n",
    "structural_similarity_note should be a short note explaining the score.\n",
    "\"\"\",\n",
    "    llm=sub_agent_llm,\n",
    "    tools=[],\n",
    "    output_cls=StructuralSimilarity,\n",
    ")\n",
    "\n",
    "class DifficultyAlignment(BaseModel):\n",
    "    difficulty_alignment: int\n",
    "    difficulty_alignment_note: str\n",
    "\n",
    "difficulty_alignment_agent = FunctionAgent(\n",
    "    system_prompt=\"\"\"You are an academic expert in math, physics and chemistry.\n",
    "You are tasked with evaluating the difficulty alignment of an original question and a fetched similar question.\n",
    "You evaluate if the difficulty level is appropriate, considering factors like the number of steps required, the complexity of calculations, and the depth of conceptual understanding needed.\n",
    "You return an object with keys difficulty_alignment and difficulty_alignment_note.\n",
    "difficulty_alignment should be a score between 0 to 100.\n",
    "difficulty_alignment_note should be a short note explaining the score.\n",
    "\"\"\",\n",
    "    llm=sub_agent_llm,\n",
    "    tools=[],\n",
    "    output_cls=DifficultyAlignment,\n",
    ")\n",
    "\n",
    "class ApproachTransferability(BaseModel):\n",
    "    approach_transferability: int\n",
    "    approach_transferability_note: str\n",
    "\n",
    "approach_transferability_agent = FunctionAgent(\n",
    "    system_prompt=\"\"\"You are an academic expert in math, physics and chemistry.\n",
    "You are tasked with evaluating the solution approach transferability from a fetched similar question's solution to an original question.\n",
    "You evaluate if the solution method, steps, and reasoning for the similar question can be meaningfully and directly applied to solve the original question.\n",
    "You return an object with keys approach_transferability and approach_transferability_note.\n",
    "approach_transferability should be a score between 0 to 100.\n",
    "approach_transferability_note should be a short note explaining the score.\n",
    "\"\"\",\n",
    "    llm=sub_agent_llm,\n",
    "    tools=[],\n",
    "    output_cls=ApproachTransferability,\n",
    ")\n",
    "\n",
    "\n"
   ]
  },
  {
   "cell_type": "code",
   "execution_count": 42,
   "metadata": {},
   "outputs": [],
   "source": [
    "from llama_index.core.tools import FunctionTool\n",
    "\n",
    "async def evaluate_conceptual_similarity(original_question: str, similar_question: str, solution_approach: str) -> str:\n",
    "    \"\"\"\n",
    "    Useful for evaluating if two questions test the same underlying concepts and principles.\n",
    "    Returns a score and a note on conceptual similarity.\n",
    "    \"\"\"\n",
    "    user_msg = f\"\"\"\n",
    "    Original Question:\n",
    "    {original_question}\n",
    "\n",
    "    Fetched Similar Question:\n",
    "    {similar_question}\n",
    "\n",
    "    Solution Approach for Similar Question:\n",
    "    {solution_approach}\n",
    "\n",
    "    Please evaluate the conceptual similarity based on these inputs.\n",
    "    \"\"\"\n",
    "    result = await conceptual_similarity_agent.run(user_msg=user_msg)\n",
    "    return str(result)\n",
    "\n",
    "async def evaluate_structural_similarity(original_question: str, similar_question: str, solution_approach: str) -> str:\n",
    "    \"\"\"\n",
    "    Useful for evaluating if the problem structures of two questions are analogous.\n",
    "    Considers the type of information given and the problem setup.\n",
    "    Returns a score and a note on structural similarity.\n",
    "    \"\"\"\n",
    "    user_msg = f\"\"\"\n",
    "    Original Question:\n",
    "    {original_question}\n",
    "\n",
    "    Fetched Similar Question:\n",
    "    {similar_question}\n",
    "\n",
    "    Solution Approach for Similar Question:\n",
    "    {solution_approach}\n",
    "\n",
    "    Please evaluate the structural similarity based on these inputs.\n",
    "    \"\"\"\n",
    "    result = await structural_similarity_agent.run(user_msg=user_msg)\n",
    "    return str(result)\n",
    "\n",
    "async def evaluate_difficulty_alignment(original_question: str, similar_question: str, solution_approach: str) -> str:\n",
    "    \"\"\"\n",
    "    Useful for evaluating if two questions have an appropriate and similar difficulty level.\n",
    "    Considers complexity, number of steps, and required knowledge.\n",
    "    Returns a score and a note on difficulty alignment.\n",
    "    \"\"\"\n",
    "    user_msg = f\"\"\"\n",
    "    Original Question:\n",
    "    {original_question}\n",
    "\n",
    "    Fetched Similar Question:\n",
    "    {similar_question}\n",
    "\n",
    "    Solution Approach for Similar Question:\n",
    "    {solution_approach}\n",
    "\n",
    "    Please evaluate the difficulty alignment based on these inputs.\n",
    "    \"\"\"\n",
    "    result = await difficulty_alignment_agent.run(user_msg=user_msg)\n",
    "    return str(result)\n",
    "\n",
    "async def evaluate_approach_transferability(original_question: str, similar_question: str, solution_approach: str) -> str:\n",
    "    \"\"\"\n",
    "    Useful for evaluating if the solution method for one question can be meaningfully applied to solve another.\n",
    "    Returns a score and a note on the transferability of the solution approach.\n",
    "    \"\"\"\n",
    "    user_msg = f\"\"\"\n",
    "    Original Question:\n",
    "    {original_question}\n",
    "\n",
    "    Fetched Similar Question:\n",
    "    {similar_question}\n",
    "\n",
    "    Solution Approach for Similar Question:\n",
    "    {solution_approach}\n",
    "\n",
    "    Please evaluate the solution approach transferability based on these inputs.\n",
    "    \"\"\"\n",
    "    result = await approach_transferability_agent.run(user_msg=user_msg)\n",
    "    return str(result)"
   ]
  },
  {
   "cell_type": "code",
   "execution_count": 43,
   "metadata": {},
   "outputs": [],
   "source": [
    "orchestrator_llm = GoogleGenAI(\n",
    "    model=\"gemini-2.5-flash\",\n",
    "    api_key = os.getenv(\"GEMINI_API_KEY\"),\n",
    "    generation_config=types.GenerateContentConfig(\n",
    "        max_output_tokens=8192,\n",
    "        thinking_config=types.ThinkingConfig(\n",
    "            thinking_budget=0\n",
    "        )  \n",
    "    ),\n",
    ")\n",
    "\n",
    "\n",
    "\n",
    "class SimilarQuestionsEvaluation(BaseModel):\n",
    "    similar_question: str\n",
    "    solution_approach: str\n",
    "    conceptual_similarity_score: int\n",
    "    structural_similarity_score: int\n",
    "    difficulty_alignment_score: int\n",
    "    solution_approach_transferability_score: int\n",
    "    total_score: int\n",
    "    notes: str\n",
    "    \n",
    "    \n",
    "orchestrator = FunctionAgent(\n",
    "    system_prompt=\"\"\"You are an academic evaluation expert. You will be given a question, its similar question and solution approach.\n",
    "    You evaluate the similar quesiton for multiple criteria via the tools provided to you.\n",
    "    You form a comprehensive evaluation from the results you receive from the tools to create a JSON object with the following keys:\n",
    "    similar_question: The similar question\n",
    "    solution_approach: The solution approach\n",
    "    conceptual_similarity_score: The conceptual similarity score\n",
    "    structural_similarity_score: The structural similarity score\n",
    "    difficulty_alignment_score: The difficulty alignment score\n",
    "    solution_approach_transferability_score: The solution approach transferability score\n",
    "    total_score: The total score\n",
    "    notes: A short note explaning the complete evaluation of the relevance of the similar question \n",
    "    \n",
    "    \"\"\",\n",
    "    llm=orchestrator_llm,\n",
    "    tools=[\n",
    "        evaluate_conceptual_similarity,\n",
    "        evaluate_structural_similarity,\n",
    "        evaluate_difficulty_alignment,\n",
    "        evaluate_approach_transferability\n",
    "    ],\n",
    "    output_cls=SimilarQuestionsEvaluation,\n",
    ")"
   ]
  },
  {
   "cell_type": "code",
   "execution_count": 50,
   "metadata": {},
   "outputs": [],
   "source": [
    "from llama_index.core.agent.workflow import (\n",
    "    AgentInput,\n",
    "    AgentOutput,\n",
    "    ToolCall,\n",
    "    ToolCallResult,\n",
    "    AgentStream,\n",
    ")\n",
    "from llama_index.core.workflow import Context\n",
    "\n",
    "\n",
    "async def run_orchestrator( user_msg: str):\n",
    "    handler = orchestrator.run(\n",
    "        user_msg=user_msg,\n",
    "    )\n",
    "\n",
    "    async for event in handler.stream_events():\n",
    "        if isinstance(event, AgentStream):\n",
    "            if event.delta:\n",
    "                print(event.delta, end=\"\", flush=True)\n",
    "        # elif isinstance(event, AgentInput):\n",
    "        #     print(\"📥 Input:\", event.input)\n",
    "        elif isinstance(event, AgentOutput):\n",
    "            # Skip printing the output since we are streaming above\n",
    "            # if event.response.content:\n",
    "            #     print(\"📤 Output:\", event.response.content)\n",
    "            if event.tool_calls:\n",
    "                print(\n",
    "                    \"🛠️  Planning to use tools:\",\n",
    "                    [call.tool_name for call in event.tool_calls],\n",
    "                )\n",
    "            else:\n",
    "                return event.response.content\n",
    "        elif isinstance(event, ToolCallResult):\n",
    "            print(f\"🔧 Tool Result ({event.tool_name}):\")\n",
    "            print(f\"  Arguments: {event.tool_kwargs}\")\n",
    "            print(f\"  Output: {event.tool_output}\")\n",
    "        elif isinstance(event, ToolCall):\n",
    "            print(f\"🔨 Calling Tool: {event.tool_name}\")\n",
    "            print(f\"  With arguments: {event.tool_kwargs}\")\n"
   ]
  },
  {
   "cell_type": "code",
   "execution_count": 51,
   "metadata": {},
   "outputs": [
    {
     "data": {
      "text/plain": [
       "{'question_id': '006d7',\n",
       " 'question_text': 'माना A = $\\\\begin{pmatrix} 1+i & 1 \\\\ -i & 0 \\\\end{pmatrix}$, जहाँ i = √-1 है। तो समुच्चय { n ∈ {1,2,......,100} : $A^n$ = A} में अवयवों की संख्या है _______\\n\\nThe image shows a mathematical expression defining a matrix A and a set condition. The matrix A is a 2x2 matrix with elements 1+i, 1, -i, and 0, where i is defined as the square root of -1. The problem asks to find the number of elements in the set of n belonging to {1, 2, ..., 100} such that A to the power of n equals A.',\n",
       " 'subject': 'Mathematics',\n",
       " 'similar_questions': [{'similar_question_text': 'Let A = $\\\\begin{pmatrix} 1+i & 1 \\\\ -i & 0 \\\\end{pmatrix}$ where I = $\\\\sqrt{-1}$. Then, the number of elements in the set {n$\\\\in$ {1,2, ....., 100} : $A^n$ = A} is',\n",
       "   'similarity_score': 0.981,\n",
       "   'summarized_solution_approach': 'The solution calculates $A^2$ and $A^4$. It finds that $A^4 = I$ (identity matrix). Consequently, $A^5 = A, A^9 = A$, and so on. The values of n for which $A^n = A$ form an arithmetic progression: n = 1, 5, 9, ..., 97. The number of terms in this sequence is then calculated, which gives the number of elements in the set.'},\n",
       "  {'similar_question_text': 'Let $$A = \\\\left( {\\\\matrix{\\n   {1 + i} & 1  \\\\cr \\n   { - i} & 0  \\\\cr \\n\\n } } \\\\right)$$ where $$i = \\\\sqrt { - 1} $$. Then, the number of elements in the set { n $$\\\\in$$ {1, 2, ......, 100} : A n = A } is ____________.',\n",
       "   'similarity_score': 0.98,\n",
       "   'summarized_solution_approach': 'First, the solution calculates A^2 and A^4. It finds that A^4 equals the identity matrix I. Consequently, A^5 = A, A^9 = A, and so on. The values of n for which A^n = A are 1, 5, 9, ..., 97. The number of such values of n is 25.'}]}"
      ]
     },
     "execution_count": 51,
     "metadata": {},
     "output_type": "execute_result"
    }
   ],
   "source": [
    "data[0]"
   ]
  },
  {
   "cell_type": "code",
   "execution_count": 45,
   "metadata": {},
   "outputs": [
    {
     "name": "stdout",
     "output_type": "stream",
     "text": [
      "🛠️  Planning to use tools: ['evaluate_conceptual_similarity', 'evaluate_structural_similarity', 'evaluate_difficulty_alignment', 'evaluate_approach_transferability']\n",
      "🔨 Calling Tool: evaluate_conceptual_similarity\n",
      "  With arguments: {'similar_question': '\\\\sum_{k = 0}^{6} {^{51-k}C_3} is equal to', 'solution_approach': 'The summation series is expanded by substituting the values of k. Then, $^{45}C_4$ is added and subtracted. Using the identity $^{n}C_r + ^{n}C_{r-1} = ^{n+1}C_r$ repeatedly, the series is simplified to arrive at the final answer.', 'original_question': 'The image contains a mathematical expression involving a summation, binomial coefficients, and powers. Specifically, it shows a summation from k=0 to n of the expression (-1)^k * (n choose k) * (n-k)^m, along with the conditions m=|A| and n=|B|.'}\n",
      "🔨 Calling Tool: evaluate_structural_similarity\n",
      "  With arguments: {'solution_approach': 'The summation series is expanded by substituting the values of k. Then, $^{45}C_4$ is added and subtracted. Using the identity $^{n}C_r + ^{n}C_{r-1} = ^{n+1}C_r$ repeatedly, the series is simplified to arrive at the final answer.', 'similar_question': '\\\\sum_{k = 0}^{6} {^{51-k}C_3} is equal to', 'original_question': 'The image contains a mathematical expression involving a summation, binomial coefficients, and powers. Specifically, it shows a summation from k=0 to n of the expression (-1)^k * (n choose k) * (n-k)^m, along with the conditions m=|A| and n=|B|.'}\n",
      "🔨 Calling Tool: evaluate_difficulty_alignment\n",
      "  With arguments: {'similar_question': '\\\\sum_{k = 0}^{6} {^{51-k}C_3} is equal to', 'solution_approach': 'The summation series is expanded by substituting the values of k. Then, $^{45}C_4$ is added and subtracted. Using the identity $^{n}C_r + ^{n}C_{r-1} = ^{n+1}C_r$ repeatedly, the series is simplified to arrive at the final answer.', 'original_question': 'The image contains a mathematical expression involving a summation, binomial coefficients, and powers. Specifically, it shows a summation from k=0 to n of the expression (-1)^k * (n choose k) * (n-k)^m, along with the conditions m=|A| and n=|B|.'}\n",
      "🔨 Calling Tool: evaluate_approach_transferability\n",
      "  With arguments: {'solution_approach': 'The summation series is expanded by substituting the values of k. Then, $^{45}C_4$ is added and subtracted. Using the identity $^{n}C_r + ^{n}C_{r-1} = ^{n+1}C_r$ repeatedly, the series is simplified to arrive at the final answer.', 'original_question': 'The image contains a mathematical expression involving a summation, binomial coefficients, and powers. Specifically, it shows a summation from k=0 to n of the expression (-1)^k * (n choose k) * (n-k)^m, along with the conditions m=|A| and n=|B|.', 'similar_question': '\\\\sum_{k = 0}^{6} {^{51-k}C_3} is equal to'}\n",
      "🔧 Tool Result (evaluate_structural_similarity):\n",
      "  Arguments: {'solution_approach': 'The summation series is expanded by substituting the values of k. Then, $^{45}C_4$ is added and subtracted. Using the identity $^{n}C_r + ^{n}C_{r-1} = ^{n+1}C_r$ repeatedly, the series is simplified to arrive at the final answer.', 'similar_question': '\\\\sum_{k = 0}^{6} {^{51-k}C_3} is equal to', 'original_question': 'The image contains a mathematical expression involving a summation, binomial coefficients, and powers. Specifically, it shows a summation from k=0 to n of the expression (-1)^k * (n choose k) * (n-k)^m, along with the conditions m=|A| and n=|B|.'}\n",
      "  Output: ```json\n",
      "{\n",
      "  \"structural_similarity\": 10,\n",
      "  \"structural_similarity_note\": \"The original question involves a complex combinatorial identity with alternating signs and powers of (n-k), related to surjective mappings or inclusion-exclusion. The fetched question is a simple summation of binomial coefficients, which can be solved using a basic identity. The structures are fundamentally different in complexity and the underlying mathematical concepts tested.\"\n",
      "}\n",
      "```\n",
      "🔧 Tool Result (evaluate_approach_transferability):\n",
      "  Arguments: {'solution_approach': 'The summation series is expanded by substituting the values of k. Then, $^{45}C_4$ is added and subtracted. Using the identity $^{n}C_r + ^{n}C_{r-1} = ^{n+1}C_r$ repeatedly, the series is simplified to arrive at the final answer.', 'original_question': 'The image contains a mathematical expression involving a summation, binomial coefficients, and powers. Specifically, it shows a summation from k=0 to n of the expression (-1)^k * (n choose k) * (n-k)^m, along with the conditions m=|A| and n=|B|.', 'similar_question': '\\\\sum_{k = 0}^{6} {^{51-k}C_3} is equal to'}\n",
      "  Output: ```json\n",
      "{\n",
      "  \"approach_transferability\": 10,\n",
      "  \"approach_transferability_note\": \"The original question involves a complex combinatorial identity with alternating signs and powers, which often relates to inclusion-exclusion or finite differences. The similar question is a straightforward application of Pascal's identity to a sum of binomial coefficients. The methods (expansion and repeated application of Pascal's identity) are not directly applicable to the original problem due to its complexity and different structure.\"\n",
      "}\n",
      "```\n"
     ]
    },
    {
     "name": "stderr",
     "output_type": "stream",
     "text": [
      "/home/bharathraj/anaconda3/envs/llm_env/lib/python3.11/site-packages/llama_index/core/agent/workflow/base_agent.py:475: UserWarning: There was a problem with the generation of the structured output: Response is not a BaseModel\n",
      "  warnings.warn(\n"
     ]
    },
    {
     "name": "stdout",
     "output_type": "stream",
     "text": [
      "🔧 Tool Result (evaluate_conceptual_similarity):\n",
      "  Arguments: {'similar_question': '\\\\sum_{k = 0}^{6} {^{51-k}C_3} is equal to', 'solution_approach': 'The summation series is expanded by substituting the values of k. Then, $^{45}C_4$ is added and subtracted. Using the identity $^{n}C_r + ^{n}C_{r-1} = ^{n+1}C_r$ repeatedly, the series is simplified to arrive at the final answer.', 'original_question': 'The image contains a mathematical expression involving a summation, binomial coefficients, and powers. Specifically, it shows a summation from k=0 to n of the expression (-1)^k * (n choose k) * (n-k)^m, along with the conditions m=|A| and n=|B|.'}\n",
      "  Output: ```json\n",
      "{\n",
      "  \"conceptual_similarity\": 30,\n",
      "  \"conceptual_similarity_note\": \"The original question involves a more complex combinatorial identity often related to inclusion-exclusion or differences of functions, specifically involving powers and alternating signs. The fetched question is a direct application of the Hockey-stick identity (or a similar additive identity for binomial coefficients) to sum a series of binomial coefficients. While both are summation problems involving binomial coefficients, the underlying identities and conceptual complexity are quite different. The original question is likely testing advanced combinatorial principles, whereas the similar question is testing a standard identity.\"\n",
      "}\n",
      "```\n",
      "🔧 Tool Result (evaluate_difficulty_alignment):\n",
      "  Arguments: {'similar_question': '\\\\sum_{k = 0}^{6} {^{51-k}C_3} is equal to', 'solution_approach': 'The summation series is expanded by substituting the values of k. Then, $^{45}C_4$ is added and subtracted. Using the identity $^{n}C_r + ^{n}C_{r-1} = ^{n+1}C_r$ repeatedly, the series is simplified to arrive at the final answer.', 'original_question': 'The image contains a mathematical expression involving a summation, binomial coefficients, and powers. Specifically, it shows a summation from k=0 to n of the expression (-1)^k * (n choose k) * (n-k)^m, along with the conditions m=|A| and n=|B|.'}\n",
      "  Output: ```json\n",
      "{\n",
      "  \"difficulty_alignment\": 15,\n",
      "  \"difficulty_alignment_note\": \"The original question involves a complex combinatorial identity related to inclusion-exclusion or differences of polynomials, requiring significant conceptual depth and advanced manipulation. The fetched question is a straightforward application of Pascal's identity after a small manipulation (adding and subtracting a term), which is a standard technique in binomial summation and significantly simpler.\"\n",
      "}\n",
      "```\n",
      "```json\n",
      "{\n",
      "  \"similar_question\": \"\\\\sum_{k = 0}^{6} {^{51-k}C_3} is equal to\",\n",
      "  \"solution_approach\": \"The summation series is expanded by substituting the values of k. Then, $^{45}C_4$ is added and subtracted. Using the identity $^{n}C_r + ^{n}C_{r-1} = ^{n+1}C_r$ repeatedly, the series is simplified to arrive at the final answer.\",\n",
      "  \"conceptual_similarity_score\": 30,\n",
      "  \"structural_similarity_score\": 10,\n",
      "  \"difficulty_alignment_score\": 15,\n",
      "  \"solution_approach_transferability_score\": 10,\n",
      "  \"total_score\": 16.25,\n",
      "  \"notes\": \"The similar question shares a very low conceptual, structural, and difficulty alignment with the original question. While both involve summations and binomial coefficients, the original question is significantly more complex, likely requiring advanced combinatorial identities such as inclusion-exclusion or properties of finite differences. The similar question, however, is a direct application of Pascal's identity. Consequently, the solution approach for the similar question is not transferable to the original problem.\"\n",
      "}\n",
      "```"
     ]
    }
   ],
   "source": [
    "await run_orchestrator(\n",
    "    user_msg = f\"\"\"\n",
    "    Original Question:\n",
    "    {data[15][\"question_text\"]}\n",
    "\n",
    "    Fetched Similar Question:\n",
    "    {data[15][\"similar_questions\"][0][\"similar_question_text\"]}\n",
    "\n",
    "    Solution Approach for Similar Question:\n",
    "    {data[15][\"similar_questions\"][0][\"summarized_solution_approach\"]}\n",
    "\n",
    "    Please evaluate the solution approach transferability based on these inputs and retur the results\n",
    "    \"\"\"\n",
    ")\n"
   ]
  },
  {
   "cell_type": "code",
   "execution_count": 46,
   "metadata": {},
   "outputs": [
    {
     "name": "stdout",
     "output_type": "stream",
     "text": [
      "🛠️  Planning to use tools: ['evaluate_conceptual_similarity', 'evaluate_structural_similarity', 'evaluate_difficulty_alignment', 'evaluate_approach_transferability']\n",
      "🔨 Calling Tool: evaluate_conceptual_similarity\n",
      "  With arguments: {'similar_question': 'Let A = $\\\\begin{pmatrix} 1+i & 1 \\\\ -i & 0 \\\\end{pmatrix}$ where I = $\\\\sqrt{-1}$. Then, the number of elements in the set {n$\\\\in$ {1,2, ....., 100} : $A^n$ = A} is', 'original_question': 'The image shows a mathematical expression defining a matrix A and a set condition. The matrix A is a 2x2 matrix with elements 1+i, 1, -i, and 0, where i is defined as the square root of -1. The problem asks to find the number of elements in the set of n belonging to {1, 2, ..., 100} such that A to the power of n equals A.', 'solution_approach': 'The solution calculates $A^2$ and $A^4$. It finds that $A^4 = I$ (identity matrix). Consequently, $A^5 = A, A^9 = A$, and so on. The values of n for which $A^n = A$ form an arithmetic progression: n = 1, 5, 9, ..., 97. The number of terms in this sequence is then calculated, which gives the number of elements in the set.'}\n",
      "🔨 Calling Tool: evaluate_structural_similarity\n",
      "  With arguments: {'original_question': 'The image shows a mathematical expression defining a matrix A and a set condition. The matrix A is a 2x2 matrix with elements 1+i, 1, -i, and 0, where i is defined as the square root of -1. The problem asks to find the number of elements in the set of n belonging to {1, 2, ..., 100} such that A to the power of n equals A.', 'similar_question': 'Let A = $\\\\begin{pmatrix} 1+i & 1 \\\\ -i & 0 \\\\end{pmatrix}$ where I = $\\\\sqrt{-1}$. Then, the number of elements in the set {n$\\\\in$ {1,2, ....., 100} : $A^n$ = A} is', 'solution_approach': 'The solution calculates $A^2$ and $A^4$. It finds that $A^4 = I$ (identity matrix). Consequently, $A^5 = A, A^9 = A$, and so on. The values of n for which $A^n = A$ form an arithmetic progression: n = 1, 5, 9, ..., 97. The number of terms in this sequence is then calculated, which gives the number of elements in the set.'}\n",
      "🔨 Calling Tool: evaluate_difficulty_alignment\n",
      "  With arguments: {'original_question': 'The image shows a mathematical expression defining a matrix A and a set condition. The matrix A is a 2x2 matrix with elements 1+i, 1, -i, and 0, where i is defined as the square root of -1. The problem asks to find the number of elements in the set of n belonging to {1, 2, ..., 100} such that A to the power of n equals A.', 'solution_approach': 'The solution calculates $A^2$ and $A^4$. It finds that $A^4 = I$ (identity matrix). Consequently, $A^5 = A, A^9 = A$, and so on. The values of n for which $A^n = A$ form an arithmetic progression: n = 1, 5, 9, ..., 97. The number of terms in this sequence is then calculated, which gives the number of elements in the set.', 'similar_question': 'Let A = $\\\\begin{pmatrix} 1+i & 1 \\\\ -i & 0 \\\\end{pmatrix}$ where I = $\\\\sqrt{-1}$. Then, the number of elements in the set {n$\\\\in$ {1,2, ....., 100} : $A^n$ = A} is'}\n",
      "🔨 Calling Tool: evaluate_approach_transferability\n",
      "  With arguments: {'solution_approach': 'The solution calculates $A^2$ and $A^4$. It finds that $A^4 = I$ (identity matrix). Consequently, A^5 = A, A^9 = A, and so on. The values of n for which $A^n = A$ form an arithmetic progression: n = 1, 5, 9, ..., 97. The number of terms in this sequence is then calculated, which gives the number of elements in the set.', 'similar_question': 'Let A = $\\\\begin{pmatrix} 1+i & 1 \\\\ -i & 0 \\\\end{pmatrix}$ where I = $\\\\sqrt{-1}$. Then, the number of elements in the set {n$\\\\in$ {1,2, ....., 100} : $A^n$ = A} is', 'original_question': 'The image shows a mathematical expression defining a matrix A and a set condition. The matrix A is a 2x2 matrix with elements 1+i, 1, -i, and 0, where i is defined as the square root of -1. The problem asks to find the number of elements in the set of n belonging to {1, 2, ..., 100} such that A to the power of n equals A.'}\n",
      "🔧 Tool Result (evaluate_approach_transferability):\n",
      "  Arguments: {'solution_approach': 'The solution calculates $A^2$ and $A^4$. It finds that $A^4 = I$ (identity matrix). Consequently, A^5 = A, A^9 = A, and so on. The values of n for which $A^n = A$ form an arithmetic progression: n = 1, 5, 9, ..., 97. The number of terms in this sequence is then calculated, which gives the number of elements in the set.', 'similar_question': 'Let A = $\\\\begin{pmatrix} 1+i & 1 \\\\ -i & 0 \\\\end{pmatrix}$ where I = $\\\\sqrt{-1}$. Then, the number of elements in the set {n$\\\\in$ {1,2, ....., 100} : $A^n$ = A} is', 'original_question': 'The image shows a mathematical expression defining a matrix A and a set condition. The matrix A is a 2x2 matrix with elements 1+i, 1, -i, and 0, where i is defined as the square root of -1. The problem asks to find the number of elements in the set of n belonging to {1, 2, ..., 100} such that A to the power of n equals A.'}\n",
      "  Output: ```json\n",
      "{\n",
      "  \"approach_transferability\": 100,\n",
      "  \"approach_transferability_note\": \"The original question and the fetched similar question are identical. Therefore, the solution approach is directly and fully transferable.\"\n",
      "}\n",
      "```\n",
      "🔧 Tool Result (evaluate_conceptual_similarity):\n",
      "  Arguments: {'similar_question': 'Let A = $\\\\begin{pmatrix} 1+i & 1 \\\\ -i & 0 \\\\end{pmatrix}$ where I = $\\\\sqrt{-1}$. Then, the number of elements in the set {n$\\\\in$ {1,2, ....., 100} : $A^n$ = A} is', 'original_question': 'The image shows a mathematical expression defining a matrix A and a set condition. The matrix A is a 2x2 matrix with elements 1+i, 1, -i, and 0, where i is defined as the square root of -1. The problem asks to find the number of elements in the set of n belonging to {1, 2, ..., 100} such that A to the power of n equals A.', 'solution_approach': 'The solution calculates $A^2$ and $A^4$. It finds that $A^4 = I$ (identity matrix). Consequently, $A^5 = A, A^9 = A$, and so on. The values of n for which $A^n = A$ form an arithmetic progression: n = 1, 5, 9, ..., 97. The number of terms in this sequence is then calculated, which gives the number of elements in the set.'}\n",
      "  Output: ```json\n",
      "{\n",
      "  \"conceptual_similarity\": 100,\n",
      "  \"conceptual_similarity_note\": \"The fetched similar question is identical to the original question. Therefore, the underlying concepts are exactly the same, involving matrix exponentiation and finding patterns in matrix powers.\"\n",
      "}\n",
      "```\n",
      "🔧 Tool Result (evaluate_difficulty_alignment):\n",
      "  Arguments: {'original_question': 'The image shows a mathematical expression defining a matrix A and a set condition. The matrix A is a 2x2 matrix with elements 1+i, 1, -i, and 0, where i is defined as the square root of -1. The problem asks to find the number of elements in the set of n belonging to {1, 2, ..., 100} such that A to the power of n equals A.', 'solution_approach': 'The solution calculates $A^2$ and $A^4$. It finds that $A^4 = I$ (identity matrix). Consequently, $A^5 = A, A^9 = A$, and so on. The values of n for which $A^n = A$ form an arithmetic progression: n = 1, 5, 9, ..., 97. The number of terms in this sequence is then calculated, which gives the number of elements in the set.', 'similar_question': 'Let A = $\\\\begin{pmatrix} 1+i & 1 \\\\ -i & 0 \\\\end{pmatrix}$ where I = $\\\\sqrt{-1}$. Then, the number of elements in the set {n$\\\\in$ {1,2, ....., 100} : $A^n$ = A} is'}\n",
      "  Output: ```json\n",
      "{\n",
      "  \"difficulty_alignment\": 100,\n",
      "  \"difficulty_alignment_note\": \"The original question and the fetched similar question are identical, ensuring perfect difficulty alignment.\"\n",
      "}\n",
      "```\n",
      "🔧 Tool Result (evaluate_structural_similarity):\n",
      "  Arguments: {'original_question': 'The image shows a mathematical expression defining a matrix A and a set condition. The matrix A is a 2x2 matrix with elements 1+i, 1, -i, and 0, where i is defined as the square root of -1. The problem asks to find the number of elements in the set of n belonging to {1, 2, ..., 100} such that A to the power of n equals A.', 'similar_question': 'Let A = $\\\\begin{pmatrix} 1+i & 1 \\\\ -i & 0 \\\\end{pmatrix}$ where I = $\\\\sqrt{-1}$. Then, the number of elements in the set {n$\\\\in$ {1,2, ....., 100} : $A^n$ = A} is', 'solution_approach': 'The solution calculates $A^2$ and $A^4$. It finds that $A^4 = I$ (identity matrix). Consequently, $A^5 = A, A^9 = A$, and so on. The values of n for which $A^n = A$ form an arithmetic progression: n = 1, 5, 9, ..., 97. The number of terms in this sequence is then calculated, which gives the number of elements in the set.'}\n",
      "  Output: ```json\n",
      "{\n",
      "  \"structural_similarity\": 100,\n",
      "  \"structural_similarity_note\": \"The original question and the fetched similar question are identical in their mathematical content, including the matrix definition, the range for 'n', and the condition to be satisfied ($A^n = A$). The phrasing is slightly different but conveys the exact same problem.\"\n",
      "}\n",
      "```\n",
      "```json\n",
      "{\n",
      "  \"similar_question\": \"Let A = $\\\\begin{pmatrix} 1+i & 1 \\\\ -i & 0 \\\\end{pmatrix}$ where I = $\\\\sqrt{-1}$. Then, the number of elements in the set {n$\\\\in$ {1,2, ....., 100} : $A^n$ = A} is\",\n",
      "  \"solution_approach\": \"The solution calculates $A^2$ and $A^4$. It finds that $A^4 = I$ (identity matrix). Consequently, $A^5 = A, A^9 = A$, and so on. The values of n for which $A^n = A$ form an arithmetic progression: n = 1, 5, 9, ..., 97. The number of terms in this sequence is then calculated, which gives the number of elements in the set.\",\n",
      "  \"conceptual_similarity_score\": 100,\n",
      "  \"structural_similarity_score\": 100,\n",
      "  \"difficulty_alignment_score\": 100,\n",
      "  \"solution_approach_transferability_score\": 100,\n",
      "  \"total_score\": 100,\n",
      "  \"notes\": \"The fetched similar question is identical to the original question in all aspects, including the matrix definition, the range for 'n', and the condition for A^n = A. Consequently, the conceptual understanding, structural setup, and difficulty level are perfectly aligned. The provided solution approach is directly and fully transferable to solve the original question, as it addresses the exact same problem.\"\n",
      "}\n",
      "```"
     ]
    }
   ],
   "source": [
    "await run_orchestrator(\n",
    "    user_msg = f\"\"\"\n",
    "    Original Question:\n",
    "    {data[0][\"question_text\"]}\n",
    "\n",
    "    Fetched Similar Question:\n",
    "    {data[0][\"similar_questions\"][0][\"similar_question_text\"]}\n",
    "\n",
    "    Solution Approach for Similar Question:\n",
    "    {data[0][\"similar_questions\"][0][\"summarized_solution_approach\"]}\n",
    "\n",
    "    Please evaluate the solution approach transferability based on these inputs and retur the results\n",
    "    \"\"\"\n",
    ")\n"
   ]
  },
  {
   "cell_type": "code",
   "execution_count": 56,
   "metadata": {},
   "outputs": [
    {
     "name": "stderr",
     "output_type": "stream",
     "text": [
      "/home/bharathraj/anaconda3/envs/llm_env/lib/python3.11/site-packages/llama_index/core/agent/workflow/base_agent.py:475: UserWarning: There was a problem with the generation of the structured output: Response is not a BaseModel\n",
      "  warnings.warn(\n"
     ]
    }
   ],
   "source": [
    "orchestrator_response = await orchestrator.run(\n",
    "        user_msg= f\"\"\"\n",
    "    Original Question:\n",
    "    {data[0][\"question_text\"]}\n",
    "\n",
    "    Fetched Similar Question:\n",
    "    {data[0][\"similar_questions\"][0][\"similar_question_text\"]}\n",
    "\n",
    "    Solution Approach for Similar Question:\n",
    "    {data[0][\"similar_questions\"][0][\"summarized_solution_approach\"]}\n",
    "\n",
    "    Please evaluate the solution approach transferability based on these inputs and retur the results\n",
    "    \"\"\",\n",
    "    )"
   ]
  },
  {
   "cell_type": "code",
   "execution_count": 58,
   "metadata": {},
   "outputs": [
    {
     "data": {
      "text/plain": [
       "{'similar_question': 'Let A = $\\\\begin{pmatrix} 1+i & 1 \\\\\\\\ -i & 0 \\\\\\\\ \\\\end{pmatrix}$ where I = $\\\\sqrt{-1}$. Then, the number of elements in the set {n$\\\\in$ {1,2, ....., 100} : $A^n$ = A} is',\n",
       " 'solution_approach': 'The solution calculates $A^2$ and $A^4$. It finds that $A^4 = I$ (identity matrix). Consequently, $A^5 = A, A^9 = A$, and so on. The values of n for which $A^n = A$ form an arithmetic progression: n = 1, 5, 9, ..., 97. The number of terms in this sequence is then calculated, which gives the number of elements in the set.',\n",
       " 'conceptual_similarity_score': 100,\n",
       " 'structural_similarity_score': 100,\n",
       " 'difficulty_alignment_score': 95,\n",
       " 'solution_approach_transferability_score': 100,\n",
       " 'total_score': 98,\n",
       " 'notes': 'The similar question is nearly identical to the original question in all aspects: conceptual understanding, structure, and difficulty. Consequently, the solution approach provided is perfectly transferable and directly applicable to solving the original question. The minor difference in difficulty alignment might be negligible given the complete overlap in content.'}"
      ]
     },
     "execution_count": 58,
     "metadata": {},
     "output_type": "execute_result"
    }
   ],
   "source": [
    "orchestrator_response.structured_response"
   ]
  },
  {
   "cell_type": "code",
   "execution_count": 4,
   "metadata": {},
   "outputs": [
    {
     "name": "stdout",
     "output_type": "stream",
     "text": [
      "Status Code: 200\n",
      "Response:\n",
      "{\n",
      "  \"success\": true,\n",
      "  \"data\": {\n",
      "    \"similar_question\": \"Let A = $\\\\begin{pmatrix} 1+i & 1 \\\\ -i & 0 \\\\end{pmatrix}$ where I = $\\\\sqrt{-1}$. Then, the number of elements in the set {n$\\\\in$ {1,2, ....., 100} : $A^n$ = A} is\",\n",
      "    \"solution_approach\": \"The solution calculates $A^2$ and $A^4$. It finds that $A^4 = I$ (identity matrix). Consequently, $A^5 = A, A^9 = A$, and so on. The values of n for which $A^n = A$ form an arithmetic progression: n = 1, 5, 9, ..., 97. The number of terms in this sequence is then calculated, which gives the number of elements in the set.\",\n",
      "    \"conceptual_similarity_score\": 100,\n",
      "    \"structural_similarity_score\": 100,\n",
      "    \"difficulty_alignment_score\": 100,\n",
      "    \"solution_approach_transferability_score\": 100,\n",
      "    \"total_score\": 400,\n",
      "    \"notes\": \"The similar question is an exact match to the original question in all aspects: conceptual understanding, structural presentation, and difficulty level. Consequently, the provided solution approach is perfectly transferable and directly applicable to solving the original question.\"\n",
      "  },\n",
      "  \"processing_time_ms\": 12454,\n",
      "  \"request_id\": \"1755431075-140685131973392\"\n",
      "}\n"
     ]
    }
   ],
   "source": [
    "import requests\n",
    "import json\n",
    "\n",
    "with open('similar_question_data.json') as f:\n",
    "    data = json.load(f)\n",
    "\n",
    "\n",
    "payload = {\n",
    "    \"question_text\": data[0][\"question_text\"],\n",
    "    \"similar_question\": data[0][\"similar_questions\"][0][\"similar_question_text\"],\n",
    "    \"summarized_solution_approach\": data[0][\"similar_questions\"][0][\"summarized_solution_approach\"]\n",
    "}\n",
    "\n",
    "response = requests.post(\n",
    "    \"http://localhost:8000/evaluate\",\n",
    "    json=payload\n",
    ")\n",
    "\n",
    "print(\"Status Code:\", response.status_code)\n",
    "print(\"Response:\")\n",
    "print(json.dumps(response.json(), indent=2))"
   ]
  },
  {
   "cell_type": "code",
   "execution_count": 10,
   "metadata": {},
   "outputs": [
    {
     "name": "stdout",
     "output_type": "stream",
     "text": [
      "Status Code: 200\n",
      "Response:\n",
      "{\n",
      "  \"success\": true,\n",
      "  \"data\": {\n",
      "    \"similar_question\": \"\\\\sum_{k = 0}^{6} {^{51-k}C_3} is equal to\",\n",
      "    \"solution_approach\": \"The summation series is expanded by substituting the values of k. Then, $^{45}C_4$ is added and subtracted. Using the identity $^{n}C_r + ^{n}C_{r-1} = ^{n+1}C_r$ repeatedly, the series is simplified to arrive at the final answer.\",\n",
      "    \"conceptual_similarity_score\": 20,\n",
      "    \"structural_similarity_score\": 10,\n",
      "    \"difficulty_alignment_score\": 20,\n",
      "    \"solution_approach_transferability_score\": 20,\n",
      "    \"total_score\": 17,\n",
      "    \"notes\": \"The similar question shares very little in common with the original question. While both involve summations and binomial coefficients, their conceptual underpinnings and structural complexities are vastly different. The original question presents a general, complex combinatorial identity (likely related to inclusion-exclusion or Stirling numbers), requiring a deep theoretical understanding. In contrast, the similar question is a specific numerical summation that can be solved by direct calculation and repeated application of Pascal's identity (Hockey-stick identity). The solution approach for the similar question is not transferable to the original due to the presence of alternating signs and the power term (n-k)^m in the original. The difficulty levels are also misaligned, with the original question being significantly more challenging and conceptual. Overall, the similar question is a poor match for the original question.\"\n",
      "  },\n",
      "  \"processing_time_ms\": 26352,\n",
      "  \"request_id\": \"1755432167-140526606320016\"\n",
      "}\n"
     ]
    }
   ],
   "source": [
    "import requests\n",
    "import json\n",
    "\n",
    "with open('similar_question_data.json') as f:\n",
    "    data = json.load(f)\n",
    "\n",
    "\n",
    "payload = {\n",
    "    \"question_text\": data[15][\"question_text\"],\n",
    "    \"similar_question\": data[15][\"similar_questions\"][0][\"similar_question_text\"],\n",
    "    \"summarized_solution_approach\": data[15][\"similar_questions\"][0][\"summarized_solution_approach\"]\n",
    "}\n",
    "\n",
    "response = requests.post(\n",
    "    \"http://localhost:8000/evaluate\",\n",
    "    json=payload\n",
    ")\n",
    "\n",
    "print(\"Status Code:\", response.status_code)\n",
    "print(\"Response:\")\n",
    "print(json.dumps(response.json(), indent=2))"
   ]
  }
 ],
 "metadata": {
  "kernelspec": {
   "display_name": "nemo_env",
   "language": "python",
   "name": "python3"
  },
  "language_info": {
   "codemirror_mode": {
    "name": "ipython",
    "version": 3
   },
   "file_extension": ".py",
   "mimetype": "text/x-python",
   "name": "python",
   "nbconvert_exporter": "python",
   "pygments_lexer": "ipython3",
   "version": "3.11.13"
  }
 },
 "nbformat": 4,
 "nbformat_minor": 2
}
