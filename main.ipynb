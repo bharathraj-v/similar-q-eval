{
 "cells": [
  {
   "cell_type": "code",
   "execution_count": 1,
   "metadata": {},
   "outputs": [
    {
     "name": "stdout",
     "output_type": "stream",
     "text": [
      "[{'question_id': '006d7', 'question_text': 'माना A = $\\\\begin{pmatrix} 1+i & 1 \\\\ -i & 0 \\\\end{pmatrix}$, जहाँ i = √-1 है। तो समुच्चय { n ∈ {1,2,......,100} : $A^n$ = A} में अवयवों की संख्या है _______\\n\\nThe image shows a mathematical expression defining a matrix A and a set condition. The matrix A is a 2x2 matrix with elements 1+i, 1, -i, and 0, where i is defined as the square root of -1. The problem asks to find the number of elements in the set of n belonging to {1, 2, ..., 100} such that A to the power of n equals A.', 'subject': 'Mathematics', 'similar_questions': [{'similar_question_text': 'Let A = $\\\\begin{pmatrix} 1+i & 1 \\\\ -i & 0 \\\\end{pmatrix}$ where I = $\\\\sqrt{-1}$. Then, the number of elements in the set {n$\\\\in$ {1,2, ....., 100} : $A^n$ = A} is', 'similarity_score': 0.981, 'summarized_solution_approach': 'The solution calculates $A^2$ and $A^4$. It finds that $A^4 = I$ (identity matrix). Consequently, $A^5 = A, A^9 = A$, and so on. The values of n for which $A^n = A$ form an arithmetic progression: n = 1, 5, 9, ..., 97. The number of terms in this sequence is then calculated, which gives the number of elements in the set.'}, {'similar_question_text': 'Let $$A = \\\\left( {\\\\matrix{\\n   {1 + i} & 1  \\\\cr \\n   { - i} & 0  \\\\cr \\n\\n } } \\\\right)$$ where $$i = \\\\sqrt { - 1} $$. Then, the number of elements in the set { n $$\\\\in$$ {1, 2, ......, 100} : A n = A } is ____________.', 'similarity_score': 0.98, 'summarized_solution_approach': 'First, the solution calculates A^2 and A^4. It finds that A^4 equals the identity matrix I. Consequently, A^5 = A, A^9 = A, and so on. The values of n for which A^n = A are 1, 5, 9, ..., 97. The number of such values of n is 25.'}]}, {'question_id': '00b31', 'question_text': 'अवकल सभीकरण $(x\\\\sqrt{1+y^2}) dx + (y\\\\sqrt{1+x^2})dy=0$ का हल है :', 'subject': 'Mathematics', 'similar_questions': [{'similar_question_text': 'Question Text::\\n            x (y2 + 1) dx + y (x² + 1) dy = 0\\n\\n            \\n            {\"goemetric_relationships\":[],\"labels_and_symbols\":[],\"spatial_arrangements\":[]}', 'similarity_score': 0.9876, 'summarized_solution_approach': 'The solution uses the variable separable method to solve the differential equation. First, the variables are separated to have x terms on one side and y terms on the other. Then, both sides are integrated, using substitution to solve the integrals. The logarithmic terms are simplified and combined using logarithm properties. Finally, the equation is converted from logarithmic to algebraic form by exponentiating both sides, resulting in the general solution.'}, {'similar_question_text': 'The solution of the differential equation\\n x dy + y dx - \\\\sqrt{1-x^{2}y^{2}}dx = 0 is', 'similarity_score': 0.9886, 'summarized_solution_approach': 'The given differential equation is solved by rearranging the terms and integrating. First, the equation is rewritten as \\\\( \\\\frac{xdy+ydx}{\\\\sqrt{1-x^{2}y^{2}}} = dx \\\\). Noticing that \\\\( xdy + ydx = d(xy) \\\\), the equation becomes \\\\( \\\\frac{d(xy)}{\\\\sqrt{1-(xy)^{2}}} = dx \\\\). Both sides are then integrated, yielding \\\\( sin^{-1}(xy) = x + c \\\\). Finally, solving for \\\\( xy \\\\), we get the solution \\\\( xy = sin(x + c) \\\\).'}]}, {'question_id': '0159a', 'question_text': \"If \\\\(y = 1 + \\\\frac{x_1}{x - x_1} + \\\\frac{x_2 \\\\cdot x}{(x - x_1)(x - x_2)} + \\\\frac{x_3 \\\\cdot x^2}{(x - x_1)(x - x_2)(x - x_3)} + \\\\dots \\\\) upto \\\\((n + 1)\\\\) terms then prove that \\\\(\\\\frac{dy}{dx} = \\\\frac{y}{x} \\\\left[ \\\\frac{x_1}{x_1 - x} + \\\\frac{x_2}{x_2 - x} + \\\\frac{x_3}{x_3 - x} + \\\\dots + \\\\frac{x_n}{x_n - x} \\\\right]\\\\)\\n\\nThe image shows a mathematical expression involving a series. The expression starts with 'If y = 1 +', followed by a series of terms. The general form of each term in the series is a fraction where the numerator involves a product of 'x' terms with subscripts (e.g., x1, x2, x3) and powers of 'x', and the denominator involves a product of differences of the form '(x - xi)', where 'i' is an index. The series continues up to (n+1) terms. Following this series, there is an expression to prove, which involves the derivative of 'y' with respect to 'x' (dy/dx). This expression equates dy/dx to a product of 'y/x' and a sum of fractions. Each fraction in the sum has a numerator of the form 'xi' and a denominator of the form 'xi - x', where 'i' ranges from 1 to n.\", 'subject': 'Mathematics', 'similar_questions': [{'similar_question_text': 'If f (x) = x^{n}, then the value of\\nf(1) + \\\\frac{f^{1}(1)}{1} + \\\\frac{f^{2}(1)}{2!} + \\\\dots + \\\\frac{f^{n}(1)}{n!}, where f^{r}(x) denotes the r^{th}\\norder derivative of f(x) with respect to x, is', 'similarity_score': 0.9678, 'summarized_solution_approach': 'The approach involves finding the derivatives of f(x) = xⁿ, then evaluating these derivatives at x=1. After this, substitute these values into the given expression. Recognize that the resulting expression is the binomial expansion of (1+1)ⁿ, which simplifies to 2ⁿ.'}, {'similar_question_text': 'Let $f_1(x) = e^x$ and $f_{n+1}(x) = e^{f_n(x)}$ for any $n \\\\ge 1, n \\\\in N$. Then for any fixed n, the value of $\\\\frac{d}{dx}f_n(x)$ equals:', 'similarity_score': 0.9632, 'summarized_solution_approach': 'The approach involves recognizing a recursively defined function $f_n(x)$ where $f_1(x) = e^x$ and $f_{n+1}(x) = e^{f_n(x)}$. We find the derivative of $f_n(x)$ with respect to $x$ for $n = 1, 2, 3$ to identify a pattern. For $n=1$, the derivative is simply $e^x = f_1(x)$. For $n=2$ and $n=3$, we apply the chain rule and express the derivatives in terms of the function itself. Based on the pattern observed for $n=1, 2, 3$, we generalize the formula for the derivative of $f_n(x)$ as the product of $f_n(x), f_{n-1}(x), \\\\dots, f_1(x)$.'}]}, {'question_id': '015c4', 'question_text': 'A river has width 0.5 km and flows from West to East with a speed 30 km/hr. If a boatman starts sailing boat at a speed 40 km/hr normal to bank, the boat shall cross the river in time -\\n\\nThe problem describes a river with a width of 0.5 km flowing from West to East at a speed of 30 km/hr. A boatman starts sailing a boat at a speed of 40 km/hr normal to the bank.', 'subject': 'Physics', 'similar_questions': [{'similar_question_text': 'A boat crosses a river from port A to port B, which are just on the opposite side. The speed of the water is $V_W$ and that of boat is $V_B$ relative to still water. Assume $V_B = 2V_W$. What is the time taken by the boat, if it has to cross the river directly on the AB line ?', 'similarity_score': 0.9747, 'summarized_solution_approach': \"The boat needs to travel from point A to point B directly across the river. The speed of the boat is \\\\(V_B\\\\), and the speed of the water is \\\\(V_W\\\\). Given that \\\\(V_B = 2V_W\\\\), the boat must travel at an angle \\\\(\\\\theta\\\\) such that \\\\(V_B \\\\sin(\\\\theta) = V_W\\\\). From this relationship, we find \\\\(\\\\theta = 30^\\\\circ\\\\). The time \\\\(t\\\\) taken to cross the river is the distance \\\\(D\\\\) divided by the component of the boat's velocity in the direction from A to B, which is \\\\(V_B \\\\cos(\\\\theta)\\\\). Substituting \\\\(\\\\theta = 30^\\\\circ\\\\), we get \\\\(t = \\\\frac{D}{V_B \\\\cos(30^\\\\circ)} = \\\\frac{2D}{V_B \\\\sqrt{3}}\\\\) \"}, {'similar_question_text': 'A boat which has a speed of 5 km/h in still water crosses a river of width 1 km along the shortest possible path in 15 min. The speed of the river water in km/h is:', 'similarity_score': 0.9748, 'summarized_solution_approach': 'The problem is solved using the concept of relative velocity. First, the velocity of boat is calculated using the formula \\\\( V_b = \\\\frac{y}{t} \\\\), where y is the width of the river and t is the time taken to cross the river. Then river velocity \\\\( V_r \\\\) is calculated using \\\\( V_r = \\\\sqrt{(V_{br})^2 - (V_b)^2} \\\\), where \\\\( V_{br} \\\\) is the velocity of the boat with respect to the river.'}]}, {'question_id': '01a13', 'question_text': '1.0 mol of Fe reacts completely with 0.65 mol of O₂ to give a mixture of only FeO and Fe₂O₃. The mole ratio of ferrous oxide to ferric oxide is', 'subject': 'Chemistry', 'similar_questions': [{'similar_question_text': 'The compound formed when 1.95 moles of oxygen combine with 1.46 moles of iron is :', 'similarity_score': 0.9598, 'summarized_solution_approach': 'To determine the compound formed by the combination of iron and oxygen, the mole ratio between iron and oxygen is analyzed. Given 1.46 moles of iron and 1.95 moles of oxygen, the ratio is examined to find a simple whole number ratio. By scaling the given ratio, it is found that 3 moles of iron combine with approximately 4 moles of oxygen. Therefore, the formula of the iron oxide compound is determined to be $Fe_3O_4$.'}, {'similar_question_text': 'The number of moles of $F{e_2}{O_3}$ formed when 0.5 moles of O${_2}$ and 0.5 moles of Fe are allowed to react are', 'similarity_score': 0.9548, 'summarized_solution_approach': 'The problem is based on the concept of limiting reagent. First, the balanced chemical equation is written. Then, by using the given number of moles of reactants, the limiting reagent is identified. Here, $Fe$ is the limiting reagent. Finally, the amount of $F{e_2}{O_3}$ formed from the given amount of limiting reagent is calculated using stoichiometry.'}]}]\n"
     ]
    }
   ],
   "source": [
    "import json\n",
    "\n",
    "# read similar_question_data.json\n",
    "\n",
    "with open('similar_question_data.json') as f:\n",
    "    data = json.load(f)\n",
    "\n",
    "print(data[:5])"
   ]
  },
  {
   "cell_type": "code",
   "execution_count": 2,
   "metadata": {},
   "outputs": [
    {
     "data": {
      "text/plain": [
       "553"
      ]
     },
     "execution_count": 2,
     "metadata": {},
     "output_type": "execute_result"
    }
   ],
   "source": [
    "len(data)"
   ]
  },
  {
   "cell_type": "code",
   "execution_count": 3,
   "metadata": {},
   "outputs": [
    {
     "data": {
      "text/plain": [
       "{'question_id': '006d7',\n",
       " 'question_text': 'माना A = $\\\\begin{pmatrix} 1+i & 1 \\\\ -i & 0 \\\\end{pmatrix}$, जहाँ i = √-1 है। तो समुच्चय { n ∈ {1,2,......,100} : $A^n$ = A} में अवयवों की संख्या है _______\\n\\nThe image shows a mathematical expression defining a matrix A and a set condition. The matrix A is a 2x2 matrix with elements 1+i, 1, -i, and 0, where i is defined as the square root of -1. The problem asks to find the number of elements in the set of n belonging to {1, 2, ..., 100} such that A to the power of n equals A.',\n",
       " 'subject': 'Mathematics',\n",
       " 'similar_questions': [{'similar_question_text': 'Let A = $\\\\begin{pmatrix} 1+i & 1 \\\\ -i & 0 \\\\end{pmatrix}$ where I = $\\\\sqrt{-1}$. Then, the number of elements in the set {n$\\\\in$ {1,2, ....., 100} : $A^n$ = A} is',\n",
       "   'similarity_score': 0.981,\n",
       "   'summarized_solution_approach': 'The solution calculates $A^2$ and $A^4$. It finds that $A^4 = I$ (identity matrix). Consequently, $A^5 = A, A^9 = A$, and so on. The values of n for which $A^n = A$ form an arithmetic progression: n = 1, 5, 9, ..., 97. The number of terms in this sequence is then calculated, which gives the number of elements in the set.'},\n",
       "  {'similar_question_text': 'Let $$A = \\\\left( {\\\\matrix{\\n   {1 + i} & 1  \\\\cr \\n   { - i} & 0  \\\\cr \\n\\n } } \\\\right)$$ where $$i = \\\\sqrt { - 1} $$. Then, the number of elements in the set { n $$\\\\in$$ {1, 2, ......, 100} : A n = A } is ____________.',\n",
       "   'similarity_score': 0.98,\n",
       "   'summarized_solution_approach': 'First, the solution calculates A^2 and A^4. It finds that A^4 equals the identity matrix I. Consequently, A^5 = A, A^9 = A, and so on. The values of n for which A^n = A are 1, 5, 9, ..., 97. The number of such values of n is 25.'}]}"
      ]
     },
     "execution_count": 3,
     "metadata": {},
     "output_type": "execute_result"
    }
   ],
   "source": [
    "data[0]"
   ]
  },
  {
   "cell_type": "code",
   "execution_count": 4,
   "metadata": {},
   "outputs": [
    {
     "data": {
      "text/plain": [
       "'माना A = $\\\\begin{pmatrix} 1+i & 1 \\\\ -i & 0 \\\\end{pmatrix}$, जहाँ i = √-1 है। तो समुच्चय { n ∈ {1,2,......,100} : $A^n$ = A} में अवयवों की संख्या है _______\\n\\nThe image shows a mathematical expression defining a matrix A and a set condition. The matrix A is a 2x2 matrix with elements 1+i, 1, -i, and 0, where i is defined as the square root of -1. The problem asks to find the number of elements in the set of n belonging to {1, 2, ..., 100} such that A to the power of n equals A.'"
      ]
     },
     "execution_count": 4,
     "metadata": {},
     "output_type": "execute_result"
    }
   ],
   "source": [
    "data[0][\"question_text\"]"
   ]
  },
  {
   "cell_type": "code",
   "execution_count": 5,
   "metadata": {},
   "outputs": [
    {
     "data": {
      "text/plain": [
       "{'similar_question_text': 'Let A = $\\\\begin{pmatrix} 1+i & 1 \\\\ -i & 0 \\\\end{pmatrix}$ where I = $\\\\sqrt{-1}$. Then, the number of elements in the set {n$\\\\in$ {1,2, ....., 100} : $A^n$ = A} is',\n",
       " 'similarity_score': 0.981,\n",
       " 'summarized_solution_approach': 'The solution calculates $A^2$ and $A^4$. It finds that $A^4 = I$ (identity matrix). Consequently, $A^5 = A, A^9 = A$, and so on. The values of n for which $A^n = A$ form an arithmetic progression: n = 1, 5, 9, ..., 97. The number of terms in this sequence is then calculated, which gives the number of elements in the set.'}"
      ]
     },
     "execution_count": 5,
     "metadata": {},
     "output_type": "execute_result"
    }
   ],
   "source": [
    "data[0][\"similar_questions\"][0]"
   ]
  },
  {
   "cell_type": "code",
   "execution_count": 8,
   "metadata": {},
   "outputs": [
    {
     "data": {
      "text/plain": [
       "Solution(explanation=\"Let the given matrix be A = $\\\\begin{pmatrix} 1+i & 1 \\\\ -i & 0 \\\\end{pmatrix}$. We need to find the number of integers n in the set {1, 2, ..., 100} such that $A^n = A$.\\n\\nFirst, let's calculate $A^2$:\\n$A^2 = A \\\\cdot A = \\\\begin{pmatrix} 1+i & 1 \\\\ -i & 0 \\\\end{pmatrix} \\\\begin{pmatrix} 1+i & 1 \\\\ -i & 0 \\\\end{pmatrix}$\\n$A^2 = \\\\begin{pmatrix} (1+i)(1+i) + 1(-i) & (1+i)(1) + 1(0) \\\\ -i(1+i) + 0(-i) & -i(1) + 0(0) \\\\end{pmatrix}$\\n$A^2 = \\\\begin{pmatrix} (1 + 2i + i^2) - i & 1+i \\\\ (-i - i^2) & -i \\\\end{pmatrix}$\\nSince $i^2 = -1$,\\n$A^2 = \\\\begin{pmatrix} (1 + 2i - 1) - i & 1+i \\\\ (-i - (-1)) & -i \\\\end{pmatrix}$\\n$A^2 = \\\\begin{pmatrix} 2i - i & 1+i \\\\ -i + 1 & -i \\\\end{pmatrix}$\\n$A^2 = \\\\begin{pmatrix} i & 1+i \\\\ 1-i & -i \\\\end{pmatrix}$\\n\\nNow, let's calculate $A^3$:\\n$A^3 = A^2 \\\\cdot A = \\\\begin{pmatrix} i & 1+i \\\\ 1-i & -i \\\\end{pmatrix} \\\\begin{pmatrix} 1+i & 1 \\\\ -i & 0 \\\\end{pmatrix}$\\n$A^3 = \\\\begin{pmatrix} i(1+i) + (1+i)(-i) & i(1) + (1+i)(0) \\\\ (1-i)(1+i) + (-i)(-i) & (1-i)(1) + (-i)(0) \\\\end{pmatrix}$\\n$A^3 = \\\\begin{pmatrix} (i + i^2) + (-i - i^2) & i \\\\ (1 - i^2) + i^2 & 1-i \\\\end{pmatrix}$\\nSince $i^2 = -1$,\\n$A^3 = \\\\begin{pmatrix} (i - 1) + (-i + 1) & i \\\\ (1 - (-1)) + (-1) & 1-i \\\\end{pmatrix}$\\n$A^3 = \\\\begin{pmatrix} 0 & i \\\\ (2) - 1 & 1-i \\\\end{pmatrix}$\\n$A^3 = \\\\begin{pmatrix} 0 & i \\\\ 1 & 1-i \\\\end{pmatrix}$\\n\\nLet's calculate $A^4$:\\n$A^4 = A^3 \\\\cdot A = \\\\begin{pmatrix} 0 & i \\\\ 1 & 1-i \\\\end{pmatrix} \\\\begin{pmatrix} 1+i & 1 \\\\ -i & 0 \\\\end{pmatrix}$\\n$A^4 = \\\\begin{pmatrix} 0(1+i) + i(-i) & 0(1) + i(0) \\\\ 1(1+i) + (1-i)(-i) & 1(1) + (1-i)(0) \\\\end{pmatrix}$\\n$A^4 = \\\\begin{pmatrix} -i^2 & 0 \\\\ (1+i) + (-i + i^2) & 1 \\\\end{pmatrix}$\\n$A^4 = \\\\begin{pmatrix} -(-1) & 0 \\\\ (1+i) + (-i - 1) & 1 \\\\end{pmatrix}$\\n$A^4 = \\\\begin{pmatrix} 1 & 0 \\\\ 0 & 1 \\\\end{pmatrix}$\\nSo, $A^4 = I$, where I is the identity matrix.\\n\\nSince $A^4 = I$, the powers of A will cycle with a period of 4:\\n$A^1 = A$\\n$A^2$\\n$A^3$\\n$A^4 = I$\\n$A^5 = A^4 \\\\cdot A = I \\\\cdot A = A$\\n$A^6 = A^5 \\\\cdot A = A \\\\cdot A = A^2$\\nAnd so on.\\n\\nWe are looking for n such that $A^n = A$. This means n must be of the form $4k+1$ for some non-negative integer k.\\n\\nWe need to find the number of n in {1, 2, ..., 100} such that n is of the form $4k+1$.\\n\\nFor k=0, n = 4(0)+1 = 1.\\nFor k=1, n = 4(1)+1 = 5.\\nFor k=2, n = 4(2)+1 = 9.\\n...\\nWe need to find the largest k such that $4k+1 \\\\le 100$.\\n$4k \\\\le 99$\\n$k \\\\le \\\\frac{99}{4}$\\n$k \\\\le 24.75$\\n\\nSince k must be an integer, the largest possible value for k is 24.\\nSo, k ranges from 0 to 24, inclusive.\\nThe number of values for k is 24 - 0 + 1 = 25.\\nEach value of k corresponds to a unique value of n that satisfies the condition $A^n = A$.\\n\\nTherefore, there are 25 such values of n in the set {1, 2, ..., 100}.\", final_answer='25')"
      ]
     },
     "execution_count": 8,
     "metadata": {},
     "output_type": "execute_result"
    }
   ],
   "source": [
    "# basic qna logic\n",
    "\n",
    "\n",
    "from google import genai\n",
    "import os\n",
    "from dotenv import load_dotenv\n",
    "from google.genai import types\n",
    "import json\n",
    "\n",
    "from pydantic import BaseModel, ValidationError\n",
    "\n",
    "class Solution(BaseModel):\n",
    "    explanation: str\n",
    "    final_answer: str\n",
    "\n",
    "load_dotenv()\n",
    "client = genai.Client(api_key=os.getenv(\"GEMINI_API_KEY\"))\n",
    "\n",
    "\n",
    "def get_raw_solution(question: str, max_retries: int = 3) -> Solution | None:\n",
    "    \"\"\"\n",
    "    A straightfoward question answering function using the gemini model.\n",
    "    Args:\n",
    "        question (str): The question to be answered.\n",
    "        max_retries (int): The maximum number of retries to get a response from the model (for object validation).\n",
    "    Returns:\n",
    "        dict: A dictionary containing the explanation and final answer.\n",
    "    \"\"\"\n",
    "    try:\n",
    "        response = client.models.generate_content(\n",
    "            model=\"gemini-2.5-flash\",\n",
    "            contents=f\"\"\"You are an academic expert at solving problems in the field of maths, physics and chemistry. \n",
    "            Respond with the solution to the given problem: {question}\n",
    "            You respond with a JSON of explanation and final_answer where you can give step by step explanation in the explanation and the final solution in the final_answer.\n",
    "            Keep final answer direct and as short as possible and keep the step by stem explanation to the explanation portion of the JSON\n",
    "            \"\"\",\n",
    "            config=types.GenerateContentConfig(\n",
    "                thinking_config=types.ThinkingConfig(thinking_budget=0),\n",
    "                response_mime_type=\"application/json\",\n",
    "                response_schema=Solution,\n",
    "            ),\n",
    "        )\n",
    "        \n",
    "        parsed = json.loads(response.text)\n",
    "        solution = Solution(**parsed)\n",
    "        return solution\n",
    "        \n",
    "    except (json.JSONDecodeError, ValidationError) as e:\n",
    "        if max_retries > 0:\n",
    "            return get_raw_solution(question, max_retries - 1)\n",
    "        else:\n",
    "            print(\"Max retries reached: JSON parse error.\")\n",
    "            return None\n",
    "\n",
    "    except Exception as e:\n",
    "        print(f\"Error: {e}\")\n",
    "        return None\n",
    "\n",
    "\n",
    "get_raw_solution(data[0][\"question_text\"])\n"
   ]
  },
  {
   "cell_type": "code",
   "execution_count": 9,
   "metadata": {},
   "outputs": [
    {
     "data": {
      "text/plain": [
       "[{'similar_question_text': 'Let A = $\\\\begin{pmatrix} 1+i & 1 \\\\ -i & 0 \\\\end{pmatrix}$ where I = $\\\\sqrt{-1}$. Then, the number of elements in the set {n$\\\\in$ {1,2, ....., 100} : $A^n$ = A} is',\n",
       "  'similarity_score': 0.981,\n",
       "  'summarized_solution_approach': 'The solution calculates $A^2$ and $A^4$. It finds that $A^4 = I$ (identity matrix). Consequently, $A^5 = A, A^9 = A$, and so on. The values of n for which $A^n = A$ form an arithmetic progression: n = 1, 5, 9, ..., 97. The number of terms in this sequence is then calculated, which gives the number of elements in the set.'},\n",
       " {'similar_question_text': 'Let $$A = \\\\left( {\\\\matrix{\\n   {1 + i} & 1  \\\\cr \\n   { - i} & 0  \\\\cr \\n\\n } } \\\\right)$$ where $$i = \\\\sqrt { - 1} $$. Then, the number of elements in the set { n $$\\\\in$$ {1, 2, ......, 100} : A n = A } is ____________.',\n",
       "  'similarity_score': 0.98,\n",
       "  'summarized_solution_approach': 'First, the solution calculates A^2 and A^4. It finds that A^4 equals the identity matrix I. Consequently, A^5 = A, A^9 = A, and so on. The values of n for which A^n = A are 1, 5, 9, ..., 97. The number of such values of n is 25.'}]"
      ]
     },
     "execution_count": 9,
     "metadata": {},
     "output_type": "execute_result"
    }
   ],
   "source": [
    "data[0][\"similar_questions\"]\n"
   ]
  },
  {
   "cell_type": "code",
   "execution_count": 10,
   "metadata": {},
   "outputs": [
    {
     "data": {
      "text/plain": [
       "SimilarQuestionsEvaluation(conceptual_similarity_score=100, structural_similarity_score=100, difficulty_alignment_score=100, solution_approach_transferability_score=100)"
      ]
     },
     "execution_count": 10,
     "metadata": {},
     "output_type": "execute_result"
    }
   ],
   "source": [
    "# evaluation\n",
    "\n",
    "class SimilarQuestion(BaseModel):\n",
    "    similar_question_text: str\n",
    "    similarity_score: float\n",
    "    summarized_solution_approach: str\n",
    "    \n",
    "class SimilarQuestionsEvaluation(BaseModel):\n",
    "    conceptual_similarity_score: int\n",
    "    structural_similarity_score: int\n",
    "    difficulty_alignment_score: int\n",
    "    solution_approach_transferability_score: int\n",
    "    \n",
    "    \n",
    "def evaluate_similar_question(question: str, similar_question: SimilarQuestion, max_retries: int = 3) -> SimilarQuestionsEvaluation:\n",
    "    try:\n",
    "        response = client.models.generate_content(\n",
    "            model=\"gemini-2.5-flash\",\n",
    "            contents=f\"\"\"You are an academic expert at analyzing and solving problems in the field of maths, physics and chemistry. \n",
    "            Here, you are given a question alongside a similar question, its solution approach and similarity score, and you are responsible for evaluating the similarity between the main question and it's similar question.\n",
    "            You must assess how well the similar question represents the input question across the following dimensions.\n",
    "            1. Conceptual Similarity: Do they test the same underlying concepts/principles?\n",
    "            2. Structural Similarity: Are the problem structures analogous?\n",
    "            3. Difficulty Alignment: Is the difficulty level appropriate?\n",
    "            4. Solution Approach Transferability: Can the solution method be meaningfully applied?\n",
    "            \n",
    "            \n",
    "            The input question is: {question}\n",
    "            The similar question is: {str(similar_question.model_dump_json())}\n",
    "            \n",
    "            You respond with a JSON containing the following keys which are scores based on the aforementioned dimensions for analysis:\n",
    "            \n",
    "            conceptual_similarity_score: A score between 0 and 100\n",
    "            structural_similarity_score: A score between 0 and 100\n",
    "            difficulty_alignment_score: A score between 0 and 100 \n",
    "            solution_approach_transferability_score: A score between 0 and 100\n",
    "            \n",
    "            Make sure to respond with a json strictly following the above format.\n",
    "            \n",
    "            \"\"\",\n",
    "            config=types.GenerateContentConfig(\n",
    "                thinking_config=types.ThinkingConfig(thinking_budget=0),\n",
    "                response_mime_type=\"application/json\",\n",
    "                response_schema=SimilarQuestionsEvaluation,\n",
    "            ),\n",
    "        )\n",
    "        \n",
    "        parsed = json.loads(response.text)\n",
    "        evaluation = SimilarQuestionsEvaluation(**parsed)\n",
    "        return evaluation\n",
    "        \n",
    "    except (json.JSONDecodeError, ValidationError) as e:\n",
    "        print(\"retrying\")\n",
    "        if max_retries > 0:\n",
    "            return get_raw_solution(question, max_retries - 1)\n",
    "        else:\n",
    "            print(\"Max retries reached: JSON parse error.\")\n",
    "            return None\n",
    "\n",
    "    except Exception as e:\n",
    "        print(f\"Error: {e}\")\n",
    "        return None\n",
    "\n",
    "    \n",
    "        \n",
    "evaluate_similar_question(data[0][\"question_text\"], SimilarQuestion(**data[0][\"similar_questions\"][0]))"
   ]
  },
  {
   "cell_type": "code",
   "execution_count": 11,
   "metadata": {},
   "outputs": [
    {
     "data": {
      "text/plain": [
       "SimilarQuestionsEvaluation(conceptual_similarity_score=0, structural_similarity_score=0, difficulty_alignment_score=0, solution_approach_transferability_score=0)"
      ]
     },
     "execution_count": 11,
     "metadata": {},
     "output_type": "execute_result"
    }
   ],
   "source": [
    "evaluate_similar_question(data[1][\"question_text\"], SimilarQuestion(**data[0][\"similar_questions\"][0]))"
   ]
  },
  {
   "cell_type": "code",
   "execution_count": 12,
   "metadata": {},
   "outputs": [
    {
     "data": {
      "text/plain": [
       "[{'similar_question_text': 'Let A = $\\\\begin{pmatrix} 1+i & 1 \\\\ -i & 0 \\\\end{pmatrix}$ where I = $\\\\sqrt{-1}$. Then, the number of elements in the set {n$\\\\in$ {1,2, ....., 100} : $A^n$ = A} is',\n",
       "  'similarity_score': 0.981,\n",
       "  'summarized_solution_approach': 'The solution calculates $A^2$ and $A^4$. It finds that $A^4 = I$ (identity matrix). Consequently, $A^5 = A, A^9 = A$, and so on. The values of n for which $A^n = A$ form an arithmetic progression: n = 1, 5, 9, ..., 97. The number of terms in this sequence is then calculated, which gives the number of elements in the set.'},\n",
       " {'similar_question_text': 'Let $$A = \\\\left( {\\\\matrix{\\n   {1 + i} & 1  \\\\cr \\n   { - i} & 0  \\\\cr \\n\\n } } \\\\right)$$ where $$i = \\\\sqrt { - 1} $$. Then, the number of elements in the set { n $$\\\\in$$ {1, 2, ......, 100} : A n = A } is ____________.',\n",
       "  'similarity_score': 0.98,\n",
       "  'summarized_solution_approach': 'First, the solution calculates A^2 and A^4. It finds that A^4 equals the identity matrix I. Consequently, A^5 = A, A^9 = A, and so on. The values of n for which A^n = A are 1, 5, 9, ..., 97. The number of such values of n is 25.'}]"
      ]
     },
     "execution_count": 12,
     "metadata": {},
     "output_type": "execute_result"
    }
   ],
   "source": [
    "data[0][\"similar_questions\"]"
   ]
  },
  {
   "cell_type": "code",
   "execution_count": 32,
   "metadata": {},
   "outputs": [
    {
     "name": "stdout",
     "output_type": "stream",
     "text": [
      "explanation=\"The given matrix is A = $\\x08egin{pmatrix} 1+i & 1 \\\\ -i & 0 \\n\\\\end{pmatrix}$.\\nWe need to find the number of n ∈ {1,2,......,100} such that $A^n$ = A.\\nFirst, let's calculate $A^2$:\\n$A^2 = A \\\\cdot A = \\x08egin{pmatrix} 1+i & 1 \\\\ -i & 0 \\n\\\\end{pmatrix} \\x08egin{pmatrix} 1+i & 1 \\\\ -i & 0 \\n\\\\end{pmatrix}$\\n$A^2 = \\x08egin{pmatrix} (1+i)(1+i) + 1(-i) & (1+i)(1) + 1(0) \\\\ (-i)(1+i) + 0(-i) & (-i)(1) + 0(0) \\n\\\\end{pmatrix}$\\n$A^2 = \\x08egin{pmatrix} 1 + 2i + i^2 - i & 1+i \\\\ -i - i^2 & -i \\n\\\\end{pmatrix}$\\nSince $i^2 = -1$,\\n$A^2 = \\x08egin{pmatrix} 1 + 2i - 1 - i & 1+i \\\\ -i - (-1) & -i \\n\\\\end{pmatrix}$\\n$A^2 = \\x08egin{pmatrix} i & 1+i \\\\ 1-i & -i \\n\\\\end{pmatrix}$\\nNow, let's calculate $A^3$:\\n$A^3 = A^2 \\\\cdot A = \\x08egin{pmatrix} i & 1+i \\\\ 1-i & -i \\n\\\\end{pmatrix} \\x08egin{pmatrix} 1+i & 1 \\\\ -i & 0 \\n\\\\end{pmatrix}$\\n$A^3 = \\x08egin{pmatrix} i(1+i) + (1+i)(-i) & i(1) + (1+i)(0) \\\\ (1-i)(1+i) + (-i)(-i) & (1-i)(1) + (-i)(0) \\n\\\\end{pmatrix}$\\n$A^3 = \\x08egin{pmatrix} i + i^2 -i - i^2 & i \\\\ 1^2 - i^2 + i^2 & 1-i \\n\\\\end{pmatrix}$\\n$A^3 = \\x08egin{pmatrix} i - 1 - i + 1 & i \\\\ 1 - (-1) - 1 & 1-i \\n\\\\end{pmatrix}$\\n$A^3 = \\x08egin{pmatrix} 0 & i \\\\ 1 & 1-i \\n\\\\end{pmatrix}$\\nLet's calculate $A^4$:\\n$A^4 = A^3 \\\\cdot A = \\x08egin{pmatrix} 0 & i \\\\ 1 & 1-i \\n\\\\end{pmatrix} \\x08egin{pmatrix} 1+i & 1 \\\\ -i & 0 \\n\\\\end{pmatrix}$\\n$A^4 = \\x08egin{pmatrix} 0(1+i) + i(-i) & 0(1) + i(0) \\\\ 1(1+i) + (1-i)(-i) & 1(1) + (1-i)(0) \\n\\\\end{pmatrix}$\\n$A^4 = \\x08egin{pmatrix} -i^2 & 0 \\\\ 1+i -i + i^2 & 1 \\n\\\\end{pmatrix}$\\n$A^4 = \\x08egin{pmatrix} -(-1) & 0 \\\\ 1 - 1 & 1 \\n\\\\end{pmatrix}$\\n$A^4 = \\x08egin{pmatrix} 1 & 0 \\\\ 0 & 1 \\n\\\\end{pmatrix} = I$ (Identity matrix)\\nNow that we have $A^4 = I$, we can find the powers of A:\\n$A^1 = A$\\n$A^2 = \\x08egin{pmatrix} i & 1+i \\\\ 1-i & -i \\n\\\\end{pmatrix}$\\n$A^3 = \\x08egin{pmatrix} 0 & i \\\\ 1 & 1-i \\n\\\\end{pmatrix}$\\n$A^4 = I$\\n$A^5 = A^4 \\\\cdot A = I \\\\cdot A = A$\\n$A^6 = A^4 \\\\cdot A^2 = I \\\\cdot A^2 = A^2$\\nIn general, $A^{4k+m} = A^m$ for any integer k ≥ 0.\\nWe are looking for n such that $A^n = A$. This means n must be of the form 4k + 1 for some integer k.\\nWe are given n ∈ {1, 2, ..., 100}.\\nFor n = 1, $A^1 = A$, so n=1 is a solution.\\nFor n = 4k+1:\\nIf k = 0, n = 1.\\nIf k = 1, n = 5.\\nIf k = 2, n = 9.\\n...\\nWe need to find the largest k such that $4k+1 \\ne 100$.\\n$4k+1 \\ne 100$\\n$4k \\ne 99$\\n$k \\ne 99/4 = 24.75$\\nSo the largest integer k will be 24.\\nFor k = 24, n = 4(24) + 1 = 96 + 1 = 97.\\nSo the values of n are 1, 5, 9, ..., 97.\\nThis is an arithmetic progression with first term a = 1, common difference d = 4, and last term l = 97.\\nThe number of terms is given by the formula $l = a + (N-1)d$.\\n$97 = 1 + (N-1)4$\\n$96 = (N-1)4$\\n$24 = N-1$\\n$N = 25$\\nTherefore, there are 25 such values of n in the set {1, 2, ..., 100}.\" final_answer='25'\n"
     ]
    }
   ],
   "source": [
    "#basic solution building logic with llama index \n",
    "\n",
    "from llama_index.llms.google_genai import GoogleGenAI\n",
    "from llama_index.core.prompts import PromptTemplate\n",
    "from llama_index.core.bridge.pydantic import BaseModel\n",
    "from llama_index.llms.google_genai import GoogleGenAI\n",
    "from google.genai import types\n",
    "\n",
    "\n",
    "from typing import List\n",
    "\n",
    "llm = GoogleGenAI(\n",
    "    model=\"gemini-2.5-flash\",\n",
    "    api_key = os.getenv(\"GEMINI_API_KEY\"),\n",
    "    generation_config=types.GenerateContentConfig(\n",
    "        thinking_config=types.ThinkingConfig(\n",
    "            thinking_budget=0\n",
    "        )  \n",
    "    ),\n",
    ")\n",
    "\n",
    "class Solution(BaseModel):\n",
    "    explanation: str\n",
    "    final_answer: str\n",
    "\n",
    "\n",
    "prompt_tmpl = PromptTemplate(\"\"\"You are an academic expert at solving problems in the field of maths, physics and chemistry. \n",
    "            Respond with the solution to the given problem: {question}\n",
    "            You respond with a JSON of explanation and final_answer where you can give step by step explanation in the explanation and the final solution in the final_answer.\n",
    "            Keep final answer direct and as short as possible and keep the step by stem explanation to the explanation portion of the JSON\n",
    "            \"\"\",)\n",
    "\n",
    "solution_object = llm.as_structured_llm(Solution).complete(prompt_tmpl.format(question=data[0][\"question_text\"])).raw\n",
    "\n",
    "print(solution_object)"
   ]
  },
  {
   "cell_type": "code",
   "execution_count": 27,
   "metadata": {},
   "outputs": [
    {
     "data": {
      "text/plain": [
       "'25'"
      ]
     },
     "execution_count": 27,
     "metadata": {},
     "output_type": "execute_result"
    }
   ],
   "source": [
    "solution_object.model_dump()[\"final_answer\"]"
   ]
  },
  {
   "cell_type": "code",
   "execution_count": 29,
   "metadata": {},
   "outputs": [
    {
     "data": {
      "text/plain": [
       "{'question_id': '006d7',\n",
       " 'question_text': 'माना A = $\\\\begin{pmatrix} 1+i & 1 \\\\ -i & 0 \\\\end{pmatrix}$, जहाँ i = √-1 है। तो समुच्चय { n ∈ {1,2,......,100} : $A^n$ = A} में अवयवों की संख्या है _______\\n\\nThe image shows a mathematical expression defining a matrix A and a set condition. The matrix A is a 2x2 matrix with elements 1+i, 1, -i, and 0, where i is defined as the square root of -1. The problem asks to find the number of elements in the set of n belonging to {1, 2, ..., 100} such that A to the power of n equals A.',\n",
       " 'subject': 'Mathematics',\n",
       " 'similar_questions': [{'similar_question_text': 'Let A = $\\\\begin{pmatrix} 1+i & 1 \\\\ -i & 0 \\\\end{pmatrix}$ where I = $\\\\sqrt{-1}$. Then, the number of elements in the set {n$\\\\in$ {1,2, ....., 100} : $A^n$ = A} is',\n",
       "   'similarity_score': 0.981,\n",
       "   'summarized_solution_approach': 'The solution calculates $A^2$ and $A^4$. It finds that $A^4 = I$ (identity matrix). Consequently, $A^5 = A, A^9 = A$, and so on. The values of n for which $A^n = A$ form an arithmetic progression: n = 1, 5, 9, ..., 97. The number of terms in this sequence is then calculated, which gives the number of elements in the set.'},\n",
       "  {'similar_question_text': 'Let $$A = \\\\left( {\\\\matrix{\\n   {1 + i} & 1  \\\\cr \\n   { - i} & 0  \\\\cr \\n\\n } } \\\\right)$$ where $$i = \\\\sqrt { - 1} $$. Then, the number of elements in the set { n $$\\\\in$$ {1, 2, ......, 100} : A n = A } is ____________.',\n",
       "   'similarity_score': 0.98,\n",
       "   'summarized_solution_approach': 'First, the solution calculates A^2 and A^4. It finds that A^4 equals the identity matrix I. Consequently, A^5 = A, A^9 = A, and so on. The values of n for which A^n = A are 1, 5, 9, ..., 97. The number of such values of n is 25.'}]}"
      ]
     },
     "execution_count": 29,
     "metadata": {},
     "output_type": "execute_result"
    }
   ],
   "source": [
    "data[0]"
   ]
  },
  {
   "cell_type": "code",
   "execution_count": 99,
   "metadata": {},
   "outputs": [],
   "source": [
    "from llama_index.core.tools import FunctionTool\n",
    "from llama_index.core.agent.workflow import FunctionAgent, ReActAgent\n",
    "from difflib import SequenceMatcher\n",
    "\n",
    "\n",
    "class SimilarQuestion(BaseModel):\n",
    "    similar_question_text: str\n",
    "    similarity_score: float\n",
    "    summarized_solution_approach: str\n",
    "\n",
    "class SimilarQuestionsEvaluation(BaseModel):\n",
    "    similar_question: str\n",
    "    solution_approach: str\n",
    "    conceptual_similarity_score: int\n",
    "    structural_similarity_score: int\n",
    "    difficulty_alignment_score: int\n",
    "    solution_approach_transferability_score: int\n",
    "    total_score: int\n",
    "    \n",
    "class SimilarQuestionsEvaluationList(BaseModel):\n",
    "    original_question: str\n",
    "    evaluations: List[SimilarQuestionsEvaluation]\n",
    "    \n",
    "    \n",
    "def get_similar_questions(question: str) -> List[SimilarQuestion]:\n",
    "    # ideally we do a vector similarity search here but rn just doing fuzzy matching with whatever question the llm passes to this function\n",
    "    \"\"\" Get most similar question from dataset and return its similar questions \"\"\"\n",
    "    with open('similar_question_data.json') as f:\n",
    "        data = json.load(f)\n",
    "\n",
    "    best_match = max(\n",
    "        data,\n",
    "        key=lambda q: SequenceMatcher(None, q['question_text'], question).ratio()\n",
    "    )\n",
    "\n",
    "    return [SimilarQuestion(**sq) for sq in best_match.get('similar_questions', [])]\n",
    "\n",
    "    \n",
    "    \n",
    "get_similar_questions_tool = FunctionTool.from_defaults(fn=get_similar_questions)\n",
    "\n",
    "eval_prompt = \"\"\"You are an academic expert at analyzing and solving problems in the field of maths, physics and chemistry. \n",
    "            Here, you are given a question and you must get similar questions to the question from the dataset and evaluate them and return the results.\n",
    "            The image descriptions after the question given are also part of the question, make sure to include them.\n",
    "            \n",
    "            You must assess how well each similar question represents the input question across the following dimensions.\n",
    "            \n",
    "            1. Conceptual Similarity: Do they test the same underlying concepts/principles?\n",
    "            2. Structural Similarity: Are the problem structures analogous?\n",
    "            3. Difficulty Alignment: Is the difficulty level appropriate?\n",
    "            4. Solution Approach Transferability: Can the solution method be meaningfully applied?\n",
    "            \n",
    "            You should get similar questions via the tool get_similar_questions_tool\n",
    "            which accepts the question and responds with similar questions, their solution approaches and vector similarity scores.\n",
    "            You must pass the question that you receive identically to the function without changing a single character.           \n",
    "            \n",
    "            You respond with a json with key original_question and another key called evaluations with its corresponding value which is a list of objects.\n",
    "            Each object contain the following keys which are scores based on the aforementioned dimensions for analysis for each similar quesion:\n",
    "            \n",
    "            \n",
    "            similar_question: The similar question\n",
    "            solution_approach: The solution approach\n",
    "            conceptual_similarity_score: A score between 0 and 100\n",
    "            structural_similarity_score: A score between 0 and 100\n",
    "            difficulty_alignment_score: A score between 0 and 100 \n",
    "            solution_approach_transferability_score: A score between 0 and 100\n",
    "            total_score: A score between 0 and 100 which is the average of all the scores\n",
    "            \n",
    "            Make sure to respond with a list of objects strictly following the above format.\n",
    "            \n",
    "            \"\"\"\n",
    "\n",
    "\n",
    "\n",
    "eval_agent = FunctionAgent(\n",
    "    name=\"EvaluationAgent\",\n",
    "    description=\"It responds with similar questions and answers to a question alongside their solution approach and similarity scores\",\n",
    "    system_prompt=(\n",
    "        eval_prompt\n",
    "    ),\n",
    "    llm=llm,\n",
    "    tools=[get_similar_questions_tool],\n",
    "    output_cls=SimilarQuestionsEvaluationList\n",
    ")\n",
    "\n",
    "response = await eval_agent.run(data[0][\"question_text\"])"
   ]
  },
  {
   "cell_type": "code",
   "execution_count": 100,
   "metadata": {},
   "outputs": [
    {
     "data": {
      "text/plain": [
       "'माना A = $\\\\begin{pmatrix} 1+i & 1 \\\\ -i & 0 \\\\end{pmatrix}$, जहाँ i = √-1 है। तो समुच्चय { n ∈ {1,2,......,100} : $A^n$ = A} में अवयवों की संख्या है _______\\n\\nThe image shows a mathematical expression defining a matrix A and a set condition. The matrix A is a 2x2 matrix with elements 1+i, 1, -i, and 0, where i is defined as the square root of -1. The problem asks to find the number of elements in the set of n belonging to {1, 2, ..., 100} such that A to the power of n equals A.'"
      ]
     },
     "execution_count": 100,
     "metadata": {},
     "output_type": "execute_result"
    }
   ],
   "source": [
    "data[0][\"question_text\"]"
   ]
  },
  {
   "cell_type": "code",
   "execution_count": 101,
   "metadata": {},
   "outputs": [
    {
     "data": {
      "text/plain": [
       "{'original_question': 'माना A = $\\\\begin{pmatrix} 1+i & 1 \\\\ -i & 0 \\\\end{pmatrix}$, जहाँ i = \\n-1 है। तो समुच्चय { n \\n {1,2,......,100} : $A^n$ = A} में अवयवों की संख्या है _______ \\n\\nThe image shows a mathematical expression defining a matrix A and a set condition. The matrix A is a 2x2 matrix with elements 1+i, 1, -i, and 0, where i is defined as the square root of -1. The problem asks to find the number of elements in the set of n belonging to {1, 2, ..., 100} such that A to the power of n equals A.',\n",
       " 'evaluations': [{'similar_question': 'माना A = $\\\\begin{pmatrix} 2 & 2 \\\\ 2 & 2 \\\\end{pmatrix}$ तथा n \\\\u003e 1 एक पूर्णांक इस प्रकार है कि $A^n = kA$ है, तब k = __________ है।',\n",
       "   'solution_approach': \"The problem asks to find the value of k such that $A^n = kA$, where A is a given 2x2 matrix.First, calculate the powers of A: $A^2$, $A^3$, etc., to identify a pattern.Given A = $\\\\begin{pmatrix} 2 & 2 \\\\ 2 & 2 \\\\end{pmatrix}$.Calculate $A^2$: $A^2 = A \\\\cdot A = \\\\begin{pmatrix} 2 & 2 \\\\ 2 & 2 \\\\end{pmatrix} \\\\begin{pmatrix} 2 & 2 \\\\ 2 & 2 \\\\end{pmatrix} = \\\\begin{pmatrix} 2(2)+2(2) & 2(2)+2(2) \\\\ 2(2)+2(2) & 2(2)+2(2) \\\\end{pmatrix} = \\\\begin{pmatrix} 8 & 8 \\\\ 8 & 8 \\\\end{pmatrix}$.We want to find k such that $A^2 = kA$.So, $\\\\begin{pmatrix} 8 & 8 \\\\ 8 & 8 \\\\end{pmatrix} = k \\\\begin{pmatrix} 2 & 2 \\\\ 2 & 2 \\\\end{pmatrix} = \\\\begin{pmatrix} 2k & 2k \\\\ 2k & 2k \\\\end{pmatrix}$.Comparing the elements, $2k = 8$, which implies $k = 4$.Now, let's calculate $A^3$: $A^3 = A^2 \\\\cdot A = \\\\begin{pmatrix} 8 & 8 \\\\ 8 & 8 \\\\end{pmatrix} \\\\begin{pmatrix} 2 & 2 \\\\ 2 & 2 \\\\end{pmatrix} = \\\\begin{pmatrix} 8(2)+8(2) & 8(2)+8(2) \\\\ 8(2)+8(2) & 8(2)+8(2) \\\\end{pmatrix} = \\\\begin{pmatrix} 32 & 32 \\\\ 32 & 32 \\\\end{pmatrix}$.We want to find k such that $A^3 = kA$.So, $\\\\begin{pmatrix} 32 & 32 \\\\ 32 & 32 \\\\end{pmatrix} = k \\\\begin{pmatrix} 2 & 2 \\\\ 2 & 2 \\\\end{pmatrix} = \\\\begin{pmatrix} 2k & 2k \\\\ 2k & 2k \\\\end{pmatrix}$.Comparing the elements, $2k = 32$, which implies $k = 16$.We can observe a pattern:If $A^n = kA$, then $A^{n+1} = A^n \\\\cdot A = (kA) \\\\cdot A = k A^2$.From $A^2 = 4A$, we have $A^{n+1} = k (4A) = 4kA$.Let's express $A^n$ in terms of A.We have $A = 2J$ where J is a matrix of all ones.No, that's not quite right. A is a matrix where all elements are 2.Let's find a general formula for $A^n$.$A^1 = \\\\begin{pmatrix} 2 & 2 \\\\ 2 & 2 \\\\end{pmatrix}$So $A^1 = 1 \\\\cdot A$ (this doesn't fit the kA pattern for n>1)$A^2 = \\\\begin{pmatrix} 8 & 8 \\\\ 8 & 8 \\\\end{pmatrix} = 4 \\\\begin{pmatrix} 2 & 2 \\\\ 2 & 2 \\\\end{pmatrix} = 4A$.Here, for n=2, k=4.$A^3 = \\\\begin{pmatrix} 32 & 32 \\\\ 32 & 32 \\\\end{pmatrix} = 16 \\\\begin{pmatrix} 2 & 2 \\\\ 2 & 2 \\\\end{pmatrix} = 16A$.Here, for n=3, k=16.$A^4 = A^3 \\\\cdot A = 16A \\\\cdot A = 16 A^2 = 16 (4A) = 64A$.Here, for n=4, k=64.The pattern for k seems to be $4^{n-1}$.Let's prove this by induction.Base case: For n=2, $A^2 = 4A$, so $k=4^{2-1}=4^1=4$. This is true.Assume $A^n = 4^{n-1}A$ for some integer n \\\\u003e 1.Now consider $A^{n+1}$: $A^{n+1} = A^n \\\\cdot A = (4^{n-1}A) \\\\cdot A = 4^{n-1} A^2$.Since $A^2 = 4A$, we have $A^{n+1} = 4^{n-1} (4A) = 4^{n-1} \\\\cdot 4 \\\\cdot A = 4^n A$.So, if $A^{n+1} = k'A$, then $k' = 4^n$.This means that for a given n, the value of k is $4^{n-1}$.The problem asks for k = $4^{n-1}$.The question asks for the value of k in the equation $A^n = kA$. Based on our derivation, $k = 4^{n-1}$.The final answer is $\\\\boxed{4^{n-1}}$\",\n",
       "   'conceptual_similarity_score': 80,\n",
       "   'structural_similarity_score': 70,\n",
       "   'difficulty_alignment_score': 70,\n",
       "   'solution_approach_transferability_score': 85,\n",
       "   'total_score': 76},\n",
       "  {'similar_question': 'माना A = $\\\\begin{pmatrix} 2 & 2 \\\\ 2 & 2 \\\\end{pmatrix}$ तथा n > 1 एक पूर्णांक इस प्रकार है कि $A^n = kA$ है, तब k = __________ है।',\n",
       "   'solution_approach': \"The problem asks to find the value of k such that $A^n = kA$, where A is a given 2x2 matrix.First, calculate the powers of A: $A^2$, $A^3$, etc., to identify a pattern.Given A = $\\\\begin{pmatrix} 2 & 2 \\\\ 2 & 2 \\\\end{pmatrix}$.Calculate $A^2$: $A^2 = A \\\\cdot A = \\\\begin{pmatrix} 2 & 2 \\\\ 2 & 2 \\\\end{pmatrix} \\\\begin{pmatrix} 2 & 2 \\\\ 2 & 2 \\\\end{pmatrix} = \\\\begin{pmatrix} 2(2)+2(2) & 2(2)+2(2) \\\\ 2(2)+2(2) & 2(2)+2(2) \\\\end{pmatrix} = \\\\begin{pmatrix} 8 & 8 \\\\ 8 & 8 \\\\end{pmatrix}$.We want to find k such that $A^2 = kA$.So, $\\\\begin{pmatrix} 8 & 8 \\\\ 8 & 8 \\\\end{pmatrix} = k \\\\begin{pmatrix} 2 & 2 \\\\ 2 & 2 \\\\end{pmatrix} = \\\\begin{pmatrix} 2k & 2k \\\\ 2k & 2k \\\\end{pmatrix}$.Comparing the elements, $2k = 8$, which implies $k = 4$.Now, let's calculate $A^3$: $A^3 = A^2 \\\\cdot A = \\\\begin{pmatrix} 8 & 8 \\\\ 8 & 8 \\\\end{pmatrix} \\\\begin{pmatrix} 2 & 2 \\\\ 2 & 2 \\\\end{pmatrix} = \\\\begin{pmatrix} 8(2)+8(2) & 8(2)+8(2) \\\\ 8(2)+8(2) & 8(2)+8(2) \\\\end{pmatrix} = \\\\begin{pmatrix} 32 & 32 \\\\ 32 & 32 \\\\end{pmatrix}$.We want to find k such that $A^3 = kA$.So, $\\\\begin{pmatrix} 32 & 32 \\\\ 32 & 32 \\\\end{pmatrix} = k \\\\begin{pmatrix} 2 & 2 \\\\ 2 & 2 \\\\end{pmatrix} = \\\\begin{pmatrix} 2k & 2k \\\\ 2k & 2k \\\\end{pmatrix}$.Comparing the elements, $2k = 32$, which implies $k = 16$.We can observe a pattern:If $A^n = kA$, then $A^{n+1} = A^n \\\\cdot A = (kA) \\\\cdot A = k A^2$.From $A^2 = 4A$, we have $A^{n+1} = k (4A) = 4kA$.Let's express $A^n$ in terms of A.We have $A = 2J$ where J is a matrix of all ones.No, that's not quite right. A is a matrix where all elements are 2.Let's find a general formula for $A^n$.$A^1 = \\\\begin{pmatrix} 2 & 2 \\\\ 2 & 2 \\\\end{pmatrix}$So $A^1 = 1 \\\\cdot A$ (this doesn't fit the kA pattern for n>1)$A^2 = \\\\begin{pmatrix} 8 & 8 \\\\ 8 & 8 \\\\end{pmatrix} = 4 \\\\begin{pmatrix} 2 & 2 \\\\ 2 & 2 \\\\end{pmatrix} = 4A$.Here, for n=2, k=4.$A^3 = \\\\begin{pmatrix} 32 & 32 \\\\ 32 & 32 \\\\end{pmatrix} = 16 \\\\begin{pmatrix} 2 & 2 \\\\ 2 & 2 \\\\end{pmatrix} = 16A$.Here, for n=3, k=16.$A^4 = A^3 \\\\cdot A = 16A \\\\cdot A = 16 A^2 = 16 (4A) = 64A$.Here, for n=4, k=64.The pattern for k seems to be $4^{n-1}$.Let's prove this by induction.Base case: For n=2, $A^2 = 4A$, so $k=4^{2-1}=4^1=4$. This is true.Assume $A^n = 4^{n-1}A$ for some integer n \\\\u003e 1.Now consider $A^{n+1}$: $A^{n+1} = A^n \\\\cdot A = (4^{n-1}A) \\\\cdot A = 4^{n-1} A^2$.Since $A^2 = 4A$, we have $A^{n+1} = 4^{n-1} (4A) = 4^{n-1} \\\\cdot 4 \\\\cdot A = 4^n A$.So, if $A^{n+1} = k'A$, then $k' = 4^n$.This means that for a given n, the value of k is $4^{n-1}$.The problem asks for k = $4^{n-1}$.The final answer is $\\\\boxed{4^{n-1}}$\",\n",
       "   'conceptual_similarity_score': 80,\n",
       "   'structural_similarity_score': 70,\n",
       "   'difficulty_alignment_score': 70,\n",
       "   'solution_approach_transferability_score': 85,\n",
       "   'total_score': 76},\n",
       "  {'similar_question': 'यदि A = $\\\\begin{pmatrix} 1 & -1 \\\\ 2 & -1 \\\\end{pmatrix}$, B = $\\\\begin{pmatrix} x & 1 \\\\ y & -1 \\\\end{pmatrix}$ तथा $(A+B)^2 = A^2 + B^2$ है, तब x + y का मान है',\n",
       "   'solution_approach': 'The problem states that A = $\\\\begin{pmatrix} 1 & -1 \\\\ 2 & -1 \\\\end{pmatrix}$ and B = $\\\\begin{pmatrix} x & 1 \\\\ y & -1 \\\\end{pmatrix}$, and $(A+B)^2 = A^2 + B^2$. We need to find the value of x + y.\\n\\nFirst, expand $(A+B)^2$: \\n$(A+B)^2 = (A+B)(A+B) = A^2 + AB + BA + B^2$.\\n\\nGiven the condition $(A+B)^2 = A^2 + B^2$, we can substitute the expansion:\\n$A^2 + AB + BA + B^2 = A^2 + B^2$.\\n\\nSubtract $A^2$ and $B^2$ from both sides:\\n$AB + BA = O$, where O is the zero matrix.\\nThis means $AB = -BA$.\\n\\nNow, calculate AB:\\n$AB = \\\\begin{pmatrix} 1 & -1 \\\\ 2 & -1 \\\\end{pmatrix} \\\\begin{pmatrix} x & 1 \\\\ y & -1 \\\\end{pmatrix} = \\\\begin{pmatrix} 1(x) + (-1)(y) & 1(1) + (-1)(-1) \\\\ 2(x) + (-1)(y) & 2(1) + (-1)(-1) \\\\end{pmatrix} = \\\\begin{pmatrix} x-y & 1+1 \\\\ 2x-y & 2+1 \\\\end{pmatrix} = \\\\begin{pmatrix} x-y & 2 \\\\ 2x-y & 3 \\\\end{pmatrix}$.\\n\\nNext, calculate BA:\\n$BA = \\\\begin{pmatrix} x & 1 \\\\ y & -1 \\\\end{pmatrix} \\\\begin{pmatrix} 1 & -1 \\\\ 2 & -1 \\\\end{pmatrix} = \\\\begin{pmatrix} x(1) + 1(2) & x(-1) + 1(-1) \\\\ y(1) + (-1)(2) & y(-1) + (-1)(-1) \\\\end{pmatrix} = \\\\begin{pmatrix} x+2 & -x-1 \\\\ y-2 & -y+1 \\\\end{pmatrix}$.\\n\\nNow, set $AB = -BA$:\\n$\\\\begin{pmatrix} x-y & 2 \\\\ 2x-y & 3 \\\\end{pmatrix} = -\\\\begin{pmatrix} x+2 & -x-1 \\\\ y-2 & -y+1 \\\\end{pmatrix} = \\\\begin{pmatrix} -(x+2) & -(-x-1) \\\\ -(y-2) & -(-y+1) \\\\end{pmatrix} = \\\\begin{pmatrix} -x-2 & x+1 \\\\ -y+2 & y-1 \\\\end{pmatrix}$.\\n\\nEquate the corresponding elements:\\n1) $x-y = -x-2 \\\\implies 2x - y = -2$  (Equation 1)\\n2) $2 = x+1 \\\\implies x = 1$ (Equation 2)\\n3) $2x-y = -y+2 \\\\implies 2x = 2 \\\\implies x = 1$ (Equation 3)\\n4) $3 = y-1 \\\\implies y = 4$ (Equation 4)\\n\\nFrom Equations 2 and 3, we consistently find $x=1$.\\nSubstitute $x=1$ into Equation 1:\\n$2(1) - y = -2$\\n$2 - y = -2$\\n$-y = -4$\\n$y = 4$.\\n\\nThis value of y is consistent with Equation 4.\\n\\nFinally, we need to find x + y:\\nx + y = 1 + 4 = 5.\\n\\nThe final answer is $\\\\boxed{5}$',\n",
       "   'conceptual_similarity_score': 60,\n",
       "   'structural_similarity_score': 50,\n",
       "   'difficulty_alignment_score': 60,\n",
       "   'solution_approach_transferability_score': 55,\n",
       "   'total_score': 56}]}"
      ]
     },
     "execution_count": 101,
     "metadata": {},
     "output_type": "execute_result"
    }
   ],
   "source": [
    "response.structured_response"
   ]
  },
  {
   "cell_type": "code",
   "execution_count": 98,
   "metadata": {},
   "outputs": [
    {
     "data": {
      "text/plain": [
       "\"p. (1/y^2 * (cos(tan^{-1}y) + ysin(tan^{-1}y))/(cot(sin^{-1}y) + tan(sin^{-1}y)))^2 + y^4)^{1/2} का मान है\\n\\nThe image contains a mathematical expression. The expression involves trigonometric functions, inverse trigonometric functions, and algebraic terms. Specifically, it includes terms like cosine, sine, cotangent, and tangent, each applied to inverse trigonometric functions of 'y'. The expression also involves powers of 'y' and numerical constants. The entire expression is enclosed in parentheses and raised to the power of 1/2.\""
      ]
     },
     "execution_count": 98,
     "metadata": {},
     "output_type": "execute_result"
    }
   ],
   "source": [
    "data[12][\"question_text\"]"
   ]
  },
  {
   "cell_type": "code",
   "execution_count": 97,
   "metadata": {},
   "outputs": [
    {
     "data": {
      "text/plain": [
       "{'original_question': 'p. (1/y^2 * (cos(tan^{-1}y) + ysin(tan^{-1}y))/(cot(sin^{-1}y) + tan(sin^{-1}y)))^2 + y^4)^{1/2} का मान है',\n",
       " 'evaluations': [{'similar_question': '$$50\\\\\\\\tan \\\\\\\\left( {3{{\\\\\\\\tan }^{ - 1}}\\\\\\\\left( {{1 \\\\\\\\over 2}} \\\\\\\\right) + 2{{\\\\\\\\cos }^{ - 1}}\\\\\\\\left( {{1 \\\\\\\\over {\\\\\\\\sqrt 5 }}} \\\\\\\\right)} \\\\\\\\right) + 4\\\\\\\\sqrt 2 \\\\\\\\tan \\\\\\\\left( {{1 \\\\\\\\over 2}{{\\\\\\\\tan }^{ - 1}}(2\\\\\\\\sqrt 2 )} \\\\\\\\right)$$ is equal to ____________.',\n",
       "   'solution_approach': 'The solution begins by simplifying the expression using trigonometric identities, specifically focusing on the tangent and inverse trigonometric functions. The expression is broken down into smaller, manageable parts. A key step involves recognizing that \\\\\\\\(2{{\\\\\\\\tan }^{ - 1}}\\\\\\\\left( {{1 \\\\nover 2}} \\\\\\\\right) + 2{{\\\\\\\\tan }^{ - 1}}(2) = \\\\\\\\pi \\\\\\\\). Then, the problem uses the half-angle formula for tangent to further simplify and solve for \\\\\\\\(\\\\\\\\tan \\\\\\\\alpha\\\\\\\\), where \\\\\\\\(\\\\\\\\alpha = {1 \\\\\\\\over 2}{{\\\\\\\\tan }^{ - 1}}(2\\\\\\\\sqrt 2 )\\\\\\\\). By substituting \\\\\\\\(\\\\\\\\tan \\\\\\\\alpha = {1 \\\\\\\\over {\\\\\\\\sqrt 2 }}\\\\\\\\) back into the equation, the final numerical answer is obtained.',\n",
       "   'conceptual_similarity_score': 90,\n",
       "   'structural_similarity_score': 88,\n",
       "   'difficulty_alignment_score': 85,\n",
       "   'solution_approach_transferability_score': 80,\n",
       "   'total_score': 85},\n",
       "  {'similar_question': 'The value of $$cot\\\\\\\\left( {\\\\\\\\cos e{c^{ - 1}}{5 \\\\\\\\over 3} + {{\\\\\\\\tan }^{ - 1}}{2 \\\\\\\\over 3}} \\\\\\\\right)$$ is :',\n",
       "   'solution_approach': 'The solution begins by converting $$\\\\cos e{c^{ - 1}}{5 \\\\r\\\\n3}$$ to $$\\\\tan^{ - 1}$$. Then, it uses the formula for the sum of two $$\\\\tan^{ - 1}$$ functions, which is $${\\\\\\\\tan ^{ - 1}}x + {\\\\\\\\tan ^{ - 1}}y = {\\\\\\\\tan ^{ - 1}}{{x + y} \\\\r\\\\n{1 - xy}}$$. After applying this formula, the expression is simplified, and the $$\\\\tan^{ - 1}$$ function is converted to $$\\\\cot^{ - 1}$$. Finally, the value of the expression is obtained.',\n",
       "   'conceptual_similarity_score': 95,\n",
       "   'structural_similarity_score': 92,\n",
       "   'difficulty_alignment_score': 90,\n",
       "   'solution_approach_transferability_score': 90,\n",
       "   'total_score': 91}]}"
      ]
     },
     "execution_count": 97,
     "metadata": {},
     "output_type": "execute_result"
    }
   ],
   "source": [
    "response = await eval_agent.run(data[12][\"question_text\"])\n",
    "response.structured_response"
   ]
  },
  {
   "cell_type": "code",
   "execution_count": 91,
   "metadata": {},
   "outputs": [
    {
     "data": {
      "text/plain": [
       "AgentOutput(response=ChatMessage(role=<MessageRole.ASSISTANT: 'assistant'>, additional_kwargs={'thought_signatures': [None], 'thoughts': '', 'tool_calls': []}, blocks=[TextBlock(block_type='text', text='{\"evaluations\": [{\"similar_question\": \"$$50\\\\\\\\\\\\\\\\tan \\\\\\\\\\\\\\\\left( {3{{\\\\\\\\\\\\\\\\tan }^{ - 1}}\\\\\\\\\\\\\\\\left( {{1 \\\\\\\\\\\\\\\\over 2}} \\\\\\\\\\\\\\\\right) + 2{{\\\\\\\\\\\\\\\\cos }^{ - 1}}\\\\\\\\\\\\\\\\left( {{1 \\\\\\\\\\\\\\\\over {\\\\\\\\\\\\\\\\sqrt 5 }}} \\\\\\\\\\\\\\\\right)} \\\\\\\\\\\\\\\\right) + 4\\\\\\\\\\\\\\\\sqrt 2 \\\\\\\\\\\\\\\\tan \\\\\\\\\\\\\\\\left( {{1 \\\\\\\\\\\\\\\\over 2}{{\\\\\\\\\\\\\\\\tan }^{ - 1}}(2\\\\\\\\\\\\\\\\sqrt 2 )} \\\\\\\\\\\\\\\\right)$$ is equal to ____________.\", \"solution_approach\": \"The solution begins by simplifying the expression using trigonometric identities, specifically focusing on the tangent and inverse trigonometric functions. The expression is broken down into smaller, manageable parts. A key step involves recognizing that \\\\\\\\\\\\\\\\(2{{\\\\\\\\\\\\\\\\tan }^{ - 1}}\\\\\\\\\\\\\\\\left( {{1 \\\\\\\\nover 2}} \\\\\\\\\\\\\\\\right) + 2{{\\\\\\\\\\\\\\\\tan }^{ - 1}}(2) = \\\\\\\\\\\\\\\\pi \\\\\\\\\\\\\\\\). Then, the problem uses the half-angle formula for tangent to further simplify and solve for \\\\\\\\\\\\\\\\(\\\\\\\\\\\\\\\\tan \\\\\\\\\\\\\\\\alpha\\\\\\\\\\\\\\\\), where \\\\\\\\\\\\\\\\(\\\\\\\\\\\\\\\\alpha = {1 \\\\\\\\\\\\\\\\over 2}{{\\\\\\\\\\\\\\\\tan }^{ - 1}}(2\\\\\\\\\\\\\\\\sqrt 2 )\\\\\\\\\\\\\\\\). By substituting \\\\\\\\\\\\\\\\(\\\\\\\\\\\\\\\\tan \\\\\\\\\\\\\\\\alpha = {1 \\\\\\\\\\\\\\\\over {\\\\\\\\\\\\\\\\sqrt 2 }}\\\\\\\\\\\\\\\\) back into the equation, the final numerical answer is obtained.\", \"conceptual_similarity_score\": 90, \"structural_similarity_score\": 85, \"difficulty_alignment_score\": 80, \"solution_approach_transferability_score\": 85, \"total_score\": 85}, {\"similar_question\": \"The value of $$cot\\\\\\\\\\\\\\\\left( {\\\\\\\\\\\\\\\\cos e{c^{ - 1}}{5 \\\\\\\\\\\\\\\\over 3} + {{\\\\\\\\\\\\\\\\tan }^{ - 1}}{2 \\\\\\\\\\\\\\\\over 3}} \\\\\\\\\\\\\\\\right)$$ is :\", \"solution_approach\": \"The solution begins by converting $$\\\\\\\\cos e{c^{ - 1}}{5 \\\\\\\\r\\\\\\\\n3}$$ to $$\\\\\\\\tan^{ - 1}$$. Then, it uses the formula for the sum of two $$\\\\\\\\tan^{ - 1}$$ functions, which is $${\\\\\\\\\\\\\\\\tan ^{ - 1}}x + {\\\\\\\\\\\\\\\\tan ^{ - 1}}y = {\\\\\\\\\\\\\\\\tan ^{ - 1}}{{x + y} \\\\\\\\r\\\\\\\\n{1 - xy}}$$. After applying this formula, the expression is simplified, and the $$\\\\\\\\tan^{ - 1}$$ function is converted to $$\\\\\\\\cot^{ - 1}$$. Finally, the value of the expression is obtained.\", \"conceptual_similarity_score\": 95, \"structural_similarity_score\": 90, \"difficulty_alignment_score\": 85, \"solution_approach_transferability_score\": 90, \"total_score\": 90}]}')]), structured_response={'evaluations': [{'similar_question': '$$50\\\\\\\\tan \\\\\\\\left( {3{{\\\\\\\\tan }^{ - 1}}\\\\\\\\left( {{1 \\\\\\\\over 2}} \\\\\\\\right) + 2{{\\\\\\\\cos }^{ - 1}}\\\\\\\\left( {{1 \\\\\\\\over {\\\\\\\\sqrt 5 }}} \\\\\\\\right)} \\\\\\\\right) + 4\\\\\\\\sqrt 2 \\\\\\\\tan \\\\\\\\left( {{1 \\\\\\\\over 2}{{\\\\\\\\tan }^{ - 1}}(2\\\\\\\\sqrt 2 )} \\\\\\\\right)$$ is equal to ____________.', 'solution_approach': 'The solution begins by simplifying the expression using trigonometric identities, specifically focusing on the tangent and inverse trigonometric functions. The expression is broken down into smaller, manageable parts. A key step involves recognizing that \\\\\\\\(2{{\\\\\\\\tan }^{ - 1}}\\\\\\\\left( {{1 \\\\nover 2}} \\\\\\\\right) + 2{{\\\\\\\\tan }^{ - 1}}(2) = \\\\\\\\pi \\\\\\\\). Then, the problem uses the half-angle formula for tangent to further simplify and solve for \\\\\\\\(\\\\\\\\tan \\\\\\\\alpha\\\\\\\\), where \\\\\\\\(\\\\\\\\alpha = {1 \\\\\\\\over 2}{{\\\\\\\\tan }^{ - 1}}(2\\\\\\\\sqrt 2 )\\\\\\\\). By substituting \\\\\\\\(\\\\\\\\tan \\\\\\\\alpha = {1 \\\\\\\\over {\\\\\\\\sqrt 2 }}\\\\\\\\) back into the equation, the final numerical answer is obtained.', 'conceptual_similarity_score': 90, 'structural_similarity_score': 85, 'difficulty_alignment_score': 80, 'solution_approach_transferability_score': 85, 'total_scores': 85}, {'similar_question': 'The value of $$cot\\\\\\\\left( {\\\\\\\\cos e{c^{ - 1}}{5 \\\\\\\\over 3} + {{\\\\\\\\tan }^{ - 1}}{2 \\\\\\\\over 3}} \\\\\\\\right)$$ is :', 'solution_approach': 'The solution begins by converting $$\\\\cos e{c^{ - 1}}{5 \\\\r\\\\n3}$$ to $$\\\\tan^{ - 1}$$. Then, it uses the formula for the sum of two $$\\\\tan^{ - 1}$$ functions, which is $${\\\\\\\\tan ^{ - 1}}x + {\\\\\\\\tan ^{ - 1}}y = {\\\\\\\\tan ^{ - 1}}{{x + y} \\\\r\\\\n{1 - xy}}$$. After applying this formula, the expression is simplified, and the $$\\\\tan^{ - 1}$$ function is converted to $$\\\\cot^{ - 1}$$. Finally, the value of the expression is obtained.', 'conceptual_similarity_score': 95, 'structural_similarity_score': 90, 'difficulty_alignment_score': 85, 'solution_approach_transferability_score': 90, 'total_scores': 90}]}, current_agent_name='EvaluationAgent', raw={'content': {'parts': [{'video_metadata': None, 'thought': None, 'inline_data': None, 'file_data': None, 'thought_signature': None, 'code_execution_result': None, 'executable_code': None, 'function_call': None, 'function_response': None, 'text': '0}]}'}], 'role': 'model'}, 'citation_metadata': None, 'finish_message': None, 'token_count': None, 'finish_reason': <FinishReason.STOP: 'STOP'>, 'url_context_metadata': None, 'avg_logprobs': None, 'grounding_metadata': None, 'index': 0, 'logprobs_result': None, 'safety_ratings': None, 'usage_metadata': {'cache_tokens_details': None, 'cached_content_token_count': None, 'candidates_token_count': 621, 'candidates_tokens_details': None, 'prompt_token_count': 1186, 'prompt_tokens_details': [{'modality': <MediaModality.TEXT: 'TEXT'>, 'token_count': 1186}], 'thoughts_token_count': None, 'tool_use_prompt_token_count': None, 'tool_use_prompt_tokens_details': None, 'total_token_count': 1807, 'traffic_type': None}}, tool_calls=[ToolCallResult(tool_name='get_similar_questions', tool_kwargs={'question': 'p. (1/y^2 * (cos(tan^{-1}y) + ysin(tan^{-1}y))/(cot(sin^{-1}y) + tan(sin^{-1}y)))^2 + y^4)^{1/2} का मान है'}, tool_id='get_similar_questions', tool_output=ToolOutput(blocks=[TextBlock(block_type='text', text=\"[SimilarQuestion(similar_question_text='$$50\\\\\\\\tan \\\\\\\\left( {3{{\\\\\\\\tan }^{ - 1}}\\\\\\\\left( {{1 \\\\\\\\over 2}} \\\\\\\\right) + 2{{\\\\\\\\cos }^{ - 1}}\\\\\\\\left( {{1 \\\\\\\\over {\\\\\\\\sqrt 5 }}} \\\\\\\\right)} \\\\\\\\right) + 4\\\\\\\\sqrt 2 \\\\\\\\tan \\\\\\\\left( {{1 \\\\\\\\over 2}{{\\\\\\\\tan }^{ - 1}}(2\\\\\\\\sqrt 2 )} \\\\\\\\right)$$ is equal to ____________.', similarity_score=0.9835, summarized_solution_approach='The solution begins by simplifying the expression using trigonometric identities, specifically focusing on the tangent and inverse trigonometric functions. The expression is broken down into smaller, manageable parts. A key step involves recognizing that \\\\\\\\(2{{\\\\\\\\tan }^{ - 1}}\\\\\\\\left( {{1 \\\\nover 2}} \\\\\\\\right) + 2{{\\\\\\\\tan }^{ - 1}}(2) = \\\\\\\\pi \\\\\\\\). Then, the problem uses the half-angle formula for tangent to further simplify and solve for \\\\\\\\(\\\\\\\\tan \\\\\\\\alpha\\\\\\\\), where \\\\\\\\(\\\\\\\\alpha = {1 \\\\\\\\over 2}{{\\\\\\\\tan }^{ - 1}}(2\\\\\\\\sqrt 2 )\\\\\\\\). By substituting \\\\\\\\(\\\\\\\\tan \\\\\\\\alpha = {1 \\\\\\\\over {\\\\\\\\sqrt 2 }}\\\\\\\\) back into the equation, the final numerical answer is obtained.'), SimilarQuestion(similar_question_text='The value of $$cot\\\\\\\\left( {\\\\\\\\cos e{c^{ - 1}}{5 \\\\\\\\over 3} + {{\\\\\\\\tan }^{ - 1}}{2 \\\\\\\\over 3}} \\\\\\\\right)$$ is :', similarity_score=0.9832, summarized_solution_approach='The solution begins by converting $$\\\\\\\\cos e{c^{ - 1}}{5 \\\\r\\\\n3}$$ to $$\\\\\\\\tan^{ - 1}$$. Then, it uses the formula for the sum of two $$\\\\\\\\tan^{ - 1}$$ functions, which is $${\\\\\\\\tan ^{ - 1}}x + {\\\\\\\\tan ^{ - 1}}y = {\\\\\\\\tan ^{ - 1}}{{x + y} \\\\r\\\\n{1 - xy}}$$. After applying this formula, the expression is simplified, and the $$\\\\\\\\tan^{ - 1}$$ function is converted to $$\\\\\\\\cot^{ - 1}$$. Finally, the value of the expression is obtained.')]\")], tool_name='get_similar_questions', raw_input={'args': (), 'kwargs': {'question': 'p. (1/y^2 * (cos(tan^{-1}y) + ysin(tan^{-1}y))/(cot(sin^{-1}y) + tan(sin^{-1}y)))^2 + y^4)^{1/2} का मान है'}}, raw_output=[SimilarQuestion(similar_question_text='$$50\\\\tan \\\\left( {3{{\\\\tan }^{ - 1}}\\\\left( {{1 \\\\over 2}} \\\\right) + 2{{\\\\cos }^{ - 1}}\\\\left( {{1 \\\\over {\\\\sqrt 5 }}} \\\\right)} \\\\right) + 4\\\\sqrt 2 \\\\tan \\\\left( {{1 \\\\over 2}{{\\\\tan }^{ - 1}}(2\\\\sqrt 2 )} \\\\right)$$ is equal to ____________.', similarity_score=0.9835, summarized_solution_approach='The solution begins by simplifying the expression using trigonometric identities, specifically focusing on the tangent and inverse trigonometric functions. The expression is broken down into smaller, manageable parts. A key step involves recognizing that \\\\(2{{\\\\tan }^{ - 1}}\\\\left( {{1 \\nover 2}} \\\\right) + 2{{\\\\tan }^{ - 1}}(2) = \\\\pi \\\\). Then, the problem uses the half-angle formula for tangent to further simplify and solve for \\\\(\\\\tan \\\\alpha\\\\), where \\\\(\\\\alpha = {1 \\\\over 2}{{\\\\tan }^{ - 1}}(2\\\\sqrt 2 )\\\\). By substituting \\\\(\\\\tan \\\\alpha = {1 \\\\over {\\\\sqrt 2 }}\\\\) back into the equation, the final numerical answer is obtained.'), SimilarQuestion(similar_question_text='The value of $$cot\\\\left( {\\\\cos e{c^{ - 1}}{5 \\\\over 3} + {{\\\\tan }^{ - 1}}{2 \\\\over 3}} \\\\right)$$ is :', similarity_score=0.9832, summarized_solution_approach='The solution begins by converting $$\\\\cos e{c^{ - 1}}{5 \\r\\n3}$$ to $$\\\\tan^{ - 1}$$. Then, it uses the formula for the sum of two $$\\\\tan^{ - 1}$$ functions, which is $${\\\\tan ^{ - 1}}x + {\\\\tan ^{ - 1}}y = {\\\\tan ^{ - 1}}{{x + y} \\r\\n{1 - xy}}$$. After applying this formula, the expression is simplified, and the $$\\\\tan^{ - 1}$$ function is converted to $$\\\\cot^{ - 1}$$. Finally, the value of the expression is obtained.')], is_error=False), return_direct=False)], retry_messages=[])"
      ]
     },
     "execution_count": 91,
     "metadata": {},
     "output_type": "execute_result"
    }
   ],
   "source": [
    "response"
   ]
  }
 ],
 "metadata": {
  "kernelspec": {
   "display_name": "nemo_env",
   "language": "python",
   "name": "python3"
  },
  "language_info": {
   "codemirror_mode": {
    "name": "ipython",
    "version": 3
   },
   "file_extension": ".py",
   "mimetype": "text/x-python",
   "name": "python",
   "nbconvert_exporter": "python",
   "pygments_lexer": "ipython3",
   "version": "3.11.13"
  }
 },
 "nbformat": 4,
 "nbformat_minor": 2
}
